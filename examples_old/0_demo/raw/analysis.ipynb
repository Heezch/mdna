{
 "cells": [
  {
   "cell_type": "code",
   "execution_count": 10,
   "metadata": {},
   "outputs": [
    {
     "name": "stdout",
     "output_type": "stream",
     "text": [
      "The autoreload extension is already loaded. To reload it, use:\n",
      "  %reload_ext autoreload\n"
     ]
    }
   ],
   "source": [
    "import numpy as np\n",
    "import mdtraj as md\n",
    "import matplotlib.pyplot as plt\n",
    "import nglview as nv\n",
    "import seaborn as sns\n",
    "\n",
    "\n",
    "# # # Path: pymdna/__init__.py, prototype of the package and atomic is not properly referenced in the package at genertors.py now I just explicitly define the path loction\n",
    "# # import pymdna as mdna\n",
    "import sys\n",
    "sys.path.append('/Users/thor/surfdrive/Projects/pymdna/')\n",
    "import pymdna as mdna \n",
    "%load_ext autoreload\n",
    "%autoreload 2"
   ]
  },
  {
   "cell_type": "markdown",
   "metadata": {},
   "source": [
    "# Analyse"
   ]
  },
  {
   "cell_type": "code",
   "execution_count": null,
   "metadata": {},
   "outputs": [],
   "source": [
    "# # Nucleosome Core Particle\n",
    "# loc = '/Users/thor/surfdrive/Projects/Nucleosome/production_run/'\n",
    "# traj = md.load(loc+'dry.xtc', top=loc+'dry.pdb',stride=250)\n",
    "# traj.center_coordinates()\n",
    "\n",
    "# # find index of residue somewhere in the middle of the nucleosome\n",
    "# indices = traj.top.select('resSeq 73 and chainid 7')\n",
    "# residx = traj.topology.atom(indices[0]).residue.index\n",
    "# anchor_molecules=[set(traj.topology.residue(residx).atoms)]\n",
    "\n",
    "# # put everything in the same box based on the anchor residue\n",
    "# traj = traj.image_molecules(anchor_molecules=anchor_molecules)\n",
    "\n",
    "# # H-NS\n",
    "# path = '/Users/thor/surfdrive/Data/h-ns/NAR/md/0_highaff/FI/drytrajs/'\n",
    "# dna = mdna.load(filename=path+'dry_0.xtc',top=path+'dry_0.pdb')\n",
    "\n",
    "# dna.describe()\n"
   ]
  },
  {
   "cell_type": "code",
   "execution_count": 14,
   "metadata": {},
   "outputs": [
    {
     "name": "stdout",
     "output_type": "stream",
     "text": [
      "\n",
      "Start rescaling spline based on requested number of base pairs.\n",
      "\tThis requires recomputation of the control points to match the desired number of base pairs.\n",
      "\tSpline scaled to match the target number of base pairs: 12\n",
      "\n",
      "Initialize DNA openMM simulation at 310 K for 1 ps time units\n",
      "Solvate DNA with padding of 1.0 nm and 0.1 M KCl\n",
      "Minimize energy\n",
      "Run simulation for 500 steps\n",
      "Simulation completed\n",
      "Saved trajectory as: ./data/my_dna.h5\n"
     ]
    }
   ],
   "source": [
    "# Initiate a DNA simulation using OpenMM \n",
    "traj = mdna.sequence_to_md(sequence='GCAATATATTGC',time=1,time_unit='picoseconds',solvated=True, save_location='./data/')\n",
    "traj.center_coordinates()\n",
    "\n",
    "# find index of residue somewhere in the middle of the nucleosome\n",
    "indices = traj.top.select('resid 4')\n",
    "residx = traj.topology.atom(indices[0]).residue.index\n",
    "anchor_molecules=[set(traj.topology.residue(residx).atoms)]\n",
    "\n",
    "# put everything in the same box based on the anchor residue\n",
    "traj = traj.image_molecules(anchor_molecules=anchor_molecules)\n",
    "traj = traj.superpose(traj,0)\n",
    "\n",
    "# Load the trajectory\n",
    "dna = mdna.load(traj)\n",
    "\n",
    "\n",
    "# Highlight how to extract mean reference frames and base reference frames\n",
    "mean_frames = dna.get_frames()\n",
    "print(mean_frames.shape)\n",
    "\n",
    "base_frames = dna.get_base_frames()\n",
    "for res, ref in base_frames.items():\n",
    "    print(res, ref.shape)\n",
    "    break\n",
    "\n",
    "# Highlight how to extract rigid base parameters\n",
    "base, names = dna.get_parameters(base=True)\n",
    "print(base.shape, names)\n",
    "\n",
    "step, names = dna.get_parameters(step=True)\n",
    "print(step.shape, names)\n",
    "\n",
    "params, names = dna.get_parameters()\n",
    "print(params.shape, names)\n",
    "\n",
    "name = 'twist'\n",
    "para = dna.get_parameter(name)\n",
    "print(para.shape)\n",
    "\n",
    "\n",
    "# Example on how to plot the twist parameter\n",
    "\n",
    "fig, ax = plt.subplots(figsize=[5,3])\n",
    "color = 'tab:orange'\n",
    "mean = np.mean(para, axis=0)\n",
    "std = np.std(para, axis=0)\n",
    "x = range(len(mean))\n",
    "\n",
    "ax.fill_between(x, mean-std, mean+std, color=color, alpha=0.2)\n",
    "ax.plot(mean, color=color,lw=1)    \n",
    "ax.scatter(x=x,y=mean,color=color,s=10)\n",
    "ax.set_title(name)\n",
    "ax.set_ylabel(f'{name} [degrees]')\n",
    "ax.set_xlabel('Base pair step')\n",
    "ax.set_xticks(range(len(mean)))\n",
    "base_map = dna.base_pair_map\n",
    "anti_sequence = [base_map[c] for c in dna.sequence ]\n",
    "base_pairs = [f'{i}-{j}' for i,j in zip(dna.sequence, anti_sequence)]\n",
    "_ = ax.set_xticklabels(base_pairs,rotation=45)\n",
    "\n",
    "\n",
    "# Example on how to plot KDE's of all parameters\n",
    "import matplotlib as mpl, matplotlib.font_manager as font_manager\n",
    "import seaborn as sns\n",
    "\n",
    "mpl.rcParams['font.family']='serif'\n",
    "cmfont = font_manager.FontProperties(fname=mpl.get_data_path() + '/fonts/ttf/cmr10.ttf')\n",
    "mpl.rcParams['font.serif']=cmfont.get_name()\n",
    "mpl.rcParams['mathtext.fontset']='cm'\n",
    "mpl.rcParams['axes.unicode_minus']=False\n",
    "mpl.rcParams['axes.formatter.use_mathtext'] = True\n",
    "\n",
    "colors = sns.color_palette(\"twilight\", 12)\n",
    "lims = [(-2,2),(-2,2),(-2,2),(-65,65),(-65,65),(-65,65)] + [(-3,3),(-3,3),(1.25,5),(-50,50),(-50,50),(0,60)]\n",
    "fig, ax = plt.subplots(3,4, figsize=(6,2.5),sharey='col')\n",
    "# ax = ax.flatten()\n",
    "idx, jdx = 0, 0\n",
    "for _,name in enumerate(names):\n",
    "    para = params[:,1:,names.index(name)]\n",
    "    sns.kdeplot(para.flatten(), ax=ax[idx][jdx],fill=True,color='white',lw=5)#, density=True)\n",
    "    sns.kdeplot(para.flatten(), ax=ax[idx][jdx],fill=True,color=colors[_],alpha=1,lw=1)#, density=True)\n",
    "    ax[idx][jdx].set_title(name,x=0,y=0,color=colors[_],fontsize=10)\n",
    "    ax[idx][jdx].set_xlim(lims[_])\n",
    "\n",
    "    ax[idx][jdx].set_facecolor('none')\n",
    "    ax[idx][jdx].set_yticklabels([])\n",
    "    ax[idx][jdx].set_yticks([])\n",
    "    ax[idx][jdx].set_ylabel('')\n",
    "    if name  in ['shear','buckle','shift','tilt','stretch','propeller']:\n",
    "        ax[idx][jdx].set_xticks([])\n",
    "    idx+=1\n",
    "    if idx == 3:\n",
    "        idx = 0\n",
    "        jdx+=1\n",
    "    if jdx == 4:\n",
    "        jdx = 0\n",
    "\n",
    "    if idx == 0 and jdx in [0,1,2,3]:\n",
    "        ax[idx][jdx].set_xticklabels([])\n",
    "    if idx == 1 and jdx in [0,1]:\n",
    "        ax[idx][jdx].set_xticklabels([])\n",
    "\n",
    "ax[-1][0].set_xlabel('[nm]',fontsize=11)\n",
    "ax[-1][1].set_xlabel('[degrees]',fontsize=11)\n",
    "ax[-1][2].set_xlabel('[nm]',fontsize=11)\n",
    "ax[-1][3].set_xlabel('[degrees]',fontsize=11)\n",
    "fig.tight_layout()\n",
    "fig.subplots_adjust(hspace=-.25)\n",
    "\n",
    "sns.despine(bottom=True, left=True)\n",
    "fig.text(0.25, 0.85, 'Pair Parameters', ha='center',fontsize=10)\n",
    "fig.text(0.75, 0.85, 'Step Parameters', ha='center',fontsize=10)"
   ]
  },
  {
   "cell_type": "code",
   "execution_count": null,
   "metadata": {},
   "outputs": [],
   "source": []
  },
  {
   "cell_type": "code",
   "execution_count": 13,
   "metadata": {},
   "outputs": [
    {
     "name": "stdout",
     "output_type": "stream",
     "text": [
      "\n",
      "Start rescaling spline based on requested number of base pairs.\n",
      "\tThis requires recomputation of the control points to match the desired number of base pairs.\n",
      "\tSpline scaled to match the target number of base pairs: 12\n",
      "\n",
      "Initialize DNA openMM simulation at 310 K for 1 ps time units\n",
      "Solvate DNA with padding of 1.0 nm and 0.1 M KCl\n",
      "Minimize energy\n",
      "Run simulation for 500 steps\n",
      "Simulation completed\n",
      "Saved trajectory as: ./data/my_dna.h5\n"
     ]
    }
   ],
   "source": [
    "traj = mdna.sequence_to_md(sequence='GCAATATATTGC',time=1,time_unit='picoseconds',solvated=True, save_location='./data/')\n",
    "traj.center_coordinates()\n",
    "\n",
    "# find index of residue somewhere in the middle of the nucleosome\n",
    "indices = traj.top.select('resid 4')\n",
    "residx = traj.topology.atom(indices[0]).residue.index\n",
    "anchor_molecules=[set(traj.topology.residue(residx).atoms)]\n",
    "\n",
    "# put everything in the same box based on the anchor residue\n",
    "traj = traj.image_molecules(anchor_molecules=anchor_molecules)\n",
    "\n",
    "traj = traj.superpose(traj,0)"
   ]
  },
  {
   "cell_type": "code",
   "execution_count": 4,
   "metadata": {},
   "outputs": [],
   "source": [
    "dna = mdna.load(traj)"
   ]
  },
  {
   "cell_type": "code",
   "execution_count": 5,
   "metadata": {},
   "outputs": [
    {
     "name": "stdout",
     "output_type": "stream",
     "text": [
      "(12, 4999, 4, 3)\n",
      "DG1 (4999, 4, 3)\n"
     ]
    }
   ],
   "source": [
    "mean_frames = dna.get_frames()\n",
    "print(mean_frames.shape)\n",
    "\n",
    "base_frames = dna.get_base_frames()\n",
    "for res, ref in base_frames.items():\n",
    "    print(res, ref.shape)\n",
    "    break"
   ]
  },
  {
   "cell_type": "code",
   "execution_count": 6,
   "metadata": {},
   "outputs": [
    {
     "name": "stdout",
     "output_type": "stream",
     "text": [
      "(4999, 12, 6) ['shear', 'stretch', 'stagger', 'buckle', 'propeller', 'opening']\n",
      "(4999, 12, 6) ['shift', 'slide', 'rise', 'tilt', 'roll', 'twist']\n",
      "(4999, 12, 12) ['shear', 'stretch', 'stagger', 'buckle', 'propeller', 'opening', 'shift', 'slide', 'rise', 'tilt', 'roll', 'twist']\n",
      "(4999, 12)\n"
     ]
    }
   ],
   "source": [
    "base, names = dna.get_parameters(base=True)\n",
    "print(base.shape, names)\n",
    "\n",
    "step, names = dna.get_parameters(step=True)\n",
    "print(step.shape, names)\n",
    "\n",
    "params, names = dna.get_parameters()\n",
    "print(params.shape, names)\n",
    "\n",
    "name = 'twist'\n",
    "para = dna.get_parameter(name)\n",
    "print(para.shape)"
   ]
  },
  {
   "cell_type": "code",
   "execution_count": 7,
   "metadata": {},
   "outputs": [
    {
     "data": {
      "image/png": "[encoded data removed]",
      "text/plain": [
       "<Figure size 500x300 with 1 Axes>"
      ]
     },
     "metadata": {},
     "output_type": "display_data"
    }
   ],
   "source": [
    "\n",
    "fig, ax = plt.subplots(figsize=[5,3])\n",
    "color = 'tab:orange'\n",
    "mean = np.mean(para, axis=0)\n",
    "std = np.std(para, axis=0)\n",
    "x = range(len(mean))\n",
    "\n",
    "ax.fill_between(x, mean-std, mean+std, color=color, alpha=0.2)\n",
    "ax.plot(mean, color=color,lw=1)    \n",
    "ax.scatter(x=x,y=mean,color=color,s=10)\n",
    "ax.set_title(name)\n",
    "ax.set_ylabel(f'{name} [degrees]')\n",
    "ax.set_xlabel('Base pair step')\n",
    "ax.set_xticks(range(len(mean)))\n",
    "base_map = dna.base_pair_map\n",
    "anti_sequence = [base_map[c] for c in dna.sequence ]\n",
    "base_pairs = [f'{i}-{j}' for i,j in zip(dna.sequence, anti_sequence)]\n",
    "_ = ax.set_xticklabels(base_pairs,rotation=45)"
   ]
  },
  {
   "cell_type": "code",
   "execution_count": 8,
   "metadata": {},
   "outputs": [
    {
     "data": {
      "text/plain": [
       "Text(0.75, 0.85, 'Step Parameters')"
      ]
     },
     "execution_count": 8,
     "metadata": {},
     "output_type": "execute_result"
    },
    {
     "data": {
      "image/png": "[encoded data removed]",
      "text/plain": [
       "<Figure size 600x250 with 12 Axes>"
      ]
     },
     "metadata": {},
     "output_type": "display_data"
    }
   ],
   "source": [
    "import matplotlib as mpl, matplotlib.font_manager as font_manager\n",
    "import seaborn as sns\n",
    "\n",
    "mpl.rcParams['font.family']='serif'\n",
    "cmfont = font_manager.FontProperties(fname=mpl.get_data_path() + '/fonts/ttf/cmr10.ttf')\n",
    "mpl.rcParams['font.serif']=cmfont.get_name()\n",
    "mpl.rcParams['mathtext.fontset']='cm'\n",
    "mpl.rcParams['axes.unicode_minus']=False\n",
    "mpl.rcParams['axes.formatter.use_mathtext'] = True\n",
    "\n",
    "colors = sns.color_palette(\"twilight\", 12)\n",
    "lims = [(-2,2),(-2,2),(-2,2),(-65,65),(-65,65),(-65,65)] + [(-3,3),(-3,3),(1.25,5),(-50,50),(-50,50),(0,60)]\n",
    "fig, ax = plt.subplots(3,4, figsize=(6,2.5),sharey='col')\n",
    "# ax = ax.flatten()\n",
    "idx, jdx = 0, 0\n",
    "for _,name in enumerate(names):\n",
    "    para = params[:,1:,names.index(name)]\n",
    "    sns.kdeplot(para.flatten(), ax=ax[idx][jdx],fill=True,color='white',lw=5)#, density=True)\n",
    "    sns.kdeplot(para.flatten(), ax=ax[idx][jdx],fill=True,color=colors[_],alpha=1,lw=1)#, density=True)\n",
    "    ax[idx][jdx].set_title(name,x=0,y=0,color=colors[_],fontsize=10)\n",
    "    ax[idx][jdx].set_xlim(lims[_])\n",
    "\n",
    "    ax[idx][jdx].set_facecolor('none')\n",
    "    ax[idx][jdx].set_yticklabels([])\n",
    "    ax[idx][jdx].set_yticks([])\n",
    "    ax[idx][jdx].set_ylabel('')\n",
    "    if name  in ['shear','buckle','shift','tilt','stretch','propeller']:\n",
    "        ax[idx][jdx].set_xticks([])\n",
    "    idx+=1\n",
    "    if idx == 3:\n",
    "        idx = 0\n",
    "        jdx+=1\n",
    "    if jdx == 4:\n",
    "        jdx = 0\n",
    "\n",
    "    if idx == 0 and jdx in [0,1,2,3]:\n",
    "        ax[idx][jdx].set_xticklabels([])\n",
    "    if idx == 1 and jdx in [0,1]:\n",
    "        ax[idx][jdx].set_xticklabels([])\n",
    "\n",
    "ax[-1][0].set_xlabel('[nm]',fontsize=11)\n",
    "ax[-1][1].set_xlabel('[degrees]',fontsize=11)\n",
    "ax[-1][2].set_xlabel('[nm]',fontsize=11)\n",
    "ax[-1][3].set_xlabel('[degrees]',fontsize=11)\n",
    "fig.tight_layout()\n",
    "fig.subplots_adjust(hspace=-.25)\n",
    "\n",
    "sns.despine(bottom=True, left=True)\n",
    "fig.text(0.25, 0.85, 'Pair Parameters', ha='center',fontsize=10)\n",
    "fig.text(0.75, 0.85, 'Step Parameters', ha='center',fontsize=10)"
   ]
  },
  {
   "cell_type": "code",
   "execution_count": null,
   "metadata": {},
   "outputs": [],
   "source": [
    "view = nv.show_mdtraj(traj[::100])\n",
    "view"
   ]
  },
  {
   "cell_type": "code",
   "execution_count": null,
   "metadata": {},
   "outputs": [],
   "source": []
  }
 ],
 "metadata": {
  "kernelspec": {
   "display_name": "mdna",
   "language": "python",
   "name": "python3"
  },
  "language_info": {
   "codemirror_mode": {
    "name": "ipython",
    "version": 3
   },
   "file_extension": ".py",
   "mimetype": "text/x-python",
   "name": "python",
   "nbconvert_exporter": "python",
   "pygments_lexer": "ipython3",
   "version": "3.12.3"
  }
 },
 "nbformat": 4,
 "nbformat_minor": 2
}
