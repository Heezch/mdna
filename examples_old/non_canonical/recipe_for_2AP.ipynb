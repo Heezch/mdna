{
 "cells": [
  {
   "cell_type": "code",
   "execution_count": 2,
   "metadata": {},
   "outputs": [
    {
     "name": "stdout",
     "output_type": "stream",
     "text": [
      "The autoreload extension is already loaded. To reload it, use:\n",
      "  %reload_ext autoreload\n"
     ]
    }
   ],
   "source": [
    "import numpy as np\n",
    "import mdtraj as md\n",
    "import matplotlib.pyplot as plt\n",
    "from Bio.SVDSuperimposer import SVDSuperimposer\n",
    "import nglview as nv\n",
    "\n",
    "# # Path: pymdna/__init__.py, prototype of the package and atomic is not properly referenced in the package at genertors.py now I just explicitly define the path loction\n",
    "# import pymdna as mdna\n",
    "import sys\n",
    "sys.path.append('/Users/thor/surfdrive/Projects/pymdna/')\n",
    "import pymdna as mdna \n",
    "%load_ext autoreload\n",
    "%autoreload 2"
   ]
  },
  {
   "cell_type": "markdown",
   "metadata": {},
   "source": [
    "First we load the pdbs as is"
   ]
  },
  {
   "cell_type": "code",
   "execution_count": 3,
   "metadata": {},
   "outputs": [
    {
     "data": {
      "text/plain": [
       "(<mdtraj.Trajectory with 1 frames, 21 atoms, 1 residues, without unitcells at 0x17b128050>,\n",
       " <mdtraj.Trajectory with 1 frames, 32 atoms, 1 residues, and unitcells at 0x17ac22090>)"
      ]
     },
     "execution_count": 3,
     "metadata": {},
     "output_type": "execute_result"
    }
   ],
   "source": [
    "loc = '../../pymdna/atomic/'\n",
    "base_A, base_2AP = [md.load(loc+'BDNA_'+base+'.pdb') for base in ['A', '2AP']]\n",
    "base_A, base_2AP"
   ]
  },
  {
   "cell_type": "markdown",
   "metadata": {},
   "source": [
    "Compare 2AP with A nuceleobase, find atoms that are a good fit (aka fit planar nucleobases on top of each other)\n",
    "`['N1','N9', 'N3', 'C6', 'C4', 'C2', 'C5', 'N7']`"
   ]
  },
  {
   "cell_type": "code",
   "execution_count": 4,
   "metadata": {},
   "outputs": [
    {
     "data": {
      "application/vnd.jupyter.widget-view+json": {
       "model_id": "3df7384f9b8740b3bcfe8118cf86231f",
       "version_major": 2,
       "version_minor": 0
      },
      "text/plain": [
       "NGLWidget()"
      ]
     },
     "metadata": {},
     "output_type": "display_data"
    }
   ],
   "source": [
    "merge = base_A.stack(base_2AP)\n",
    "view = nv.show_mdtraj(merge)\n",
    "view"
   ]
  },
  {
   "cell_type": "markdown",
   "metadata": {},
   "source": [
    "Now we use these atoms to move the non-canonical base to the same plane as the standard base A and compare the x,y,z coorindates of the atoms that are used for the ReferenceBase to construct the basis of the nucleobase. The fitted structure we can now add to the atomic directory ('BDNA_P.pdb'), and edit the `base_pair_map` `dict` in `generator.py` to encode the new base."
   ]
  },
  {
   "cell_type": "code",
   "execution_count": 5,
   "metadata": {},
   "outputs": [
    {
     "name": "stdout",
     "output_type": "stream",
     "text": [
      "[11, 13, 14, 15, 17, 18, 19, 20]\n",
      "[12, 15, 16, 17, 22, 23, 24, 25]\n",
      "0.004665368615066092\n",
      "purine purine\n",
      "[[-0.2479  0.5346 -0.    ]] [[-0.24228857  0.5235295  -0.00911196]]\n",
      "[[-0.1291  0.4498 -0.    ]] [[-1.2690061e-01  4.4528759e-01 -3.2372773e-04]]\n",
      "[[-0.1267  0.3124  0.    ]] [[-0.12616056  0.3066709  -0.00390143]]\n"
     ]
    }
   ],
   "source": [
    " \n",
    "def get_rot_and_trans(subtraj_A,subtraj_B):\n",
    "    \"\"\" fit only works now on a single frame (mdtraj returns xyz with shape (n_frames, atoms, xyz) \n",
    "        even for single frame trajs so hence the xyz[0]\"\"\"\n",
    "    \n",
    "    # load super imposer\n",
    "    sup = SVDSuperimposer()\n",
    "\n",
    "    # Set the coords, y will be rotated and translated on x\n",
    "    x = subtraj_A.xyz[0]\n",
    "    y = subtraj_B.xyz[0]\n",
    "    sup.set(x, y)\n",
    "\n",
    "    # Do the leastsquared fit\n",
    "    sup.run()\n",
    "\n",
    "    # Get the rms\n",
    "    rms = sup.get_rms()\n",
    "\n",
    "    # Get rotation (right multiplying!) and the translation\n",
    "    rot, tran = sup.get_rotran()\n",
    "    \n",
    "    # now we have the instructions to rotate B on A\n",
    "    return rot,tran,rms\n",
    "\n",
    "def apply_superimposition(traj, rot, tran):\n",
    "    \n",
    "    # get xyz coordinates\n",
    "    xyz = traj.xyz[0]\n",
    "    \n",
    "    # rotate subject on target\n",
    "    new_xyz = np.dot(xyz, rot) + tran\n",
    "\n",
    "    # replace coordinates of traj\n",
    "    traj.xyz = new_xyz\n",
    "    return traj\n",
    "\n",
    "def fit_B_on_A(A, B, selection_A, selection_B):\n",
    "    \n",
    "    # create trajs containing only the selections\n",
    "    subtraj_A = A.atom_slice(selection_A)\n",
    "    subtraj_B = B.atom_slice(selection_B)\n",
    "\n",
    "    # obtain instructions to rotate and translate B on A based on substraj structures\n",
    "    rot, tran, rms = get_rot_and_trans(subtraj_A,subtraj_B)\n",
    "    \n",
    "    # do the superimposition of B on A and subsitute old with new xyz of B\n",
    "    sup_B = apply_superimposition(B, rot, tran)\n",
    "\n",
    "    # remove overlapping backbone atoms from B \n",
    "    selection_to_keep = [at.index for at in  B.top.atoms if at.index not in selection_B]\n",
    "\n",
    "    new_B = sup_B\n",
    "    return new_B, rms\n",
    "\n",
    "def get_fit_indices(traj):\n",
    "    residue = traj.top.residue(0)\n",
    "    #print(residue, [at.name for at in residue._atoms])\n",
    "    # res_indices = [at.index  for at in residue.atoms if at.name in [\"P\",\"C1'\", \"C5'\",'N9','C4','N1']]\n",
    "    res_indices = [at.index  for at in residue.atoms if at.name in ['N1','N9', 'N3', 'C6', 'C4', 'C2', 'C5', 'N7']]\n",
    "\n",
    "    print(res_indices)\n",
    "    return res_indices\n",
    "            \n",
    "def fit_bases(base_A, base_B):\n",
    "    \"\"\" fit bases on trajectory \"\"\"\n",
    "\n",
    "    selection_A = get_fit_indices(base_A)\n",
    "    selection_B = get_fit_indices(base_B)\n",
    "\n",
    "    # Fits B on A\n",
    "    return fit_B_on_A(A=base_A, B=base_B, selection_A=selection_A, selection_B=selection_B)\n",
    "\n",
    "\n",
    "new_base_2AP, rms = fit_bases(base_A, base_2AP)\n",
    "print(rms)\n",
    "# Uncomment if you don't want hydrogens\n",
    "#new_base_2AP.atom_slice(new_base_2AP.top.select('not element type hydrogen'))#.save('BDNA_P.pdb')\n",
    "new_base_2AP.save_pdb('BDNA_P.pdb')\n",
    "\n",
    "\n",
    "res_A = mdna.ReferenceBase(base_A)\n",
    "res_ref = mdna.ReferenceBase(new_base_2AP)\n",
    "\n",
    "print(res_A.base_type, res_ref.base_type)\n",
    "print(res_A.C1_coords, res_ref.C1_coords)\n",
    "print(res_A.N_coords, res_ref.N_coords)\n",
    "print(res_A.C_coords, res_ref.C_coords)\n"
   ]
  },
  {
   "cell_type": "code",
   "execution_count": null,
   "metadata": {},
   "outputs": [],
   "source": []
  },
  {
   "cell_type": "code",
   "execution_count": null,
   "metadata": {},
   "outputs": [],
   "source": []
  },
  {
   "cell_type": "code",
   "execution_count": null,
   "metadata": {},
   "outputs": [],
   "source": []
  }
 ],
 "metadata": {
  "kernelspec": {
   "display_name": "mdna",
   "language": "python",
   "name": "python3"
  },
  "language_info": {
   "codemirror_mode": {
    "name": "ipython",
    "version": 3
   },
   "file_extension": ".py",
   "mimetype": "text/x-python",
   "name": "python",
   "nbconvert_exporter": "python",
   "pygments_lexer": "ipython3",
   "version": "3.11.7"
  }
 },
 "nbformat": 4,
 "nbformat_minor": 2
}
