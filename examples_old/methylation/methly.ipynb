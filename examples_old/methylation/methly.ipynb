{
 "cells": [
  {
   "cell_type": "code",
   "execution_count": null,
   "metadata": {},
   "outputs": [],
   "source": [
    "# Adenine and Cytosine are able to be methylated\n",
    "# Find hydrogen to convert to methyl group\n",
    "# Check if hydrogen is there otherwise... \n"
   ]
  }
 ],
 "metadata": {
  "language_info": {
   "name": "python"
  }
 },
 "nbformat": 4,
 "nbformat_minor": 2
}
