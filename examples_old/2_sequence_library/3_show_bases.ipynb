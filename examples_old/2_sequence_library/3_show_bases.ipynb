{
 "cells": [
  {
   "cell_type": "code",
   "execution_count": 1,
   "metadata": {},
   "outputs": [
    {
     "data": {
      "application/vnd.jupyter.widget-view+json": {
       "model_id": "3ae11b29be5f4311b457937f44c8edfa",
       "version_major": 2,
       "version_minor": 0
      },
      "text/plain": []
     },
     "metadata": {},
     "output_type": "display_data"
    },
    {
     "name": "stdout",
     "output_type": "stream",
     "text": [
      "joblib is not installed. Falling back to sequential computation.\n"
     ]
    },
    {
     "name": "stderr",
     "output_type": "stream",
     "text": [
      "/Users/thor/surfdrive/Projects/PMCpy/pmcpy/Evals/PyLk/pylk/writhemap.py:16: UserWarning: Cython version of writhemap (PyLk) not compiled. Defaulting to numba implementation. Consider compiling the cython version.\n",
      "  warnings.warn(\n",
      "/Users/thor/surfdrive/Projects/PMCpy/pmcpy/Evals/PyLk/pylk/eval_link.py:10: UserWarning: Cython version of linkingnumber (PyLk) not compiled. Defaulting to numba implementation. Consider compiling the cython version.\n",
      "  warnings.warn(\n"
     ]
    }
   ],
   "source": [
    "import numpy as np\n",
    "import mdtraj as md\n",
    "import matplotlib.pyplot as plt\n",
    "import nglview as nv\n",
    "\n",
    "import openmm as mm\n",
    "import openmm.app as app\n",
    "import openmm.unit as unit\n",
    "from mdtraj.reporters import HDF5Reporter\n",
    "import copy\n",
    "import nglview as nv\n",
    "import random\n",
    "\n",
    "# # Path: pymdna/__init__.py, prototype of the package and atomic is not properly referenced in the package at genertors.py now I just explicitly define the path loction\n",
    "# import pymdna as mdna\n",
    "import sys\n",
    "sys.path.append('/Users/thor/surfdrive/Projects/pymdna/')\n",
    "import pymdna as mdna \n",
    "%load_ext autoreload\n",
    "%autoreload 2"
   ]
  },
  {
   "cell_type": "code",
   "execution_count": 19,
   "metadata": {},
   "outputs": [],
   "source": [
    "from Bio.SVDSuperimposer import SVDSuperimposer\n",
    "\n",
    "def get_base_vectors(res):\n",
    "       \"\"\"Compute base vectors from reference base.\"\"\"\n",
    "       ref_base = mdna.ReferenceBase(res)\n",
    "       return np.array([ref_base.b_R, ref_base.b_L, ref_base.b_D, ref_base.b_N]).swapaxes(0,1)\n",
    "\n",
    "def get_rot_mat_trans(x,y):\n",
    "    # load super imposer\n",
    "    sup = SVDSuperimposer()\n",
    "\n",
    "    # Set the coords, y will be rotated and translated on x\n",
    "    sup.set(x, y)\n",
    "\n",
    "    # Do the leastsquared fit\n",
    "    sup.run()\n",
    "\n",
    "    # Get the rms\n",
    "    rms = sup.get_rms()\n",
    "\n",
    "    # Get rotation (right multiplying!) and the translation\n",
    "    rot, tran = sup.get_rotran()\n",
    "    return rot, tran\n",
    "\n",
    "# Function to calculate positions from origin and vectors\n",
    "def calculate_positions(triad):\n",
    "    \n",
    "    origin = triad[0]\n",
    "    vectors = triad[1:]\n",
    "    # Each row in vectors is added to the origin to get the end position\n",
    "    end_positions = origin + vectors\n",
    "    # Combine the origin with these end positions\n",
    "    positions = np.vstack([origin, end_positions])\n",
    "    return positions\n",
    "\n",
    "\n",
    "def align_to_ref(traj, ref =  np.array([[0,0,0.0],[1,0,0],[0,1,0],[0,0,1]])):\n",
    "    vectors = get_base_vectors(traj)\n",
    "    positions = calculate_positions(vectors[0])\n",
    "    ref_position =  calculate_positions(ref)\n",
    "    rot, tran = get_rot_mat_trans(ref_position,positions)\n",
    "    new_xyz = np.dot(traj.xyz[0], rot) + tran\n",
    "    traj.xyz[0] = new_xyz\n",
    "    return traj"
   ]
  },
  {
   "cell_type": "code",
   "execution_count": 16,
   "metadata": {},
   "outputs": [
    {
     "name": "stdout",
     "output_type": "stream",
     "text": [
      "\n",
      "Start rescaling spline based on requested number of base pairs.\n",
      "\tThis requires recomputation of the control points to match the desired number of base pairs.\n",
      "\tSpline scaled to match the target number of base pairs: 5\n",
      "\n",
      "Methylate all C in CpG context, superseeds methylations list.\n",
      "Methtylating: [1, 3]\n"
     ]
    },
    {
     "data": {
      "application/vnd.jupyter.widget-view+json": {
       "model_id": "c9a68e3e052546b2a5bc574192ecaa5b",
       "version_major": 2,
       "version_minor": 0
      },
      "text/plain": [
       "NGLWidget()"
      ]
     },
     "metadata": {},
     "output_type": "display_data"
    }
   ],
   "source": [
    "dna = mdna.make('GCGCG')\n",
    "dna.methylate(CpG=True)\n",
    "traj = dna.get_traj()\n",
    "meth = traj.atom_slice(traj.top.select('resid 1'))\n",
    "meth = align_to_ref(meth)\n",
    "meth.save('BDNA_CM.pdb')\n",
    "meth.save('BDNA_CM.h5')\n",
    "view = nv.show_mdtraj(meth)\n",
    "view.clear()\n",
    "view.add_ball_and_stick()\n",
    "view"
   ]
  },
  {
   "cell_type": "code",
   "execution_count": 48,
   "metadata": {},
   "outputs": [
    {
     "name": "stdout",
     "output_type": "stream",
     "text": [
      "\n",
      "Start rescaling spline based on requested number of base pairs.\n",
      "\tThis requires recomputation of the control points to match the desired number of base pairs.\n",
      "\tSpline scaled to match the target number of base pairs: 3\n",
      "\n"
     ]
    },
    {
     "data": {
      "application/vnd.jupyter.widget-view+json": {
       "model_id": "ab08f2fe2a464e6e949c81e33e8c70c6",
       "version_major": 2,
       "version_minor": 0
      },
      "text/plain": [
       "NGLWidget()"
      ]
     },
     "metadata": {},
     "output_type": "display_data"
    }
   ],
   "source": [
    "dna = mdna.make('GGG')\n",
    "dna.methylate(methylations=[1])\n",
    "traj = dna.get_traj()\n",
    "meth = traj.atom_slice(traj.top.select('resid 1'))\n",
    "meth = align_to_ref(meth)\n",
    "meth.save('BDNA_GM.pdb')\n",
    "meth.save('BDNA_GM.h5')\n",
    "view = nv.show_mdtraj(meth)\n",
    "view.clear()\n",
    "view.add_ball_and_stick()\n",
    "view"
   ]
  },
  {
   "cell_type": "code",
   "execution_count": 45,
   "metadata": {},
   "outputs": [
    {
     "name": "stdout",
     "output_type": "stream",
     "text": [
      "\n",
      "Start rescaling spline based on requested number of base pairs.\n",
      "\tThis requires recomputation of the control points to match the desired number of base pairs.\n",
      "\tSpline scaled to match the target number of base pairs: 3\n",
      "\n",
      "Flipped residues [1] by 3.141592653589793 radians\n",
      "\n",
      "Start rescaling spline based on requested number of base pairs.\n",
      "\tThis requires recomputation of the control points to match the desired number of base pairs.\n",
      "\tSpline scaled to match the target number of base pairs: 4\n",
      "\n",
      "[0 1 2]\n",
      "[0 1 2]\n"
     ]
    }
   ],
   "source": [
    "dna = mdna.make('GAG')\n",
    "dna.flip(fliplist=[1])\n",
    "traj = dna.get_traj()\n",
    "hoog = traj.atom_slice(traj.top.select('resid 1'))\n",
    "\n",
    "AAAA =  mdna.make('AAAA').get_traj()\n",
    "\n",
    "ref = AAAA.atom_slice(AAAA.top.select('resid 1'))\n",
    "ref = align_to_ref(ref)\n",
    "ref_atoms = ref.top.select('name OP1 OP2 P')\n",
    "hoog_atoms = hoog.top.select('name OP1 OP2 P')\n",
    "print(ref_atoms)\n",
    "print(hoog_atoms)   \n",
    "hoog.superpose(ref,atom_indices=hoog_atoms, ref_atom_indices=ref_atoms)\n",
    "hoog.save('BDNA_AH.pdb')\n",
    "hoog.save('BDNA_AH.h5')"
   ]
  },
  {
   "cell_type": "code",
   "execution_count": 44,
   "metadata": {},
   "outputs": [
    {
     "data": {
      "application/vnd.jupyter.widget-view+json": {
       "model_id": "8e28dce396e7441da7bac63d4a4327ff",
       "version_major": 2,
       "version_minor": 0
      },
      "text/plain": [
       "NGLWidget()"
      ]
     },
     "metadata": {},
     "output_type": "display_data"
    }
   ],
   "source": [
    "view = nv.show_mdtraj(hoog.stack(ref))  \n",
    "view.clear()\n",
    "view.add_ball_and_stick()\n",
    "view"
   ]
  },
  {
   "cell_type": "code",
   "execution_count": 27,
   "metadata": {},
   "outputs": [
    {
     "name": "stdout",
     "output_type": "stream",
     "text": [
      "\n",
      "Start rescaling spline based on requested number of base pairs.\n",
      "\tThis requires recomputation of the control points to match the desired number of base pairs.\n",
      "\tSpline scaled to match the target number of base pairs: 3\n",
      "\n",
      "Flipped residues [1] by 3.141592653589793 radians\n"
     ]
    },
    {
     "data": {
      "application/vnd.jupyter.widget-view+json": {
       "model_id": "cef209d7b5f44edeb04e24808ef3a9fd",
       "version_major": 2,
       "version_minor": 0
      },
      "text/plain": [
       "NGLWidget()"
      ]
     },
     "metadata": {},
     "output_type": "display_data"
    }
   ],
   "source": [
    "\n",
    "hoog = align_to_ref(hoog, ref= np.array([[0,0,0.0],[1,0,0],[0,1,0],[0,0,1]]))\n",
    "hoog.save('BDNA_AH.pdb')\n",
    "#hoog.save('BDNA_AH.h5')\n",
    "view = nv.show_mdtraj(hoog)\n",
    "view.clear()\n",
    "view.add_ball_and_stick()\n",
    "view"
   ]
  },
  {
   "cell_type": "code",
   "execution_count": 51,
   "metadata": {},
   "outputs": [],
   "source": [
    "base_pair_map = {'A':'T','T':'A','G':'C','C':'G','U':'A','D':'G','E':'T','L':'M','M':'L','B':'S','S':'B','Z':'P','P':'Z','CM':'G','AH':'T','GM':'C'}\n",
    "        \n",
    "reference_bases = {base: md.load_hdf5(mdna.utils.get_data_file_path(f'./atomic/bases/BDNA_{base}.h5')) for base in base_pair_map.keys()}\n",
    "\n",
    "bases = list(reference_bases.values())\n",
    "# order = [['A', 'T', 'G', 'C', 'U'], \n",
    "#          ['B', 'S', 'Z', 'P','CM'], \n",
    "#          ['E', 'D','L', 'M', 'AH']]\n",
    "\n",
    "order = [['A', 'T', 'G', 'C'],\n",
    "        ['AH', 'U', 'GM', 'CM'], \n",
    "         ['B', 'S', 'P', 'Z'], \n",
    "         ['E', 'D','L', 'M']]\n",
    "\n",
    "\n",
    "# Initialize the trajectory with the first base\n",
    "traj = reference_bases[order[0][0]]\n",
    "\n",
    "# Spacing parameters (in angstroms, adjust as needed)\n",
    "horizontal_spacing = 1.2  # Spacing between bases within a row\n",
    "vertical_spacing = 1.5    # Spacing between rows\n",
    "\n",
    "# Base positions tracking\n",
    "y_position = 0  # Start at the top-most row and work downwards\n",
    "\n",
    "for row in order:\n",
    "    x_position = 0  # Reset x position for each new row\n",
    "    for i, base in enumerate(row,1):\n",
    "        if i == 0 and row == order[0]:\n",
    "            # Already initialized with the first base\n",
    "            continue\n",
    "        # Move base in x and y direction\n",
    "        reference_bases[base].xyz[0] = reference_bases[base].xyz[0] + np.array([-x_position, y_position, 0])\n",
    "        # Stack the base to the trajectory\n",
    "        traj = traj.stack(reference_bases[base])\n",
    "        # Increment x position for the next base in the row\n",
    "        x_position += horizontal_spacing\n",
    "    # Decrement y position for the next row to position it below the current one\n",
    "    y_position -= vertical_spacing"
   ]
  },
  {
   "cell_type": "code",
   "execution_count": 52,
   "metadata": {},
   "outputs": [
    {
     "data": {
      "application/vnd.jupyter.widget-view+json": {
       "model_id": "f113ce9ffcf746e09f6e4575c5ae51c0",
       "version_major": 2,
       "version_minor": 0
      },
      "text/plain": [
       "NGLWidget()"
      ]
     },
     "metadata": {},
     "output_type": "display_data"
    }
   ],
   "source": [
    "subtraj = traj.atom_slice(traj.top.select('not element H'))\n",
    "subtraj.save_pdb('all_bases.pdb')\n",
    "subtraj.save_hdf5('all_bases.h5')\n",
    "view = nv.show_mdtraj(subtraj)    \n",
    "view.clear()\n",
    "view.add_representation('licorice', selection='all')\n",
    "view"
   ]
  },
  {
   "cell_type": "code",
   "execution_count": null,
   "metadata": {},
   "outputs": [],
   "source": []
  },
  {
   "cell_type": "code",
   "execution_count": null,
   "metadata": {},
   "outputs": [],
   "source": []
  },
  {
   "cell_type": "code",
   "execution_count": null,
   "metadata": {},
   "outputs": [],
   "source": []
  }
 ],
 "metadata": {
  "kernelspec": {
   "display_name": "mdna",
   "language": "python",
   "name": "python3"
  },
  "language_info": {
   "codemirror_mode": {
    "name": "ipython",
    "version": 3
   },
   "file_extension": ".py",
   "mimetype": "text/x-python",
   "name": "python",
   "nbconvert_exporter": "python",
   "pygments_lexer": "ipython3",
   "version": "3.12.3"
  }
 },
 "nbformat": 4,
 "nbformat_minor": 2
}
