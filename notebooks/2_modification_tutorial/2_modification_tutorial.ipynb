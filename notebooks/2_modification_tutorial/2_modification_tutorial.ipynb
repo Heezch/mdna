{
 "cells": [
  {
   "cell_type": "markdown",
   "id": "45e7e2f2",
   "metadata": {},
   "source": [
    "\n",
    "# Modification Tutorial"
   ]
  },
  {
   "cell_type": "markdown",
   "id": "0555722b",
   "metadata": {},
   "source": [
    "\n",
    "Welcome to the DNA modification tutorial using the MDNA module. This notebook will demonstrate how to modify DNA structures using mutation, methylation, and flipping techniques. You'll learn to:\n",
    "- Mutate specific bases in a DNA sequence.\n",
    "- Apply methylation to DNA bases and explore its effects.\n",
    "- Perform Hoogsteen base flipping to study alternative DNA structures.\n",
    "- Save and visualize the modified DNA structures.\n"
   ]
  },
  {
   "cell_type": "code",
   "execution_count": null,
   "id": "601e1dbe",
   "metadata": {},
   "outputs": [
    {
     "data": {
      "application/vnd.jupyter.widget-view+json": {
       "model_id": "f5050ced35e44134a2c9821981972ab8",
       "version_major": 2,
       "version_minor": 0
      },
      "text/plain": []
     },
     "metadata": {},
     "output_type": "display_data"
    },
    {
     "name": "stderr",
     "output_type": "stream",
     "text": [
      "/Users/thor/surfdrive/Projects/PMCpy/pmcpy/Evals/PyLk/pylk/writhemap.py:16: UserWarning: Cython version of writhemap (PyLk) not compiled. Defaulting to numba implementation. Consider compiling the cython version.\n",
      "  warnings.warn(\n",
      "/Users/thor/surfdrive/Projects/PMCpy/pmcpy/Evals/PyLk/pylk/eval_link.py:10: UserWarning: Cython version of linkingnumber (PyLk) not compiled. Defaulting to numba implementation. Consider compiling the cython version.\n",
      "  warnings.warn(\n"
     ]
    }
   ],
   "source": [
    "import numpy as np\n",
    "import mdtraj as md\n",
    "import matplotlib.pyplot as plt\n",
    "import nglview as nv\n",
    "import mdna as mdna "
   ]
  },
  {
   "cell_type": "markdown",
   "id": "898a30e0",
   "metadata": {},
   "source": [
    "## Initial DNA Structure Generation\n",
    "We begin by generating a DNA structure with a specific sequence to prepare it for modifications."
   ]
  },
  {
   "cell_type": "code",
   "execution_count": 2,
   "id": "36aea656",
   "metadata": {},
   "outputs": [
    {
     "name": "stdout",
     "output_type": "stream",
     "text": [
      "\n",
      "Start rescaling spline based on requested number of base pairs.\n",
      "\tThis requires recomputation of the control points to match the desired number of base pairs.\n",
      "\tSpline scaled to match the target number of base pairs: 11\n",
      "\n"
     ]
    }
   ],
   "source": [
    "# Here we make a DNA with the following sequence\n",
    "dna = mdna.make(sequence='AGCGATATAGA')"
   ]
  },
  {
   "cell_type": "markdown",
   "id": "2c067494",
   "metadata": {},
   "source": [
    "## Saving the Original DNA Structure\n",
    "It's often useful to save the original DNA structure before modifications for comparison purposes."
   ]
  },
  {
   "cell_type": "code",
   "execution_count": null,
   "id": "ccb11a32",
   "metadata": {},
   "outputs": [],
   "source": [
    "# Let's save the original structure\n",
    "traj = dna.get_traj()\n",
    "traj.save_pdb('./pdbs/dna_original.pdb')"
   ]
  },
  {
   "cell_type": "markdown",
   "id": "f5bdeeda",
   "metadata": {},
   "source": [
    "## DNA Mutation\n",
    "Modify specific bases within the DNA sequence to see how mutations affect the structure and properties."
   ]
  },
  {
   "cell_type": "code",
   "execution_count": 9,
   "id": "9ad4cd96",
   "metadata": {},
   "outputs": [
    {
     "name": "stdout",
     "output_type": "stream",
     "text": [
      "DNA structure with 11 base pairs\n",
      "Sequence: GGCGATATAGC\n",
      "Trajectory: <mdtraj.Trajectory with 1 frames, 445 atoms, 22 residues, without unitcells>\n",
      "Frames:  (11, 1, 4, 3)\n"
     ]
    }
   ],
   "source": [
    "# Let's mutate the first base to a G and the last base to a C\n",
    "dna.mutate(mutations={0: 'G', dna.n_bp-1: 'C'})\n",
    "\n",
    "# Get information about the DNA and see the mutated sequence\n",
    "dna.describe()"
   ]
  },
  {
   "cell_type": "markdown",
   "id": "10c40a0f",
   "metadata": {},
   "source": [
    "## DNA Methylation\n",
    "Apply methylation to specific bases or patterns within the DNA sequence."
   ]
  },
  {
   "cell_type": "code",
   "execution_count": 10,
   "id": "fa2a9d18",
   "metadata": {},
   "outputs": [
    {
     "name": "stdout",
     "output_type": "stream",
     "text": [
      "Residue DT6 with methylations index 5 could not be methylated.\n",
      "Methylate all C in CpG context, superseeds methylations list.\n",
      "Methtylating: [2]\n"
     ]
    }
   ],
   "source": [
    "# Use methylation list, here we methylate the 5th position, which is T, so methylation won't work but is caught by the function\n",
    "dna.methylate(methylations=[5])\n",
    "\n",
    "# Or use the methylation function to methylate all CpG sites\n",
    "dna.methylate(CpG=True)"
   ]
  },
  {
   "cell_type": "markdown",
   "id": "2a8ac7ba",
   "metadata": {},
   "source": [
    "## Hoogsteen Base Flipping\n",
    "Perform Hoogsteen flips on specific bases to explore alternative DNA configurations."
   ]
  },
  {
   "cell_type": "code",
   "execution_count": 11,
   "id": "20cfd086",
   "metadata": {},
   "outputs": [
    {
     "name": "stdout",
     "output_type": "stream",
     "text": [
      "Flipped residues [5] by 3.141592653589793 radians\n"
     ]
    }
   ],
   "source": [
    "# Hoogsteen flip can be done at any base pair, here we flip the 5th base pair\n",
    "dna.flip(fliplist=[5], deg=180)"
   ]
  },
  {
   "cell_type": "markdown",
   "id": "3e917c4b",
   "metadata": {},
   "source": [
    "## Saving and Viewing Modified DNA Structures\n",
    "After modification, save the new DNA structure and compare it to the original."
   ]
  },
  {
   "cell_type": "code",
   "execution_count": 12,
   "id": "6bff8517",
   "metadata": {},
   "outputs": [],
   "source": [
    "# Get trajectory or save as pdb\n",
    "traj_mod = dna.get_traj()\n",
    "traj_mod.save_pdb('./pdbs/dna_modified.pdb')"
   ]
  },
  {
   "cell_type": "code",
   "execution_count": null,
   "id": "ea31e537",
   "metadata": {},
   "outputs": [],
   "source": []
  }
 ],
 "metadata": {
  "kernelspec": {
   "display_name": "mdna",
   "language": "python",
   "name": "python3"
  },
  "language_info": {
   "codemirror_mode": {
    "name": "ipython",
    "version": 3
   },
   "file_extension": ".py",
   "mimetype": "text/x-python",
   "name": "python",
   "nbconvert_exporter": "python",
   "pygments_lexer": "ipython3",
   "version": "3.12.3"
  }
 },
 "nbformat": 4,
 "nbformat_minor": 5
}
