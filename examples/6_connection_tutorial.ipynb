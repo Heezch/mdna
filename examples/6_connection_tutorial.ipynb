{
 "cells": [
  {
   "cell_type": "markdown",
   "id": "43c86111",
   "metadata": {},
   "source": [
    "\n",
    "# Connecting Two DNA Strands and Integration with Protein Data\n",
    "This tutorial demonstrates how to identify and connect two separate DNA strands from a loaded structure, and integrate the connected DNA with protein components. This process is essential for creating comprehensive models for visualization and analysis.\n",
    "\n",
    "## Steps Covered:\n",
    "- Load and identify DNA strands in a structure containing proteins.\n",
    "- Calculate and visualize control points for connecting DNA strands.\n",
    "- Connect the DNA strands and integrate the result with the protein structure.\n",
    "- Visualize and save the new combined structure.\n"
   ]
  },
  {
   "cell_type": "markdown",
   "id": "a2ce5e23",
   "metadata": {},
   "source": [
    "## Loading the Structure and Identifying DNA Strands\n",
    "Load a PDB file containing both DNA and protein components and identify DNA strands based on residue names."
   ]
  },
  {
   "cell_type": "code",
   "execution_count": null,
   "id": "2aef538d",
   "metadata": {},
   "outputs": [],
   "source": [
    "import mdtraj as md\n",
    "import numpy as np\n",
    "import matplotlib.pyplot as plt\n",
    "import nglview as nv\n",
    "import mdna as mdna \n",
    "%load_ext autoreload\n",
    "%autoreload 2"
   ]
  },
  {
   "cell_type": "code",
   "execution_count": null,
   "id": "f66475a8",
   "metadata": {},
   "outputs": [],
   "source": [
    "# Load the structure\n",
    "traj = md.load('./pdbs/8srp.pdb')\n",
    "protein = traj.atom_slice(traj.top.select('protein'))\n",
    "view = nv.show_mdtraj(traj)\n",
    "\n",
    "view"
   ]
  },
  {
   "cell_type": "markdown",
   "id": "5741c541",
   "metadata": {},
   "source": [
    "## Identifying DNA Chains\n",
    "Extract the indices of DNA chains based on common residue names for nucleotides."
   ]
  },
  {
   "cell_type": "code",
   "execution_count": 8,
   "id": "2aef5ce9",
   "metadata": {},
   "outputs": [],
   "source": [
    "DNA_residue_names = ['DG','DC','DT','DA']\n",
    "DNA_chainids = []\n",
    "for chain in traj.top.chains:\n",
    "    for res in chain._residues:\n",
    "         if str(res.name) in DNA_residue_names:\n",
    "            DNA_chainids.append(res.chain.index)\n",
    "DNA_chainids = np.unique(DNA_chainids)\n",
    "DNA_chainids = np.array([DNA_chainids[i:i + 2] for i in range(0, len(DNA_chainids), 2)])"
   ]
  },
  {
   "cell_type": "markdown",
   "id": "6187d26c",
   "metadata": {},
   "source": [
    "## Connecting DNA Strands\n",
    "Load the DNA strands, calculate control points for connection, and visualize the initial and connected states."
   ]
  },
  {
   "cell_type": "code",
   "execution_count": null,
   "id": "1480278c",
   "metadata": {},
   "outputs": [],
   "source": [
    "dna_a = mdna.load(traj=traj, chainids=DNA_chainids[0])\n",
    "dna_b = mdna.load(traj=traj, chainids=DNA_chainids[1])\n",
    "\n",
    "# Get frames to calculate control points\n",
    "frames_a = dna_a.get_frames()\n",
    "frames_b = dna_b.get_frames()\n",
    "start = np.squeeze(frames_a[-1])[0]\n",
    "end = np.squeeze(frames_b[0])[0]\n",
    "\n",
    "# Calculate incremental positions for smoother curves\n",
    "start_increment = start + np.array([0.5, 0, 3])\n",
    "end_increment = end + np.array([-0.5, 0, 3])\n",
    "center_of_mass = (start + end) / 2\n",
    "center_of_mass += np.array([0, 0, 1]) * 20\n",
    "control_points = np.array([start, start_increment, center_of_mass, end_increment, end])\n",
    "\n",
    "# Draw initial strands and control points\n",
    "fig = plt.figure(figsize=(8, 8))\n",
    "ax = fig.add_subplot(111, projection='3d')\n",
    "dna_a.draw(ax=ax, triads=True, color_lead='blue')\n",
    "dna_b.draw(ax=ax, triads=True, color_lead='red')\n",
    "ax.plot(control_points[:,0], control_points[:,1], control_points[:,2], marker='o', color='g', linestyle='-', linewidth=2, markersize=12)\n",
    "ax.axis('equal')\n"
   ]
  },
  {
   "cell_type": "markdown",
   "id": "5c488101",
   "metadata": {},
   "source": [
    "Now the control point shave been defined we can make the loop."
   ]
  },
  {
   "cell_type": "code",
   "execution_count": null,
   "id": "4b25004e",
   "metadata": {},
   "outputs": [],
   "source": [
    "# Connect the strands\n",
    "dna_c = mdna.connect(dna_a, dna_b, control_points=control_points)\n",
    "dna_c.draw(ax=ax)"
   ]
  },
  {
   "cell_type": "markdown",
   "id": "2920755f",
   "metadata": {},
   "source": [
    "## Visualization and Saving the Connected Structure\n",
    "Combine the connected DNA with the protein structure and visualize the complete assembly."
   ]
  },
  {
   "cell_type": "code",
   "execution_count": null,
   "id": "294f7373",
   "metadata": {},
   "outputs": [],
   "source": [
    "# Combine DNA and protein trajectories\n",
    "dna_traj = dna_c.get_traj()\n",
    "connected_traj = protein.stack(dna_traj)\n",
    "view = nv.show_mdtraj(connected_traj)\n",
    "view\n",
    "\n"
   ]
  },
  {
   "cell_type": "code",
   "execution_count": 13,
   "id": "78177e0e",
   "metadata": {},
   "outputs": [],
   "source": [
    "# Save the combined structure\n",
    "connected_traj.save('./pdbs/8srp_connected.pdb')"
   ]
  }
 ],
 "metadata": {
  "kernelspec": {
   "display_name": "mdna",
   "language": "python",
   "name": "python3"
  },
  "language_info": {
   "codemirror_mode": {
    "name": "ipython",
    "version": 3
   },
   "file_extension": ".py",
   "mimetype": "text/x-python",
   "name": "python",
   "nbconvert_exporter": "python",
   "pygments_lexer": "ipython3",
   "version": "3.12.5"
  }
 },
 "nbformat": 4,
 "nbformat_minor": 5
}
