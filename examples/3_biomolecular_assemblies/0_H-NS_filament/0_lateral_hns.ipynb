{
 "cells": [
  {
   "cell_type": "code",
   "execution_count": 1,
   "metadata": {},
   "outputs": [
    {
     "data": {
      "application/vnd.jupyter.widget-view+json": {
       "model_id": "9f7b2ec4c62e40c0abcf65acd45132e4",
       "version_major": 2,
       "version_minor": 0
      },
      "text/plain": []
     },
     "metadata": {},
     "output_type": "display_data"
    },
    {
     "name": "stderr",
     "output_type": "stream",
     "text": [
      "/Users/thor/surfdrive/Projects/PMCpy/pmcpy/Evals/PyLk/pylk/writhemap.py:16: UserWarning: Cython version of writhemap (PyLk) not compiled. Defaulting to numba implementation. Consider compiling the cython version.\n",
      "  warnings.warn(\n",
      "/Users/thor/surfdrive/Projects/PMCpy/pmcpy/Evals/PyLk/pylk/eval_link.py:10: UserWarning: Cython version of linkingnumber (PyLk) not compiled. Defaulting to numba implementation. Consider compiling the cython version.\n",
      "  warnings.warn(\n"
     ]
    }
   ],
   "source": [
    "import numpy as np\n",
    "import mdtraj as md\n",
    "import matplotlib.pyplot as plt\n",
    "import nglview as nv\n",
    "import networkx as nx\n",
    "\n",
    "# https://biopython.org/docs/1.74/api/Bio.SVDSuperimposer.html\n",
    "# conda install conda-forge::biopython\n",
    "from Bio.SVDSuperimposer import SVDSuperimposer\n",
    "from tqdm import tqdm\n",
    "\n",
    "# from numpy import dot\n",
    "from filament import *\n",
    "from voxelizer import *\n",
    "\n",
    "# # Path: pymdna/__init__.py, prototype of the package and atomic is not properly referenced in the package at genertors.py now I just explicitly define the path loction\n",
    "# import pymdna as mdna\n",
    "import sys\n",
    "sys.path.append('/Users/thor/surfdrive/Projects/pymdna/')\n",
    "import pymdna as mdna \n",
    "\n",
    "%load_ext autoreload\n",
    "%autoreload 2"
   ]
  },
  {
   "cell_type": "code",
   "execution_count": 2,
   "metadata": {},
   "outputs": [],
   "source": [
    "# Load H-NS s1s1 dimers\n",
    "loc_dimers = '/Users/thor/surfdrive/Data/h-ns/dimer/0_s1s1/drytrajs/'\n",
    "short_trajs = [md.load(loc_dimers+f'dry_{i}.xtc',top=loc_dimers+f'dry_{i}.pdb').remove_solvent() for i in range(0,2)]\n",
    "# start_open = md.load(loc_dimers+f'dry_open.xtc',top=loc_dimers+f'dry_open.pdb').remove_solvent()\n",
    "# start_closed = md.load(loc_dimers+f'dry_closed.xtc',top=loc_dimers+f'dry_closed.pdb').remove_solvent()\n",
    "# s1s1 = md.join([start_open,start_closed,md.join(short_trajs)])\n",
    "s1s1 = md.join(short_trajs)\n",
    "\n",
    "# Load H-NS s2s2 dimers\n",
    "loc_dimers = '/Users/thor/surfdrive/Data/h-ns/dimer/1_s2s2/drytrajs/'\n",
    "short_trajs = [md.load(loc_dimers+f'dry_{i}.xtc',top=loc_dimers+f'dry_{i}.pdb').remove_solvent() for i in range(0,2)]\n",
    "s2s2 = md.join(short_trajs)\n",
    "\n",
    "# Load H-NS dbd to DNA complex\n",
    "loc_dbd  = '/Users/thor/surfdrive/Data/h-ns/NAR/md/0_highaff/FI/drytrajs/'\n",
    "traj = [md.load(loc_dbd+f'dry_{i}.xtc',top=loc_dbd+f'dry_{i}.pdb').remove_solvent() for i in range(0,2)]\n",
    "dna_complex = md.join(traj)"
   ]
  },
  {
   "cell_type": "code",
   "execution_count": 4,
   "metadata": {},
   "outputs": [
    {
     "name": "stdout",
     "output_type": "stream",
     "text": [
      "Assembling 6 H-NS dimers:\n"
     ]
    },
    {
     "name": "stderr",
     "output_type": "stream",
     "text": [
      "100%|██████████| 6/6 [00:10<00:00,  1.76s/it]\n"
     ]
    },
    {
     "name": "stdout",
     "output_type": "stream",
     "text": [
      "Assembling 4 DNA oligo's:\n"
     ]
    },
    {
     "name": "stderr",
     "output_type": "stream",
     "text": [
      "100%|██████████| 4/4 [00:01<00:00,  2.29it/s]\n"
     ]
    },
    {
     "data": {
      "application/vnd.jupyter.widget-view+json": {
       "model_id": "3d27ac0d93564ac48765aaa28a287c8d",
       "version_major": 2,
       "version_minor": 0
      },
      "text/plain": [
       "NGLWidget()"
      ]
     },
     "metadata": {},
     "output_type": "display_data"
    }
   ],
   "source": [
    "# Define segments of the protein\n",
    "n = 2 # Overlap of residues between segments\n",
    "\n",
    "segments = {'s1':np.arange(0,41+n),\n",
    "            'h3':np.arange(41-n,53+n),\n",
    "            's2':np.arange(53-n,82+n),\n",
    "            'l2':np.arange(82-n,95+n),\n",
    "            'dbd':np.arange(95-n,137)}\n",
    "\n",
    "# Site map contains a dictionary with the (sub)trajectories of different sites of the protein catergorized from the s1s1 and s2s2 dimers\n",
    "mapper = SiteMapper(s1s1, s2s2, segments=segments, k=100)\n",
    "site_map = mapper.get_site_map()\n",
    "site_map['complex'] = dna_complex\n",
    "\n",
    "\n",
    "#  Paramers to make filament\n",
    "n_dimers = 6\n",
    "chains_to_dna = [0,4,7,11]#list(range(0,n_dimers*2)) #[2,4,5,7,9] #[0,1] # #list(range(0,n_dimers*2)) #  [0,1,]#,3,5] #list\n",
    "save = True\n",
    "\n",
    "# Initialize class to assemble the filament\n",
    "assembler = Assembler(site_map=site_map)\n",
    "\n",
    "# Add dimers\n",
    "print(f'Assembling {n_dimers} H-NS dimers:')\n",
    "for idx in tqdm(range(n_dimers)):\n",
    "    assembler.add_dimer(segment='fixed',verbose=True)  \n",
    "\n",
    "# Add DNA oligo's\n",
    "n_dna = len(chains_to_dna)\n",
    "if n_dna > 0:\n",
    "    print(f\"Assembling {n_dna} DNA oligo's:\")\n",
    "    for chainid in tqdm(chains_to_dna):\n",
    "        assembler.add_dna(chainid=chainid)\n",
    "\n",
    "# Retrive the trajectory object\n",
    "traj = assembler.get_traj()\n",
    "\n",
    "# Store structure as pdb\n",
    "if save:\n",
    "    traj.save(f'./pdbs/0_dimer_{assembler.n_dimers}_{assembler.n_dna}.pdb')    \n",
    "\n",
    "\n",
    "view = nv.show_mdtraj(traj)\n",
    "view            "
   ]
  },
  {
   "cell_type": "code",
   "execution_count": 5,
   "metadata": {},
   "outputs": [
    {
     "data": {
      "text/plain": [
       "array([[12, 13],\n",
       "       [14, 15],\n",
       "       [16, 17],\n",
       "       [18, 19]])"
      ]
     },
     "execution_count": 5,
     "metadata": {},
     "output_type": "execute_result"
    }
   ],
   "source": [
    "path_goals = []\n",
    "DNA_residue_names = ['DG','DC','DT','DA']\n",
    "DNA_chainids = []\n",
    "for chain in traj.top.chains:\n",
    "    for res in chain._residues:\n",
    "         if str(res.name) in DNA_residue_names:\n",
    "            DNA_chainids.append(res.chain.index)\n",
    "DNA_chainids = np.unique(DNA_chainids)\n",
    "DNA_chainids = np.array([DNA_chainids[i:i + 2] for i in range(0, len(DNA_chainids), 2)])\n",
    "DNA_chainids    "
   ]
  },
  {
   "cell_type": "code",
   "execution_count": 9,
   "metadata": {},
   "outputs": [
    {
     "name": "stdout",
     "output_type": "stream",
     "text": [
      "(12, 1, 4, 3)\n",
      "(12, 1, 4, 3)\n",
      "(12, 1, 4, 3)\n",
      "(12, 1, 4, 3)\n",
      "[array([-22.80361938,   7.98092842,  -5.2759099 ]), array([-19.80361938,   6.98092842,  -5.2759099 ]), array([-0.23091133, 12.14510632, -2.38277626]), array([20.08272934, 14.04665947, -2.81316781]), array([36.89089966, 14.49078751, -5.97305775]), array([46.89089966, 13.49078751, -5.97305775])]\n"
     ]
    },
    {
     "data": {
      "text/plain": [
       "array([[-22.80361938,   7.98092842,  -5.2759099 ],\n",
       "       [-19.80361938,   6.98092842,  -5.2759099 ],\n",
       "       [ -0.23091133,  12.14510632,  -2.38277626],\n",
       "       [ 20.08272934,  14.04665947,  -2.81316781],\n",
       "       [ 36.89089966,  14.49078751,  -5.97305775],\n",
       "       [ 46.89089966,  13.49078751,  -5.97305775]])"
      ]
     },
     "execution_count": 9,
     "metadata": {},
     "output_type": "execute_result"
    }
   ],
   "source": [
    "\n",
    "COM_primes = []\n",
    "idx = 0\n",
    "for chainids in DNA_chainids:\n",
    "    nuc = mdna.load(traj, chainids=chainids)\n",
    "    frames = nuc.get_frames()\n",
    "\n",
    "    if idx == 0:\n",
    "        COM_primes.append(frames[0][0][0]-np.array([3,-1,0]))\n",
    "        COM_primes.append(frames[0][0][0])\n",
    "    elif idx == 3:\n",
    "        COM_primes.append(frames[-1][0][0]+np.array([0,-2,0]))\n",
    "        COM_primes.append(frames[-1][0][0]+np.array([10,-3,0]))\n",
    "    else:\n",
    "        COM_primes.append(frames[6][0][0])\n",
    "\n",
    "    idx+=1\n",
    "        \n",
    "COM_primes = np.array(COM_primes)\n",
    "# remove the first and last points, because we don't want to connect them to the filament (maybe later extend)\n",
    "# points = COM_primes[1:-1]\n",
    "points = COM_primes\n",
    "points"
   ]
  },
  {
   "cell_type": "code",
   "execution_count": 13,
   "metadata": {},
   "outputs": [
    {
     "name": "stdout",
     "output_type": "stream",
     "text": [
      "Random sequence: ACCGCTGGCGCGACAGTTCTAGTGAAGCCCGGCGAAGGTGCGCCCAATGAGGTTCCATTAGGACGGAAGGTCATTGTCGTTCGGCCGAAGCGAAGTACTTGCAAGCTAATCAGTCGAAACCTGGATTGTGCGCATGCTGGAGAGGGCGTAGTCATTAGACAGCATTTGATACAGCCGGGTTCAGGGAATTAACCGGGAGTCTCGGTACTTGT \n",
      "\n"
     ]
    },
    {
     "data": {
      "image/png": "[encoded data removed]",
      "text/plain": [
       "<Figure size 640x480 with 1 Axes>"
      ]
     },
     "metadata": {},
     "output_type": "display_data"
    }
   ],
   "source": [
    "dna = mdna.make(control_points=points)\n",
    "dna.draw()"
   ]
  },
  {
   "cell_type": "code",
   "execution_count": 16,
   "metadata": {},
   "outputs": [
    {
     "data": {
      "application/vnd.jupyter.widget-view+json": {
       "model_id": "14a2d32f217f436fa96f0dc38ac78407",
       "version_major": 2,
       "version_minor": 0
      },
      "text/plain": [
       "NGLWidget()"
      ]
     },
     "metadata": {},
     "output_type": "display_data"
    }
   ],
   "source": [
    "\n",
    "traj.save('pdbs/lateral_filament_unoptimized_piecesDNA.pdb')\n",
    "dna_traj = dna.get_traj()\n",
    "protein = traj.atom_slice(traj.top.select('protein'))\n",
    "protein.save('pdbs/lateral_filament_unoptimized_noDNA.pdb')\n",
    "new_traj = dna_traj.stack(protein)   \n",
    "new_traj.save('pdbs/lateral_filament_unoptimized.pdb')\n",
    "view = nv.show_mdtraj(new_traj)\n",
    "view"
   ]
  },
  {
   "cell_type": "code",
   "execution_count": null,
   "metadata": {},
   "outputs": [],
   "source": []
  },
  {
   "cell_type": "code",
   "execution_count": null,
   "metadata": {},
   "outputs": [],
   "source": []
  },
  {
   "cell_type": "code",
   "execution_count": null,
   "metadata": {},
   "outputs": [],
   "source": []
  }
 ],
 "metadata": {
  "kernelspec": {
   "display_name": "mdna",
   "language": "python",
   "name": "python3"
  },
  "language_info": {
   "codemirror_mode": {
    "name": "ipython",
    "version": 3
   },
   "file_extension": ".py",
   "mimetype": "text/x-python",
   "name": "python",
   "nbconvert_exporter": "python",
   "pygments_lexer": "ipython3",
   "version": "3.12.3"
  }
 },
 "nbformat": 4,
 "nbformat_minor": 2
}
