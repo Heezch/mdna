{
 "cells": [
  {
   "cell_type": "code",
   "execution_count": 3,
   "metadata": {},
   "outputs": [
    {
     "ename": "ModuleNotFoundError",
     "evalue": "No module named 'pmcpy'",
     "output_type": "error",
     "traceback": [
      "\u001b[0;31m---------------------------------------------------------------------------\u001b[0m",
      "\u001b[0;31mModuleNotFoundError\u001b[0m                       Traceback (most recent call last)",
      "Cell \u001b[0;32mIn[3], line 10\u001b[0m\n\u001b[1;32m      8\u001b[0m \u001b[38;5;28;01mimport\u001b[39;00m \u001b[38;5;21;01mmatplotlib\u001b[39;00m\u001b[38;5;21;01m.\u001b[39;00m\u001b[38;5;21;01mpyplot\u001b[39;00m \u001b[38;5;28;01mas\u001b[39;00m \u001b[38;5;21;01mplt\u001b[39;00m\n\u001b[1;32m      9\u001b[0m \u001b[38;5;66;03m#from pmcpy import so3, Chain, RBP, Pivot, Crankshaft, Dumps, SingleTriad, ClusterTrans\u001b[39;00m\n\u001b[0;32m---> 10\u001b[0m \u001b[38;5;28;01mimport\u001b[39;00m \u001b[38;5;21;01mpmcpy\u001b[39;00m\u001b[38;5;21;01m.\u001b[39;00m\u001b[38;5;21;01mrun\u001b[39;00m\u001b[38;5;21;01m.\u001b[39;00m\u001b[38;5;21;01mequilibrate\u001b[39;00m \u001b[38;5;28;01mas\u001b[39;00m \u001b[38;5;21;01mmc\u001b[39;00m\n\u001b[1;32m     12\u001b[0m \u001b[38;5;66;03m# # # Path: pymdna/__init__.py, prototype of the package and atomic is not properly referenced in the package at genertors.py now I just explicitly define the path loction\u001b[39;00m\n\u001b[1;32m     13\u001b[0m \u001b[38;5;66;03m# # import pymdna as mdna\u001b[39;00m\n\u001b[1;32m     14\u001b[0m \u001b[38;5;66;03m# import sys\u001b[39;00m\n\u001b[0;32m   (...)\u001b[0m\n\u001b[1;32m     17\u001b[0m \u001b[38;5;66;03m# %load_ext autoreload\u001b[39;00m\n\u001b[1;32m     18\u001b[0m \u001b[38;5;66;03m# %autoreload 2\u001b[39;00m\n",
      "\u001b[0;31mModuleNotFoundError\u001b[0m: No module named 'pmcpy'"
     ]
    }
   ],
   "source": [
    "import numpy as np\n",
    "import mdtraj as md\n",
    "import matplotlib.pyplot as plt\n",
    "import nglview as nv\n",
    "\n",
    "# import pmcpy as mcpy \n",
    "import numpy as np\n",
    "import matplotlib.pyplot as plt\n",
    "#from pmcpy import so3, Chain, RBP, Pivot, Crankshaft, Dumps, SingleTriad, ClusterTrans\n",
    "import pmcpy.run.equilibrate as mc\n",
    "\n",
    "# # # Path: pymdna/__init__.py, prototype of the package and atomic is not properly referenced in the package at genertors.py now I just explicitly define the path loction\n",
    "# # import pymdna as mdna\n",
    "# import sys\n",
    "# sys.path.append('/Users/thor/surfdrive/Projects/pymdna/')\n",
    "# import pymdna as mdna \n",
    "# %load_ext autoreload\n",
    "# %autoreload 2\n",
    "\n"
   ]
  },
  {
   "cell_type": "code",
   "execution_count": null,
   "metadata": {},
   "outputs": [],
   "source": [
    "np.set_printoptions(linewidth=250,precision=3,suppress=True)\n",
    "\n",
    "npb  = 100\n",
    "closed = False\n",
    "conf = np.zeros((npb,4,4))\n",
    "gs = np.array([0,0,0.6,0,0,0.34])\n",
    "g = so3.se3_euler2rotmat(gs)\n",
    "conf[0] = np.eye(4)\n",
    "for i in range(1,npb):\n",
    "    g = so3.se3_euler2rotmat(gs+np.random.normal(0,0.1,6))\n",
    "    conf[i] = conf[i-1] @ g\n",
    "seq = ''.join(['ATCG'[np.random.randint(4)] for i in range(npb)])\n",
    "specs = {'method':'MD','gs_key': 'group_gs','stiff_key': 'group_stiff'}\n",
    "\n",
    "ch = Chain(conf,keep_backup=True,closed=closed)\n",
    "bps = RBP(ch,seq,specs,closed=closed,static_group=True)    \n",
    "\n",
    "moves = list()\n",
    "moves.append(Pivot(ch,bps))\n",
    "\n",
    "for i in range(1000):\n",
    "    for move in moves:\n",
    "        move.mc()\n",
    "\n",
    "moves = list()\n",
    "moves.append(Crankshaft(ch,bps,2,50))\n",
    "moves.append(SingleTriad(ch,bps))\n",
    "moves.append(ClusterTrans(ch,bps,2,25))\n",
    "\n",
    "Es = []\n",
    "confs = []\n",
    "confs.append(np.copy(ch.conf[:,:3,3]))\n",
    "\n",
    "for i in range(100000):\n",
    "    for move in moves:\n",
    "        move.mc()\n",
    "    \n",
    "    if i%1000==0:\n",
    "        print(f'step {i}: ')\n",
    "        for move in moves:\n",
    "            print(f'{move.name}: {move.acceptance_rate()}')\n",
    "        Es.append(bps.get_total_energy())\n",
    "        confs.append(np.copy(ch.conf[:,:3,3]))\n",
    "\n",
    "\n",
    "print(f'<E> / DoFs = {np.mean(Es)/(len(ch.conf)-1)/6}')   \n",
    "\n",
    "types = ['C' for i in range(ch.nbp)]\n",
    "data = {'pos':confs, 'types':types}\n",
    "Dumps.xyz.write_xyz('test.xyz',data)\n"
   ]
  },
  {
   "cell_type": "code",
   "execution_count": null,
   "metadata": {},
   "outputs": [],
   "source": []
  },
  {
   "cell_type": "code",
   "execution_count": null,
   "metadata": {},
   "outputs": [],
   "source": []
  }
 ],
 "metadata": {
  "kernelspec": {
   "display_name": "mdna",
   "language": "python",
   "name": "python3"
  },
  "language_info": {
   "codemirror_mode": {
    "name": "ipython",
    "version": 3
   },
   "file_extension": ".py",
   "mimetype": "text/x-python",
   "name": "python",
   "nbconvert_exporter": "python",
   "pygments_lexer": "ipython3",
   "version": "3.11.7"
  }
 },
 "nbformat": 4,
 "nbformat_minor": 2
}
