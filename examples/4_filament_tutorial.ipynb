{
 "cells": [
  {
   "cell_type": "markdown",
   "id": "90a0a473",
   "metadata": {},
   "source": [
    "# Constructing DNA Along a Protein Filament"
   ]
  },
  {
   "cell_type": "code",
   "execution_count": 3,
   "id": "a7342a41",
   "metadata": {},
   "outputs": [],
   "source": [
    "# Load necessary libraries and retrieve the trajectory object\n",
    "import mdtraj as md\n",
    "import numpy as np\n",
    "import nglview as nv\n",
    "import matplotlib.pyplot as plt\n",
    "\n",
    "from tqdm import tqdm\n",
    "\n",
    "# # # Path: pymdna/__init__.py, prototype of the package and atomic is not properly referenced in the package at genertors.py now I just explicitly define the path loction\n",
    "# # import pymdna as mdna\n",
    "import sys\n",
    "sys.path.append('/Users/thor/surfdrive/Projects/pymdna/')\n",
    "import pymdna as mdna \n",
    "\n",
    "sys.path.append('/Users/thor/surfdrive/Projects/pymdna/examples/data/')\n",
    "from filament import *\n",
    "%load_ext autoreload\n",
    "%autoreload 2"
   ]
  },
  {
   "cell_type": "markdown",
   "id": "90a25ed2",
   "metadata": {},
   "source": [
    "\n",
    "This tutorial demonstrates how to construct DNA structures along a protein filament, specifically focusing on the lateral H-NS filament assembly process. This technique involves modeling interactions between DNA and protein structures, providing a method to visualize complex biological assemblies.\n",
    "\n",
    "## Scientific Context:\n",
    "- The process starts with a H-NS decamer homodimer, which serves as the initial protein scaffold.\n",
    "- Four DNA Binding Domains (DBD) are fitted with 12 bp DNA strands using the H-NS DNA complex structures from previous studies (PDB: 1HNS).\n",
    "- The reference frames of the 4 DNA oligomers are then used as control points to generate new DNA strands spanning the complete H-NS filament.\n",
    "\n",
    "## Objective:\n",
    "- Highlight the capability of the `.make()` function to create DNA structures by using anchor points of specific domains as control points.\n",
    "- Demonstrate the flexibility of structure generation where the protein filament serves as a scaffold, enabling the generation of a DNA configuration along a reference structure.\n",
    "\n",
    "## Steps Covered:\n",
    "- Retrieve and process the trajectory object to identify DNA chains.\n",
    "- Calculate control points based on the reference frames of identified DNA segments and the scientific model.\n",
    "- Generate DNA along these control points and integrate with the protein structure.\n",
    "- Visualize and save the new combined structure.\n"
   ]
  },
  {
   "cell_type": "markdown",
   "id": "42891bdf",
   "metadata": {},
   "source": [
    "### Load MD data"
   ]
  },
  {
   "cell_type": "code",
   "execution_count": 5,
   "id": "298fb3fc",
   "metadata": {},
   "outputs": [],
   "source": [
    "# Load H-NS s1s1 dimers\n",
    "loc_dimers = '/Users/thor/surfdrive/Data/h-ns/dimer/0_s1s1/drytrajs/'\n",
    "short_trajs = [md.load(loc_dimers+f'dry_{i}.xtc',top=loc_dimers+f'dry_{i}.pdb').remove_solvent() for i in range(0,2)]\n",
    "# start_open = md.load(loc_dimers+f'dry_open.xtc',top=loc_dimers+f'dry_open.pdb').remove_solvent()\n",
    "# start_closed = md.load(loc_dimers+f'dry_closed.xtc',top=loc_dimers+f'dry_closed.pdb').remove_solvent()\n",
    "# s1s1 = md.join([start_open,start_closed,md.join(short_trajs)])\n",
    "s1s1 = md.join(short_trajs)\n",
    "\n",
    "# Load H-NS s2s2 dimers\n",
    "loc_dimers = '/Users/thor/surfdrive/Data/h-ns/dimer/1_s2s2/drytrajs/'\n",
    "short_trajs = [md.load(loc_dimers+f'dry_{i}.xtc',top=loc_dimers+f'dry_{i}.pdb').remove_solvent() for i in range(0,2)]\n",
    "s2s2 = md.join(short_trajs)\n",
    "\n",
    "# Load H-NS dbd to DNA complex\n",
    "loc_dbd  = '/Users/thor/surfdrive/Data/h-ns/NAR/md/0_highaff/FI/drytrajs/'\n",
    "traj = [md.load(loc_dbd+f'dry_{i}.xtc',top=loc_dbd+f'dry_{i}.pdb').remove_solvent() for i in range(0,2)]\n",
    "dna_complex = md.join(traj)\n",
    "\n",
    "# Define segments of the protein\n",
    "n = 2 # Overlap of residues between segments\n",
    "\n",
    "segments = {'s1':np.arange(0,41+n),\n",
    "            'h3':np.arange(41-n,53+n),\n",
    "            's2':np.arange(53-n,82+n),\n",
    "            'l2':np.arange(82-n,95+n),\n",
    "            'dbd':np.arange(95-n,137)}\n",
    "\n",
    "# Site map contains a dictionary with the (sub)trajectories of different sites of the protein catergorized from the s1s1 and s2s2 dimers\n",
    "mapper = SiteMapper(s1s1, s2s2, segments=segments, k=100)\n",
    "site_map = mapper.get_site_map()\n",
    "site_map['complex'] = dna_complex"
   ]
  },
  {
   "cell_type": "markdown",
   "id": "e7783fb4",
   "metadata": {},
   "source": [
    "### Construct H-NS filament"
   ]
  },
  {
   "cell_type": "code",
   "execution_count": 6,
   "id": "a06d0af5",
   "metadata": {},
   "outputs": [
    {
     "name": "stdout",
     "output_type": "stream",
     "text": [
      "Assembling 6 H-NS dimers:\n"
     ]
    },
    {
     "name": "stderr",
     "output_type": "stream",
     "text": [
      "100%|██████████| 6/6 [00:10<00:00,  1.77s/it]\n"
     ]
    },
    {
     "name": "stdout",
     "output_type": "stream",
     "text": [
      "Assembling 4 DNA oligo's:\n"
     ]
    },
    {
     "name": "stderr",
     "output_type": "stream",
     "text": [
      "100%|██████████| 4/4 [00:02<00:00,  1.90it/s]\n"
     ]
    }
   ],
   "source": [
    "#  Paramers to make filament\n",
    "n_dimers = 6\n",
    "chains_to_dna = [0,4,7,11]\n",
    "save = True\n",
    "\n",
    "# Initialize class to assemble the filament\n",
    "assembler = Assembler(site_map=site_map)\n",
    "\n",
    "# Add dimers\n",
    "print(f'Assembling {n_dimers} H-NS dimers:')\n",
    "for idx in tqdm(range(n_dimers)):\n",
    "    assembler.add_dimer(segment='fixed',verbose=True)  \n",
    "\n",
    "# Add DNA oligo's\n",
    "n_dna = len(chains_to_dna)\n",
    "if n_dna > 0:\n",
    "    print(f\"Assembling {n_dna} DNA oligo's:\")\n",
    "    for chainid in tqdm(chains_to_dna):\n",
    "        assembler.add_dna(chainid=chainid)\n",
    "\n",
    "\n",
    "# Retrieve the trajectory from the assembled complex\n",
    "traj = assembler.get_traj()\n"
   ]
  },
  {
   "cell_type": "markdown",
   "id": "a5c40157",
   "metadata": {},
   "source": [
    "### Analyze filament"
   ]
  },
  {
   "cell_type": "markdown",
   "id": "f94e1367",
   "metadata": {},
   "source": [
    "Identify chains associated with DNA based on residue names typical for DNA nucleotides"
   ]
  },
  {
   "cell_type": "code",
   "execution_count": 7,
   "id": "dc3cc389",
   "metadata": {},
   "outputs": [],
   "source": [
    "DNA_residue_names = ['DG','DC','DT','DA']\n",
    "DNA_chainids = []\n",
    "for chain in traj.top.chains:\n",
    "    for res in chain._residues:\n",
    "        if str(res.name) in DNA_residue_names:\n",
    "            DNA_chainids.append(res.chain.index)\n",
    "DNA_chainids = np.unique(DNA_chainids)\n",
    "DNA_chainids = np.array([DNA_chainids[i:i + 2] for i in range(0, len(DNA_chainids), 2)])\n"
   ]
  },
  {
   "cell_type": "markdown",
   "id": "422b296a",
   "metadata": {},
   "source": [
    "Calculate specific control points based on the center of mass and other structural features of identified DNA segments\n",
    "This follows the previously described scientific model for assembling H-NS filaments"
   ]
  },
  {
   "cell_type": "code",
   "execution_count": 10,
   "id": "408e8d72",
   "metadata": {},
   "outputs": [],
   "source": [
    "COM_primes = []\n",
    "idx = 0\n",
    "for chainids in DNA_chainids:\n",
    "    nuc = mdna.load(traj, chainids=chainids)\n",
    "    frames = nuc.get_frames()\n",
    "\n",
    "    # Adding control points based on the specific arrangements in the filament model\n",
    "    if idx == 0:\n",
    "        COM_primes.append(frames[0][0][0] - np.array([3, -1, 0]))\n",
    "        COM_primes.append(frames[0][0][0])\n",
    "    elif idx == 3:\n",
    "        COM_primes.append(frames[-1][0][0] + np.array([0, -2, 0]))\n",
    "        COM_primes.append(frames[-1][0][0] + np.array([10, -3, 0]))\n",
    "    else:\n",
    "        COM_primes.append(frames[6][0][0])\n",
    "    idx += 1\n",
    "\n",
    "COM_primes = np.array(COM_primes)\n",
    "points = COM_primes\n"
   ]
  },
  {
   "cell_type": "markdown",
   "id": "4c6725ae",
   "metadata": {},
   "source": [
    "### Generate DNA along filement\n",
    "\n",
    "Generate the DNA along defined control points and integrate with the protein structure\n",
    "This step visualizes the flexibility and utility of the .make() function in creating specified DNA shapes"
   ]
  },
  {
   "cell_type": "code",
   "execution_count": null,
   "id": "b91c7aa8",
   "metadata": {},
   "outputs": [],
   "source": [
    "dna = mdna.make(control_points=points)\n",
    "dna.draw()"
   ]
  },
  {
   "cell_type": "markdown",
   "id": "ed151afe",
   "metadata": {},
   "source": [
    "Save result"
   ]
  },
  {
   "cell_type": "code",
   "execution_count": 12,
   "id": "e8cbf19b",
   "metadata": {},
   "outputs": [
    {
     "name": "stdout",
     "output_type": "stream",
     "text": [
      "Random sequence: TGAGTCATGTTCGTAAAGACATTTGATACGTGGGGGAAAGGGGATGCCGGTAGATCTCACGTAGACTCCATGCAGTAGCCTTAGGGCATGCATGATCTACGCCAGCAGTAACTGGTCACGGGGATGCCAGGAGGCGTTTATATAATCAGAGGTCTTGTGTCATAGGCAGAGGCAAGAGATCCTGAACTCCAGAGTTAGCTCGGGCTTGCTAA \n",
      "\n"
     ]
    },
    {
     "data": {
      "application/vnd.jupyter.widget-view+json": {
       "model_id": "cacd0fa641564c01938cced3263c24fa",
       "version_major": 2,
       "version_minor": 0
      },
      "text/plain": [
       "NGLWidget()"
      ]
     },
     "metadata": {},
     "output_type": "display_data"
    },
    {
     "data": {
      "image/png": "[encoded data removed]",
      "text/plain": [
       "<Figure size 640x480 with 1 Axes>"
      ]
     },
     "metadata": {},
     "output_type": "display_data"
    }
   ],
   "source": [
    "# Save the structures for further analysis\n",
    "dna_traj = dna.get_traj()\n",
    "protein = traj.atom_slice(traj.top.select('protein'))\n",
    "protein.save('./lateral_filament_unoptimized_noDNA.pdb')\n",
    "new_traj = dna_traj.stack(protein)\n",
    "new_traj.save('./lateral_filament_unoptimized.pdb')\n",
    "\n",
    "# Visualize the final combined structure\n",
    "view = nv.show_mdtraj(new_traj)\n",
    "view"
   ]
  },
  {
   "cell_type": "code",
   "execution_count": null,
   "id": "e61da5d8",
   "metadata": {},
   "outputs": [],
   "source": []
  }
 ],
 "metadata": {
  "kernelspec": {
   "display_name": "mdna",
   "language": "python",
   "name": "python3"
  },
  "language_info": {
   "codemirror_mode": {
    "name": "ipython",
    "version": 3
   },
   "file_extension": ".py",
   "mimetype": "text/x-python",
   "name": "python",
   "nbconvert_exporter": "python",
   "pygments_lexer": "ipython3",
   "version": "3.12.3"
  }
 },
 "nbformat": 4,
 "nbformat_minor": 5
}
