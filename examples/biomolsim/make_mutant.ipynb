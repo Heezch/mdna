{
 "cells": [
  {
   "cell_type": "code",
   "execution_count": 1,
   "metadata": {},
   "outputs": [
    {
     "data": {
      "application/vnd.jupyter.widget-view+json": {
       "model_id": "f58d4af85f53481d887f72b1471e9d1f",
       "version_major": 2,
       "version_minor": 0
      },
      "text/plain": []
     },
     "metadata": {},
     "output_type": "display_data"
    },
    {
     "name": "stdout",
     "output_type": "stream",
     "text": [
      "joblib is not installed. Falling back to sequential computation.\n"
     ]
    }
   ],
   "source": [
    "import numpy as np\n",
    "import mdtraj as md\n",
    "import matplotlib.pyplot as plt\n",
    "import nglview as nv\n",
    "\n",
    "# # Path: pymdna/__init__.py, prototype of the package and atomic is not properly referenced in the package at genertors.py now I just explicitly define the path loction\n",
    "# import pymdna as mdna\n",
    "import sys\n",
    "sys.path.append('/Users/thor/surfdrive/Projects/pymdna/')\n",
    "import pymdna as mdna \n",
    "%load_ext autoreload\n",
    "%autoreload 2"
   ]
  },
  {
   "cell_type": "code",
   "execution_count": 2,
   "metadata": {},
   "outputs": [
    {
     "name": "stdout",
     "output_type": "stream",
     "text": [
      "['G', 'C', 'G', 'A', 'A', 'A', 'A', 'A', 'A', 'A', 'G', 'C']\n",
      "['A', 'T', 'G', 'C', 'A', 'A', 'A', 'A', 'A', 'A', 'G', 'C']\n"
     ]
    }
   ],
   "source": [
    "dna = md.load('/Users/thor/surfdrive/Projects/pymdna/examples/biomolsim/dna.pdb')\n",
    "#dna = md.load('/Users/thor/surfdrive/Data/h-ns/NAR/md/0_highaff/DNA/drytrajs/dry_0.pdb').remove_solvent()\n",
    "sequence = mdna.utils.get_sequence_letters(dna)\n",
    "print(sequence)\n",
    "\n",
    "mutations = {0: 'A', 1: 'T', 2: 'G', 3: 'C'}\n",
    "mutant = mdna.Mutate(dna, mutations,complementary=True)\n",
    "mutant_sequence = mdna.utils.get_sequence_letters(mutant.mutant_traj)\n",
    "print(mutant_sequence)"
   ]
  },
  {
   "cell_type": "code",
   "execution_count": 3,
   "metadata": {},
   "outputs": [
    {
     "data": {
      "application/vnd.jupyter.widget-view+json": {
       "model_id": "49643a9d04e4490f956db6a71a139d17",
       "version_major": 2,
       "version_minor": 0
      },
      "text/plain": [
       "NGLWidget()"
      ]
     },
     "metadata": {},
     "output_type": "display_data"
    }
   ],
   "source": [
    "view = nv.show_mdtraj(mutant.mutant_traj)\n",
    "view.clear_representations()\n",
    "view.add_representation('ball+stick', selection='nucleic')\n",
    "view"
   ]
  },
  {
   "cell_type": "code",
   "execution_count": 122,
   "metadata": {},
   "outputs": [],
   "source": [
    "mutant.mutant_traj.save('/Users/thor/surfdrive/Projects/pymdna/examples/biomolsim/dna_mutant.pdb')"
   ]
  },
  {
   "cell_type": "code",
   "execution_count": null,
   "metadata": {},
   "outputs": [],
   "source": []
  }
 ],
 "metadata": {
  "kernelspec": {
   "display_name": "mdna",
   "language": "python",
   "name": "python3"
  },
  "language_info": {
   "codemirror_mode": {
    "name": "ipython",
    "version": 3
   },
   "file_extension": ".py",
   "mimetype": "text/x-python",
   "name": "python",
   "nbconvert_exporter": "python",
   "pygments_lexer": "ipython3",
   "version": "3.11.7"
  }
 },
 "nbformat": 4,
 "nbformat_minor": 2
}
