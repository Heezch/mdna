{
 "cells": [
  {
   "cell_type": "markdown",
   "id": "cb85af8c",
   "metadata": {},
   "source": [
    "# DNA Structure Generation Tutorial\n",
    "\n",
    "Welcome to the DNA structure generation tutorial using the MDNA module. This notebook will guide you through various ways to generate and manipulate DNA structures. You'll learn to:\n",
    "- Generate DNA sequences from scratch.\n",
    "- Use custom sequences and define DNA topology to manipulate the linking number\n",
    "- Apply custom shapes using control points\n",
    "- Visualize and save DNA structures.\n"
   ]
  },
  {
   "cell_type": "code",
   "execution_count": null,
   "id": "808736b9",
   "metadata": {},
   "outputs": [],
   "source": [
    "import numpy as np\n",
    "import mdtraj as md\n",
    "import matplotlib.pyplot as plt\n",
    "import nglview as nv\n",
    "import seaborn as sns\n",
    "\n",
    "import mdna as mdna \n",
    "%load_ext autoreload\n",
    "%autoreload 2"
   ]
  },
  {
   "cell_type": "markdown",
   "id": "c1847f3d",
   "metadata": {},
   "source": [
    "## Basic DNA Structure Generation\n",
    "We start by generating a basic DNA structure using default settings, which outputs a DNA sequence known as the Drew Dickerson dodecamer."
   ]
  },
  {
   "cell_type": "code",
   "execution_count": null,
   "id": "bf12d950",
   "metadata": {},
   "outputs": [],
   "source": [
    "# Build DNA with nothing, will output Drew Dickerson dodecamer DDD sequence\n",
    "dna = mdna.make()\n",
    "dna.describe()"
   ]
  },
  {
   "cell_type": "code",
   "execution_count": null,
   "id": "20d48cbd",
   "metadata": {},
   "outputs": [],
   "source": [
    "view = nv.show_mdtraj(dna.get_traj().atom_slice(dna.get_traj().top.select('resid 1 22')))\n",
    "view"
   ]
  },
  {
   "cell_type": "markdown",
   "id": "9426caa5",
   "metadata": {},
   "source": [
    "### Specifying a Sequence\n",
    "You can specify a DNA sequence directly when generating the structure. Note, this will by default generate a linear strand of DNA."
   ]
  },
  {
   "cell_type": "code",
   "execution_count": null,
   "id": "a38a4a6e",
   "metadata": {},
   "outputs": [],
   "source": [
    "# Or provide a sequence\n",
    "dna = mdna.make(sequence='GCGCGCGCGC')\n",
    "dna.describe()"
   ]
  },
  {
   "cell_type": "markdown",
   "id": "499c48bf",
   "metadata": {},
   "source": [
    "### Generating DNA with Specific Base Pairs\n",
    "Generate a DNA structure with a defined number of base pairs, resulting in a random sequence."
   ]
  },
  {
   "cell_type": "code",
   "execution_count": null,
   "id": "9ef2cb6d",
   "metadata": {},
   "outputs": [],
   "source": [
    "# Or provide a number of basepairs, resulting in a random sequence\n",
    "dna = mdna.make(n_bp=10)\n",
    "dna.describe()"
   ]
  },
  {
   "cell_type": "markdown",
   "id": "fc57a728",
   "metadata": {},
   "source": [
    "### Creating Circular DNA Structures\n",
    "Generate circular DNA structures, commonly known as minicircles."
   ]
  },
  {
   "cell_type": "code",
   "execution_count": null,
   "id": "e3d5aa90",
   "metadata": {},
   "outputs": [],
   "source": [
    "# Or make a minicircle DNA in circular form\n",
    "dna = mdna.make(n_bp=200, circular=True)\n",
    "print('Lk, Wr, Tw', dna.get_linking_number())\n",
    "dna.draw()"
   ]
  },
  {
   "cell_type": "markdown",
   "id": "f03f5219",
   "metadata": {},
   "source": [
    "#### Minimizing the DNA structure\n",
    "\n",
    "After generating the structure, you can minimize it to find a more energetically favorable conformation. The resulting structure is an idealized minicircle, however, if we can also minimize the DNA configuration using Monte Carlo (MC) simulations using a twistable worm like chain (TWLC) model of dsDNA. \n"
   ]
  },
  {
   "cell_type": "code",
   "execution_count": null,
   "id": "1886ab55",
   "metadata": {},
   "outputs": [],
   "source": [
    "# Let's also minimize the DNA configuration\n",
    "dna.minimize()\n",
    "\n",
    "# See the final configuration\n",
    "dna.draw()\n",
    "\n",
    "# Or save it to a file\n",
    "dna.save_pdb('./pdbs/minimized_nbp_200_closed.pdb')"
   ]
  },
  {
   "cell_type": "markdown",
   "id": "0f0062e1",
   "metadata": {},
   "source": [
    "### Modifying Linking Number\n",
    "Change the linking number by underwinding or overwinding the DNA using the `dLk` parameter. Note, to equilibrate the writhe use `equilibrate_writhe=True`, otherwise the linking number of the topology will not be conserved."
   ]
  },
  {
   "cell_type": "code",
   "execution_count": null,
   "id": "4c3b668e",
   "metadata": {},
   "outputs": [],
   "source": [
    "# Also change the linking number by under or overwinding the DNA using the dLk parameter\n",
    "dna = mdna.make(n_bp=200, circular=True, dLk=8)\n",
    "dna.describe()\n",
    "dna.get_linking_number()\n",
    "\n",
    "# Minimize the DNA configuration,\n",
    "dna.minimize(equilibrate_writhe=True)\n",
    "dna.get_linking_number()"
   ]
  },
  {
   "cell_type": "markdown",
   "id": "72f891e3",
   "metadata": {},
   "source": [
    "## Using Custom Shapes \n",
    "Explore the use of custom shapes for DNA structures through control points, allowing complex configurations. The `Shapes` class contains many predefined parametric functions that describe common shapes in 3D space. Utilize custom shapes for DNA structure generation, including helical shapes and more. "
   ]
  },
  {
   "cell_type": "code",
   "execution_count": null,
   "id": "23e90762",
   "metadata": {},
   "outputs": [],
   "source": [
    "# We can also use custom shapes using the Shape class\n",
    "control_points = mdna.Shapes.helix(height=3, pitch=5, radius=7, num_turns=4)\n",
    "dna = mdna.make(n_bp=300, control_points=control_points)\n",
    "dna.draw()"
   ]
  },
  {
   "cell_type": "markdown",
   "id": "fbe1ec3a",
   "metadata": {},
   "source": [
    "### Defining Complex Custom Shapes\n",
    "Define intricate shapes by specifying control points manually. The points are used to fit a B-spline that goes through each of these points. Note, the minimum number of `control_points` to fit a spline through is 4."
   ]
  },
  {
   "cell_type": "code",
   "execution_count": null,
   "id": "2f9eb641",
   "metadata": {},
   "outputs": [],
   "source": [
    "# Or use the control points to define a custom shape\n",
    "control_points = np.array([[0,0,0],[30,10,-10],[50,10,20],[20,4,60]])\n",
    "dna = mdna.make(n_bp=100, control_points=control_points, sequence=['A']*100)\n",
    "dna.draw()\n",
    "dna.describe()\n",
    "dna.sequence"
   ]
  },
  {
   "cell_type": "markdown",
   "id": "8a1736ec",
   "metadata": {},
   "source": [
    "## Extending DNA Sequences\n",
    "We can use the custom shaped DNA structure to learn how to extend DNA sequences from both ends. By default the minimization is on using the `.extend()` function."
   ]
  },
  {
   "cell_type": "code",
   "execution_count": null,
   "id": "0f497fb0",
   "metadata": {},
   "outputs": [],
   "source": [
    "# We can also extend our DNA \n",
    "dna.extend(sequence=['G']*40)\n",
    "\n",
    "# Or extend it in the opposite direction\n",
    "dna.extend(sequence=['C']*40, forward=False)\n",
    "dna.draw()"
   ]
  },
  {
   "cell_type": "markdown",
   "id": "38746ee8",
   "metadata": {},
   "source": [
    "## Connecting Two DNA Strands\n",
    "Connect two separate DNA strands and visualize the configuration. This function will find the optimal number of basepairs to connect the two strands to minimize the twist. Alternatively you can also pass the `n_bp` or `control_points`."
   ]
  },
  {
   "cell_type": "code",
   "execution_count": null,
   "id": "beecca93",
   "metadata": {},
   "outputs": [],
   "source": [
    "# Lets generate two strands of DNA and displace the second one away from the first one\n",
    "dna0 = mdna.make(sequence='AAAAAAAAA', control_points=mdna.Shapes.line(1))\n",
    "dna1 = mdna.make(sequence='GGGGGGGGG', control_points=mdna.Shapes.line(1)+np.array([4,0,-5]))\n",
    "\n",
    "# Now we can connect the two strands\n",
    "dna2 = mdna.connect(dna0, dna1)\n",
    "dna2.draw()\n",
    "dna2.describe()"
   ]
  },
  {
   "cell_type": "markdown",
   "id": "4992ecd5",
   "metadata": {},
   "source": [
    "## Visualizing DNA Minimization\n",
    "Use NGLview to visualize molecular dynamics and the results of Monte Carlo minimization."
   ]
  },
  {
   "cell_type": "code",
   "execution_count": null,
   "id": "3748fe2f",
   "metadata": {},
   "outputs": [],
   "source": [
    "# visualize using nglview MC minimization\n",
    "view = nv.show_mdtraj(dna2.get_MC_traj())\n",
    "view"
   ]
  },
  {
   "cell_type": "code",
   "execution_count": null,
   "id": "69e6e4d5",
   "metadata": {},
   "outputs": [],
   "source": []
  }
 ],
 "metadata": {
  "kernelspec": {
   "display_name": "mdna",
   "language": "python",
   "name": "python3"
  },
  "language_info": {
   "codemirror_mode": {
    "name": "ipython",
    "version": 3
   },
   "file_extension": ".py",
   "mimetype": "text/x-python",
   "name": "python",
   "nbconvert_exporter": "python",
   "pygments_lexer": "ipython3",
   "version": "3.12.5"
  }
 },
 "nbformat": 4,
 "nbformat_minor": 5
}
