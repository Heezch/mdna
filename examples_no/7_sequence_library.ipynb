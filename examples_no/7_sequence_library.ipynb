{
 "cells": [
  {
   "cell_type": "code",
   "execution_count": 3,
   "metadata": {},
   "outputs": [
    {
     "name": "stdout",
     "output_type": "stream",
     "text": [
      "The autoreload extension is already loaded. To reload it, use:\n",
      "  %reload_ext autoreload\n"
     ]
    }
   ],
   "source": [
    "import numpy as np\n",
    "import mdtraj as md\n",
    "import matplotlib.pyplot as plt\n",
    "import nglview as nv\n",
    "\n",
    "import copy\n",
    "import nglview as nv\n",
    "import random\n",
    "from Bio.SVDSuperimposer import SVDSuperimposer\n",
    "\n",
    "\n",
    "# # Path: pymdna/__init__.py, prototype of the package and atomic is not properly referenced in the package at genertors.py now I just explicitly define the path loction\n",
    "# import pymdna as mdna\n",
    "import sys\n",
    "sys.path.append('/Users/thor/surfdrive/Projects/pymdna/')\n",
    "import pymdna as mdna \n",
    "%load_ext autoreload\n",
    "%autoreload 2"
   ]
  },
  {
   "cell_type": "markdown",
   "metadata": {},
   "source": [
    "## Visualize sequence library \n"
   ]
  },
  {
   "cell_type": "code",
   "execution_count": 5,
   "metadata": {},
   "outputs": [],
   "source": [
    "# Complemetary base pairs\n",
    "base_pair_map = {'A':'T','T':'A','G':'C','C':'G','U':'A','D':'G','E':'T','L':'M','M':'L','B':'S','S':'B','Z':'P','P':'Z','CM':'G','AH':'T','GM':'C'}\n",
    "        \n",
    "# Load reference bases from the atomic data        \n",
    "reference_bases = {base: md.load_hdf5(mdna.utils.get_data_file_path(f'./atomic/bases/BDNA_{base}.h5')) for base in base_pair_map.keys()}\n",
    "bases = list(reference_bases.values())\n",
    "\n",
    "# Define grid to place the bases\n",
    "order = [['A', 'T', 'G', 'C'],\n",
    "        ['AH', 'U', 'GM', 'CM'], \n",
    "         ['B', 'S', 'P', 'Z'], \n",
    "         ['E', 'D','L', 'M']]\n",
    "\n",
    "\n",
    "# Initialize the trajectory with the first base\n",
    "traj = reference_bases[order[0][0]]\n",
    "\n",
    "# Spacing parameters (in angstroms, adjust as needed)\n",
    "horizontal_spacing = 1.2  # Spacing between bases within a row\n",
    "vertical_spacing = 1.5    # Spacing between rows\n",
    "\n",
    "# Base positions tracking\n",
    "y_position = 0  # Start at the top-most row and work downwards\n",
    "\n",
    "for row in order:\n",
    "    x_position = 0  # Reset x position for each new row\n",
    "    for i, base in enumerate(row,1):\n",
    "        if i == 0 and row == order[0]:\n",
    "            # Already initialized with the first base\n",
    "            continue\n",
    "        # Move base in x and y direction\n",
    "        reference_bases[base].xyz[0] = reference_bases[base].xyz[0] + np.array([-x_position, y_position, 0])\n",
    "        # Stack the base to the trajectory\n",
    "        traj = traj.stack(reference_bases[base])\n",
    "        # Increment x position for the next base in the row\n",
    "        x_position += horizontal_spacing\n",
    "    # Decrement y position for the next row to position it below the current one\n",
    "    y_position -= vertical_spacing"
   ]
  },
  {
   "cell_type": "markdown",
   "metadata": {},
   "source": [
    "Visualize the bases"
   ]
  },
  {
   "cell_type": "code",
   "execution_count": 6,
   "metadata": {},
   "outputs": [
    {
     "data": {
      "application/vnd.jupyter.widget-view+json": {
       "model_id": "bdf8310904624dbf982e2a791a079b4e",
       "version_major": 2,
       "version_minor": 0
      },
      "text/plain": [
       "NGLWidget()"
      ]
     },
     "metadata": {},
     "output_type": "display_data"
    }
   ],
   "source": [
    "subtraj = traj.atom_slice(traj.top.select('not element H'))\n",
    "# subtraj.save_pdb('all_bases.pdb')\n",
    "# subtraj.save_hdf5('all_bases.h5')\n",
    "view = nv.show_mdtraj(subtraj)    \n",
    "view.clear()\n",
    "view.add_representation('licorice', selection='all')\n",
    "view"
   ]
  },
  {
   "cell_type": "markdown",
   "metadata": {},
   "source": [
    "## How to add a base to the sequence library\n",
    "\n",
    "Here we show how to align a DNA nucleobase to a specific reference frame.\n",
    "We chose the default reference frame at the origin with the base vectors [1,0,0], [0,1,0], [0,0,1].\n",
    "This can be useful if you want to add a custom nucleobase to the sequence libary.\n",
    "For this we need to isolate the base and add it to the sequence library (./atomic/) and add the pdb/h5 to the reference list in geometry.py `NUCLEOBASE_DICT` which contains all the atoms that belong to the nucleobas part as well as in the modify. Mutate.mutate `base_pair_map` which defines the complementary base partner. \n",
    "Here we show an example using a methylated base, but you can use any sequence you want. Just select the residue that you want to isolate.\n"
   ]
  },
  {
   "cell_type": "code",
   "execution_count": 8,
   "metadata": {},
   "outputs": [],
   "source": [
    "\n",
    "def get_base_vectors(res):\n",
    "       \"\"\"Compute base vectors from reference base.\"\"\"\n",
    "       ref_base = mdna.ReferenceBase(res)\n",
    "       return np.array([ref_base.b_R, ref_base.b_L, ref_base.b_D, ref_base.b_N]).swapaxes(0,1)\n",
    "\n",
    "def get_rot_mat_trans(x,y):\n",
    "    # load super imposer\n",
    "    sup = SVDSuperimposer()\n",
    "\n",
    "    # Set the coords, y will be rotated and translated on x\n",
    "    sup.set(x, y)\n",
    "\n",
    "    # Do the leastsquared fit\n",
    "    sup.run()\n",
    "\n",
    "    # Get the rms\n",
    "    rms = sup.get_rms()\n",
    "\n",
    "    # Get rotation (right multiplying!) and the translation\n",
    "    rot, tran = sup.get_rotran()\n",
    "    return rot, tran\n",
    "\n",
    "# Function to calculate positions from origin and vectors\n",
    "def calculate_positions(triad):\n",
    "    \n",
    "    origin = triad[0]\n",
    "    vectors = triad[1:]\n",
    "    # Each row in vectors is added to the origin to get the end position\n",
    "    end_positions = origin + vectors\n",
    "    # Combine the origin with these end positions\n",
    "    positions = np.vstack([origin, end_positions])\n",
    "    return positions\n",
    "\n",
    "\n",
    "def align_to_ref(traj, ref =  np.array([[0,0,0.0],[1,0,0],[0,1,0],[0,0,1]])):\n",
    "    vectors = get_base_vectors(traj)\n",
    "    positions = calculate_positions(vectors[0])\n",
    "    ref_position =  calculate_positions(ref)\n",
    "    rot, tran = get_rot_mat_trans(ref_position,positions)\n",
    "    new_xyz = np.dot(traj.xyz[0], rot) + tran\n",
    "    traj.xyz[0] = new_xyz\n",
    "    return traj"
   ]
  },
  {
   "cell_type": "code",
   "execution_count": 9,
   "metadata": {},
   "outputs": [
    {
     "name": "stdout",
     "output_type": "stream",
     "text": [
      "\n",
      "Start rescaling spline based on requested number of base pairs.\n",
      "\tThis requires recomputation of the control points to match the desired number of base pairs.\n",
      "\tSpline scaled to match the target number of base pairs: 5\n",
      "\n",
      "Methylate all C in CpG context, superseeds methylations list.\n",
      "Methtylating: [1, 3]\n"
     ]
    },
    {
     "data": {
      "application/vnd.jupyter.widget-view+json": {
       "model_id": "1de1c1e162054266aaa6e869f3672dd4",
       "version_major": 2,
       "version_minor": 0
      },
      "text/plain": [
       "NGLWidget()"
      ]
     },
     "metadata": {},
     "output_type": "display_data"
    }
   ],
   "source": [
    "\n",
    "# Create a DNA sequence with a methylated base\n",
    "dna = mdna.make('GCGCG')\n",
    "dna.methylate(CpG=True)\n",
    "traj = dna.get_traj()\n",
    "\n",
    "# Select the methylated base\n",
    "meth = traj.atom_slice(traj.top.select('resid 1'))\n",
    "\n",
    "# Align the methylated base to the reference frame\n",
    "meth = align_to_ref(meth)\n",
    "\n",
    "# Save the methylated base\n",
    "meth.save('./pdbs/BDNA_CM.pdb')\n",
    "meth.save('./pdbs/BDNA_CM.h5')\n",
    "\n",
    "# Show the methylated base\n",
    "view = nv.show_mdtraj(meth)\n",
    "view.clear()\n",
    "view.add_ball_and_stick()\n",
    "view"
   ]
  },
  {
   "cell_type": "markdown",
   "metadata": {},
   "source": []
  },
  {
   "cell_type": "markdown",
   "metadata": {},
   "source": [
    "### Point mutations"
   ]
  },
  {
   "cell_type": "code",
   "execution_count": 24,
   "metadata": {},
   "outputs": [],
   "source": [
    "def point_mutation(sequence, position=None, new_nucleotide=None):\n",
    "    if position is None:\n",
    "        position = random.randint(0, len(sequence) - 1)\n",
    "    if new_nucleotide is None:\n",
    "        nucleotides = ['A', 'T', 'C', 'G']\n",
    "        new_nucleotide = random.choice([n for n in nucleotides if n != sequence[position]])\n",
    "    \n",
    "    mutated_sequence = list(sequence)\n",
    "    mutated_sequence[position] = new_nucleotide\n",
    "    return ''.join(mutated_sequence)\n",
    "\n",
    "def radiate_system(dna, new_sequence, complementary=True, chainids=[0,1], verbose=False):\n",
    "\n",
    "    pdb = copy.deepcopy(dna.get_traj())   \n",
    "    if verbose:\n",
    "        print('--- current stat of the system ---')\n",
    "    s = dna.sequence\n",
    "    if len(s) != len(new_sequence):\n",
    "        raise ValueError('The length of the new sequence does not match the length of the current sequence')\n",
    "    if verbose:\n",
    "        print(len(s),s)\n",
    "        print(''.join(s))\n",
    "    mutations = mdna.get_mutations(s,new_sequence)\n",
    "    if verbose:\n",
    "        print(f'start mutation ---- {mutations} ----')    \n",
    "    # dna = pdb.atom_slice(pdb.top.select(f'chainid {chainids[0]} {chainids[1]}'))\n",
    "    # if verbose:\n",
    "    #     for c in dna.top.chains:\n",
    "    #         print(c.index, c._residues)\n",
    "\n",
    "    dna.mutate(mutations,complementary=complementary)\n",
    "    mutant_sequence = dna.sequence\n",
    "    if verbose:\n",
    "        print(mutant_sequence)\n",
    "        print(''.join(mutant_sequence))\n",
    "    new_traj = dna.get_traj()\n",
    "    if verbose:\n",
    "        for c in new_traj.top.chains:\n",
    "            print(c.index, c._residues)\n",
    "        print('--- end radiation ---')\n",
    "    return new_traj"
   ]
  },
  {
   "cell_type": "code",
   "execution_count": 25,
   "metadata": {},
   "outputs": [
    {
     "name": "stdout",
     "output_type": "stream",
     "text": [
      "\n",
      "Start rescaling spline based on requested number of base pairs.\n",
      "\tThis requires recomputation of the control points to match the desired number of base pairs.\n",
      "\tSpline scaled to match the target number of base pairs: 5\n",
      "\n",
      "ACGCG saved as point_mutant_0.pdb\n",
      "CCGCG saved as point_mutant_1.pdb\n",
      "GAGCG saved as point_mutant_2.pdb\n",
      "GCACG saved as point_mutant_3.pdb\n",
      "GCCCG saved as point_mutant_4.pdb\n",
      "GCGAG saved as point_mutant_5.pdb\n",
      "GCGCA saved as point_mutant_6.pdb\n",
      "GCGCC saved as point_mutant_7.pdb\n",
      "GCGCT saved as point_mutant_8.pdb\n",
      "GCGGG saved as point_mutant_9.pdb\n",
      "GCGTG saved as point_mutant_10.pdb\n",
      "GCTCG saved as point_mutant_11.pdb\n",
      "GGGCG saved as point_mutant_12.pdb\n",
      "GTGCG saved as point_mutant_13.pdb\n",
      "TCGCG saved as point_mutant_14.pdb\n"
     ]
    }
   ],
   "source": [
    "# Example usage\n",
    "save = False\n",
    "dna = mdna.make('GCGCG')\n",
    "point_mutations = np.unique([point_mutation(dna.sequence) for _ in range(100)])\n",
    "\n",
    "for i, new_sequence in enumerate(point_mutations):\n",
    "    mutant = radiate_system(dna, list(new_sequence))\n",
    "    print(new_sequence,f'saved as point_mutant_{i}.pdb')\n",
    "    if save:\n",
    "        mutant.save(f'./pdbs/point_mutant_{i}.pdb')\n"
   ]
  },
  {
   "cell_type": "code",
   "execution_count": null,
   "metadata": {},
   "outputs": [],
   "source": []
  }
 ],
 "metadata": {
  "kernelspec": {
   "display_name": "mdna",
   "language": "python",
   "name": "python3"
  },
  "language_info": {
   "codemirror_mode": {
    "name": "ipython",
    "version": 3
   },
   "file_extension": ".py",
   "mimetype": "text/x-python",
   "name": "python",
   "nbconvert_exporter": "python",
   "pygments_lexer": "ipython3",
   "version": "3.12.3"
  }
 },
 "nbformat": 4,
 "nbformat_minor": 2
}
