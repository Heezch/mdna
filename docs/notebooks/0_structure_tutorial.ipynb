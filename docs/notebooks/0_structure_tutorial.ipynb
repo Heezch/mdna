{
 "cells": [
  {
   "cell_type": "markdown",
   "id": "cb85af8c",
   "metadata": {},
   "source": [
    "# Structure Generation Tutorial\n",
    "\n",
    "Welcome to the DNA structure generation tutorial using the MDNA module. This notebook will guide you through various ways to generate and manipulate DNA structures. You'll learn to:\n",
    "- Generate DNA sequences from scratch.\n",
    "- Use custom sequences and define DNA topology to manipulate the linking number\n",
    "- Apply custom shapes using control points\n",
    "- Visualize and save DNA structures.\n"
   ]
  },
  {
   "cell_type": "code",
   "execution_count": null,
   "id": "808736b9",
   "metadata": {},
   "outputs": [],
   "source": [
    "import numpy as np\n",
    "import mdtraj as md\n",
    "import matplotlib.pyplot as plt\n",
    "import nglview as nv\n",
    "import seaborn as sns\n",
    "import mdna \n",
    "%"
   ]
  },
  {
   "cell_type": "markdown",
   "id": "c1847f3d",
   "metadata": {},
   "source": [
    "## Basic DNA Structure Generation\n",
    "We start by generating a basic DNA structure using default settings, which outputs a DNA sequence known as the Drew Dickerson dodecamer."
   ]
  },
  {
   "cell_type": "code",
   "execution_count": null,
   "id": "bf12d950",
   "metadata": {},
   "outputs": [],
   "source": [
    "# Build DNA with nothing, will output Drew Dickerson dodecamer DDD sequence\n",
    "dna = mdna.make()\n",
    "dna.describe()"
   ]
  },
  {
   "cell_type": "markdown",
   "id": "9426caa5",
   "metadata": {},
   "source": [
    "### Specifying a Sequence\n",
    "You can specify a DNA sequence directly when generating the structure. Note, this will by default generate a linear strand of DNA."
   ]
  },
  {
   "cell_type": "code",
   "execution_count": 4,
   "id": "a38a4a6e",
   "metadata": {},
   "outputs": [
    {
     "name": "stdout",
     "output_type": "stream",
     "text": [
      "\n",
      "Start rescaling spline based on requested number of base pairs.\n",
      "\tThis requires recomputation of the control points to match the desired number of base pairs.\n",
      "\tSpline scaled to match the target number of base pairs: 10\n",
      "\n",
      "DNA structure with 10 base pairs\n",
      "Sequence: GCGCGCGCGC\n",
      "Trajectory not loaded\n",
      "Frames:  (10, 1, 4, 3)\n"
     ]
    }
   ],
   "source": [
    "# Or provide a sequence\n",
    "dna = mdna.make(sequence='GCGCGCGCGC')\n",
    "dna.describe()"
   ]
  },
  {
   "cell_type": "markdown",
   "id": "499c48bf",
   "metadata": {},
   "source": [
    "### Generating DNA with Specific Base Pairs\n",
    "Generate a DNA structure with a defined number of base pairs, resulting in a random sequence."
   ]
  },
  {
   "cell_type": "code",
   "execution_count": 5,
   "id": "9ef2cb6d",
   "metadata": {},
   "outputs": [
    {
     "name": "stdout",
     "output_type": "stream",
     "text": [
      "Random sequence: GCACCCGCCA \n",
      "\n",
      "\n",
      "Start rescaling spline based on requested number of base pairs.\n",
      "\tThis requires recomputation of the control points to match the desired number of base pairs.\n",
      "\tSpline scaled to match the target number of base pairs: 10\n",
      "\n",
      "DNA structure with 10 base pairs\n",
      "Sequence: GCACCCGCCA\n",
      "Trajectory not loaded\n",
      "Frames:  (10, 1, 4, 3)\n"
     ]
    }
   ],
   "source": [
    "# Or provide a number of basepairs, resulting in a random sequence\n",
    "dna = mdna.make(n_bp=10)\n",
    "dna.describe()"
   ]
  },
  {
   "cell_type": "markdown",
   "id": "fc57a728",
   "metadata": {},
   "source": [
    "### Creating Circular DNA Structures\n",
    "Generate circular DNA structures, commonly known as minicircles."
   ]
  },
  {
   "cell_type": "code",
   "execution_count": null,
   "id": "e3d5aa90",
   "metadata": {},
   "outputs": [],
   "source": [
    "# Or make a minicircle DNA in circular form\n",
    "dna = mdna.make(n_bp=200, circular=True)\n",
    "print('Lk, Wr, Tw', dna.get_linking_number())\n",
    "dna.draw()"
   ]
  },
  {
   "cell_type": "markdown",
   "id": "f03f5219",
   "metadata": {},
   "source": [
    "#### Minimizing the DNA structure\n",
    "\n",
    "After generating the structure, you can minimize it to find a more energetically favorable conformation. The resulting structure is an idealized minicircle, however, if we can also minimize the DNA configuration using Monte Carlo (MC) simulations using a twistable worm like chain (TWLC) model of dsDNA. \n"
   ]
  },
  {
   "cell_type": "code",
   "execution_count": 6,
   "id": "1886ab55",
   "metadata": {},
   "outputs": [
    {
     "name": "stdout",
     "output_type": "stream",
     "text": [
      "Minimize the DNA structure:\n",
      "simple equilibration = False \n",
      "equilibrate writhe = False \n",
      "excluded volume radius = 2.0 \n",
      "temperature = 300\n",
      "Circular: False\n",
      "####################################\n",
      "Initiating Excluded Volume...\n",
      "\n",
      "######################################\n",
      "#### INITIALIZING EXCLUDED VOLUME ####\n",
      "######################################\n",
      " Excluded Volume Beads: \n",
      "   number of EV beads: 2\n",
      "   bp per EV bead:     7\n",
      "   Effective size:     3.574\n",
      "   Exclusion distance: 4.0\n",
      "######################################\n"
     ]
    },
    {
     "data": {
      "image/png": "[encoded data removed]",
      "text/plain": [
       "<Figure size 640x480 with 1 Axes>"
      ]
     },
     "metadata": {},
     "output_type": "display_data"
    }
   ],
   "source": [
    "# Let's also minimize the DNA configuration\n",
    "dna.minimize()\n",
    "\n",
    "# See the final configuration\n",
    "dna.draw()\n",
    "\n",
    "# Or save it to a file\n",
    "dna.save_pdb('./pdbs/minimized_nbp_200_closed.pdb')"
   ]
  },
  {
   "cell_type": "markdown",
   "id": "0f0062e1",
   "metadata": {},
   "source": [
    "### Modifying Linking Number\n",
    "Change the linking number by underwinding or overwinding the DNA using the `dLk` parameter. Note, to equilibrate the writhe use `equilibrate_writhe=True`, otherwise the linking number of the topology will not be conserved."
   ]
  },
  {
   "cell_type": "code",
   "execution_count": 7,
   "id": "4c3b668e",
   "metadata": {},
   "outputs": [
    {
     "name": "stdout",
     "output_type": "stream",
     "text": [
      "Random sequence: GTGTCCAATGATTAGGGTGGTCGATTTGAATTCATTAGGGCCTTCCGATCTCCGGCGTTCTGTGAAGCAGGTGCCGATCCAGACGCCCTGGTGAAGCAGACCGTGGTAACCGGTTCATTTCCATTCCGGCTCCAGATGAAACTCGCTTTTCGCGGCCTGGATGGAACACAGATCTGTGTCCTGCTCCGCGAACCGCAATT \n",
      "\n",
      "\n",
      "Start rescaling spline based on requested number of base pairs.\n",
      "\tThis requires recomputation of the control points to match the desired number of base pairs.\n",
      "\tSpline scaled to match the target number of base pairs: 200\n",
      "\n",
      "Structure is requested to be circular:\n",
      "\tExcess twist per base to make ends meet: 1.71 degrees\n",
      "\tNew twist angle per base pair: 36.0 \n",
      "\n",
      "Adjusting twist angles to match the given Delta linking number: 8\n",
      "\tCurrent twist number: 20.00\n",
      "\tOld twist angle per base pair: 36.00 degrees\n",
      "\tAdjusted twist angle per base pair: 50.40 degrees\n",
      "\n",
      "Circular DNA structure with 200 base pairs\n",
      "Sequence: GTGTCCAATGATTAGGGTGGTCGATTTGAATTCATTAGGGCCTTCCGATCTCCGGCGTTCTGTGAAGCAGGTGCCGATCCAGACGCCCTGGTGAAGCAGACCGTGGTAACCGGTTCATTTCCATTCCGGCTCCAGATGAAACTCGCTTTTCGCGGCCTGGATGGAACACAGATCTGTGTCCTGCTCCGCGAACCGCAATT\n",
      "Trajectory not loaded\n",
      "Frames:  (200, 1, 4, 3)\n",
      "using numba\n",
      "Minimize the DNA structure:\n",
      "simple equilibration = False \n",
      "equilibrate writhe = True \n",
      "excluded volume radius = 2.0 \n",
      "temperature = 300\n",
      "Circular: True\n",
      "####################################\n",
      "Initiating Excluded Volume...\n",
      "EV_bead mismatch: including additional boundary checks.\n",
      "\n",
      "######################################\n",
      "#### INITIALIZING EXCLUDED VOLUME ####\n",
      "######################################\n",
      " Excluded Volume Beads: \n",
      "   number of EV beads: 29\n",
      "   bp per EV bead:     7\n",
      "   Effective size:     3.57\n",
      "   Exclusion distance: 4.0\n",
      "######################################\n",
      "E1 = 1595.65 kT\n",
      "E2 = 1418.14 kT\n",
      "wr_equi=False\n",
      "wr1 = 1.25\n",
      "wr2 = 2.17\n",
      "E = 1428.40 kT\n",
      "E_num_below=1\n",
      "wr = 2.17\n",
      "wr_num_below=1\n",
      "E = 1435.66 kT\n",
      "E_num_below=2\n",
      "wr = 2.14\n",
      "wr_num_below=2\n",
      "E = 1392.74 kT\n",
      "E_num_below=0\n",
      "wr = 2.15\n",
      "wr_num_below=3\n",
      "E = 1416.21 kT\n",
      "E_num_below=1\n",
      "E = 1446.37 kT\n",
      "E_num_below=2\n",
      "E = 1383.02 kT\n",
      "E_num_below=0\n",
      "E = 1391.69 kT\n",
      "E_num_below=1\n",
      "E = 1390.11 kT\n",
      "E_num_below=2\n",
      "E = 1390.31 kT\n",
      "E_num_below=3\n",
      "using numba\n"
     ]
    },
    {
     "data": {
      "text/plain": [
       "array([28.        ,  2.34476608, 25.65523392])"
      ]
     },
     "execution_count": 7,
     "metadata": {},
     "output_type": "execute_result"
    }
   ],
   "source": [
    "# Also change the linking number by under or overwinding the DNA using the dLk parameter\n",
    "dna = mdna.make(n_bp=200, circular=True, dLk=8)\n",
    "dna.describe()\n",
    "dna.get_linking_number()\n",
    "\n",
    "# Minimize the DNA configuration,\n",
    "dna.minimize(equilibrate_writhe=True)\n",
    "dna.get_linking_number()"
   ]
  },
  {
   "cell_type": "code",
   "execution_count": 10,
   "id": "f3d35238",
   "metadata": {},
   "outputs": [
    {
     "data": {
      "application/vnd.jupyter.widget-view+json": {
       "model_id": "c20272db866d406aa8fd3b9e390c15ba",
       "version_major": 2,
       "version_minor": 0
      },
      "text/plain": [
       "NGLWidget(max_frame=1020)"
      ]
     },
     "metadata": {},
     "output_type": "display_data"
    }
   ],
   "source": [
    "mc = dna.get_MC_traj()\n",
    "view = nv.show_mdtraj(mc)\n",
    "view"
   ]
  },
  {
   "cell_type": "markdown",
   "id": "72f891e3",
   "metadata": {},
   "source": [
    "## Using Custom Shapes \n",
    "Explore the use of custom shapes for DNA structures through control points, allowing complex configurations. The `Shapes` class contains many predefined parametric functions that describe common shapes in 3D space. Utilize custom shapes for DNA structure generation, including helical shapes and more. "
   ]
  },
  {
   "cell_type": "code",
   "execution_count": null,
   "id": "23e90762",
   "metadata": {},
   "outputs": [],
   "source": [
    "# We can also use custom shapes using the Shape class\n",
    "control_points = mdna.Shapes.helix(height=3, pitch=5, radius=7, num_turns=4)\n",
    "dna = mdna.make(n_bp=300, control_points=control_points)\n",
    "dna.draw()"
   ]
  },
  {
   "cell_type": "markdown",
   "id": "fbe1ec3a",
   "metadata": {},
   "source": [
    "### Defining Complex Custom Shapes\n",
    "Define intricate shapes by specifying control points manually. The points are used to fit a B-spline that goes through each of these points. Note, the minimum number of `control_points` to fit a spline through is 4."
   ]
  },
  {
   "cell_type": "code",
   "execution_count": null,
   "id": "2f9eb641",
   "metadata": {},
   "outputs": [],
   "source": [
    "# Or use the control points to define a custom shape\n",
    "control_points = np.array([[0,0,0],[30,10,-10],[50,10,20],[20,4,60]])\n",
    "dna = mdna.make(n_bp=100, control_points=control_points, sequence=['A']*100)\n",
    "dna.draw()\n",
    "dna.describe()\n",
    "dna.sequence"
   ]
  },
  {
   "cell_type": "markdown",
   "id": "8a1736ec",
   "metadata": {},
   "source": [
    "## Extending DNA Sequences\n",
    "We can use the custom shaped DNA structure to learn how to extend DNA sequences from both ends. By default the minimization is on using the `.extend()` function."
   ]
  },
  {
   "cell_type": "code",
   "execution_count": null,
   "id": "0f497fb0",
   "metadata": {},
   "outputs": [],
   "source": [
    "# We can also extend our DNA \n",
    "dna.extend(sequence=['G']*40)\n",
    "\n",
    "# Or extend it in the opposite direction\n",
    "dna.extend(sequence=['C']*40, forward=False)\n",
    "dna.draw()"
   ]
  },
  {
   "cell_type": "markdown",
   "id": "38746ee8",
   "metadata": {},
   "source": [
    "## Connecting Two DNA Strands\n",
    "Connect two separate DNA strands and visualize the configuration. This function will find the optimal number of basepairs to connect the two strands to minimize the twist. Alternatively you can also pass the `n_bp` or `control_points`."
   ]
  },
  {
   "cell_type": "code",
   "execution_count": null,
   "id": "beecca93",
   "metadata": {},
   "outputs": [],
   "source": [
    "# Lets generate two strands of DNA and displace the second one away from the first one\n",
    "dna0 = mdna.make(sequence='AAAAAAAAA', control_points=mdna.Shapes.line(1))\n",
    "dna1 = mdna.make(sequence='GGGGGGGGG', control_points=mdna.Shapes.line(1)+np.array([4,0,-5]))\n",
    "\n",
    "# Now we can connect the two strands\n",
    "dna2 = mdna.connect(dna0, dna1)\n",
    "dna2.draw()\n",
    "dna2.describe()"
   ]
  },
  {
   "cell_type": "markdown",
   "id": "4992ecd5",
   "metadata": {},
   "source": [
    "## Visualizing DNA Minimization\n",
    "Use NGLview to visualize molecular dynamics and the results of Monte Carlo minimization."
   ]
  },
  {
   "cell_type": "code",
   "execution_count": null,
   "id": "3748fe2f",
   "metadata": {},
   "outputs": [],
   "source": [
    "# visualize using nglview MC minimization\n",
    "view = nv.show_mdtraj(dna2.get_MC_traj())\n",
    "view"
   ]
  },
  {
   "cell_type": "code",
   "execution_count": null,
   "id": "69e6e4d5",
   "metadata": {},
   "outputs": [],
   "source": []
  }
 ],
 "metadata": {
  "kernelspec": {
   "display_name": "mdna",
   "language": "python",
   "name": "python3"
  },
  "language_info": {
   "codemirror_mode": {
    "name": "ipython",
    "version": 3
   },
   "file_extension": ".py",
   "mimetype": "text/x-python",
   "name": "python",
   "nbconvert_exporter": "python",
   "pygments_lexer": "ipython3",
   "version": "3.12.5"
  }
 },
 "nbformat": 4,
 "nbformat_minor": 5
}
