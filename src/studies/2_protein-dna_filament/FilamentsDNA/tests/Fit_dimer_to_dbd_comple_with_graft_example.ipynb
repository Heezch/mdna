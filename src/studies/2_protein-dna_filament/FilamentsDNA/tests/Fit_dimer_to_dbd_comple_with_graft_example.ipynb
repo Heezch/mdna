{
 "cells": [
  {
   "cell_type": "code",
   "execution_count": 1,
   "id": "1ca44cab",
   "metadata": {},
   "outputs": [
    {
     "data": {
      "application/vnd.jupyter.widget-view+json": {
       "model_id": "8aa3fcdde73841eabc64858495d1ce20",
       "version_major": 2,
       "version_minor": 0
      },
      "text/plain": []
     },
     "metadata": {},
     "output_type": "display_data"
    }
   ],
   "source": [
    "import numpy as np\n",
    "import seaborn as sns\n",
    "import mdtraj as md\n",
    "import matplotlib.pyplot as plt\n",
    "import nglview as nv\n",
    "\n",
    "# https://biopython.org/docs/1.74/api/Bio.SVDSuperimposer.html\n",
    "from Bio.SVDSuperimposer import SVDSuperimposer\n",
    "\n",
    "from numpy import array, dot, set_printoptions"
   ]
  },
  {
   "cell_type": "code",
   "execution_count": 2,
   "id": "74766394-4005-4a2c-8afe-2f8d5ca9aba6",
   "metadata": {},
   "outputs": [],
   "source": [
    "# link to openmm manual for how to set up a minimizer\n",
    "# http://docs.openmm.org/7.2.0/userguide/application.html"
   ]
  },
  {
   "cell_type": "code",
   "execution_count": 62,
   "id": "883eef3d-23a6-4d04-a72c-e2df24663c30",
   "metadata": {},
   "outputs": [],
   "source": [
    "def get_rot_and_trans(subtraj_A,subtraj_B):\n",
    "    \"\"\" fit only works now on a single frame (mdtraj returns xyz with shape (n_frames, atoms, xyz) \n",
    "         even for single frame trajs so hence the xyz[0]\"\"\"\n",
    "    \n",
    "    # load super imposer\n",
    "    sup = SVDSuperimposer()\n",
    "\n",
    "    # Set the coords, y will be rotated and translated on x\n",
    "    x = subtraj_A.xyz[0]\n",
    "    y = subtraj_B.xyz[0]\n",
    "    sup.set(x, y)\n",
    "\n",
    "    # Do the leastsquared fit\n",
    "    sup.run()\n",
    "\n",
    "    # Get the rms\n",
    "    rms = sup.get_rms()\n",
    "\n",
    "    # Get rotation (right multiplying!) and the translation\n",
    "    rot, tran = sup.get_rotran()\n",
    "    \n",
    "    # now we have the instructions to rotate B on A\n",
    "    return rot,tran,rms\n",
    "\n",
    "\n",
    "def apply_superimposition(traj, rot, tran):\n",
    "    \n",
    "    # get xyz coordinates\n",
    "    xyz = traj.xyz[0]\n",
    "    \n",
    "    # rotate subject on target\n",
    "    new_xyz = dot(xyz, rot) + tran\n",
    "\n",
    "    # replace coordinates of traj\n",
    "    traj.xyz = new_xyz\n",
    "    return traj"
   ]
  },
  {
   "cell_type": "code",
   "execution_count": 4,
   "id": "0095c222-6ad1-417e-8271-42f15ca427dd",
   "metadata": {},
   "outputs": [],
   "source": [
    "# Load H-NS dimers\n",
    "loc_dimers = './data/dimer_pdbs/'\n",
    "dimers = md.join([md.load(loc_dimers+f'run{i}.pdb') for i in range(0,16)])\n",
    "\n",
    "# Load H-NS DBD attached to DNA\n",
    "loc_complexes = './data/complex_traj/'\n",
    "complexes = md.load(loc_complexes+f'DBD_complex.xtc', top=loc_complexes+f'DBD_complex.pdb')"
   ]
  },
  {
   "cell_type": "code",
   "execution_count": 40,
   "id": "50c1502f-438c-4257-bdf9-c8fa2e67d893",
   "metadata": {},
   "outputs": [],
   "source": [
    "traj = dimers"
   ]
  },
  {
   "cell_type": "code",
   "execution_count": 54,
   "id": "2a3a455d-1093-446b-a0bd-e22d2e79dc32",
   "metadata": {},
   "outputs": [
    {
     "data": {
      "application/vnd.jupyter.widget-view+json": {
       "model_id": "b007a8ea34ea4ab1941d8e609ac8e46e",
       "version_major": 2,
       "version_minor": 0
      },
      "text/plain": [
       "NGLWidget(max_frame=15)"
      ]
     },
     "metadata": {},
     "output_type": "display_data"
    }
   ],
   "source": [
    "selection = traj.top.select('resid 111 112 and (name CA or name N)')\n",
    "view = nv.show_mdtraj(traj)\n",
    "\n",
    "view.add_representation('ball+stick',selection=selection)\n",
    "view"
   ]
  },
  {
   "cell_type": "code",
   "execution_count": null,
   "id": "f1086e70-8e32-49f0-8f5c-abe36276b0fc",
   "metadata": {},
   "outputs": [],
   "source": []
  },
  {
   "cell_type": "code",
   "execution_count": 28,
   "id": "2218fe04-067a-4924-970c-4306af6c8946",
   "metadata": {},
   "outputs": [
    {
     "data": {
      "application/vnd.jupyter.widget-view+json": {
       "model_id": "73d8a7af8ee9430aa247a8707bdadfbe",
       "version_major": 2,
       "version_minor": 0
      },
      "text/plain": [
       "NGLWidget()"
      ]
     },
     "metadata": {},
     "output_type": "display_data"
    }
   ],
   "source": [
    "# Select dimer frame and which monomer (0 or 1)\n",
    "idx = 2\n",
    "chain =  0\n",
    "\n",
    "# Extract xyz coordinates of first frame complex and idx dimer\n",
    "A = complexes[0].remove_solvent()[0]\n",
    "B = dimers[idx].remove_solvent()[0]\n",
    "\n",
    "view = nv.show_mdtraj(A.stack(B))\n",
    "view"
   ]
  },
  {
   "cell_type": "code",
   "execution_count": null,
   "id": "40a88030-345a-40c0-8aae-0adf2e0106a5",
   "metadata": {},
   "outputs": [],
   "source": []
  },
  {
   "cell_type": "code",
   "execution_count": null,
   "id": "f98b1741-f5c9-4557-a9e9-311247cf03c8",
   "metadata": {},
   "outputs": [],
   "source": []
  },
  {
   "cell_type": "code",
   "execution_count": 29,
   "id": "c5025a5a-585d-46c4-bc85-8279d16b3d3f",
   "metadata": {},
   "outputs": [
    {
     "name": "stdout",
     "output_type": "stream",
     "text": [
      "232 232\n",
      "1.0041893237879114\n"
     ]
    }
   ],
   "source": [
    "#select atom indices of DBD forming an complex with DNA\n",
    "selection_A = A.top.select(f'(resid {41} to {41+59}) and (backbone)') \n",
    "\n",
    "#select atom indices of DBD from S1S1 of monomer 'chain' this synthax unfortuntaly only works for chain A/0\n",
    "selection_B = B.top.select(f'(chainid {chain} and resid {137-58} to {137}) and (backbone)')\n",
    "\n",
    "# check if selections contain equal number of atoms\n",
    "if len(selection_A) == len(selection_B):\n",
    "    print(len(selection_A),len(selection_B))\n",
    "    pass\n",
    "else:\n",
    "    print('no good')\n",
    "    print(len(selection_A),len(selection_B))\n",
    "    \n",
    "# create trajs containing only the selections\n",
    "subtraj_A = A.atom_slice(selection_A)\n",
    "subtraj_B = B.atom_slice(selection_B)\n",
    "\n",
    "# obtain instructions to rotate and translate B on A based on substraj structures\n",
    "rot, tran,rms = get_rot_and_trans(subtraj_A,subtraj_B)\n",
    "print(rms)\n",
    "\n",
    "# do the superimposition of B on A and subsitute old with new xyz of B\n",
    "new_B = apply_superimposition(B, rot, tran)\n",
    "\n",
    "# remove selection from A and add new B\n",
    "selection_to_delete = A.top.select(f'chainid 2') \n",
    "C = A.atom_slice([at.index for at in A.top.atoms if at.index not in selection_to_delete]).stack(new_B)"
   ]
  },
  {
   "cell_type": "code",
   "execution_count": 30,
   "id": "abc9919c-f413-43ad-9ac8-65728ce8551d",
   "metadata": {},
   "outputs": [
    {
     "data": {
      "application/vnd.jupyter.widget-view+json": {
       "model_id": "313b09af7fd845b68332fc3d919eb016",
       "version_major": 2,
       "version_minor": 0
      },
      "text/plain": [
       "NGLWidget()"
      ]
     },
     "metadata": {},
     "output_type": "display_data"
    }
   ],
   "source": [
    "# show merged fit\n",
    "view = nv.show_mdtraj(A.stack(new_B))\n",
    "view"
   ]
  },
  {
   "cell_type": "code",
   "execution_count": 14,
   "id": "63419db2-7c78-4bf2-8e1a-89c95bec0810",
   "metadata": {},
   "outputs": [
    {
     "data": {
      "application/vnd.jupyter.widget-view+json": {
       "model_id": "961984cfef024dcb93a23cd9ecd56ded",
       "version_major": 2,
       "version_minor": 0
      },
      "text/plain": [
       "NGLWidget()"
      ]
     },
     "metadata": {},
     "output_type": "display_data"
    }
   ],
   "source": [
    "# show cleaned final\n",
    "view = nv.show_mdtraj(C)\n",
    "view"
   ]
  },
  {
   "cell_type": "code",
   "execution_count": 63,
   "id": "a9198ad2-7c59-40b8-8d9d-6c738555d767",
   "metadata": {},
   "outputs": [],
   "source": [
    "def fit_B_on_A(A, B, selection_A, selection_B, selection_to_delete=None):\n",
    "    \n",
    "    # create trajs containing only the selections\n",
    "    subtraj_A = A.atom_slice(selection_A)\n",
    "    subtraj_B = B.atom_slice(selection_B)\n",
    "\n",
    "    # obtain instructions to rotate and translate B on A based on substraj structures\n",
    "    rot, tran, rms = get_rot_and_trans(subtraj_A,subtraj_B)\n",
    "    \n",
    "    # do the superimposition of B on A and subsitute old with new xyz of B\n",
    "    new_B = apply_superimposition(B, rot, tran)\n",
    "    \n",
    "    if selection_to_delete == 'DBD_complex':\n",
    "        # remove selection from A and add new B\n",
    "        selection_to_delete = A.top.select(f'chainid 2') \n",
    "        C = A.atom_slice([at.index for at in A.top.atoms if at.index not in selection_to_delete]).stack(new_B)\n",
    "        \n",
    "    else:\n",
    "         C = A.stack(new_B)\n",
    "            \n",
    "    return C, rms"
   ]
  },
  {
   "cell_type": "code",
   "execution_count": 16,
   "id": "c2ef1d8f-32c1-4b66-9cbc-a212860df2cb",
   "metadata": {},
   "outputs": [],
   "source": [
    "selection = 'QGR'\n",
    "\n",
    "if selection == 'DBD':\n",
    "    #select atom indices of DBD forming an complex with DNA\n",
    "    selection_A = A.top.select(f'(resid {41} to {41+59}) and (backbone)') \n",
    "\n",
    "    #select atom indices of DBD from S1S1 of monomer 'chain'\n",
    "    selection_B = B.top.select(f'(chainid {chain} and resid {137-58} to {137}) and (backbone)')\n",
    "    \n",
    "elif selection == 'QGR':\n",
    "    n = 15\n",
    "    #select atom indices of DBD forming an complex with DNA\n",
    "    selection_A = A.top.select(f'resid {73-n} to {75+n}') \n",
    "\n",
    "    #select atom indices of DBD from S1S1 of monomer 'chain'\n",
    "    selection_B = B.top.select(f'chainid {chain} and resid {111-n} to {113+n}')"
   ]
  },
  {
   "cell_type": "code",
   "execution_count": 17,
   "id": "4b209cf2-d577-4672-8839-cd9ffc371767",
   "metadata": {},
   "outputs": [
    {
     "data": {
      "application/vnd.jupyter.widget-view+json": {
       "model_id": "f511bad0c4dc46889a5778c98f9cb137",
       "version_major": 2,
       "version_minor": 0
      },
      "text/plain": [
       "NGLWidget()"
      ]
     },
     "metadata": {},
     "output_type": "display_data"
    }
   ],
   "source": [
    "view = nv.show_mdtraj(A)\n",
    "view.add_representation('licorice',selection_A)\n",
    "view"
   ]
  },
  {
   "cell_type": "code",
   "execution_count": 18,
   "id": "1cd7ecb1-deef-4210-aa30-7463fe73e2c1",
   "metadata": {},
   "outputs": [
    {
     "data": {
      "application/vnd.jupyter.widget-view+json": {
       "model_id": "15f228ec8c004a5f81c1ba6f334afefb",
       "version_major": 2,
       "version_minor": 0
      },
      "text/plain": [
       "NGLWidget()"
      ]
     },
     "metadata": {},
     "output_type": "display_data"
    }
   ],
   "source": [
    "view = nv.show_mdtraj(B)\n",
    "view.add_representation('licorice',selection_B)\n",
    "view"
   ]
  },
  {
   "cell_type": "code",
   "execution_count": 19,
   "id": "0618ec06-a2c9-4053-aae1-d73217f7567a",
   "metadata": {},
   "outputs": [
    {
     "name": "stdout",
     "output_type": "stream",
     "text": [
      "503 503\n",
      "0.3999208104597928\n"
     ]
    },
    {
     "data": {
      "application/vnd.jupyter.widget-view+json": {
       "model_id": "67afd0bc6dbe4151add92dc932200ade",
       "version_major": 2,
       "version_minor": 0
      },
      "text/plain": [
       "NGLWidget()"
      ]
     },
     "metadata": {},
     "output_type": "display_data"
    }
   ],
   "source": [
    "# check if selections contain equal number of atoms\n",
    "if len(selection_A) == len(selection_B):\n",
    "    print(len(selection_A),len(selection_B))\n",
    "    C, rms = fit_B_on_A(A,B,selection_A,selection_B,selection_to_delete=None)\n",
    "    print(rms)\n",
    "else:\n",
    "    print('no good')\n",
    "    print(len(selection_A),len(selection_B))\n",
    "    \n",
    "# show cleaned final\n",
    "view = nv.show_mdtraj(C)\n",
    "view"
   ]
  },
  {
   "cell_type": "markdown",
   "id": "2a958c02-c36d-4c5f-aa85-1f877834e30d",
   "metadata": {},
   "source": [
    "## Grafting"
   ]
  },
  {
   "cell_type": "code",
   "execution_count": 276,
   "id": "1cf6227c-1eda-49cf-a8ce-160313e29135",
   "metadata": {},
   "outputs": [
    {
     "name": "stdout",
     "output_type": "stream",
     "text": [
      "<mdtraj.Trajectory with 16 frames, 4390 atoms, 274 residues, without unitcells>\n"
     ]
    },
    {
     "data": {
      "application/vnd.jupyter.widget-view+json": {
       "model_id": "d408f85e3ac749bab69196daa2076533",
       "version_major": 2,
       "version_minor": 0
      },
      "text/plain": [
       "NGLWidget(max_frame=15)"
      ]
     },
     "metadata": {},
     "output_type": "display_data"
    }
   ],
   "source": [
    "# create small piece of protein\n",
    "traj = dimers\n",
    "top = traj.topology\n",
    "selection = top.select('resid 60 to 79')\n",
    "print(traj)\n",
    "traj = dimers.atom_slice(selection)\n",
    "view  = nv.show_mdtraj(traj.center_coordinates())\n",
    "\n",
    "view"
   ]
  },
  {
   "cell_type": "code",
   "execution_count": 277,
   "id": "0ba5cd56-3a8f-4fc1-9819-a6cc32e4ab13",
   "metadata": {},
   "outputs": [
    {
     "data": {
      "text/plain": [
       "311"
      ]
     },
     "execution_count": 277,
     "metadata": {},
     "output_type": "execute_result"
    }
   ],
   "source": [
    "traj.top.n_bonds"
   ]
  },
  {
   "cell_type": "code",
   "execution_count": 340,
   "id": "5ff446ba-f467-480b-a915-b46a34259333",
   "metadata": {},
   "outputs": [
    {
     "name": "stdout",
     "output_type": "stream",
     "text": [
      "26\n",
      "26\n"
     ]
    }
   ],
   "source": [
    "# split the small piece in 2 as a demo on how to \"repair/graft\" it to once piece again\n",
    "traj_A = traj.atom_slice(traj.top.select('resid 0 to 11'))\n",
    "traj_B = traj.atom_slice(traj.top.select('resid 10 to 20'))\n",
    "\n",
    "# pick residues that overlap and that you will use for the fit\n",
    "selection_A = traj_A.top.select('resid 10 11')\n",
    "selection_B = traj_B.top.select('resid 0 1')\n",
    "\n",
    "print(len(selection_A))\n",
    "print(len(selection_B))"
   ]
  },
  {
   "cell_type": "code",
   "execution_count": 330,
   "id": "7b191d3c-ebce-40ad-9f50-d074b72f9587",
   "metadata": {},
   "outputs": [],
   "source": [
    "# # show piece A with atoms used in the fit\n",
    "# view  = nv.show_mdtraj(traj_A)\n",
    "# view.add_representation('licorice',traj_A.top.select('protein'))\n",
    "# view.add_representation('licorice',selection_A,color='red')\n",
    "# view\n",
    "\n",
    "# # show piece B with atoms used in the fit\n",
    "# view  = nv.show_mdtraj(traj_B)\n",
    "# view.add_representation('licorice',traj_B.top.select('protein'))\n",
    "# view.add_representation('licorice',selection_B,color='red')\n",
    "# view"
   ]
  },
  {
   "cell_type": "code",
   "execution_count": 331,
   "id": "b31575b0-4d06-4926-b37f-b1b9bd1a914c",
   "metadata": {},
   "outputs": [],
   "source": [
    "C = None"
   ]
  },
  {
   "cell_type": "code",
   "execution_count": 336,
   "id": "b1b5a4cf-e7f5-40d7-89f9-a41b14c549e8",
   "metadata": {},
   "outputs": [
    {
     "name": "stdout",
     "output_type": "stream",
     "text": [
      "0.017694514283698816\n"
     ]
    },
    {
     "data": {
      "text/plain": [
       "<mdtraj.Topology with 2 chains, 22 residues, 336 atoms, 337 bonds at 0x232bd5210>"
      ]
     },
     "execution_count": 336,
     "metadata": {},
     "output_type": "execute_result"
    }
   ],
   "source": [
    "# Fit B on A with the overlap atoms, here I used frame zero from piece A and frame 2 from piece B, you can of course change this easily\n",
    "C, rms = fit_B_on_A(traj_A[0], traj_B[5], selection_A, selection_B)\n",
    "print(rms)\n",
    "# still need to remove \"overlap\" because now it is twice in structure, orignal structure had only 20 residues, this one 22 as well as chainIDs\n",
    "# you can actually do this before you merge the structures (easier than after merging [the stack command]) \n",
    "C.top"
   ]
  },
  {
   "cell_type": "code",
   "execution_count": 335,
   "id": "8db82a59-53eb-4187-ba5b-2dc534672373",
   "metadata": {},
   "outputs": [
    {
     "data": {
      "application/vnd.jupyter.widget-view+json": {
       "model_id": "b598f20dddbc4284946730a875ef2706",
       "version_major": 2,
       "version_minor": 0
      },
      "text/plain": [
       "NGLWidget()"
      ]
     },
     "metadata": {},
     "output_type": "display_data"
    }
   ],
   "source": [
    "# show fitted complex\n",
    "view = nv.show_mdtraj(C)\n",
    "view"
   ]
  },
  {
   "cell_type": "code",
   "execution_count": 337,
   "id": "c5092974-9d84-4ddb-b814-3b9f348aaf94",
   "metadata": {},
   "outputs": [],
   "source": [
    "def get_rot_and_trans(subtraj_A,subtraj_B):\n",
    "    \"\"\" fit only works now on a single frame (mdtraj returns xyz with shape (n_frames, atoms, xyz) \n",
    "         even for single frame trajs so hence the xyz[0]\"\"\"\n",
    "    \n",
    "    # load super imposer\n",
    "    sup = SVDSuperimposer()\n",
    "\n",
    "    # Set the coords, y will be rotated and translated on x\n",
    "    x = subtraj_A.xyz[0]\n",
    "    y = subtraj_B.xyz[0]\n",
    "    sup.set(x, y)\n",
    "\n",
    "    # Do the leastsquared fit\n",
    "    sup.run()\n",
    "\n",
    "    # Get the rms\n",
    "    rms = sup.get_rms()\n",
    "\n",
    "    # Get rotation (right multiplying!) and the translation\n",
    "    rot, tran = sup.get_rotran()\n",
    "    \n",
    "    # now we have the instructions to rotate B on A\n",
    "    return rot,tran,rms\n",
    "\n",
    "\n",
    "def apply_superimposition(traj, rot, tran):\n",
    "    \n",
    "    # get xyz coordinates\n",
    "    xyz = traj.xyz[0]\n",
    "    \n",
    "    # rotate subject on target\n",
    "    new_xyz = dot(xyz, rot) + tran\n",
    "\n",
    "    # replace coordinates of traj\n",
    "    traj.xyz = new_xyz\n",
    "    return traj\n",
    "\n",
    "def update_topology(C):\n",
    "    top = C.top\n",
    "    # Merge two tops (with two chains or more) to a top of one chain \n",
    "    out = md.Topology()\n",
    "    c = out.add_chain()\n",
    "    for chain in top.chains:\n",
    "\n",
    "        for residue in chain.residues:\n",
    "            r = out.add_residue(residue.name, c, residue.resSeq, residue.segment_id)\n",
    "            for atom in residue.atoms:\n",
    "                out.add_atom(atom.name, atom.element, r, serial=atom.serial)\n",
    "    #     for bond in top.bonds:\n",
    "    #         a1, a2 = bond\n",
    "    #         out.add_bond(a1, a2, type=bond.type, order=bond.order)\n",
    "    out.create_standard_bonds() #rare manier om bonds te maken, maar werkt\n",
    "    C.top = out \n",
    "    return C\n",
    "\n",
    "def fit_B_on_A(A, B, selection_A, selection_B, delete_overlap=False):\n",
    "    \n",
    "    # create trajs containing only the selections\n",
    "    subtraj_A = A.atom_slice(selection_A)\n",
    "    subtraj_B = B.atom_slice(selection_B)\n",
    "\n",
    "    # obtain instructions to rotate and translate B on A based on substraj structures\n",
    "    rot, tran, rms = get_rot_and_trans(subtraj_A,subtraj_B)\n",
    "    \n",
    "    # do the superimposition of B on A and subsitute old with new xyz of B\n",
    "    new_B = apply_superimposition(B, rot, tran)\n",
    "\n",
    "    \n",
    "    if delete_overlap:\n",
    "        # remove selection from A and add new B\n",
    "        selection_to_delete = selection_A \n",
    "        new_A = A.atom_slice([at.index for at in A.top.atoms if at.index not in selection_to_delete])\n",
    "\n",
    "        # merge superimposed structure and fit (A and B*) and update topology such that they share a chain\n",
    "        C = update_topology(new_A.stack(new_B))\n",
    "    else:\n",
    "         C = A.stack(new_B)\n",
    "            \n",
    "    return C, rms\n",
    "\n"
   ]
  },
  {
   "cell_type": "code",
   "execution_count": null,
   "id": "b54773fa-3a3b-4d4b-8d6b-33a0c002e04a",
   "metadata": {},
   "outputs": [],
   "source": []
  },
  {
   "cell_type": "code",
   "execution_count": null,
   "id": "b0baba28-ca28-447c-b14b-377e2e66931c",
   "metadata": {},
   "outputs": [],
   "source": []
  },
  {
   "cell_type": "code",
   "execution_count": null,
   "id": "866a4ff5-3cfc-4590-8c02-21d0fcd50859",
   "metadata": {},
   "outputs": [],
   "source": []
  },
  {
   "cell_type": "code",
   "execution_count": 338,
   "id": "75fe70c4-47ae-4968-8380-f8eb543587e9",
   "metadata": {},
   "outputs": [
    {
     "name": "stdout",
     "output_type": "stream",
     "text": [
      "0.010759860893914848\n"
     ]
    },
    {
     "data": {
      "text/plain": [
       "<mdtraj.Topology with 1 chains, 22 residues, 328 atoms, 323 bonds at 0x232da0a00>"
      ]
     },
     "execution_count": 338,
     "metadata": {},
     "output_type": "execute_result"
    }
   ],
   "source": [
    "C = None\n",
    "# Fit B on A with the overlap atoms, here I used frame zero from piece A and frame 2 from piece B, you can of course change this easily\n",
    "C, rms = fit_B_on_A(traj_A[3], traj_B[10], selection_A, selection_B, delete_overlap=True)\n",
    "print(rms)\n",
    "C.top"
   ]
  },
  {
   "cell_type": "code",
   "execution_count": 339,
   "id": "84011df5-dd4e-4553-90b6-47de88d9d381",
   "metadata": {},
   "outputs": [
    {
     "data": {
      "application/vnd.jupyter.widget-view+json": {
       "model_id": "eacfbf1072784ed7b090b25092b8bd5c",
       "version_major": 2,
       "version_minor": 0
      },
      "text/plain": [
       "NGLWidget()"
      ]
     },
     "metadata": {},
     "output_type": "display_data"
    }
   ],
   "source": [
    "view = nv.show_mdtraj(C)\n",
    "view.add_representation('licorice',selection=selection_A)\n",
    "view"
   ]
  },
  {
   "cell_type": "code",
   "execution_count": null,
   "id": "a7cc8628-73c0-4a73-bbac-ee0a8b382560",
   "metadata": {},
   "outputs": [],
   "source": []
  }
 ],
 "metadata": {
  "kernelspec": {
   "display_name": "Python 3 (ipykernel)",
   "language": "python",
   "name": "python3"
  },
  "language_info": {
   "codemirror_mode": {
    "name": "ipython",
    "version": 3
   },
   "file_extension": ".py",
   "mimetype": "text/x-python",
   "name": "python",
   "nbconvert_exporter": "python",
   "pygments_lexer": "ipython3",
   "version": "3.10.5"
  }
 },
 "nbformat": 4,
 "nbformat_minor": 5
}
