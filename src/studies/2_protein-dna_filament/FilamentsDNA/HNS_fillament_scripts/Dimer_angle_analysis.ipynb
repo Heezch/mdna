{
 "cells": [
  {
   "cell_type": "code",
   "execution_count": 1,
   "id": "3a8b9378",
   "metadata": {},
   "outputs": [
    {
     "name": "stderr",
     "output_type": "stream",
     "text": [
      "Warning: importing 'simtk.openmm' is deprecated.  Import 'openmm' instead.\n"
     ]
    },
    {
     "data": {
      "application/vnd.jupyter.widget-view+json": {
       "model_id": "9fa6d0b51b2340668a4d14885ddec733",
       "version_major": 2,
       "version_minor": 0
      },
      "text/plain": []
     },
     "metadata": {},
     "output_type": "display_data"
    }
   ],
   "source": [
    "import numpy as np\n",
    "import seaborn as sns\n",
    "import mdtraj as md\n",
    "import matplotlib.pyplot as plt\n",
    "import nglview as nv\n",
    "import pytraj as pt"
   ]
  },
  {
   "cell_type": "code",
   "execution_count": 2,
   "id": "0a8689c1",
   "metadata": {},
   "outputs": [],
   "source": [
    "def _displacement(xyz, pairs):\n",
    "    \"Displacement vector between pairs of points in each frame\"\n",
    "    value = np.diff(xyz[:, pairs], axis=2)[:, :, 0]\n",
    "    assert value.shape == (xyz.shape[0], pairs.shape[0], 3), 'v.shape %s, xyz.shape %s, pairs.shape %s' % (str(value.shape), str(xyz.shape), str(pairs.shape))\n",
    "    return value\n",
    "\n",
    "def _angle(traj, angle_indices):\n",
    "    \n",
    "    ix01 = angle_indices[:, [1, 0]]\n",
    "    ix21 = angle_indices[:, [1, 2]]\n",
    "\n",
    "    u_prime = _displacement(traj, ix01)\n",
    "    v_prime = _displacement(traj, ix21)\n",
    "    u_norm = np.sqrt((u_prime**2).sum(-1))\n",
    "    v_norm = np.sqrt((v_prime**2).sum(-1))\n",
    "\n",
    "    # adding a new axis makes sure that broasting rules kick in on the third\n",
    "    # dimension\n",
    "    u = u_prime / (u_norm[..., np.newaxis])\n",
    "    v = v_prime / (v_norm[..., np.newaxis])\n",
    "\n",
    "    return np.arccos((u * v).sum(-1))\n",
    "\n",
    "def find_arm(chain,i=0):\n",
    "    \n",
    "    shoulder = [at.index for res in chain._residues[i+0:i+45] for at in res.atoms]\n",
    "    elbow =  [at.index for res in chain._residues[i+45:i+93] for at in res.atoms] \n",
    "    fist = [at.index for res in chain._residues[i+93:i+137] for at in res.atoms]  \n",
    "    \n",
    "    return [shoulder, elbow, fist]\n",
    "\n",
    "def compute_com_arm(traj, arm):\n",
    "    return np.array([md.compute_center_of_mass(traj.atom_slice(part)) for part in arm]).swapaxes(0,1)\n",
    "\n",
    "def compute_arm_angle(traj,chain):\n",
    "    arm = find_arm(chain,i=0)\n",
    "    com_arm = compute_com_arm(dimers,arm)\n",
    "    return _angle(com_arm,np.array([[0,1,2]]))"
   ]
  },
  {
   "cell_type": "code",
   "execution_count": 3,
   "id": "2535bf3c",
   "metadata": {},
   "outputs": [],
   "source": [
    "loc = './dimer_pdbs/'\n",
    "dimers = md.join([md.load(loc+f'run{i}.pdb') for i in range(0,16)])"
   ]
  },
  {
   "cell_type": "code",
   "execution_count": 4,
   "id": "d5001da4",
   "metadata": {},
   "outputs": [
    {
     "data": {
      "application/vnd.jupyter.widget-view+json": {
       "model_id": "de39bb1c1421429382c76fcc9cdf3630",
       "version_major": 2,
       "version_minor": 0
      },
      "text/plain": [
       "NGLWidget(max_frame=15)"
      ]
     },
     "metadata": {},
     "output_type": "display_data"
    }
   ],
   "source": [
    "view = nv.show_mdtraj(dimers)\n",
    "view"
   ]
  },
  {
   "cell_type": "code",
   "execution_count": 6,
   "id": "b9b4d0b3",
   "metadata": {},
   "outputs": [],
   "source": [
    "dimer = dimers[0]\n",
    "\n",
    "top = dimer.topology\n",
    "chain_A = top._chains[0]\n",
    "chain_B = top._chains[1]\n",
    "\n",
    "angles_A = compute_arm_angle(dimers,chain_A)\n",
    "angles_B = compute_arm_angle(dimers,chain_B)"
   ]
  },
  {
   "cell_type": "code",
   "execution_count": 151,
   "id": "4e27fee2",
   "metadata": {},
   "outputs": [
    {
     "data": {
      "text/plain": [
       "Text(0, 0.5, 'Angle of Arm B')"
      ]
     },
     "execution_count": 151,
     "metadata": {},
     "output_type": "execute_result"
    },
    {
     "data": {
      "image/png": "[encoded data removed]",
      "text/plain": [
       "<Figure size 360x360 with 1 Axes>"
      ]
     },
     "metadata": {
      "needs_background": "light"
     },
     "output_type": "display_data"
    }
   ],
   "source": [
    "fig,ax=plt.subplots(figsize=[5,5])\n",
    "ax.scatter(np.rad2deg(angles_A.T[0]), np.rad2deg(angles_B.T[0]),edgecolor='navy',alpha=0.25,s=500)\n",
    "ax.set_ylim(0,180)\n",
    "ax.set_xlim(0,180)\n",
    "ax.axvline(90,ls=':',color='gray')\n",
    "ax.axhline(90,ls=':',color='gray')\n",
    "ax.set_xlabel('Angle of Arm A')\n",
    "ax.set_ylabel('Angle of Arm B')"
   ]
  },
  {
   "cell_type": "code",
   "execution_count": 15,
   "id": "1aacddbf",
   "metadata": {},
   "outputs": [
    {
     "data": {
      "text/plain": [
       "<matplotlib.collections.PathCollection at 0x7fef583cc580>"
      ]
     },
     "execution_count": 15,
     "metadata": {},
     "output_type": "execute_result"
    },
    {
     "data": {
      "image/png": "[encoded data removed]",
      "text/plain": [
       "<Figure size 432x288 with 1 Axes>"
      ]
     },
     "metadata": {
      "needs_background": "light"
     },
     "output_type": "display_data"
    }
   ],
   "source": [
    "plt.scatter(list(range(0,len(angles_A))),np.rad2deg(angles_A))\n",
    "plt.scatter(list(range(0,len(angles_B))),np.rad2deg(angles_B))"
   ]
  },
  {
   "cell_type": "code",
   "execution_count": 153,
   "id": "95a4e534",
   "metadata": {},
   "outputs": [],
   "source": []
  }
 ],
 "metadata": {
  "kernelspec": {
   "display_name": "Python 3 (ipykernel)",
   "language": "python",
   "name": "python3"
  },
  "language_info": {
   "codemirror_mode": {
    "name": "ipython",
    "version": 3
   },
   "file_extension": ".py",
   "mimetype": "text/x-python",
   "name": "python",
   "nbconvert_exporter": "python",
   "pygments_lexer": "ipython3",
   "version": "3.8.12"
  }
 },
 "nbformat": 4,
 "nbformat_minor": 5
}
