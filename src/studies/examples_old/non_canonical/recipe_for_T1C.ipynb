{
 "cells": [
  {
   "cell_type": "code",
   "execution_count": 52,
   "metadata": {},
   "outputs": [
    {
     "name": "stdout",
     "output_type": "stream",
     "text": [
      "The autoreload extension is already loaded. To reload it, use:\n",
      "  %reload_ext autoreload\n"
     ]
    }
   ],
   "source": [
    "import numpy as np\n",
    "import mdtraj as md\n",
    "import matplotlib.pyplot as plt\n",
    "from Bio.SVDSuperimposer import SVDSuperimposer\n",
    "import nglview as nv\n",
    "\n",
    "# # Path: pymdna/__init__.py, prototype of the package and atomic is not properly referenced in the package at genertors.py now I just explicitly define the path loction\n",
    "# import pymdna as mdna\n",
    "import sys\n",
    "sys.path.append('/Users/thor/surfdrive/Projects/pymdna/')\n",
    "import pymdna as mdna \n",
    "%load_ext autoreload\n",
    "%autoreload 2"
   ]
  },
  {
   "cell_type": "markdown",
   "metadata": {},
   "source": [
    "First we load the pdbs as is"
   ]
  },
  {
   "cell_type": "code",
   "execution_count": 53,
   "metadata": {},
   "outputs": [
    {
     "ename": "OSError",
     "evalue": "No such file: /Users/thor/surfdrive/Projects/pymdna/examples/non_canonical/BDNA_H-draft.pdb",
     "output_type": "error",
     "traceback": [
      "\u001b[0;31m---------------------------------------------------------------------------\u001b[0m",
      "\u001b[0;31mOSError\u001b[0m                                   Traceback (most recent call last)",
      "Cell \u001b[0;32mIn[53], line 5\u001b[0m\n\u001b[1;32m      2\u001b[0m base_G \u001b[38;5;241m=\u001b[39m md\u001b[38;5;241m.\u001b[39mload(loc\u001b[38;5;241m+\u001b[39m\u001b[38;5;124m'\u001b[39m\u001b[38;5;124mBDNA_G.pdb\u001b[39m\u001b[38;5;124m'\u001b[39m)\n\u001b[1;32m      4\u001b[0m loc \u001b[38;5;241m=\u001b[39m \u001b[38;5;124m'\u001b[39m\u001b[38;5;124m/Users/thor/surfdrive/Projects/pymdna/examples/non_canonical/\u001b[39m\u001b[38;5;124m'\u001b[39m\n\u001b[0;32m----> 5\u001b[0m base_TC1 \u001b[38;5;241m=\u001b[39m \u001b[43mmd\u001b[49m\u001b[38;5;241;43m.\u001b[39;49m\u001b[43mload\u001b[49m\u001b[43m(\u001b[49m\u001b[43mloc\u001b[49m\u001b[38;5;241;43m+\u001b[39;49m\u001b[38;5;124;43m'\u001b[39;49m\u001b[38;5;124;43mBDNA_H-draft.pdb\u001b[39;49m\u001b[38;5;124;43m'\u001b[39;49m\u001b[43m)\u001b[49m\n\u001b[1;32m      7\u001b[0m base_G, base_TC1\n",
      "File \u001b[0;32m~/opt/anaconda3/envs/mdna/lib/python3.11/site-packages/mdtraj/core/trajectory.py:396\u001b[0m, in \u001b[0;36mload\u001b[0;34m(filename_or_filenames, discard_overlapping_frames, **kwargs)\u001b[0m\n\u001b[1;32m    394\u001b[0m topkwargs\u001b[38;5;241m.\u001b[39mpop(\u001b[38;5;124m\"\u001b[39m\u001b[38;5;124mstride\u001b[39m\u001b[38;5;124m\"\u001b[39m, \u001b[38;5;28;01mNone\u001b[39;00m)\n\u001b[1;32m    395\u001b[0m topkwargs\u001b[38;5;241m.\u001b[39mpop(\u001b[38;5;124m\"\u001b[39m\u001b[38;5;124mstart\u001b[39m\u001b[38;5;124m\"\u001b[39m, \u001b[38;5;28;01mNone\u001b[39;00m)\n\u001b[0;32m--> 396\u001b[0m kwargs[\u001b[38;5;124m\"\u001b[39m\u001b[38;5;124mtop\u001b[39m\u001b[38;5;124m\"\u001b[39m] \u001b[38;5;241m=\u001b[39m \u001b[43m_parse_topology\u001b[49m\u001b[43m(\u001b[49m\u001b[43mkwargs\u001b[49m\u001b[38;5;241;43m.\u001b[39;49m\u001b[43mget\u001b[49m\u001b[43m(\u001b[49m\u001b[38;5;124;43m\"\u001b[39;49m\u001b[38;5;124;43mtop\u001b[39;49m\u001b[38;5;124;43m\"\u001b[39;49m\u001b[43m,\u001b[49m\u001b[43m \u001b[49m\u001b[43mfilename_or_filenames\u001b[49m\u001b[43m[\u001b[49m\u001b[38;5;241;43m0\u001b[39;49m\u001b[43m]\u001b[49m\u001b[43m)\u001b[49m\u001b[43m,\u001b[49m\u001b[43m \u001b[49m\u001b[38;5;241;43m*\u001b[39;49m\u001b[38;5;241;43m*\u001b[39;49m\u001b[43mtopkwargs\u001b[49m\u001b[43m)\u001b[49m\n\u001b[1;32m    398\u001b[0m \u001b[38;5;66;03m#get the right loader\u001b[39;00m\n\u001b[1;32m    399\u001b[0m \u001b[38;5;28;01mtry\u001b[39;00m:\n\u001b[1;32m    400\u001b[0m     \u001b[38;5;66;03m#loader = _LoaderRegistry[extension][0]\u001b[39;00m\n",
      "File \u001b[0;32m~/opt/anaconda3/envs/mdna/lib/python3.11/site-packages/mdtraj/core/trajectory.py:174\u001b[0m, in \u001b[0;36m_parse_topology\u001b[0;34m(top, **kwargs)\u001b[0m\n\u001b[1;32m    172\u001b[0m     topology \u001b[38;5;241m=\u001b[39m top\u001b[38;5;241m.\u001b[39mtopology\n\u001b[1;32m    173\u001b[0m \u001b[38;5;28;01melif\u001b[39;00m \u001b[38;5;28misinstance\u001b[39m(top, (string_types, os\u001b[38;5;241m.\u001b[39mPathLike)) \u001b[38;5;129;01mand\u001b[39;00m (ext \u001b[38;5;129;01min\u001b[39;00m [\u001b[38;5;124m'\u001b[39m\u001b[38;5;124m.pdb\u001b[39m\u001b[38;5;124m'\u001b[39m, \u001b[38;5;124m'\u001b[39m\u001b[38;5;124m.pdb.gz\u001b[39m\u001b[38;5;124m'\u001b[39m, \u001b[38;5;124m'\u001b[39m\u001b[38;5;124m.pdbx\u001b[39m\u001b[38;5;124m'\u001b[39m, \u001b[38;5;124m'\u001b[39m\u001b[38;5;124m.cif\u001b[39m\u001b[38;5;124m'\u001b[39m, \u001b[38;5;124m'\u001b[39m\u001b[38;5;124m.h5\u001b[39m\u001b[38;5;124m'\u001b[39m,\u001b[38;5;124m'\u001b[39m\u001b[38;5;124m.lh5\u001b[39m\u001b[38;5;124m'\u001b[39m]):\n\u001b[0;32m--> 174\u001b[0m     _traj \u001b[38;5;241m=\u001b[39m \u001b[43mload_frame\u001b[49m\u001b[43m(\u001b[49m\u001b[43mtop\u001b[49m\u001b[43m,\u001b[49m\u001b[43m \u001b[49m\u001b[38;5;241;43m0\u001b[39;49m\u001b[43m,\u001b[49m\u001b[43m \u001b[49m\u001b[38;5;241;43m*\u001b[39;49m\u001b[38;5;241;43m*\u001b[39;49m\u001b[43mkwargs\u001b[49m\u001b[43m)\u001b[49m\n\u001b[1;32m    175\u001b[0m     topology \u001b[38;5;241m=\u001b[39m _traj\u001b[38;5;241m.\u001b[39mtopology\n\u001b[1;32m    176\u001b[0m \u001b[38;5;28;01melif\u001b[39;00m \u001b[38;5;28misinstance\u001b[39m(top, (string_types, os\u001b[38;5;241m.\u001b[39mPathLike)) \u001b[38;5;129;01mand\u001b[39;00m (ext \u001b[38;5;129;01min\u001b[39;00m [\u001b[38;5;124m'\u001b[39m\u001b[38;5;124m.prmtop\u001b[39m\u001b[38;5;124m'\u001b[39m, \u001b[38;5;124m'\u001b[39m\u001b[38;5;124m.parm7\u001b[39m\u001b[38;5;124m'\u001b[39m, \u001b[38;5;124m'\u001b[39m\u001b[38;5;124m.prm7\u001b[39m\u001b[38;5;124m'\u001b[39m]):\n",
      "File \u001b[0;32m~/opt/anaconda3/envs/mdna/lib/python3.11/site-packages/mdtraj/core/trajectory.py:310\u001b[0m, in \u001b[0;36mload_frame\u001b[0;34m(filename, index, top, atom_indices, **kwargs)\u001b[0m\n\u001b[1;32m    307\u001b[0m     kwargs[\u001b[38;5;124m'\u001b[39m\u001b[38;5;124mtop\u001b[39m\u001b[38;5;124m'\u001b[39m] \u001b[38;5;241m=\u001b[39m top\n\u001b[1;32m    309\u001b[0m \u001b[38;5;28;01mif\u001b[39;00m loader\u001b[38;5;241m.\u001b[39m\u001b[38;5;18m__name__\u001b[39m \u001b[38;5;129;01mnot\u001b[39;00m \u001b[38;5;129;01min\u001b[39;00m [\u001b[38;5;124m'\u001b[39m\u001b[38;5;124mload_dtr\u001b[39m\u001b[38;5;124m'\u001b[39m]:\n\u001b[0;32m--> 310\u001b[0m     \u001b[43m_assert_files_exist\u001b[49m\u001b[43m(\u001b[49m\u001b[43mfilename\u001b[49m\u001b[43m)\u001b[49m\n\u001b[1;32m    311\u001b[0m \u001b[38;5;28;01melse\u001b[39;00m:\n\u001b[1;32m    312\u001b[0m     _assert_files_or_dirs_exist(filename)\n",
      "File \u001b[0;32m~/opt/anaconda3/envs/mdna/lib/python3.11/site-packages/mdtraj/core/trajectory.py:100\u001b[0m, in \u001b[0;36m_assert_files_exist\u001b[0;34m(filenames)\u001b[0m\n\u001b[1;32m     98\u001b[0m \u001b[38;5;28;01mfor\u001b[39;00m fn \u001b[38;5;129;01min\u001b[39;00m filenames:\n\u001b[1;32m     99\u001b[0m     \u001b[38;5;28;01mif\u001b[39;00m \u001b[38;5;129;01mnot\u001b[39;00m (os\u001b[38;5;241m.\u001b[39mpath\u001b[38;5;241m.\u001b[39mexists(fn) \u001b[38;5;129;01mand\u001b[39;00m os\u001b[38;5;241m.\u001b[39mpath\u001b[38;5;241m.\u001b[39misfile(fn)):\n\u001b[0;32m--> 100\u001b[0m         \u001b[38;5;28;01mraise\u001b[39;00m \u001b[38;5;167;01mIOError\u001b[39;00m(\u001b[38;5;124m'\u001b[39m\u001b[38;5;124mNo such file: \u001b[39m\u001b[38;5;132;01m%s\u001b[39;00m\u001b[38;5;124m'\u001b[39m \u001b[38;5;241m%\u001b[39m fn)\n",
      "\u001b[0;31mOSError\u001b[0m: No such file: /Users/thor/surfdrive/Projects/pymdna/examples/non_canonical/BDNA_H-draft.pdb"
     ]
    }
   ],
   "source": [
    "loc = '../../pymdna/atomic/'\n",
    "base_G = md.load(loc+'BDNA_G.pdb')\n",
    "\n",
    "loc = '/Users/thor/surfdrive/Projects/pymdna/examples/non_canonical/'\n",
    "base_TC1 = md.load(loc+'BDNA_H-draft.pdb')\n",
    "                \n",
    "base_G, base_TC1"
   ]
  },
  {
   "cell_type": "markdown",
   "metadata": {},
   "source": [
    "Compare 2AP with A nuceleobase, find atoms that are a good fit (aka fit planar nucleobases on top of each other)\n",
    "`['N9', 'N3', 'C6', 'C4', 'C2', 'C5', 'N7']`"
   ]
  },
  {
   "cell_type": "code",
   "execution_count": 54,
   "metadata": {},
   "outputs": [
    {
     "data": {
      "application/vnd.jupyter.widget-view+json": {
       "model_id": "9c507f112d7a4b758276e001168cb2b2",
       "version_major": 2,
       "version_minor": 0
      },
      "text/plain": [
       "NGLWidget()"
      ]
     },
     "metadata": {},
     "output_type": "display_data"
    }
   ],
   "source": [
    "merge = base_G.stack(base_TC1)\n",
    "view = nv.show_mdtraj(merge)\n",
    "view"
   ]
  },
  {
   "cell_type": "markdown",
   "metadata": {},
   "source": [
    "Now we use these atoms to move the non-canonical base to the same plane as the standard base A and compare the x,y,z coorindates of the atoms that are used for the ReferenceBase to construct the basis of the nucleobase. The fitted structure we can now add to the atomic directory ('BDNA_H.pdb'), and edit the `base_pair_map` `dict` in `generator.py` to encode the new base."
   ]
  },
  {
   "cell_type": "code",
   "execution_count": 38,
   "metadata": {},
   "outputs": [
    {
     "name": "stdout",
     "output_type": "stream",
     "text": [
      "[0, 4, 10]\n",
      "[0, 4, 8]\n",
      "0.021636762694314603\n",
      "purine pyrimidine\n",
      "[[-0.2477  0.5399 -0.    ]] [[-0.26305276  0.5237298   0.0034253 ]]\n",
      "[[-0.1289  0.4551 -0.    ]] [[-0.14486474  0.43671823  0.00651786]]\n",
      "[[-0.1265  0.3177 -0.    ]] [[-0.16792381  0.29508835  0.00297737]]\n"
     ]
    }
   ],
   "source": [
    " \n",
    "def get_rot_and_trans(subtraj_A,subtraj_B):\n",
    "    \"\"\" fit only works now on a single frame (mdtraj returns xyz with shape (n_frames, atoms, xyz) \n",
    "        even for single frame trajs so hence the xyz[0]\"\"\"\n",
    "    \n",
    "    # load super imposer\n",
    "    sup = SVDSuperimposer()\n",
    "\n",
    "    # Set the coords, y will be rotated and translated on x\n",
    "    x = subtraj_A.xyz[0]\n",
    "    y = subtraj_B.xyz[0]\n",
    "    sup.set(x, y)\n",
    "\n",
    "    # Do the leastsquared fit\n",
    "    sup.run()\n",
    "\n",
    "    # Get the rms\n",
    "    rms = sup.get_rms()\n",
    "\n",
    "    # Get rotation (right multiplying!) and the translation\n",
    "    rot, tran = sup.get_rotran()\n",
    "    \n",
    "    # now we have the instructions to rotate B on A\n",
    "    return rot,tran,rms\n",
    "\n",
    "def apply_superimposition(traj, rot, tran):\n",
    "    \n",
    "    # get xyz coordinates\n",
    "    xyz = traj.xyz[0]\n",
    "    \n",
    "    # rotate subject on target\n",
    "    new_xyz = np.dot(xyz, rot) + tran\n",
    "\n",
    "    # replace coordinates of traj\n",
    "    traj.xyz = new_xyz\n",
    "    return traj\n",
    "\n",
    "def fit_B_on_A(A, B, selection_A, selection_B):\n",
    "    \n",
    "    # create trajs containing only the selections\n",
    "    subtraj_A = A.atom_slice(selection_A)\n",
    "    subtraj_B = B.atom_slice(selection_B)\n",
    "\n",
    "    # obtain instructions to rotate and translate B on A based on substraj structures\n",
    "    rot, tran, rms = get_rot_and_trans(subtraj_A,subtraj_B)\n",
    "    \n",
    "    # do the superimposition of B on A and subsitute old with new xyz of B\n",
    "    sup_B = apply_superimposition(B, rot, tran)\n",
    "\n",
    "    # remove overlapping backbone atoms from B \n",
    "    selection_to_keep = [at.index for at in  B.top.atoms if at.index not in selection_B]\n",
    "\n",
    "    new_B = sup_B\n",
    "    return new_B, rms\n",
    "\n",
    "def get_fit_indices(traj):\n",
    "    residue = traj.top.residue(0)\n",
    "    #print(residue, [at.name for at in residue._atoms])\n",
    "    # res_indices = [at.index  for at in residue.atoms if at.name in [\"P\",'OP1','OP2',\"C4'\",\"C3'\",\"C5'\",\"O4'\",\"O3'\",\"C1\\'\"]]\n",
    "    res_indices = [at.index  for at in residue.atoms if at.name in [\"P\",\"C5'\",\"C1\\'\"]]\n",
    "    #res_indices = [at.index  for at in residue.atoms if at.name in ['N1','N9', 'N3', 'C6', 'C4', 'C2', 'C5', 'N7']]\n",
    "\n",
    "    print(res_indices)\n",
    "    return res_indices\n",
    "            \n",
    "def fit_bases(base_A, base_B):\n",
    "    \"\"\" fit bases on trajectory \"\"\"\n",
    "\n",
    "    selection_A = get_fit_indices(base_A)\n",
    "    selection_B = get_fit_indices(base_B)\n",
    "\n",
    "    # Fits B on A\n",
    "    return fit_B_on_A(A=base_A, B=base_B, selection_A=selection_A, selection_B=selection_B)\n",
    "\n",
    "\n",
    "new_base_TC1, rms = fit_bases(base_G, base_TC1)\n",
    "print(rms)\n",
    "# Uncomment if you don't want hydrogens\n",
    "#new_base_2AP.atom_slice(new_base_2AP.top.select('not element type hydrogen'))#.save('BDNA_P.pdb')\n",
    "new_base_TC1.save_pdb('BDNA_H.pdb')\n",
    "\n",
    "\n",
    "res_A = mdna.ReferenceBase(base_G)\n",
    "res_ref = mdna.ReferenceBase(new_base_TC1)\n",
    "\n",
    "print(res_A.base_type, res_ref.base_type)\n",
    "print(res_A.C1_coords, res_ref.C1_coords)\n",
    "print(res_A.N_coords, res_ref.N_coords)\n",
    "print(res_A.C_coords, res_ref.C_coords)\n"
   ]
  },
  {
   "cell_type": "code",
   "execution_count": 46,
   "metadata": {},
   "outputs": [
    {
     "name": "stderr",
     "output_type": "stream",
     "text": [
      "/Users/thor/surfdrive/Projects/pymdna/pymdna/utils.py:54: RuntimeWarning: invalid value encountered in divide\n",
      "  omega_normalized = np.where(omega_norm != 0, omega / omega_norm, omega)\n"
     ]
    },
    {
     "data": {
      "application/vnd.jupyter.widget-view+json": {
       "model_id": "3102547956a14b92ae9346b9e81e4a21",
       "version_major": 2,
       "version_minor": 0
      },
      "text/plain": [
       "NGLWidget()"
      ]
     },
     "metadata": {},
     "output_type": "display_data"
    }
   ],
   "source": [
    "# Make control points\n",
    "control_points = mdna.Shapes.line(length=3,num_points=100)\n",
    "\n",
    "# Generate spline frames from control points\n",
    "spline = mdna.SplineFrames(\n",
    "    control_points=control_points, \n",
    "    frame_spacing=0.34,\n",
    "    frame_tolerance=0.05,\n",
    "    degree=3, \n",
    "    num_points = 10000,\n",
    "    closed=False,\n",
    "    verbose=False)\n",
    "\n",
    "spline.twist_frames()\n",
    "spline.frames.shape\n",
    "sequence = 'M'*spline.frames.shape[0]\n",
    "dna = mdna.StructureGenerator(spline=spline,sequence=sequence)\n",
    "traj = dna.traj\n",
    "view = nv.show_mdtraj(traj)\n",
    "view.clear()\n",
    "view.add_representation('ball+stick', selection='all')  \n",
    "view\n",
    "\n"
   ]
  },
  {
   "cell_type": "code",
   "execution_count": null,
   "metadata": {},
   "outputs": [],
   "source": []
  }
 ],
 "metadata": {
  "kernelspec": {
   "display_name": "mdna",
   "language": "python",
   "name": "python3"
  },
  "language_info": {
   "codemirror_mode": {
    "name": "ipython",
    "version": 3
   },
   "file_extension": ".py",
   "mimetype": "text/x-python",
   "name": "python",
   "nbconvert_exporter": "python",
   "pygments_lexer": "ipython3",
   "version": "3.11.7"
  }
 },
 "nbformat": 4,
 "nbformat_minor": 2
}
