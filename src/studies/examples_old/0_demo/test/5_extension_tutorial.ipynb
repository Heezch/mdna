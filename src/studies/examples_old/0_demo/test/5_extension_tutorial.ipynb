{
 "cells": [
  {
   "cell_type": "markdown",
   "id": "e277f62a",
   "metadata": {},
   "source": [
    "\n",
    "# Extending DNA Structures and Integration with Protein Data\n",
    "This tutorial demonstrates how to extend DNA sequences from a loaded structure and integrate the extended DNA with protein components. This process is useful for creating complex models for simulations or visualization, aiding in the study of DNA-protein interactions.\n",
    "\n",
    "## Steps Covered:\n",
    "- Load and visualize the initial PDB structure.\n",
    "- Isolate and extend the DNA component.\n",
    "- Combine the extended DNA with the protein structure.\n",
    "- Save the modified structure for further analysis.\n"
   ]
  },
  {
   "cell_type": "markdown",
   "id": "45f8c475",
   "metadata": {},
   "source": [
    "## Loading and Visualizing Initial Structures\n",
    "Start by loading a PDB file and visualize it to confirm the structure's integrity."
   ]
  },
  {
   "cell_type": "code",
   "execution_count": 2,
   "id": "af34b186",
   "metadata": {},
   "outputs": [
    {
     "name": "stdout",
     "output_type": "stream",
     "text": [
      "The autoreload extension is already loaded. To reload it, use:\n",
      "  %reload_ext autoreload\n"
     ]
    },
    {
     "data": {
      "application/vnd.jupyter.widget-view+json": {
       "model_id": "e6e6265edb22477ba0ff8fa5be9f8ca1",
       "version_major": 2,
       "version_minor": 0
      },
      "text/plain": [
       "NGLWidget()"
      ]
     },
     "metadata": {},
     "output_type": "display_data"
    }
   ],
   "source": [
    "import mdtraj as md\n",
    "import nglview as nv\n",
    "# # # Path: pymdna/__init__.py, prototype of the package and atomic is not properly referenced in the package at genertors.py now I just explicitly define the path loction\n",
    "# # import pymdna as mdna\n",
    "import sys\n",
    "sys.path.append('/Users/thor/surfdrive/Projects/pymdna/')\n",
    "import pymdna as mdna \n",
    "%load_ext autoreload\n",
    "%autoreload 2\n",
    "\n",
    "\n",
    "# Load PDB file\n",
    "pdb = md.load('./1kx5_full.pdb')\n",
    "view = nv.show_mdtraj(pdb)\n",
    "view"
   ]
  },
  {
   "cell_type": "markdown",
   "id": "b525c1e7",
   "metadata": {},
   "source": [
    "## Extending the DNA Structure\n",
    "Isolate the DNA part, describe its current state, and then extend it at both ends."
   ]
  },
  {
   "cell_type": "code",
   "execution_count": 3,
   "id": "dcf2578a",
   "metadata": {},
   "outputs": [
    {
     "name": "stdout",
     "output_type": "stream",
     "text": [
      "DNA structure with 147 base pairs\n",
      "Sequence: ATCAATATCCACCTGCAGATACTACCAAAAGTGTATTTGGAAACTGCTCCATCAAAAGGCATGTTCAGCTGGAATCCAGCTGAACATGCCTTTTGATGGAGCAGTTTCCAAATACACTTTTGGTAGTATCTGCAGGTGGATATTGAT\n",
      "Trajectory: <mdtraj.Trajectory with 1 frames, 16755 atoms, 4416 residues, and unitcells>\n",
      "Frames:  (147, 1, 4, 3)\n",
      "Random sequence: GGAGCTCGCGTATTATGTCGGTTTGTGGAATTTAGA \n",
      "\n",
      "Minimize the DNA structure:\n",
      "simple equilibration = False \n",
      "equilibrate writhe = False \n",
      "excluded volume radius = 0 \n",
      "temperature = 300\n",
      "Circular: False\n"
     ]
    }
   ],
   "source": [
    "# Load DNA part from traj object\n",
    "dna = mdna.load(pdb)\n",
    "dna.describe()\n",
    "\n",
    "# Add random linker DNA in forward and reverse direction. Note the exvol_rad parameter set to zero, because due to the wrapping of around the core protein, the exvol beads overlap. This is not allowed in the current implementation of the MC algorithm.\n",
    "dna.extend(n_bp=36, exvol_rad=0)\n",
    "dna.extend(n_bp=36, exvol_rad=0, forward=False)\n",
    "\n",
    "# Visualize the extended DNA\n",
    "dna.draw()"
   ]
  },
  {
   "cell_type": "markdown",
   "id": "977f2aff",
   "metadata": {},
   "source": [
    "## Integration with Protein Structure\n",
    "Isolate the protein part of the structure, combine it with the extended DNA, and save the new structure."
   ]
  },
  {
   "cell_type": "code",
   "execution_count": null,
   "id": "0d5b1802",
   "metadata": {},
   "outputs": [],
   "source": [
    "# Stack extended DNA and protein back together\n",
    "protein = pdb.atom_slice(pdb.top.select('not chainid 0 1'))\n",
    "dna_traj = dna.get_traj()\n",
    "extended_traj = dna_traj.stack(protein)\n",
    "\n",
    "view = nv.show_mdtraj(extended_traj)\n",
    "view"
   ]
  },
  {
   "cell_type": "code",
   "execution_count": null,
   "id": "9fe5efd6",
   "metadata": {},
   "outputs": [],
   "source": [
    "# Save extended traj\n",
    "extended_traj.save_pdb('1kx5_full_extended.pdb')"
   ]
  },
  {
   "cell_type": "code",
   "execution_count": null,
   "id": "50b30dab",
   "metadata": {},
   "outputs": [],
   "source": []
  }
 ],
 "metadata": {
  "kernelspec": {
   "display_name": "mdna",
   "language": "python",
   "name": "python3"
  },
  "language_info": {
   "codemirror_mode": {
    "name": "ipython",
    "version": 3
   },
   "file_extension": ".py",
   "mimetype": "text/x-python",
   "name": "python",
   "nbconvert_exporter": "python",
   "pygments_lexer": "ipython3",
   "version": "3.12.3"
  }
 },
 "nbformat": 4,
 "nbformat_minor": 5
}
