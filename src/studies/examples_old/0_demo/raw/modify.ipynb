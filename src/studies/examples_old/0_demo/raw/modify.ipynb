{
 "cells": [
  {
   "cell_type": "code",
   "execution_count": 65,
   "metadata": {},
   "outputs": [
    {
     "name": "stdout",
     "output_type": "stream",
     "text": [
      "The autoreload extension is already loaded. To reload it, use:\n",
      "  %reload_ext autoreload\n"
     ]
    }
   ],
   "source": [
    "import numpy as np\n",
    "import mdtraj as md\n",
    "import matplotlib.pyplot as plt\n",
    "import nglview as nv\n",
    "import seaborn as sns\n",
    "\n",
    "\n",
    "# # # Path: pymdna/__init__.py, prototype of the package and atomic is not properly referenced in the package at genertors.py now I just explicitly define the path loction\n",
    "# # import pymdna as mdna\n",
    "import sys\n",
    "sys.path.append('/Users/thor/surfdrive/Projects/pymdna/')\n",
    "import pymdna as mdna \n",
    "%load_ext autoreload\n",
    "%autoreload 2"
   ]
  },
  {
   "cell_type": "markdown",
   "metadata": {},
   "source": [
    "# Modify"
   ]
  },
  {
   "cell_type": "code",
   "execution_count": null,
   "metadata": {},
   "outputs": [],
   "source": [
    "# Here we make a DNA with the following sequence\n",
    "dna = mdna.make(sequence='AGCGATATAGA')\n",
    "\n",
    "# Let's save the original structure\n",
    "traj = dna.get_traj()\n",
    "traj.save_pdb('dna_original.pdb')\n",
    "\n",
    "# Let's mutate the first base to an G and the last base to a C\n",
    "dna.mutate({0: 'G', dna.n_bp : 'C'},complementary=True)\n",
    "\n",
    "# Get information about the DNA and see the mutated sequence\n",
    "dna.describe()\n",
    "\n",
    "#  use methylation list, here we methylate the 5th position, which is T, so methylation won't work but is caught by the function\n",
    "dna.methylate(methylations=[5])\n",
    "\n",
    "# or use the methylation function to methylate all CpG sites\n",
    "dna.methylate(CpG=True)\n",
    "\n",
    "# Hoogsteen flip can be done at any base pair, here we flip the 5th base pair\n",
    "dna.flip(fliplist=[5],deg=180)\n",
    "\n",
    "# Get trajectory or save as pdb\n",
    "traj_mod = dna.get_traj()\n",
    "traj_mod.save_pdb('dna_modified.pdb')\n",
    "\n"
   ]
  },
  {
   "cell_type": "code",
   "execution_count": null,
   "metadata": {},
   "outputs": [],
   "source": []
  },
  {
   "cell_type": "markdown",
   "metadata": {},
   "source": [
    "# End"
   ]
  },
  {
   "cell_type": "code",
   "execution_count": null,
   "metadata": {},
   "outputs": [],
   "source": []
  },
  {
   "cell_type": "code",
   "execution_count": null,
   "metadata": {},
   "outputs": [],
   "source": []
  }
 ],
 "metadata": {
  "kernelspec": {
   "display_name": "mdna",
   "language": "python",
   "name": "python3"
  },
  "language_info": {
   "codemirror_mode": {
    "name": "ipython",
    "version": 3
   },
   "file_extension": ".py",
   "mimetype": "text/x-python",
   "name": "python",
   "nbconvert_exporter": "python",
   "pygments_lexer": "ipython3",
   "version": "3.12.3"
  }
 },
 "nbformat": 4,
 "nbformat_minor": 2
}
