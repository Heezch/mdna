{
 "cells": [
  {
   "cell_type": "code",
   "execution_count": 1,
   "metadata": {},
   "outputs": [
    {
     "data": {
      "application/vnd.jupyter.widget-view+json": {
       "model_id": "95f203d1c9ab453f9fa71f66274bbe31",
       "version_major": 2,
       "version_minor": 0
      },
      "text/plain": []
     },
     "metadata": {},
     "output_type": "display_data"
    },
    {
     "name": "stdout",
     "output_type": "stream",
     "text": [
      "joblib is not installed. Falling back to sequential computation.\n"
     ]
    }
   ],
   "source": [
    "import numpy as np\n",
    "import mdtraj as md\n",
    "import matplotlib.pyplot as plt\n",
    "import nglview as nv\n",
    "import matplotlib as mpl\n",
    "import matplotlib.cm as cm\n",
    "import matplotlib.colors as mcolors\n",
    "\n",
    "import sys\n",
    "# sys.path.append('/Users/crazycatman/biomolecularmodelling/assignments/dna/pymdna/')\n",
    "sys.path.append('/Users/thor/surfdrive/Projects/pymdna/')\n",
    "import pymdna as mdna \n",
    "%load_ext autoreload\n",
    "%autoreload 2\n",
    "\n",
    "\n",
    "def plot_curvature(curvature):\n",
    "    # Create a colormap using seaborn\n",
    "    cmap = mpl.colormaps['viridis']\n",
    "\n",
    "    # Normalize the curvature data to fit within the colormap's range\n",
    "    norm = mcolors.Normalize(vmin=curvature.min(), vmax=curvature.max())\n",
    "\n",
    "    # Create a ScalarMappable with the normalization and colormap\n",
    "    smappable = cm.ScalarMappable(norm=norm, cmap=cmap)\n",
    "\n",
    "    # Map each curvature value to a color using the ScalarMappable\n",
    "    colors = smappable.to_rgba(curvature[0])\n",
    "\n",
    "    # Create the plot\n",
    "    fig, ax = plt.subplots(figsize=[12, 2])\n",
    "    bars = ax.bar(x=range(len(curvature[0])), height=curvature[0]/10, color=colors)\n",
    "\n",
    "    ax.set_xlabel('Base pair index')\n",
    "    ax.set_ylabel('Curvature $[1/nm]$')\n",
    "    ax.set_xlim(0, len(curvature[0]))"
   ]
  },
  {
   "cell_type": "markdown",
   "metadata": {},
   "source": [
    "Load the pdb of a nucleosome (which is a protein that organizes DNA in the cell)."
   ]
  },
  {
   "cell_type": "code",
   "execution_count": 2,
   "metadata": {},
   "outputs": [
    {
     "data": {
      "application/vnd.jupyter.widget-view+json": {
       "model_id": "11a5dc97b1bf4bb49b31370ea07ae28d",
       "version_major": 2,
       "version_minor": 0
      },
      "text/plain": [
       "NGLWidget()"
      ]
     },
     "metadata": {},
     "output_type": "display_data"
    }
   ],
   "source": [
    "pdb = md.load('./data/nucleosome.pdb')\n",
    "view = nv.show_mdtraj(pdb)\n",
    "view"
   ]
  },
  {
   "cell_type": "markdown",
   "metadata": {},
   "source": [
    "The DNA is wrapped around the protein, to characterize the dergree of wrapping we are going to analyze the curvature of the DNA. To do this you need to copy the `compute_curvature()` function defined in the `0_demo` notebook to the cell below:"
   ]
  },
  {
   "cell_type": "code",
   "execution_count": 3,
   "metadata": {},
   "outputs": [],
   "source": [
    "# Paste the compute curvature function here: \n",
    "\n",
    "# Anwser:\n",
    "def compute_curvature(points):\n",
    "    # Calculate first derivatives along the points axis within each frame\n",
    "    d_points = np.gradient(points, axis=1)\n",
    "    \n",
    "    # Compute unit tangent (T) and its derivative (T')\n",
    "    # Norm calculation is along the last axis (x,y,z components), keepdims=True to maintain dimensions for broadcasting\n",
    "    norm_d_points = np.linalg.norm(d_points, axis=-1, keepdims=True)\n",
    "    T = d_points / norm_d_points\n",
    "    dT = np.gradient(T, axis=1)\n",
    "    \n",
    "    # Compute curvature\n",
    "    # The cross product and norm are computed along the last axis (x,y,z components)\n",
    "    # The norm of d_points used in the denominator should also consider the correct axis for broadcasting\n",
    "    curvature = np.linalg.norm(np.cross(dT, T), axis=-1) / np.power(norm_d_points[..., 0], 3)\n",
    "    \n",
    "    return curvature"
   ]
  },
  {
   "cell_type": "markdown",
   "metadata": {},
   "source": [
    "To compute the curvature we also need to use the central coordinates of the rigid body base pair coordinates, the cell below extracts theses origins. You have to compute the curvature using the funcition above. "
   ]
  },
  {
   "cell_type": "code",
   "execution_count": 4,
   "metadata": {},
   "outputs": [],
   "source": [
    "# use origins of mean reference frames (mid triads of base pairs)\n",
    "rigid = mdna.NucleicFrames(pdb)\n",
    "frames = rigid.mean_reference_frames\n",
    "origins = frames[:,:,0].swapaxes(0,1)"
   ]
  },
  {
   "cell_type": "code",
   "execution_count": 5,
   "metadata": {},
   "outputs": [],
   "source": [
    "# compute the curvature\n",
    "# # curtature = # call the function here\n",
    "# anwser:\n",
    "curvature = compute_curvature(origins)"
   ]
  },
  {
   "cell_type": "code",
   "execution_count": 6,
   "metadata": {},
   "outputs": [
    {
     "data": {
      "image/png": "[encoded data removed]",
      "text/plain": [
       "<Figure size 1200x200 with 1 Axes>"
      ]
     },
     "metadata": {},
     "output_type": "display_data"
    }
   ],
   "source": [
    " # plot the curvature\n",
    "plot_curvature(curvature)"
   ]
  },
  {
   "cell_type": "markdown",
   "metadata": {},
   "source": [
    "Which top 5 base pais are the most curved? Use the `np.argsort` to find out. If you are not familiar with how this funciton works, you can always consult the Numpy documation, which is easily accessible online c~: You can use this function on the data stored inside `curvature`. And use the indices to find the base letters correspond to the most curved base pairs. To get the sequence you can use the function you finished in `1_compare_two_sequences`"
   ]
  },
  {
   "cell_type": "code",
   "execution_count": 7,
   "metadata": {},
   "outputs": [
    {
     "name": "stdout",
     "output_type": "stream",
     "text": [
      "base: GGCCA\n",
      "indices [78 39 68 21 50]\n",
      "curvature: [11.558936   11.23029145 11.21063366 10.6754892  10.62009305]\n"
     ]
    }
   ],
   "source": [
    "# Awnser:\n",
    "def get_sequence(traj):\n",
    "    top = traj.topology\n",
    "    sequence = ''\n",
    "    chainid = top.chain(0).index\n",
    "    for residue in top.chain(chainid).residues:\n",
    "        sequence += residue.name[1]\n",
    "    return sequence\n",
    "\n",
    "# anwser:\n",
    "sorted_base_pairs = np.argsort(curvature[0])[::-1]\n",
    "sequence = get_sequence(pdb)\n",
    "print('base:',''.join([sequence[i] for i in sorted_base_pairs[:5]]))\n",
    "print('indices',sorted_base_pairs[:5])\n",
    "print('curvature:',curvature[0][sorted_base_pairs[:5]])"
   ]
  },
  {
   "cell_type": "markdown",
   "metadata": {},
   "source": [
    "Next we want to know how long the DNA is. To compute this we can use one of the rigid base parameter, figure out which rigid base parameter is suitiable for this and give the anwser in nanometers. "
   ]
  },
  {
   "cell_type": "code",
   "execution_count": 8,
   "metadata": {},
   "outputs": [
    {
     "name": "stdout",
     "output_type": "stream",
     "text": [
      "(1, 147, 12) ['shear', 'stretch', 'stagger', 'buckle', 'propeller', 'opening', 'shift', 'slide', 'rise', 'tilt', 'roll', 'twist']\n"
     ]
    }
   ],
   "source": [
    "params, names = rigid.get_paramters()\n",
    "print(params.shape, names)"
   ]
  },
  {
   "cell_type": "code",
   "execution_count": 9,
   "metadata": {},
   "outputs": [],
   "source": [
    "parameter_name = 'replace with_parameter_name'# fill in the parameter name based on the names variable above as a string\n",
    "parameter_name = 'rise'\n",
    "param = params[:,:,names.index(parameter_name)][0]"
   ]
  },
  {
   "cell_type": "markdown",
   "metadata": {},
   "source": [
    "When you have determine which parameter to use manipulate the array in the cell below to find the total length of the DNA"
   ]
  },
  {
   "cell_type": "code",
   "execution_count": 10,
   "metadata": {},
   "outputs": [
    {
     "name": "stdout",
     "output_type": "stream",
     "text": [
      "Length of the DNA is 48.53294060765192 nm\n"
     ]
    }
   ],
   "source": [
    "# anwser:\n",
    "total_length = np.sum(param) / 10 \n",
    "print(f'Length of the DNA is {total_length} nm')"
   ]
  }
 ],
 "metadata": {
  "kernelspec": {
   "display_name": "mdna",
   "language": "python",
   "name": "python3"
  },
  "language_info": {
   "codemirror_mode": {
    "name": "ipython",
    "version": 3
   },
   "file_extension": ".py",
   "mimetype": "text/x-python",
   "name": "python",
   "nbconvert_exporter": "python",
   "pygments_lexer": "ipython3",
   "version": "3.11.7"
  }
 },
 "nbformat": 4,
 "nbformat_minor": 2
}
