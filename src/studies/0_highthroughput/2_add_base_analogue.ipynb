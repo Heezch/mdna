{
 "cells": [
  {
   "cell_type": "code",
   "execution_count": 22,
   "metadata": {},
   "outputs": [
    {
     "name": "stdout",
     "output_type": "stream",
     "text": [
      "The autoreload extension is already loaded. To reload it, use:\n",
      "  %reload_ext autoreload\n"
     ]
    }
   ],
   "source": [
    "import numpy as np\n",
    "import mdtraj as md\n",
    "import matplotlib.pyplot as plt\n",
    "import nglview as nv\n",
    "\n",
    "import openmm as mm\n",
    "import openmm.app as app\n",
    "import openmm.unit as unit\n",
    "from mdtraj.reporters import HDF5Reporter\n",
    "import copy\n",
    "import nglview as nv\n",
    "import random\n",
    "\n",
    "# # Path: pymdna/__init__.py, prototype of the package and atomic is not properly referenced in the package at genertors.py now I just explicitly define the path loction\n",
    "# import pymdna as mdna\n",
    "import sys\n",
    "sys.path.append('/Users/thor/surfdrive/Projects/pymdna/')\n",
    "import pymdna as mdna \n",
    "%load_ext autoreload\n",
    "%autoreload 2"
   ]
  },
  {
   "cell_type": "code",
   "execution_count": 23,
   "metadata": {},
   "outputs": [],
   "source": []
  },
  {
   "cell_type": "code",
   "execution_count": 5,
   "metadata": {},
   "outputs": [],
   "source": [
    "from Bio.SVDSuperimposer import SVDSuperimposer\n",
    "\n",
    "def get_base_vectors(res):\n",
    "       \"\"\"Compute base vectors from reference base.\"\"\"\n",
    "       ref_base = mdna.ReferenceBase(res)\n",
    "       return np.array([ref_base.b_R, ref_base.b_L, ref_base.b_D, ref_base.b_N]).swapaxes(0,1)\n",
    "\n",
    "def get_rot_mat_trans(x,y):\n",
    "    # load super imposer\n",
    "    sup = SVDSuperimposer()\n",
    "\n",
    "    # Set the coords, y will be rotated and translated on x\n",
    "    sup.set(x, y)\n",
    "\n",
    "    # Do the leastsquared fit\n",
    "    sup.run()\n",
    "\n",
    "    # Get the rms\n",
    "    rms = sup.get_rms()\n",
    "\n",
    "    # Get rotation (right multiplying!) and the translation\n",
    "    rot, tran = sup.get_rotran()\n",
    "    return rot, tran\n",
    "\n",
    "# Function to calculate positions from origin and vectors\n",
    "def calculate_positions(triad):\n",
    "    \n",
    "    origin = triad[0]\n",
    "    vectors = triad[1:]\n",
    "    # Each row in vectors is added to the origin to get the end position\n",
    "    end_positions = origin + vectors\n",
    "    # Combine the origin with these end positions\n",
    "    positions = np.vstack([origin, end_positions])\n",
    "    return positions\n",
    "\n",
    "\n",
    "def align_to_ref(traj):\n",
    "\n",
    "    ref = np.array([[0,0,0.0],[1,0,0],[0,1,0],[0,0,1]])\n",
    "    vectors = get_base_vectors(traj)\n",
    "    positions = calculate_positions(vectors[0])\n",
    "    ref_position =  calculate_positions(ref)\n",
    "    rot, tran = get_rot_mat_trans(ref_position,positions)\n",
    "    new_xyz = np.dot(traj.xyz[0], rot) + tran\n",
    "    traj.xyz[0] = new_xyz\n",
    "    return traj\n",
    "\n",
    "\n",
    "\n"
   ]
  },
  {
   "cell_type": "markdown",
   "metadata": {},
   "source": []
  },
  {
   "cell_type": "markdown",
   "metadata": {},
   "source": [
    "## Hachimoji"
   ]
  },
  {
   "cell_type": "code",
   "execution_count": 6,
   "metadata": {},
   "outputs": [
    {
     "name": "stdout",
     "output_type": "stream",
     "text": [
      "base_type B\n",
      "\"C1'\"\n",
      "[array([12])]\n",
      "N9\n",
      "[array([11])]\n",
      "C4\n",
      "[array([5])]\n",
      "base_type A\n",
      "\"C1'\"\n",
      "[array([10])]\n",
      "N9\n",
      "[array([11])]\n",
      "C4\n",
      "[array([21])]\n",
      "base_type Z\n",
      "\"C1'\"\n",
      "[array([1])]\n",
      "C1\n",
      "[array([0])]\n",
      "C2\n",
      "[array([2])]\n",
      "base_type S\n",
      "\"C1'\"\n",
      "[array([10])]\n",
      "C1\n",
      "[array([2])]\n",
      "C2\n",
      "[array([3])]\n",
      "base_type B\n",
      "\"C1'\"\n",
      "[array([12])]\n",
      "N9\n",
      "[array([11])]\n",
      "C4\n",
      "[array([5])]\n",
      "base_type A\n",
      "\"C1'\"\n",
      "[array([10])]\n",
      "N9\n",
      "[array([11])]\n",
      "C4\n",
      "[array([21])]\n",
      "base_type Z\n",
      "\"C1'\"\n",
      "[array([1])]\n",
      "C1\n",
      "[array([0])]\n",
      "C2\n",
      "[array([2])]\n",
      "base_type S\n",
      "\"C1'\"\n",
      "[array([10])]\n",
      "C1\n",
      "[array([2])]\n",
      "C2\n",
      "[array([3])]\n",
      "base_type B\n",
      "\"C1'\"\n",
      "[array([12])]\n",
      "N9\n",
      "[array([11])]\n",
      "C4\n",
      "[array([5])]\n",
      "base_type B\n",
      "\"C1'\"\n",
      "[array([12])]\n",
      "N9\n",
      "[array([11])]\n",
      "C4\n",
      "[array([5])]\n",
      "base_type Z\n",
      "\"C1'\"\n",
      "[array([1])]\n",
      "C1\n",
      "[array([0])]\n",
      "C2\n",
      "[array([2])]\n",
      "base_type S\n",
      "\"C1'\"\n",
      "[array([10])]\n",
      "C1\n",
      "[array([2])]\n",
      "C2\n",
      "[array([3])]\n",
      "base_type S\n",
      "\"C1'\"\n",
      "[array([10])]\n",
      "C1\n",
      "[array([2])]\n",
      "C2\n",
      "[array([3])]\n",
      "Number of bases: {'1WA': 1, '1W5': 1, 'IGU': 1, 'JSP': 1}\n"
     ]
    },
    {
     "data": {
      "application/vnd.jupyter.widget-view+json": {
       "model_id": "7273b83def98459abaf0be068565f18e",
       "version_major": 2,
       "version_minor": 0
      },
      "text/plain": [
       "NGLWidget()"
      ]
     },
     "metadata": {},
     "output_type": "display_data"
    }
   ],
   "source": [
    "hachimojis = [md.load(mdna.utils.get_data_file_path(f\"atomic/hachimoji/6mi{letter}.pdb\")).remove_solvent() for letter in ['g','h','k']]\n",
    "targets = ['1WA6', 'IGU7','JSP10','1W511','1WA5','IGU7','JSP10','1W512','1WA6','1WA7','JSP8','1W510','1W511']\n",
    "# targets = ['1WA5', 'IGU7','JSP8','1W510']\n",
    "residues = []\n",
    "for hachimoji in hachimojis:\n",
    "    top = hachimoji.topology\n",
    "    for c in top.chains:\n",
    "        for r in c.residues:\n",
    "            if str(r) in targets:\n",
    "                indices = [a.index for a in r.atoms]\n",
    "                res = hachimoji.atom_slice(indices)\n",
    "                residues.append(res)\n",
    "\n",
    "\n",
    "\n",
    "# Compute base vectors for each base (origin, right, left, normal)\n",
    "bases = {'1WA':{'res':[],'triad':[]}, '1W5':{'res':[],'triad':[]}, 'IGU':{'res':[],'triad':[]}, 'JSP':{'res':[],'triad':[]}}\n",
    "unique_bases = list(bases.keys())\n",
    "for _,res in enumerate(residues):\n",
    "    base_vectors = get_base_vectors(res)\n",
    "    res_name = str(res.topology.chain(0).residue(0).name)\n",
    "    if res_name in bases.keys():\n",
    "        if len (bases[res_name]['res']) == 0:\n",
    "            bases[res_name]['res'].append(res)\n",
    "            bases[res_name]['triad'].append(base_vectors)\n",
    "\n",
    "print('Number of bases:', {k:len(v['res']) for k,v in bases.items()})\n",
    "\n",
    "\n",
    "# Align all bases to a reference frame\n",
    "ref = np.array([[0,0,0.0],[1,0,0],[0,1,0],[0,0,1]])\n",
    "\n",
    "for name, residues in bases.items():\n",
    "  \n",
    "    positions = np.array([np.squeeze(calculate_positions(triad[0]))for triad in residues['triad']])\n",
    "    ref_position = np.array(calculate_positions(ref))\n",
    "\n",
    "    count = 0 \n",
    "    for res, pos in zip(residues['res'], positions):\n",
    "        rot, tran = get_rot_mat_trans(ref_position,pos)\n",
    "        new_xyz = np.dot(res.xyz[0], rot) + tran # + np.array([0,1,0])*count\n",
    "        res.xyz[0] = new_xyz\n",
    "\n",
    "        # bases[name]['res'][count] = res\n",
    "        count+=1\n",
    "\n",
    "\n",
    "def stack_bases(key, bases):\n",
    "    new = md.Trajectory(xyz=bases[key]['res'][0].xyz, topology=bases[key]['res'][0].topology)\n",
    "    for traj in bases[key]['res'][1:]:\n",
    "        new = new.stack(traj)\n",
    "    return new\n",
    "\n",
    "trajs = [stack_bases(key, bases) for key in unique_bases]\n",
    "\n",
    "HM_bases = md.Trajectory(trajs[0].xyz, trajs[0].topology)\n",
    "for _,traj in enumerate(trajs[1:],1):\n",
    "    #traj.xyz[0] += np.array([1,0,0])*_\n",
    "    HM_bases = HM_bases.stack(traj)\n",
    "\n",
    "view = nv.show_mdtraj(HM_bases)\n",
    "view.clear()\n",
    "a = HM_bases.top.select('resname \"1WA\"')\n",
    "b = HM_bases.top.select('resname \"1W5\"')\n",
    "c = HM_bases.top.select('resname IGU')\n",
    "d = HM_bases.top.select('resname JSP')\n",
    "\n",
    "view.add_representation('licorice', selection=a, color='blue')\n",
    "view.add_representation('licorice', selection=b, color='red')\n",
    "view.add_representation('licorice', selection=c, color='green')\n",
    "view.add_representation('licorice', selection=d, color='orange')\n",
    "view"
   ]
  },
  {
   "cell_type": "code",
   "execution_count": 7,
   "metadata": {},
   "outputs": [
    {
     "name": "stdout",
     "output_type": "stream",
     "text": [
      "original <mdtraj.Topology with 1 chains, 1 residues, 22 atoms, 24 bonds>\n",
      "loaded   <mdtraj.Topology with 1 chains, 1 residues, 22 atoms, 24 bonds>\n",
      "original <mdtraj.Topology with 1 chains, 1 residues, 22 atoms, 23 bonds>\n",
      "loaded   <mdtraj.Topology with 1 chains, 1 residues, 22 atoms, 23 bonds>\n",
      "original <mdtraj.Topology with 1 chains, 1 residues, 22 atoms, 24 bonds>\n",
      "loaded   <mdtraj.Topology with 1 chains, 1 residues, 22 atoms, 24 bonds>\n",
      "original <mdtraj.Topology with 1 chains, 1 residues, 20 atoms, 21 bonds>\n",
      "loaded   <mdtraj.Topology with 1 chains, 1 residues, 20 atoms, 21 bonds>\n"
     ]
    }
   ],
   "source": [
    "mapper = {'1WA':'B','1W5':'S','IGU':'P','JSP':'Z'}\n",
    "for res in HM_bases.top._residues:\n",
    "    indices = [a.index for a in res.atoms]\n",
    "    subtraj = HM_bases.atom_slice(indices)\n",
    "    print('original',subtraj.top)\n",
    "    subtraj.save(f'BDNA_{mapper[res.name]}.h5')\n",
    "    subtraj.save(f'BDNA_{mapper[res.name]}.pdb')\n",
    "    test = md.load_hdf5(f'BDNA_{mapper[res.name]}.h5')\n",
    "    print('loaded  ',test.top)"
   ]
  },
  {
   "cell_type": "markdown",
   "metadata": {},
   "source": [
    "## Artificial hydrophobic interaction base"
   ]
  },
  {
   "cell_type": "code",
   "execution_count": 8,
   "metadata": {},
   "outputs": [
    {
     "name": "stdout",
     "output_type": "stream",
     "text": [
      "<mdtraj.Topology with 1 chains, 1 residues, 38 atoms, 40 bonds> <mdtraj.Topology with 1 chains, 1 residues, 40 atoms, 42 bonds>\n",
      "base_type L\n",
      "\"C1'\"\n",
      "[array([12])]\n",
      "N1\n",
      "[array([2])]\n",
      "C5\n",
      "[array([7])]\n",
      "base_type M\n",
      "\"C1'\"\n",
      "[array([7])]\n",
      "C1\n",
      "[array([0])]\n",
      "C6\n",
      "[array([6])]\n",
      "base_type L\n",
      "\"C1'\"\n",
      "[array([12])]\n",
      "N1\n",
      "[array([2])]\n",
      "C5\n",
      "[array([7])]\n",
      "base_type M\n",
      "\"C1'\"\n",
      "[array([7])]\n",
      "C1\n",
      "[array([0])]\n",
      "C6\n",
      "[array([6])]\n"
     ]
    },
    {
     "data": {
      "application/vnd.jupyter.widget-view+json": {
       "model_id": "8bc4ddc8ad1349d79dd971fec1f3a4b8",
       "version_major": 2,
       "version_minor": 0
      },
      "text/plain": [
       "NGLWidget()"
      ]
     },
     "metadata": {},
     "output_type": "display_data"
    }
   ],
   "source": [
    "\n",
    "pdb = md.load(mdna.utils.get_data_file_path(f\"atomic/artificial_basepair/4c8m.pdb\")).remove_solvent()\n",
    "\n",
    "dsSICS_indices = pdb.top.select('resname LHO')\n",
    "dNaM_indices = pdb.top.select('resname BMN')\n",
    "\n",
    "SICS = pdb.atom_slice(dsSICS_indices)\n",
    "NaM = pdb.atom_slice(dNaM_indices)\n",
    "print(SICS.top, NaM.top)\n",
    "traj = SICS.stack(NaM)\n",
    "res_a = mdna.ReferenceBase(SICS)\n",
    "res_b = mdna.ReferenceBase(NaM)\n",
    "\n",
    "\n",
    "# Align all bases to a reference frame\n",
    "ref = np.array([[0,0,0],[1,0,0],[0,1,0],[0,0,1]])\n",
    "\n",
    "base_vectors_a = get_base_vectors(SICS)\n",
    "base_vectors_b = get_base_vectors(NaM)\n",
    "\n",
    "positions_a = calculate_positions(base_vectors_a[0])\n",
    "positions_b = calculate_positions(base_vectors_b[0])\n",
    "\n",
    "ref_position = calculate_positions(ref)\n",
    "\n",
    "UBPs = [SICS, NaM]\n",
    "count = 0\n",
    "for res,pos in zip([res_a, res_b],[positions_a, positions_b]):\n",
    "    rot, tran = get_rot_mat_trans(ref_position,pos)\n",
    "    new_xyz = np.dot(UBPs[count].xyz[0], rot) + tran\n",
    "    UBPs[count].xyz[0] = new_xyz\n",
    "    count+=1\n",
    "\n",
    "traj = SICS.stack(NaM)\n",
    "\n",
    "view = nv.show_mdtraj(traj)\n",
    "view.clear()\n",
    "view.add_representation('licorice')\n",
    "view\n"
   ]
  },
  {
   "cell_type": "code",
   "execution_count": 9,
   "metadata": {},
   "outputs": [
    {
     "name": "stdout",
     "output_type": "stream",
     "text": [
      "<mdtraj.Topology with 1 chains, 1 residues, 38 atoms, 40 bonds>\n",
      "<mdtraj.Topology with 1 chains, 1 residues, 38 atoms, 40 bonds>\n",
      "<mdtraj.Topology with 1 chains, 1 residues, 40 atoms, 42 bonds>\n",
      "<mdtraj.Topology with 1 chains, 1 residues, 40 atoms, 42 bonds>\n"
     ]
    }
   ],
   "source": [
    "mapper = {'LHO':'L','BMN':'M'}\n",
    "for res in traj.top._residues:\n",
    "    indices = [a.index for a in res.atoms]\n",
    "    subtraj = traj.atom_slice(indices)\n",
    "    print(subtraj.top)\n",
    "    subtraj.save(f'BDNA_{mapper[res.name]}.h5')\n",
    "    subtraj.save(f'BDNA_{mapper[res.name]}.pdb')\n",
    "    test = md.load_hdf5(f'BDNA_{mapper[res.name]}.h5')\n",
    "    print(test.top)\n",
    "\n",
    "\n",
    "  "
   ]
  },
  {
   "cell_type": "markdown",
   "metadata": {},
   "source": [
    "## Fluorescent Tetra cytosine"
   ]
  },
  {
   "cell_type": "code",
   "execution_count": 10,
   "metadata": {},
   "outputs": [
    {
     "name": "stdout",
     "output_type": "stream",
     "text": [
      "base_type D\n",
      "\"C1'\"\n",
      "[array([8])]\n",
      "N1\n",
      "[array([10])]\n",
      "C2\n",
      "[array([11])]\n",
      "base_type D\n",
      "\"C1'\"\n",
      "[array([8])]\n",
      "N1\n",
      "[array([10])]\n",
      "C2\n",
      "[array([11])]\n",
      "<mdtraj.Topology with 1 chains, 1 residues, 39 atoms, 42 bonds>\n"
     ]
    },
    {
     "name": "stderr",
     "output_type": "stream",
     "text": [
      "/Users/thor/miniforge3/envs/mdna/lib/python3.12/site-packages/mdtraj/formats/pdb/pdbfile.py:200: UserWarning: Unlikely unit cell vectors detected in PDB file likely resulting from a dummy CRYST1 record. Discarding unit cell vectors.\n",
      "  warnings.warn('Unlikely unit cell vectors detected in PDB file likely '\n"
     ]
    },
    {
     "data": {
      "application/vnd.jupyter.widget-view+json": {
       "model_id": "5e623227d28c4934a4ffcd61b117e570",
       "version_major": 2,
       "version_minor": 0
      },
      "text/plain": [
       "NGLWidget()"
      ]
     },
     "metadata": {},
     "output_type": "display_data"
    }
   ],
   "source": [
    "pdb = md.load(mdna.utils.get_data_file_path(f\"atomic/fluorescent/1tuq.pdb\")).remove_solvent()[0]\n",
    "ref = np.array([[0,0,0.0],[1,0,0],[0,1,0],[0,0,1]])\n",
    "for res in pdb.top.residues:\n",
    "    if str(res.name) == 'TC1':\n",
    "        indices = [at.index for at in res.atoms]\n",
    "        base = pdb.atom_slice(indices)\n",
    "        base = align_to_ref(base)\n",
    "        \n",
    "print(base.top)\n",
    "base.save('BDNA_D.h5')\n",
    "base.save('BDNA_D.pdb')\n",
    "view = nv.show_mdtraj(base)\n",
    "view\n",
    "\n"
   ]
  },
  {
   "cell_type": "markdown",
   "metadata": {},
   "source": [
    "### 2 Amino purine"
   ]
  },
  {
   "cell_type": "code",
   "execution_count": 11,
   "metadata": {},
   "outputs": [
    {
     "name": "stdout",
     "output_type": "stream",
     "text": [
      "base_type E\n",
      "\"C1'\"\n",
      "[array([10])]\n",
      "N9\n",
      "[array([11])]\n",
      "C4\n",
      "[array([20])]\n",
      "<mdtraj.Topology with 1 chains, 1 residues, 32 atoms, 34 bonds>\n"
     ]
    },
    {
     "name": "stderr",
     "output_type": "stream",
     "text": [
      "/Users/thor/miniforge3/envs/mdna/lib/python3.12/site-packages/mdtraj/formats/pdb/pdbfile.py:200: UserWarning: Unlikely unit cell vectors detected in PDB file likely resulting from a dummy CRYST1 record. Discarding unit cell vectors.\n",
      "  warnings.warn('Unlikely unit cell vectors detected in PDB file likely '\n"
     ]
    },
    {
     "data": {
      "application/vnd.jupyter.widget-view+json": {
       "model_id": "e8e1e129bc984abeabd9b7a540ce0410",
       "version_major": 2,
       "version_minor": 0
      },
      "text/plain": [
       "NGLWidget()"
      ]
     },
     "metadata": {},
     "output_type": "display_data"
    }
   ],
   "source": [
    "pdb = md.load(mdna.utils.get_data_file_path(f\"atomic/fluorescent/2kv0.pdb\")).remove_solvent()[0]\n",
    "for res in pdb.top.residues:\n",
    "    if str(res.name) == '2PR':\n",
    "        indices = [at.index for at in res.atoms]\n",
    "        base = pdb.atom_slice(indices)\n",
    "        base = align_to_ref(base)\n",
    "        \n",
    "print(base.top)\n",
    "base.save('BDNA_E.h5')\n",
    "base.save('BDNA_E.pdb')\n",
    "view = nv.show_mdtraj(base)\n",
    "view"
   ]
  },
  {
   "cell_type": "markdown",
   "metadata": {},
   "source": [
    "### Canonical Bases"
   ]
  },
  {
   "cell_type": "code",
   "execution_count": 18,
   "metadata": {},
   "outputs": [
    {
     "name": "stdout",
     "output_type": "stream",
     "text": [
      "DC3\n",
      "<mdtraj.Topology with 1 chains, 1 residues, 19 atoms, 20 bonds>\n",
      "<mdtraj.Topology with 1 chains, 1 residues, 19 atoms, 20 bonds>\n",
      "DG4\n",
      "<mdtraj.Topology with 1 chains, 1 residues, 22 atoms, 24 bonds>\n",
      "<mdtraj.Topology with 1 chains, 1 residues, 22 atoms, 24 bonds>\n",
      "DA5\n",
      "<mdtraj.Topology with 1 chains, 1 residues, 21 atoms, 23 bonds>\n",
      "<mdtraj.Topology with 1 chains, 1 residues, 21 atoms, 23 bonds>\n",
      "DT7\n",
      "<mdtraj.Topology with 1 chains, 1 residues, 20 atoms, 21 bonds>\n",
      "<mdtraj.Topology with 1 chains, 1 residues, 20 atoms, 21 bonds>\n"
     ]
    }
   ],
   "source": [
    "pdb = md.load(mdna.utils.get_data_file_path(f\"atomic/ddd/1bna.pdb\")).remove_solvent()\n",
    "letters = ['A','T','G','C','U']\n",
    "A = False\n",
    "G = False\n",
    "C = False\n",
    "T = False\n",
    "for res in pdb.top._residues[2:]:\n",
    "    \n",
    "    if str(res.name) == 'DA' and not A:\n",
    "        print(res)\n",
    "        A = True\n",
    "        indices = [at.index for at in res.atoms]\n",
    "        base = pdb.atom_slice(indices)\n",
    "        base = align_to_ref(base)\n",
    "        print(base.top)\n",
    "        base.save(f'BDNA_A.h5')\n",
    "        base.save(f'BDNA_A.pdb')\n",
    "        test = md.load_hdf5(f'BDNA_A.h5')\n",
    "        print(test.top)\n",
    "    elif str(res.name) == 'DT' and not T:\n",
    "        print(res)\n",
    "        T = True\n",
    "        indices = [at.index for at in res.atoms]\n",
    "        base = pdb.atom_slice(indices)\n",
    "        base = align_to_ref(base)\n",
    "        print(base.top)\n",
    "        base.save(f'BDNA_T.h5')\n",
    "        base.save(f'BDNA_T.pdb')\n",
    "        test = md.load_hdf5(f'BDNA_T.h5')\n",
    "        print(test.top)\n",
    "    elif str(res.name) == 'DG' and not T:\n",
    "        print(res)\n",
    "        G = True\n",
    "        indices = [at.index for at in res.atoms]\n",
    "        base = pdb.atom_slice(indices)\n",
    "        base = align_to_ref(base)\n",
    "        print(base.top)\n",
    "        base.save(f'BDNA_G.h5')\n",
    "        base.save(f'BDNA_G.pdb')\n",
    "        test = md.load_hdf5(f'BDNA_G.h5')\n",
    "        print(test.top)\n",
    "    elif str(res.name) == 'DC' and not T:\n",
    "        print(res)\n",
    "        C = True\n",
    "        indices = [at.index for at in res.atoms]\n",
    "        base = pdb.atom_slice(indices)\n",
    "        base = align_to_ref(base)\n",
    "        print(base.top)\n",
    "        base.save(f'BDNA_C.h5')\n",
    "        base.save(f'BDNA_C.pdb')\n",
    "        test = md.load_hdf5(f'BDNA_C.h5')\n",
    "        print(test.top)\n",
    "    \n"
   ]
  },
  {
   "cell_type": "code",
   "execution_count": 21,
   "metadata": {},
   "outputs": [
    {
     "data": {
      "application/vnd.jupyter.widget-view+json": {
       "model_id": "1d2f4e1f27c74d2c86c73228c0258501",
       "version_major": 2,
       "version_minor": 0
      },
      "text/plain": [
       "NGLWidget()"
      ]
     },
     "metadata": {},
     "output_type": "display_data"
    }
   ],
   "source": [
    "view = nv.show_mdtraj(pdb)\n",
    "view.clear()\n",
    "view.add_representation('licorice')\n",
    "view"
   ]
  },
  {
   "cell_type": "code",
   "execution_count": 12,
   "metadata": {},
   "outputs": [
    {
     "name": "stdout",
     "output_type": "stream",
     "text": [
      "base_type A\n",
      "\"C1'\"\n",
      "[array([10])]\n",
      "N9\n",
      "[array([11])]\n",
      "C4\n",
      "[array([20])]\n",
      "<mdtraj.Topology with 1 chains, 1 residues, 21 atoms, 23 bonds>\n",
      "<mdtraj.Topology with 1 chains, 1 residues, 21 atoms, 23 bonds>\n",
      "base_type T\n",
      "\"C1'\"\n",
      "[array([10])]\n",
      "N1\n",
      "[array([11])]\n",
      "C2\n",
      "[array([12])]\n",
      "<mdtraj.Topology with 1 chains, 1 residues, 20 atoms, 21 bonds>\n",
      "<mdtraj.Topology with 1 chains, 1 residues, 20 atoms, 21 bonds>\n",
      "base_type G\n",
      "\"C1'\"\n",
      "[array([10])]\n",
      "N9\n",
      "[array([11])]\n",
      "C4\n",
      "[array([21])]\n",
      "<mdtraj.Topology with 1 chains, 1 residues, 22 atoms, 24 bonds>\n",
      "<mdtraj.Topology with 1 chains, 1 residues, 22 atoms, 24 bonds>\n",
      "base_type C\n",
      "\"C1'\"\n",
      "[array([10])]\n",
      "N1\n",
      "[array([11])]\n",
      "C2\n",
      "[array([12])]\n",
      "<mdtraj.Topology with 1 chains, 1 residues, 19 atoms, 20 bonds>\n",
      "<mdtraj.Topology with 1 chains, 1 residues, 19 atoms, 20 bonds>\n",
      "base_type U\n",
      "\"C1'\"\n",
      "[array([10])]\n",
      "N1\n",
      "[array([11])]\n",
      "C2\n",
      "[array([12])]\n",
      "<mdtraj.Topology with 1 chains, 1 residues, 19 atoms, 20 bonds>\n",
      "<mdtraj.Topology with 1 chains, 1 residues, 19 atoms, 20 bonds>\n"
     ]
    }
   ],
   "source": [
    "letters = ['A','T','G','C','U']\n",
    "bases = [md.load(mdna.utils.get_data_file_path(f\"atomic/BDNA_{letter}.pdb\")).remove_solvent() for letter in letters]\n",
    "\n",
    "for _,base in enumerate(bases):\n",
    "    base = align_to_ref(base)\n",
    "    print(base.top)\n",
    "    base.save(f'BDNA_{letters[_]}.h5')\n",
    "    base.save(f'BDNA_{letters[_]}.pdb')\n",
    "    test = md.load_hdf5(f'BDNA_{letters[_]}.h5')\n",
    "    print(test.top)\n"
   ]
  },
  {
   "cell_type": "code",
   "execution_count": null,
   "metadata": {},
   "outputs": [],
   "source": []
  },
  {
   "cell_type": "code",
   "execution_count": null,
   "metadata": {},
   "outputs": [],
   "source": []
  }
 ],
 "metadata": {
  "kernelspec": {
   "display_name": "mdna",
   "language": "python",
   "name": "python3"
  },
  "language_info": {
   "codemirror_mode": {
    "name": "ipython",
    "version": 3
   },
   "file_extension": ".py",
   "mimetype": "text/x-python",
   "name": "python",
   "nbconvert_exporter": "python",
   "pygments_lexer": "ipython3",
   "version": "3.12.3"
  }
 },
 "nbformat": 4,
 "nbformat_minor": 2
}
