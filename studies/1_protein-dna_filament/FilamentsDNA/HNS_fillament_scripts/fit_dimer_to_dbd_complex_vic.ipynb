{
 "cells": [
  {
   "cell_type": "code",
   "execution_count": 2,
   "id": "c901638f-ae2e-480a-a7c8-144fe4bc6a21",
   "metadata": {},
   "outputs": [
    {
     "data": {
      "application/vnd.jupyter.widget-view+json": {
       "model_id": "e80c0698c0794f97958b1d8d2eabcf3c",
       "version_major": 2,
       "version_minor": 0
      },
      "text/plain": []
     },
     "metadata": {},
     "output_type": "display_data"
    }
   ],
   "source": [
    "import mdtraj as md\n",
    "import matplotlib.pyplot as plt\n",
    "from numpy import dot\n",
    "import nglview as nv\n",
    "import numpy as np\n",
    "\n",
    "# https://biopython.org/docs/1.74/api/Bio.SVDSuperimposer.html\n",
    "from Bio.SVDSuperimposer import SVDSuperimposer\n",
    "\n",
    "# Load H-NS dimers\n",
    "loc_dimers = './data/dimer_pdbs/'\n",
    "dimers = md.join([md.load(loc_dimers+f'run{i}.pdb') for i in range(0,16)])\n",
    "\n",
    "# Load H-NS DBD attached to DNA\n",
    "loc_complexes = './data/complex_traj/'\n",
    "complexes = md.load(loc_complexes+f'DBD_complex.xtc', top=loc_complexes+f'DBD_complex.pdb').remove_solvent()"
   ]
  },
  {
   "cell_type": "code",
   "execution_count": 3,
   "id": "f12e7b8f-3d4c-4f55-93e1-2402307c00ff",
   "metadata": {},
   "outputs": [
    {
     "name": "stdout",
     "output_type": "stream",
     "text": [
      "0\n",
      "30\n"
     ]
    }
   ],
   "source": [
    "# Extract xyz coordinates of chosen frame for complex and dimer\n",
    "def extract_coords(traj):\n",
    "    return traj.xyz[0].T\n",
    "\n",
    "# Get indices of atoms to fit, in this case only the last 48 residues, which coincide with the DBD\n",
    "def get_index(molecule, chain_idx, atoms):\n",
    "    return [at.index for res in molecule.top._chains[chain_idx]._residues[-atoms:] for at in res.atoms]\n",
    "\n",
    "def slice_transpose(molecule,molecule_idx):\n",
    "    return molecule.atom_slice(molecule_idx).xyz[0].T\n",
    "\n",
    "def superimpose(coords_a, coords_b):\n",
    "    sup = SVDSuperimposer()\n",
    "\n",
    "    # Set the coords y will be rotated and translated on x\n",
    "    x = coords_a.T\n",
    "    y = coords_b.T\n",
    "    sup.set(x, y)\n",
    "\n",
    "    # Do the lsq fit\n",
    "    sup.run()\n",
    "\n",
    "    # Get the rms\n",
    "    rms = sup.get_rms()\n",
    "\n",
    "    # Get rotation (right multiplying!) and the translation\n",
    "    rot, tran = sup.get_rotran()\n",
    "\n",
    "    # Rotate y on x\n",
    "    y_on_x1 = dot(y, rot) + tran\n",
    "\n",
    "    # Same thing\n",
    "    y_on_x2 = sup.get_transformed()\n",
    "    \n",
    "    return(rms, rot, tran)\n",
    "\n",
    "def fit(complexes, dimers, monomer, frame_dm, frame_dbd, fit_selection):\n",
    "    # van fit selection een lijst van indeces\n",
    "    dbd = complexes[frame_dbd]\n",
    "    dimer = dimers[frame_dm]\n",
    "    \n",
    "    xyz_dbd = extract_coords(dbd)\n",
    "    xyz_dimer = extract_coords(dimer)\n",
    "    \n",
    "    # getal 2 om dbd te kiezen dat gebonden is aan dna en niet dna zelf \n",
    "    dbd_idx  = get_index(complexes, 2, fit_selection)\n",
    "    # print(\"dbd_idx\")\n",
    "    # print(len(dbd_idx))\n",
    "    # print(dbd_idx)\n",
    "    monomer_idx  = get_index(dimers, monomer, fit_selection)\n",
    "    # print(\"monomer_idx\")\n",
    "    # print(len(monomer_idx))\n",
    "    # print(monomer_idx)\n",
    "    \n",
    "    atom_set_dbd = slice_transpose(dbd, dbd_idx)\n",
    "    atom_set_dimer = slice_transpose(dimer, monomer_idx)\n",
    "    \n",
    "    si_result = superimpose(atom_set_dbd, atom_set_dimer)\n",
    "\n",
    "    rms = si_result[0]\n",
    "    rot = si_result[1]\n",
    "    tran = si_result[2]\n",
    "    \n",
    "    a = xyz_dbd.T\n",
    "    b = xyz_dimer.T\n",
    "\n",
    "    # rotate b on a\n",
    "    b_on_a1 = dot(b, rot) + tran\n",
    "\n",
    "    # replace coordinates \n",
    "    dimers.xyz[frame_dm] = b_on_a1\n",
    "    \n",
    "    fitted = complexes[0].stack(dimers[frame_dm])\n",
    "    \n",
    "    selection = [at.index for idx,chain in enumerate(fitted.top.chains) if idx != 2 for at in chain.atoms]\n",
    "    # probably easiest to use atomslice to remove/delete monomer\n",
    "    final = fitted.atom_slice(selection)\n",
    "    \n",
    "    # return final\n",
    "    return final, rms\n",
    "\n",
    "# nomenclature for variables is not general but at the moment specifically for dbd and dimer because that is\n",
    "# what's being loaded in to this program. This can easily be changed to a more general nomenclature when needed\n",
    "#\n",
    "# usage: main(complexes, dimers, monomer, frame_dm, frame_dbd, fit_selection)\n",
    "# where \n",
    "# complexes: trajectory object of target for fit\n",
    "# dimers: trajectory object of subject to fit on target\n",
    "# monomer: which monomer of the dimer will be used for fitting (0 or 1)\n",
    "# frame_dm: which frame of the dimer trajectory will be used\n",
    "# frame_dbd: which frame of the target will be used\n",
    "# fit_selection: which atoms of the monomer will be used for the fitting\n",
    "\n",
    "# final = fit(complexes, dimers, 0, 11, 0, 48)\n",
    "# final_traj = final[0]\n",
    "# final_traj\n",
    "\n",
    "all_rms = []\n",
    "counter = 0\n",
    "max_rms = 0\n",
    "traj_max_rms = 0\n",
    "trajs = []\n",
    "\n",
    "for target_frame in range(1):\n",
    "    for dimer_frame in range(16):\n",
    "        for monomer in range(2):\n",
    "            traj, rms = fit(complexes, dimers, monomer, dimer_frame, target_frame, 48)\n",
    "            trajs.append(traj)\n",
    "            all_rms.append(rms)\n",
    "            # if rms > max_rms:\n",
    "            #     traj_max_rms = rms\n",
    "            if counter % 30 == 0:\n",
    "                print(counter)\n",
    "            \n",
    "            counter += 1\n",
    "            \n",
    "# print(max(all_rms))\n",
    "# plt.hist(all_rms, bins = 20)\n",
    "# print(traj_max_rms)\n",
    "# final = traj_max_rms\n",
    "# view = nv.show_mdtraj(traj_max_rms)\n",
    "# view\n",
    "# print(trajs)\n",
    "\n",
    "\n",
    "            "
   ]
  },
  {
   "cell_type": "code",
   "execution_count": 4,
   "id": "de986330-5d6e-4bca-b719-a1ddad351a16",
   "metadata": {},
   "outputs": [],
   "source": [
    "# make one trajectory of multiple frames with worst fit as first frame and best as last\n",
    "all_trajs = md.join(trajs, check_topology = True, discard_overlapping_frames = False)\n",
    "all_trajs = all_trajs[np.argsort(all_rms)]\n",
    "\n"
   ]
  },
  {
   "cell_type": "code",
   "execution_count": 4,
   "id": "04d87588-5bee-436b-9a8d-1a99746be741",
   "metadata": {},
   "outputs": [
    {
     "name": "stdout",
     "output_type": "stream",
     "text": [
      "[0.6911098171704878, 1.1583296517598691, 0.447661086614389, 1.1048988096807257, 0.6339176596379676, 1.1038043343228565, 0.41999531783371147, 1.1954009042343756, 0.4957010497179811, 1.1252495560229114, 0.5200595028810081, 1.1539799246800364, 0.5358679903838062, 1.1483413029800205, 0.5535625302282154, 1.1840230655684243, 0.44061448416187743, 1.1113855100403254, 0.5083175524300924, 1.321919464314594, 0.2901319844898188, 1.156401330545798, 0.39875185214701325, 1.082289764737237, 0.4242540030068672, 1.1882871619079194, 0.40682508482227414, 1.153662055230801, 0.47518115714494524, 1.1979574518179543, 0.48027569754770555, 1.1012447012809723]\n"
     ]
    }
   ],
   "source": [
    "print(all_rms)"
   ]
  },
  {
   "cell_type": "code",
   "execution_count": 5,
   "id": "7826929b-bcee-4665-8ad4-efb57b502634",
   "metadata": {},
   "outputs": [],
   "source": [
    "bad_indices = np.random.randint(low=0, high=5000, size=100)"
   ]
  },
  {
   "cell_type": "code",
   "execution_count": 6,
   "id": "fad87952-c44b-4566-8161-42ab65877639",
   "metadata": {},
   "outputs": [
    {
     "data": {
      "application/vnd.jupyter.widget-view+json": {
       "model_id": "6568812431184be3969854fadec29565",
       "version_major": 2,
       "version_minor": 0
      },
      "text/plain": [
       "NGLWidget(max_frame=31)"
      ]
     },
     "metadata": {},
     "output_type": "display_data"
    }
   ],
   "source": [
    "# for atom in final_traj.xyz\n",
    "view = nv.show_mdtraj(all_trajs)\n",
    "# view.clear()#\n",
    "view.add_representation('ball+stick',selection=bad_indices,color='red',size=100)\n",
    "view"
   ]
  },
  {
   "cell_type": "code",
   "execution_count": 7,
   "id": "f6f7dd3e-4c05-4a0b-9949-30d2b82fb974",
   "metadata": {},
   "outputs": [],
   "source": [
    "dna_idx = all_trajs.topology.select(\"not protein\")\n",
    "dimer_idx = all_trajs.topology.select(\"protein\")\n",
    "\n",
    "pairs = [[i, j] for i in dna_idx for j in dimer_idx]\n",
    "distances = md.compute_distances(all_trajs, pairs)\n"
   ]
  },
  {
   "cell_type": "code",
   "execution_count": 8,
   "id": "94fa2f78-a1f6-4389-882c-281d872d6d99",
   "metadata": {},
   "outputs": [
    {
     "name": "stdout",
     "output_type": "stream",
     "text": [
      "(32, 5548960)\n"
     ]
    }
   ],
   "source": [
    "print(distances.shape)"
   ]
  },
  {
   "cell_type": "code",
   "execution_count": 9,
   "id": "fcaa6d7e-da2e-42d5-a79c-17a2622abed3",
   "metadata": {},
   "outputs": [],
   "source": [
    "# find original minimum distance\n",
    "# # te grote dataset\n",
    "# print(complexes)\n",
    "# dna_idx_og = complexes.topology.select(\"not protein\")\n",
    "# dimer_idx_og = complexes.topology.select(\"protein\")\n",
    "# og_pairs = [[i, j] for i in dna_idx_og for j in dimer_idx_og]\n",
    "# og_distances = md.compute_distances(complexes, og_pairs)\n",
    "frame = complexes[0]\n",
    "dna_idx_og = frame.topology.select(\"not protein\")\n",
    "dimer_idx_og = frame.topology.select(\"protein\")\n",
    "og_pairs = [[i, j] for i in dna_idx_og for j in dimer_idx_og]\n",
    "og_distances = md.compute_distances(frame, og_pairs)"
   ]
  },
  {
   "cell_type": "code",
   "execution_count": 17,
   "id": "2552b139-bd40-4c70-8f96-f857b29f4a8e",
   "metadata": {},
   "outputs": [
    {
     "name": "stdout",
     "output_type": "stream",
     "text": [
      "(1, 1156560)\n",
      "1156560\n",
      "\n",
      "[0, 1264]\n",
      "[0, 1364]\n",
      "[1, 1349]\n",
      "\n",
      "1264\n",
      "915\n",
      "\n",
      "<class 'list'>\n",
      "<class 'list'>\n",
      "<class 'numpy.int64'>\n",
      "[3.0983002 3.1295998 3.1285558 ... 4.855035  4.7650557 4.8606434]\n",
      "1156560\n",
      "1\n"
     ]
    }
   ],
   "source": [
    "# 915 atoms in dimer make pairs with 1264 atoms of dna\n",
    "# pairs is a list of lists, every index is a list containing to integers\n",
    "# the integers are the indexes of the atoms that make the pair\n",
    "print(og_distances.shape)\n",
    "print(len(og_pairs))\n",
    "\n",
    "print()\n",
    "\n",
    "print(og_pairs[0])\n",
    "print(og_pairs[100])\n",
    "print(og_pairs[1000])\n",
    "\n",
    "print()\n",
    "\n",
    "print(len(dna_idx_og))\n",
    "print(len(dimer_idx_og))\n",
    "\n",
    "print()\n",
    "\n",
    "print(type(og_pairs))\n",
    "print(type(og_pairs[0]))\n",
    "print(type(og_pairs[0][0]))\n",
    "\n",
    "print(og_distances[0])\n",
    "print(len(og_distances[0]))\n",
    "print(len(og_distances))"
   ]
  },
  {
   "cell_type": "code",
   "execution_count": null,
   "id": "ce97b390-11b1-4e98-ba43-0a5972aaf0eb",
   "metadata": {},
   "outputs": [],
   "source": []
  },
  {
   "cell_type": "code",
   "execution_count": 32,
   "id": "18b0590c-3715-435e-8f35-c5e7b13421ab",
   "metadata": {},
   "outputs": [
    {
     "name": "stdout",
     "output_type": "stream",
     "text": [
      "0.17759518\n",
      "rest\n",
      "[189, 1357]\n",
      "173028\n",
      "0.17759518\n"
     ]
    }
   ],
   "source": [
    "min_dist_og = np.min(og_distances)\n",
    "print(min_dist_og)\n",
    "print(\"rest\")\n",
    "\n",
    "for x in range(len(og_distances)): \n",
    "    smallest_distance = np.min(og_distances[x])\n",
    "    smallest_distance_idx = np.argmin(og_distances[x])\n",
    "    print(og_pairs[smallest_distance_idx])\n",
    "    print(smallest_distance_idx)\n",
    "    print(smallest_distance)"
   ]
  },
  {
   "cell_type": "code",
   "execution_count": 44,
   "id": "5eb2fa34-3430-4a11-b7c8-826cab37a006",
   "metadata": {},
   "outputs": [],
   "source": [
    "# distances is 1D list of distances\n",
    "# pairs is list of tuples/lists containing a pair of atom indices\n",
    "# top is the topology which is analyzed\n",
    "def overlap(distances, pairs, top):\n",
    "    # give n smallest distances\n",
    "    # smallest_distances = \n",
    "    sml_dist = np.min(distances)\n",
    "    sml_dist_idx = np.argmin(distances)\n",
    "    pair = pairs[sml_dist_idx]\n",
    "    atom_a = top.atom(pair[0])\n",
    "    atom_b = top.atom(pair[1])\n",
    "    \n",
    "    return sml_dist, pair, atom_a, atom_b\n",
    "\n"
   ]
  },
  {
   "cell_type": "code",
   "execution_count": 55,
   "id": "eb919262-72d6-4c30-9898-707d397cb449",
   "metadata": {},
   "outputs": [
    {
     "name": "stdout",
     "output_type": "stream",
     "text": [
      "(0.17759518, [189, 1357], DC7-OP2, THR8-HG1)\n"
     ]
    },
    {
     "data": {
      "text/plain": [
       "array([ 217,  218,  219,  220,  221,  222,  223,  224,  225,  226,  227,\n",
       "        228,  229,  230,  231,  232,  233,  234,  235,  236,  237,  238,\n",
       "        239,  240,  241,  242,  243,  244,  245,  246,  247,  248,  849,\n",
       "        850,  851,  852,  853,  854,  855,  856,  857,  858,  859,  860,\n",
       "        861,  862,  863,  864,  865,  866,  867,  868,  869,  870,  871,\n",
       "        872,  873,  874,  875,  876,  877,  878,  879,  880, 1346, 1347,\n",
       "       1348, 1349, 1350, 1351, 1352, 1353, 1354, 1355, 1356, 1357, 1358,\n",
       "       1359])"
      ]
     },
     "execution_count": 55,
     "metadata": {},
     "output_type": "execute_result"
    }
   ],
   "source": [
    "test = overlap(og_distances[0], og_pairs, frame.topology)\n",
    "print(test)\n",
    "top.select('residue 8')\n",
    "# top = frame.topology\n",
    "# sml_dist = test[0]\n",
    "# atom_a = test[1][0]\n",
    "# # atom_a = frame.topology.select(f\"atom {test[1][0]}\")\n",
    "# atom_a = top.atom(189)\n",
    "# print(frame.topology)\n",
    "# atom_b = test[1][1]\n",
    "# print(test)\n",
    "# print(sml_dist)\n",
    "# print(atom_a)\n",
    "# print(atom_b)"
   ]
  },
  {
   "cell_type": "code",
   "execution_count": 12,
   "id": "c9de11fa-4e6f-46eb-a95d-71271d1e4327",
   "metadata": {},
   "outputs": [
    {
     "name": "stdout",
     "output_type": "stream",
     "text": [
      "[0 1]\n"
     ]
    },
    {
     "ename": "NameError",
     "evalue": "name 'final' is not defined",
     "output_type": "error",
     "traceback": [
      "\u001b[0;31m---------------------------------------------------------------------------\u001b[0m",
      "\u001b[0;31mNameError\u001b[0m                                 Traceback (most recent call last)",
      "\u001b[0;32m/tmp/ipykernel_588/157607554.py\u001b[0m in \u001b[0;36m<module>\u001b[0;34m\u001b[0m\n\u001b[1;32m     20\u001b[0m \u001b[0;34m\u001b[0m\u001b[0m\n\u001b[1;32m     21\u001b[0m \u001b[0mprint\u001b[0m\u001b[0;34m(\u001b[0m\u001b[0mnp\u001b[0m\u001b[0;34m.\u001b[0m\u001b[0marray\u001b[0m\u001b[0;34m(\u001b[0m\u001b[0;34m(\u001b[0m\u001b[0;36m0\u001b[0m\u001b[0;34m,\u001b[0m \u001b[0;36m1\u001b[0m\u001b[0;34m)\u001b[0m\u001b[0;34m)\u001b[0m\u001b[0;34m)\u001b[0m\u001b[0;34m\u001b[0m\u001b[0;34m\u001b[0m\u001b[0m\n\u001b[0;32m---> 22\u001b[0;31m \u001b[0;32mfor\u001b[0m \u001b[0matom_dimer_idx\u001b[0m \u001b[0;32min\u001b[0m \u001b[0mrange\u001b[0m\u001b[0;34m(\u001b[0m\u001b[0;36m0\u001b[0m\u001b[0;34m,\u001b[0m \u001b[0mfinal\u001b[0m\u001b[0;34m.\u001b[0m\u001b[0mn_atoms\u001b[0m \u001b[0;34m-\u001b[0m \u001b[0;36m5717\u001b[0m\u001b[0;34m)\u001b[0m\u001b[0;34m:\u001b[0m\u001b[0;34m\u001b[0m\u001b[0;34m\u001b[0m\u001b[0m\n\u001b[0m\u001b[1;32m     23\u001b[0m     \u001b[0;32mfor\u001b[0m \u001b[0matom_b_idx\u001b[0m \u001b[0;32min\u001b[0m \u001b[0mrange\u001b[0m\u001b[0;34m(\u001b[0m\u001b[0mfinal\u001b[0m\u001b[0;34m.\u001b[0m\u001b[0mn_atoms\u001b[0m \u001b[0;34m-\u001b[0m \u001b[0;36m5700\u001b[0m\u001b[0;34m)\u001b[0m\u001b[0;34m:\u001b[0m\u001b[0;34m\u001b[0m\u001b[0;34m\u001b[0m\u001b[0m\n\u001b[1;32m     24\u001b[0m         \u001b[0;32mif\u001b[0m \u001b[0matom_a_idx\u001b[0m \u001b[0;34m!=\u001b[0m \u001b[0matom_b_idx\u001b[0m\u001b[0;34m:\u001b[0m\u001b[0;34m\u001b[0m\u001b[0;34m\u001b[0m\u001b[0m\n",
      "\u001b[0;31mNameError\u001b[0m: name 'final' is not defined"
     ]
    }
   ],
   "source": [
    "# oude onzin evt nog nodig:\n",
    "\n",
    "#     md.compute\n",
    "#     atom = final.xyz[frame_idx, atom_idx,:]\n",
    "# print(atom[0])\n",
    "# print(atom[2])\n",
    "# print(type(atom))\n",
    "\n",
    "# Get all coordinates of atoms\n",
    "# Find out how coordinates relate to distance in Angstrom (min distance between atoms = 2 angstrom = 0.2 nm)\n",
    "# Write script that can check for every atom of any atom is within a 2 angstrom distance apart from itself\n",
    "### - apart from itself\n",
    "### - save atom checked and atoms that are to close to it (maybe in a dict, key = checked atom, values = atoms that are too close\n",
    "        \n",
    "# # calculating the average distance between two atoms\n",
    "# import mdtraj as md\n",
    "# import numpy as np\n",
    "# t = md.load('trajectory.h5')\n",
    "# np.mean(np.sqrt(np.sum((t.xyz[:, 0, :] - t.xyz[:, 21, :])**2, axis=1)))\n",
    "\n",
    "print(np.array((0, 1)))\n",
    "for atom_dimer_idx in range(0, final.n_atoms - 5717):\n",
    "    for atom_b_idx in range(final.n_atoms - 5700):\n",
    "        if atom_a_idx != atom_b_idx:\n",
    "            print(atom_a_idx)\n",
    "            print(atom_b_idx)\n",
    "            print(topology.atom(atom_a_idx))\n",
    "            print(topology.atom(atom_b_idx))\n",
    "            # atom_pair = topology.select_pairs(np.array(atom_a_idx), np.array(atom_b_idx))\n",
    "            distance = md.compute_distances(final, np.array([[atom_a_idx, atom_b_idx]]))\n",
    "            # distance = md.compute_distances(final, np.array(atom_pair))\n",
    "            # distance = md.compute_distances(final, np.array(atom_a_idx, atom_b_idx))\n",
    "            \n",
    "            print(distance)\n",
    "            \n",
    "            # print(topology.atom(atom_a_idx))\n",
    "            # print(topology.atom(atom_b_idx))\n",
    "            # atom_pair = topology.select_pairs(np.array(atom_a_idx), np.array(atom_b_idx))\n",
    "            # distance = md.compute_distances(topology, np.array(atom_pair))\n",
    "            # distance = md.compute_distances(topology, np.array(atom_a_idx, atom_b_idx))"
   ]
  },
  {
   "cell_type": "code",
   "execution_count": null,
   "id": "90117821-0057-4acf-9ffd-2077ba714693",
   "metadata": {},
   "outputs": [],
   "source": []
  },
  {
   "cell_type": "code",
   "execution_count": null,
   "id": "610f8216-cb57-4434-b551-f239ef11e398",
   "metadata": {},
   "outputs": [],
   "source": []
  }
 ],
 "metadata": {
  "kernelspec": {
   "display_name": "Python 3 (ipykernel)",
   "language": "python",
   "name": "python3"
  },
  "language_info": {
   "codemirror_mode": {
    "name": "ipython",
    "version": 3
   },
   "file_extension": ".py",
   "mimetype": "text/x-python",
   "name": "python",
   "nbconvert_exporter": "python",
   "pygments_lexer": "ipython3",
   "version": "3.8.5"
  }
 },
 "nbformat": 4,
 "nbformat_minor": 5
}
