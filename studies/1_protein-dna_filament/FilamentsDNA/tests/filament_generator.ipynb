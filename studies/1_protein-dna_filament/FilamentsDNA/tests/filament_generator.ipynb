{
 "cells": [
  {
   "cell_type": "code",
   "execution_count": 1,
   "id": "9f4a417e-9d7e-447a-9a88-ca50039eab0a",
   "metadata": {},
   "outputs": [
    {
     "data": {
      "application/vnd.jupyter.widget-view+json": {
       "model_id": "a386e7cf0c31427795da5acacfb0fa75",
       "version_major": 2,
       "version_minor": 0
      },
      "text/plain": []
     },
     "metadata": {},
     "output_type": "display_data"
    }
   ],
   "source": [
    "import numpy as np\n",
    "import seaborn as sns\n",
    "import mdtraj as md\n",
    "import matplotlib.pyplot as plt\n",
    "import nglview as nv\n",
    "\n",
    "# https://biopython.org/docs/1.74/api/Bio.SVDSuperimposer.html\n",
    "from Bio.SVDSuperimposer import SVDSuperimposer\n",
    "\n",
    "from numpy import array, dot, set_printoptions"
   ]
  },
  {
   "cell_type": "code",
   "execution_count": 2,
   "id": "e0e894b8-53a3-4a7d-8eb8-5486fdaa2fe7",
   "metadata": {},
   "outputs": [],
   "source": [
    "import sys\n",
    "# insert at 1, 0 is the script path (or '' in REPL)\n",
    "sys.path.insert(1, '/Users/thor/surfdrive/Scripts/notebooks/HNS-sequence/WorkingDir/4_dimer/')\n",
    "#sys.path.insert(1, '/Users/heesch/surfdrive/Scripts/notebooks/HNS-sequence/WorkingDir')\n",
    "from gen_filament import *\n",
    "\n",
    "%load_ext autoreload\n",
    "%autoreload 2"
   ]
  },
  {
   "cell_type": "code",
   "execution_count": 2,
   "id": "9baba186-bf6e-4811-a491-0eddddafd35a",
   "metadata": {},
   "outputs": [],
   "source": [
    "# link to openmm manual for how to set up a minimizer\n",
    "# http://docs.openmm.org/7.2.0/userguide/application.html"
   ]
  },
  {
   "cell_type": "code",
   "execution_count": 4,
   "id": "d9103ba1-c0de-48e4-bc42-c90831a3fd48",
   "metadata": {},
   "outputs": [],
   "source": [
    "# Load H-NS s1s1 dimers\n",
    "loc_dimers = './data/0_s1s1/drytrajs/'\n",
    "short_trajs = [md.load(loc_dimers+f'dry_{i}.xtc',top=loc_dimers+f'dry_{i}.pdb').remove_solvent() for i in range(0,16)]\n",
    "#start_open = md.load(loc_dimers+f'dry_open.xtc',top=loc_dimers+f'dry_open.pdb').remove_solvent()\n",
    "#start_closed = md.load(loc_dimers+f'dry_closed.xtc',top=loc_dimers+f'dry_closed.pdb').remove_solvent()\n",
    "\n",
    "#s1s1 = md.join([start_open,start_closed,md.join(short_trajs)])\n",
    "s1s1 = md.join(short_trajs)\n",
    "\n",
    "# Load H-NS s2s2 dimers\n",
    "loc_dimers = './data/1_s2s2/drytrajs/'\n",
    "short_trajs = [md.load(loc_dimers+f'dry_{i}.xtc',top=loc_dimers+f'dry_{i}.pdb').remove_solvent() for i in range(0,10)]\n",
    "\n",
    "s2s2 = md.join(short_trajs)"
   ]
  },
  {
   "cell_type": "code",
   "execution_count": 5,
   "id": "a3d9e55c-99a1-45db-9311-334141df9309",
   "metadata": {},
   "outputs": [],
   "source": [
    "def check_selection(top,selection):\n",
    "    if selection == 'CA':\n",
    "        indices = top.select('name CA')\n",
    "    elif selection == 'backbone':\n",
    "        indices = top.select('backbone')\n",
    "    elif selection == 'sidechain':\n",
    "        indices = top.select('sidechain')\n",
    "    else:\n",
    "        indices = top.select('all')   \n",
    "    return indices \n",
    "\n",
    "def get_monomer_domain_indices(top,domain,chain=0,selection=None):\n",
    "    residues = np.array(top._chains[chain]._residues)\n",
    "    indices = check_selection(top,selection)\n",
    "    return [at.index for res in residues[domain] for at in res.atoms if at.index in indices]\n",
    "    \n",
    "\n",
    "def show_domain(system,domain):\n",
    "    # shows first frame\n",
    "    top = system.top\n",
    "    view = nv.show_mdtraj(system[0])\n",
    "    view.clear()\n",
    "    indices = get_monomer_domain_indices(top,domains[domain],chain=0)\n",
    "    view.add_representation('cartoon',selection=[i for i in  top.select('all') if i not in indices],color='cornflowerblue')\n",
    "    top = system.topology\n",
    "    chain_id = 0\n",
    "    indices = get_monomer_domain_indices(top,domains[domain],chain=chain_id)\n",
    "    view.add_representation('cartoon',selection=indices,color='gold')\n",
    "    top = system.topology\n",
    "    chain_id = 1\n",
    "    indices = get_monomer_domain_indices(top,domains[domain],chain=chain_id)\n",
    "    view.add_representation('cartoon',selection=indices,color='red')\n",
    "    return view\n",
    "\n",
    "\n",
    "def get_segment_structures(traj,segments,site='dbd'):\n",
    "    chain_a = get_monomer_domain_indices(top=traj.top, domain=segments[site], chain=0, selection=None)\n",
    "    chain_b = get_monomer_domain_indices(top=traj.top, domain=segments[site], chain=1, selection=None)\n",
    "    A = traj.atom_slice(chain_a)\n",
    "    B = traj.atom_slice(chain_b)\n",
    "    return md.join([A,B])\n",
    "\n",
    "def get_site_structures(traj,segements,site='s1'):\n",
    "    chain_a = get_monomer_domain_indices(top=traj.top, domain=segments[site], chain=0, selection=None)\n",
    "    chain_b = get_monomer_domain_indices(top=traj.top, domain=segments[site], chain=1, selection=None)\n",
    "    return traj.atom_slice(np.sort(chain_a+chain_b))\n",
    "\n",
    "pairs = [['s1','h3'],\n",
    "         ['h3','s2'],\n",
    "         ['s2','l2'],\n",
    "         ['l2','dbd']]\n",
    "n = 2\n",
    "\n",
    "segments = {'s1':np.arange(0,41+n),\n",
    "            'h3':np.arange(41-n,53+n),\n",
    "            's2':np.arange(53-n,82+n),\n",
    "            'l2':np.arange(82-n,95+n),\n",
    "            'dbd':np.arange(95-n,137)}\n",
    "k = 100\n",
    "s1 = get_site_structures(s1s1,segments,site='s1')[::k]\n",
    "s2 = get_site_structures(s2s2,segments,site='s2')[::k]\n",
    "\n",
    "h3_s1s1 = get_segment_structures(s1s1,segments,site='h3')\n",
    "h3_s2s2 = get_segment_structures(s2s2,segments,site='h3')\n",
    "h3 = md.join([h3_s1s1,h3_s2s2])[::k]\n",
    "\n",
    "l2_s1s1 = get_segment_structures(s1s1,segments,site='l2')\n",
    "l2_s2s2 = get_segment_structures(s2s2,segments,site='l2')\n",
    "l2 = md.join([l2_s1s1,l2_s2s2])[::k]\n",
    "\n",
    "dbd_s1s1 = get_segment_structures(s1s1,segments,site='dbd')\n",
    "dbd_s2s2 = get_segment_structures(s2s2,segments,site='dbd')\n",
    "dbd = md.join([dbd_s1s1,dbd_s2s2])[::k]"
   ]
  },
  {
   "cell_type": "code",
   "execution_count": 9,
   "id": "50b48d10-0806-4abd-ac6e-27bb3ea85f64",
   "metadata": {},
   "outputs": [],
   "source": [
    "def add_pair(traj,pair,site_map,leading_chain=0,adding_chain=0,verbose=False,reverse=False,segment='fixed'):\n",
    "    keep_resSeq = False\n",
    "    A,B,C=None,None,None\n",
    "    site_a, site_b = pair\n",
    "    if verbose:\n",
    "        print(site_a,site_b)\n",
    "        \n",
    "    if not traj:\n",
    "        if segment == 'fixed':\n",
    "            x,y = 40,90\n",
    "        elif segment == 'random':\n",
    "            k = len(site_map[site_a])\n",
    "            l = len(site_map[site_b])\n",
    "            x,y = np.random.randint(0,k,1)[0],np.random.randint(0,l,1)[0]\n",
    "        A = site_map[site_a][x]\n",
    "        B = site_map[site_b][y]\n",
    "    else:\n",
    "        if segment == 'fixed':\n",
    "            z = 20\n",
    "        elif segment == 'random':\n",
    "            k = len(site_map[site_b])\n",
    "            z = np.random.randint(0,k,1)[0]\n",
    "        A = traj\n",
    "        B = site_map[site_b][z]\n",
    "        \n",
    "    # check if site had dimerization site\n",
    "    dimer_a = check_if_dimerization(site_a)\n",
    "    dimer_b = check_if_dimerization(site_b)\n",
    "    if verbose:\n",
    "        print(dimer_a, dimer_b)\n",
    "        \n",
    "    # get_termini of site a and b\n",
    "    terminus_a, terminus_b = get_termini(site_a,site_b)\n",
    "    \n",
    "    # determine growth direction (forward, or reverse)\n",
    "    if terminus_a == 'C_terminus':\n",
    "        reverse = True\n",
    "    else:\n",
    "        reverse = False\n",
    "        \n",
    "    # get atom indices of overlapping segements\n",
    "    overlap_A = get_overlap_indices(A.top,n,chain=leading_chain,terminus=terminus_a)\n",
    "    overlap_B = get_overlap_indices(B.top,n,chain=adding_chain,terminus=terminus_b)\n",
    "    \n",
    "    # make sure overlapping indices are consistent\n",
    "    check = check_overlaps(overlap_A,overlap_B)\n",
    "    if check:\n",
    "        return check\n",
    "    \n",
    "    # obtain superimposition of B on A\n",
    "    new_B = fit_B_on_A(A,B,overlap_A,overlap_B)\n",
    "    \n",
    "    # remove overlapping selection from A used for fit\n",
    "    new_A = remove_overlap(A,overlap_A)\n",
    "    \n",
    "    # splits topology in leading chain and remainder (not leading chain(s))\n",
    "    A_active, A_passive = split_chain_topology(new_A,leading_chain)\n",
    "    \n",
    "    if dimer_b:\n",
    "        # splits topology in leading chain and remainder (not adding chain(s))\n",
    "        B_active, B_passive = split_chain_topology(new_B,adding_chain)\n",
    "            \n",
    "        # add B to active part of A (and make sure they are in same chain)\n",
    "        if reverse:\n",
    "            temp = merge_chain_topology(B_active,A_active,keep_resSeq=keep_resSeq)\n",
    "        else:\n",
    "            temp = merge_chain_topology(A_active,B_active,keep_resSeq=keep_resSeq)\n",
    "            \n",
    "        C_temp = temp.stack(A_passive,keep_resSeq=keep_resSeq)\n",
    "        C =  C_temp.stack(B_passive,keep_resSeq=keep_resSeq)\n",
    "    else:\n",
    "        # add B to active part of A (and make sure they are in same chain)\n",
    "        if reverse:\n",
    "            temp = merge_chain_topology(new_B,A_active)\n",
    "        else:\n",
    "            temp = merge_chain_topology(A_active,new_B)\n",
    "        # combine passive part with new structure (active part of A and B)\n",
    "        C = temp.stack(A_passive,keep_resSeq=keep_resSeq)\n",
    "        \n",
    "    return C\n",
    "\n",
    "def add_dimer(traj, chainid = 0, verbose=False, segment='random'):\n",
    "    \n",
    "    s1_pairs = [['s1', 'h3'],['h3','s2'],['s2','l2'],['l2','dbd']]\n",
    "    s2_pairs = [['s2','h3'],['h3','s1'],['s2', 'l2'],['l2','dbd']]\n",
    "    \n",
    "    for idx,pair in enumerate(s2_pairs):\n",
    "        if idx > 0:\n",
    "            leading_chain = 0\n",
    "        else:\n",
    "            leading_chain = chainid\n",
    "        traj = add_pair(traj,pair,site_map,leading_chain=leading_chain,verbose=verbose,segment=segment)\n",
    "\n",
    "    for idx,pair in enumerate(s1_pairs):\n",
    "        if idx > 0:\n",
    "            leading_chain = 0\n",
    "        else:\n",
    "            leading_chain =  chainid + 2\n",
    "        traj = add_pair(traj,pair,site_map,leading_chain=leading_chain,verbose=verbose,segment=segment)\n",
    "    return traj"
   ]
  },
  {
   "cell_type": "code",
   "execution_count": 8,
   "id": "94577129-0188-4fa2-bc36-9962a97998be",
   "metadata": {},
   "outputs": [],
   "source": [
    "site_map = {'s1':s1,\n",
    "           'h3':h3,\n",
    "           's2':s2,\n",
    "           'l2':l2,\n",
    "           'dbd':dbd}"
   ]
  },
  {
   "cell_type": "code",
   "execution_count": 12,
   "id": "f45e4add-7683-4caf-bcfe-b17970af7809",
   "metadata": {},
   "outputs": [
    {
     "name": "stdout",
     "output_type": "stream",
     "text": [
      "0\n",
      "1\n",
      "2\n",
      "3\n",
      "4\n",
      "5\n",
      "6\n",
      "7\n",
      "[137, 137, 137, 137, 137, 137, 137, 137, 137, 137, 137, 137, 137, 137, 137, 137, 33, 33]\n"
     ]
    }
   ],
   "source": [
    "traj = None\n",
    "dimers = 8\n",
    "\n",
    "i = 0\n",
    "for idx in range(dimers):\n",
    "    print(idx)\n",
    "    traj = add_dimer(traj,i,segment='fixed')\n",
    "    i+=2\n",
    "\n",
    "print([c.n_residues for c in traj.top.chains])"
   ]
  },
  {
   "cell_type": "code",
   "execution_count": 13,
   "id": "e751b63b-3fb9-47af-a53e-d3576155f324",
   "metadata": {},
   "outputs": [
    {
     "data": {
      "application/vnd.jupyter.widget-view+json": {
       "model_id": "93103cf89a33430fb8b3becb57ccfee4",
       "version_major": 2,
       "version_minor": 0
      },
      "text/plain": [
       "NGLWidget()"
      ]
     },
     "metadata": {},
     "output_type": "display_data"
    }
   ],
   "source": [
    "view = nv.show_mdtraj(traj.atom_slice(traj.top.select(f'chainid 0 to {(dimers*2)-1}')))\n",
    "view"
   ]
  },
  {
   "cell_type": "code",
   "execution_count": 14,
   "id": "a03296ef-e6ff-440c-afe9-129e5795332e",
   "metadata": {},
   "outputs": [],
   "source": [
    "traj.atom_slice(traj.top.select(f'chainid 0 to {(dimers*2)-1}')).save('./octa_dimer.pdb')"
   ]
  },
  {
   "cell_type": "code",
   "execution_count": 92,
   "id": "8717ff4e-6c74-4b16-b14d-ae7bca9548b9",
   "metadata": {},
   "outputs": [
    {
     "data": {
      "application/vnd.jupyter.widget-view+json": {
       "model_id": "dd9af187d9c04105a31ad092815a21ef",
       "version_major": 2,
       "version_minor": 0
      },
      "text/plain": [
       "NGLWidget()"
      ]
     },
     "metadata": {},
     "output_type": "display_data"
    }
   ],
   "source": [
    "view = nv.show_mdtraj(traj.atom_slice(traj.top.select(f'chainid 0 to {(dimers*2)-1}')))\n",
    "view"
   ]
  },
  {
   "cell_type": "code",
   "execution_count": 69,
   "id": "f7762f41-cb2f-4ee6-a2f7-c9143e71b879",
   "metadata": {},
   "outputs": [
    {
     "data": {
      "application/vnd.jupyter.widget-view+json": {
       "model_id": "3a6aa4c6cffd40bb90a32e00d9ab6181",
       "version_major": 2,
       "version_minor": 0
      },
      "text/plain": [
       "NGLWidget()"
      ]
     },
     "metadata": {},
     "output_type": "display_data"
    }
   ],
   "source": [
    "view = nv.show_mdtraj(traj.atom_slice(traj.top.select(f'chainid 0 to {(dimers*2)-1}')))\n",
    "view"
   ]
  },
  {
   "cell_type": "code",
   "execution_count": 15,
   "id": "7175fc09-df4b-4c05-9680-eae3cc6032e0",
   "metadata": {},
   "outputs": [
    {
     "data": {
      "application/vnd.jupyter.widget-view+json": {
       "model_id": "3a8070be41fa4d0e9bdcf50f1bf7829c",
       "version_major": 2,
       "version_minor": 0
      },
      "text/plain": [
       "NGLWidget(max_frame=20015)"
      ]
     },
     "metadata": {},
     "output_type": "display_data"
    }
   ],
   "source": [
    "view = nv.show_mdtraj(s1s1)\n",
    "view"
   ]
  },
  {
   "cell_type": "code",
   "execution_count": 18,
   "id": "fd2cc7ba-d2c3-4e92-be24-00df7f180ce0",
   "metadata": {},
   "outputs": [],
   "source": [
    "s1s1[850].save('./dimer_open.pdb')"
   ]
  },
  {
   "cell_type": "code",
   "execution_count": null,
   "id": "470bc43b-0f72-4094-9bfd-f4f2d08c31af",
   "metadata": {},
   "outputs": [],
   "source": []
  },
  {
   "cell_type": "code",
   "execution_count": null,
   "id": "d35896c1-70e4-4597-b4fb-a0901f572478",
   "metadata": {},
   "outputs": [],
   "source": []
  },
  {
   "cell_type": "code",
   "execution_count": null,
   "id": "6418beda-6986-4457-9845-94acccdc048e",
   "metadata": {},
   "outputs": [],
   "source": []
  }
 ],
 "metadata": {
  "kernelspec": {
   "display_name": "Python 3 (ipykernel)",
   "language": "python",
   "name": "python3"
  },
  "language_info": {
   "codemirror_mode": {
    "name": "ipython",
    "version": 3
   },
   "file_extension": ".py",
   "mimetype": "text/x-python",
   "name": "python",
   "nbconvert_exporter": "python",
   "pygments_lexer": "ipython3",
   "version": "3.10.5"
  }
 },
 "nbformat": 4,
 "nbformat_minor": 5
}
