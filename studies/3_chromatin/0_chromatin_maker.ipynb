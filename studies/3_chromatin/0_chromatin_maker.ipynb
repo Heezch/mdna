{
 "cells": [
  {
   "cell_type": "code",
   "execution_count": 1,
   "metadata": {},
   "outputs": [
    {
     "data": {
      "application/vnd.jupyter.widget-view+json": {
       "model_id": "d70f85c750824259be9540856ad29464",
       "version_major": 2,
       "version_minor": 0
      },
      "text/plain": []
     },
     "metadata": {},
     "output_type": "display_data"
    },
    {
     "name": "stdout",
     "output_type": "stream",
     "text": [
      "joblib is not installed. Falling back to sequential computation.\n"
     ]
    }
   ],
   "source": [
    "import numpy as np\n",
    "import mdtraj as md\n",
    "import matplotlib.pyplot as plt\n",
    "import nglview as nv\n",
    "\n",
    "# # # Path: pymdna/__init__.py, prototype of the package and atomic is not properly referenced in the package at genertors.py now I just explicitly define the path loction\n",
    "# # import pymdna as mdna\n",
    "import sys\n",
    "sys.path.append('/Users/thor/surfdrive/Projects/pymdna/')\n",
    "import pymdna as mdna \n",
    "%load_ext autoreload\n",
    "%autoreload 2"
   ]
  },
  {
   "cell_type": "code",
   "execution_count": 2,
   "metadata": {},
   "outputs": [
    {
     "data": {
      "application/vnd.jupyter.widget-view+json": {
       "model_id": "8531b8abb5b34b8b87ca5a56d3eb305e",
       "version_major": 2,
       "version_minor": 0
      },
      "text/plain": [
       "NGLWidget()"
      ]
     },
     "metadata": {},
     "output_type": "display_data"
    }
   ],
   "source": [
    "pdb = md.load('./1kx5_full.pdb')\n",
    "view = nv.show_mdtraj(pdb)\n",
    "view\n"
   ]
  },
  {
   "cell_type": "code",
   "execution_count": 88,
   "metadata": {},
   "outputs": [],
   "source": [
    "pdb = md.load('./1kx5_full.pdb')\n",
    "rg = np.round(md.compute_rg(pdb)[0])\n",
    "# create 2D grid with a box size of nxnxn with each voxel of size rg\n",
    "dna = pdb.atom_slice(pdb.top.select('resname == \"DA\" or resname == \"DT\" or resname == \"DG\" or resname == \"DC\"'))"
   ]
  },
  {
   "cell_type": "code",
   "execution_count": 90,
   "metadata": {},
   "outputs": [],
   "source": [
    "nuc = mdna.NucleicFrames(dna)\n",
    "# spline = nuc.spline()\n",
    "\n"
   ]
  },
  {
   "cell_type": "code",
   "execution_count": null,
   "metadata": {},
   "outputs": [],
   "source": []
  },
  {
   "cell_type": "code",
   "execution_count": 103,
   "metadata": {},
   "outputs": [
    {
     "name": "stdout",
     "output_type": "stream",
     "text": [
      "ACGTCTTTCTTCTAGGTCACTGTATAATCAGCACGGCTGCTCAAGAGTACTAGGAGACGATTGCAGTCTACTATGAACTAGCCTCACGCTTAGTAAACAATACAGCACATTGTGAAGCAATACCTCGGCTTTAGGCGGAGGACGAGC\n"
     ]
    }
   ],
   "source": [
    "frames = np.squeeze(nuc.mean_reference_frames)\n",
    "test = mdna.StructureGenerator(frames=frames)"
   ]
  },
  {
   "cell_type": "code",
   "execution_count": 107,
   "metadata": {},
   "outputs": [
    {
     "name": "stdout",
     "output_type": "stream",
     "text": [
      "CCATCAGTGC\n"
     ]
    },
    {
     "data": {
      "text/plain": [
       "<pymdna.generators.StructureGenerator at 0x16aa011c0>"
      ]
     },
     "execution_count": 107,
     "metadata": {},
     "output_type": "execute_result"
    }
   ],
   "source": [
    "control_points = np.array([[0,0,0],[0,1,0],[0,2,0],[0,3,0]])*1\n",
    "spline = mdna.SplineFrames(control_points)\n",
    "dna_b = mdna.StructureGenerator(spline)\n",
    "dna_b"
   ]
  },
  {
   "cell_type": "markdown",
   "metadata": {},
   "source": [
    "Maybe chromatin fiber like vdna too complicated for this purpose, or irrelevant?\n",
    "Altenative idea, just extend both ends?"
   ]
  },
  {
   "cell_type": "code",
   "execution_count": null,
   "metadata": {},
   "outputs": [],
   "source": []
  },
  {
   "cell_type": "code",
   "execution_count": null,
   "metadata": {},
   "outputs": [],
   "source": []
  }
 ],
 "metadata": {
  "kernelspec": {
   "display_name": "mdna",
   "language": "python",
   "name": "python3"
  },
  "language_info": {
   "codemirror_mode": {
    "name": "ipython",
    "version": 3
   },
   "file_extension": ".py",
   "mimetype": "text/x-python",
   "name": "python",
   "nbconvert_exporter": "python",
   "pygments_lexer": "ipython3",
   "version": "3.12.3"
  }
 },
 "nbformat": 4,
 "nbformat_minor": 2
}
