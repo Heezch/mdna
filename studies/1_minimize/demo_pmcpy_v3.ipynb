{
 "cells": [
  {
   "cell_type": "code",
   "execution_count": 3,
   "metadata": {},
   "outputs": [
    {
     "name": "stdout",
     "output_type": "stream",
     "text": [
      "The autoreload extension is already loaded. To reload it, use:\n",
      "  %reload_ext autoreload\n"
     ]
    }
   ],
   "source": [
    "import numpy as np\n",
    "import mdtraj as md\n",
    "import matplotlib.pyplot as plt\n",
    "import nglview as nv\n",
    "from scipy.spatial.transform import Rotation as R\n",
    "\n",
    "# import pmcpy as mcpy \n",
    "import numpy as np\n",
    "import matplotlib.pyplot as plt\n",
    "#from pmcpy import so3, Chain, RBP, Pivot, Crankshaft, Dumps, SingleTriad, ClusterTrans\n",
    "import pmcpy.run.equilibrate as em # actually not equilibrate but energy minimization\n",
    "\n",
    "# # # Path: pymdna/__init__.py, prototype of the package and atomic is not properly referenced in the package at genertors.py now I just explicitly define the path loction\n",
    "# # import pymdna as mdna\n",
    "import sys\n",
    "sys.path.append('/Users/thor/surfdrive/Projects/pymdna/')\n",
    "import pymdna as mdna \n",
    "%load_ext autoreload\n",
    "%autoreload 2"
   ]
  },
  {
   "cell_type": "markdown",
   "metadata": {},
   "source": [
    "### Equilibrate"
   ]
  },
  {
   "cell_type": "code",
   "execution_count": 66,
   "metadata": {},
   "outputs": [
    {
     "name": "stdout",
     "output_type": "stream",
     "text": [
      "ACTAAGTGCAGACCGGATAGTCGACGGTGGACCGCCCCGAAAATTGCGTCGATTAGGGGAATGATAGACGAGGTAACTGATCATCCATCGGTCGTGGGATCGCCGGTTCAGACATTATGTTAACCCAGGCAACTAGTCCGTCATCGAGGTGGACATATACCTTTTGACAAGGCAATT\n",
      "cycle 0: \n",
      "46 moves initated\n",
      "E = 769192.510410403 kT\n",
      "E = 442555.053845572 kT\n",
      "E = 325167.8822635221 kT\n",
      "E = 204221.22674598574 kT\n",
      "E = 100313.07551267819 kT\n",
      "E = 34766.041262246385 kT\n",
      "E = 6811.892368506978 kT\n",
      "E = 1981.0047773214462 kT\n",
      "E = 803.9518059677631 kT\n",
      "E = 568.6929690755372 kT\n",
      "E = 557.8037986291757 kT\n",
      "E = 544.7274143948241 kT\n",
      "E = 546.1251831176743 kT\n",
      "46 moves initated\n",
      "ACTAAGTGCAGACCGGATAGTCGACGGTGGACCGCCCCGAAAATTGCGTCGATTAGGGGAATGATAGACGAGGTAACTGATCATCCATCGGTCGTGGGATCGCCGGTTCAGACATTATGTTAACCCAGGCAACTAGTCCGTCATCGAGGTGGACATATACCTTTTGACAAGGCAATT\n"
     ]
    }
   ],
   "source": [
    "circular = True\n",
    "control_points = np.array([[0,0,0],[0,1,0],[0,2,0],[0,3,0]])*20\n",
    "spline = mdna.SplineFrames(control_points)\n",
    "dna = mdna.StructureGenerator(spline,circular=circular)\n",
    "builder = mdna.Build(dna)\n",
    "new_dna = builder.equilibrate(closed=circular)\n",
    "traj = new_dna.get_traj()\n",
    "print(new_dna.sequence)"
   ]
  },
  {
   "cell_type": "code",
   "execution_count": null,
   "metadata": {},
   "outputs": [],
   "source": [
    "view = nv.show_mdtraj(builder.get_MC_traj())\n",
    "view"
   ]
  },
  {
   "cell_type": "code",
   "execution_count": 67,
   "metadata": {},
   "outputs": [
    {
     "data": {
      "application/vnd.jupyter.widget-view+json": {
       "model_id": "a3d4e21f83de4641b5bedc1451abfc5e",
       "version_major": 2,
       "version_minor": 0
      },
      "text/plain": [
       "NGLWidget()"
      ]
     },
     "metadata": {},
     "output_type": "display_data"
    }
   ],
   "source": [
    "view = nv.show_mdtraj(traj)\n",
    "view.clear()\n",
    "view.add_representation('ball+stick')\n",
    "view"
   ]
  },
  {
   "cell_type": "markdown",
   "metadata": {},
   "source": [
    "### Extend DNA"
   ]
  },
  {
   "cell_type": "code",
   "execution_count": 11,
   "metadata": {},
   "outputs": [
    {
     "name": "stdout",
     "output_type": "stream",
     "text": [
      "ACGCCACGAG\n"
     ]
    }
   ],
   "source": [
    "control_points = np.array([[0,0,0],[0,1,0],[0,2,0],[0,3,0]])*1\n",
    "spline = mdna.SplineFrames(control_points)\n",
    "dna = mdna.StructureGenerator(spline)"
   ]
  },
  {
   "cell_type": "code",
   "execution_count": 39,
   "metadata": {},
   "outputs": [
    {
     "name": "stdout",
     "output_type": "stream",
     "text": [
      "cycle 0: \n",
      "2 moves initated\n",
      "E = 81.25867472437581 kT\n",
      "E = 25.149815399768922 kT\n",
      "E = 23.55807239015204 kT\n",
      "E = 23.27236185100824 kT\n",
      "E = 23.718544366153743 kT\n",
      "2 moves initated\n",
      "CTCCTATGGGTTGCT\n"
     ]
    }
   ],
   "source": [
    "builder = mdna.Build(dna, five_end='A')\n",
    "builder.extend(nbp=5)\n",
    "traj = builder.get_traj()\n",
    "traj.save('test_extend.pdb')\n",
    "\n",
    "\n",
    "view = nv.show_mdtraj(traj)\n",
    "view.clear()\n",
    "view.add_representation('licorice')\n",
    "view\n"
   ]
  },
  {
   "cell_type": "code",
   "execution_count": 38,
   "metadata": {},
   "outputs": [
    {
     "data": {
      "application/vnd.jupyter.widget-view+json": {
       "model_id": "4197a48f3e084464a821c211ce8262b7",
       "version_major": 2,
       "version_minor": 0
      },
      "text/plain": [
       "NGLWidget(max_frame=75)"
      ]
     },
     "metadata": {},
     "output_type": "display_data"
    }
   ],
   "source": [
    "view = nv.show_mdtraj(builder.get_MC_traj())\n",
    "view"
   ]
  },
  {
   "cell_type": "markdown",
   "metadata": {},
   "source": [
    "### Connect DNA's"
   ]
  },
  {
   "cell_type": "code",
   "execution_count": 80,
   "metadata": {},
   "outputs": [
    {
     "name": "stdout",
     "output_type": "stream",
     "text": [
      "TTAGCTTACG\n",
      "TAGCCCTCGA\n",
      "Optimal BP: 53, Twist Difference per BP: 0.323 degrees\n"
     ]
    },
    {
     "ename": "TypeError",
     "evalue": "'>' not supported between instances of 'NoneType' and 'int'",
     "output_type": "error",
     "traceback": [
      "\u001b[0;31m---------------------------------------------------------------------------\u001b[0m",
      "\u001b[0;31mTypeError\u001b[0m                                 Traceback (most recent call last)",
      "Cell \u001b[0;32mIn[80], line 11\u001b[0m\n\u001b[1;32m      8\u001b[0m dna_b \u001b[38;5;241m=\u001b[39m mdna\u001b[38;5;241m.\u001b[39mStructureGenerator(spline_B)\n\u001b[1;32m     10\u001b[0m builder \u001b[38;5;241m=\u001b[39m mdna\u001b[38;5;241m.\u001b[39mBuild(dna_a, dna_b, five_end\u001b[38;5;241m=\u001b[39m\u001b[38;5;124m'\u001b[39m\u001b[38;5;124mA\u001b[39m\u001b[38;5;124m'\u001b[39m, three_end\u001b[38;5;241m=\u001b[39m\u001b[38;5;124m'\u001b[39m\u001b[38;5;124mB\u001b[39m\u001b[38;5;124m'\u001b[39m)\n\u001b[0;32m---> 11\u001b[0m \u001b[43mbuilder\u001b[49m\u001b[38;5;241;43m.\u001b[39;49m\u001b[43mconnect\u001b[49m\u001b[43m(\u001b[49m\u001b[43m)\u001b[49m\n\u001b[1;32m     12\u001b[0m traj \u001b[38;5;241m=\u001b[39m builder\u001b[38;5;241m.\u001b[39mget_traj()\n",
      "File \u001b[0;32m~/surfdrive/Projects/pymdna/pymdna/build.py:81\u001b[0m, in \u001b[0;36mBuild.connect\u001b[0;34m(self)\u001b[0m\n\u001b[1;32m     78\u001b[0m sequence \u001b[38;5;241m=\u001b[39m \u001b[38;5;28mself\u001b[39m\u001b[38;5;241m.\u001b[39mmake_sequence(spline_C\u001b[38;5;241m.\u001b[39mframes\u001b[38;5;241m.\u001b[39mshape[\u001b[38;5;241m0\u001b[39m])\n\u001b[1;32m     80\u001b[0m \u001b[38;5;66;03m# minimize the new spline with the fixed frames of A and B\u001b[39;00m\n\u001b[0;32m---> 81\u001b[0m \u001b[38;5;28mself\u001b[39m\u001b[38;5;241m.\u001b[39mout \u001b[38;5;241m=\u001b[39m \u001b[38;5;28;43mself\u001b[39;49m\u001b[38;5;241;43m.\u001b[39;49m\u001b[43mminimize_spline\u001b[49m\u001b[43m(\u001b[49m\u001b[43mspline_C\u001b[49m\u001b[43m,\u001b[49m\u001b[43m \u001b[49m\n\u001b[1;32m     82\u001b[0m \u001b[43m                                \u001b[49m\u001b[43msequence\u001b[49m\u001b[38;5;241;43m=\u001b[39;49m\u001b[43msequence\u001b[49m\u001b[43m,\u001b[49m\u001b[43m \u001b[49m\n\u001b[1;32m     83\u001b[0m \u001b[43m                                \u001b[49m\u001b[43mclosed\u001b[49m\u001b[38;5;241;43m=\u001b[39;49m\u001b[38;5;28;43;01mFalse\u001b[39;49;00m\u001b[43m,\u001b[49m\u001b[43m \u001b[49m\n\u001b[1;32m     84\u001b[0m \u001b[43m                                \u001b[49m\u001b[43mendpoints_fixed\u001b[49m\u001b[38;5;241;43m=\u001b[39;49m\u001b[38;5;28;43;01mFalse\u001b[39;49;00m\u001b[43m,\u001b[49m\u001b[43m \u001b[49m\n\u001b[1;32m     85\u001b[0m \u001b[43m                                \u001b[49m\u001b[43mfixed\u001b[49m\u001b[38;5;241;43m=\u001b[39;49m\u001b[43mfixed\u001b[49m\u001b[43m,\u001b[49m\u001b[43m \u001b[49m\n\u001b[1;32m     86\u001b[0m \u001b[43m                                \u001b[49m\u001b[43mexvol_rad\u001b[49m\u001b[38;5;241;43m=\u001b[39;49m\u001b[38;5;28;43;01mNone\u001b[39;49;00m\n\u001b[1;32m     87\u001b[0m \u001b[43m                                \u001b[49m\u001b[43m)\u001b[49m\n\u001b[1;32m     89\u001b[0m \u001b[38;5;66;03m# create a trajectory from the new spline containing both the old and new parts\u001b[39;00m\n\u001b[1;32m     90\u001b[0m dna_c \u001b[38;5;241m=\u001b[39m StructureGenerator(spline_C)\n",
      "File \u001b[0;32m~/surfdrive/Projects/pymdna/pymdna/build.py:182\u001b[0m, in \u001b[0;36mBuild.minimize_spline\u001b[0;34m(self, spline, fixed, closed, sequence, endpoints_fixed, exvol_rad)\u001b[0m\n\u001b[1;32m    179\u001b[0m pos, triads \u001b[38;5;241m=\u001b[39m \u001b[38;5;28mself\u001b[39m\u001b[38;5;241m.\u001b[39mget_pos_and_triads(spline)\n\u001b[1;32m    181\u001b[0m \u001b[38;5;66;03m# start with temperature annealing at 100000K\u001b[39;00m\n\u001b[0;32m--> 182\u001b[0m out  \u001b[38;5;241m=\u001b[39m \u001b[43mem\u001b[49m\u001b[38;5;241;43m.\u001b[39;49m\u001b[43mequilibrate\u001b[49m\u001b[43m(\u001b[49m\u001b[43mtriads\u001b[49m\u001b[43m,\u001b[49m\u001b[43mpos\u001b[49m\u001b[43m,\u001b[49m\u001b[43msequence\u001b[49m\u001b[38;5;241;43m=\u001b[39;49m\u001b[43msequence\u001b[49m\u001b[43m,\u001b[49m\u001b[43mclosed\u001b[49m\u001b[38;5;241;43m=\u001b[39;49m\u001b[43mclosed\u001b[49m\u001b[43m,\u001b[49m\u001b[43mendpoints_fixed\u001b[49m\u001b[38;5;241;43m=\u001b[39;49m\u001b[43mendpoints_fixed\u001b[49m\u001b[43m,\u001b[49m\u001b[43mfixed\u001b[49m\u001b[38;5;241;43m=\u001b[39;49m\u001b[43mfixed\u001b[49m\u001b[43m,\u001b[49m\u001b[43mtemp\u001b[49m\u001b[38;5;241;43m=\u001b[39;49m\u001b[38;5;241;43m100000\u001b[39;49m\u001b[43m,\u001b[49m\u001b[43mnum_cycles\u001b[49m\u001b[38;5;241;43m=\u001b[39;49m\u001b[38;5;241;43m100\u001b[39;49m\u001b[43m,\u001b[49m\u001b[43mexvol_rad\u001b[49m\u001b[38;5;241;43m=\u001b[39;49m\u001b[43mexvol_rad\u001b[49m\u001b[43m)\u001b[49m\n\u001b[1;32m    183\u001b[0m \u001b[38;5;66;03m# then do a final equilibration at 300K\u001b[39;00m\n\u001b[1;32m    184\u001b[0m out \u001b[38;5;241m=\u001b[39m em\u001b[38;5;241m.\u001b[39mequilibrate(out[\u001b[38;5;124m'\u001b[39m\u001b[38;5;124mtriads\u001b[39m\u001b[38;5;124m'\u001b[39m],out[\u001b[38;5;124m'\u001b[39m\u001b[38;5;124mpositions\u001b[39m\u001b[38;5;124m'\u001b[39m],sequence\u001b[38;5;241m=\u001b[39msequence,closed\u001b[38;5;241m=\u001b[39mclosed,endpoints_fixed\u001b[38;5;241m=\u001b[39mendpoints_fixed,fixed\u001b[38;5;241m=\u001b[39mfixed,temp\u001b[38;5;241m=\u001b[39m\u001b[38;5;241m300\u001b[39m,exvol_rad\u001b[38;5;241m=\u001b[39mexvol_rad)\n",
      "File \u001b[0;32m~/surfdrive/Projects/PMCpy/pmcpy/run/equilibrate.py:57\u001b[0m, in \u001b[0;36mequilibrate\u001b[0;34m(triads, positions, sequence, closed, endpoints_fixed, fixed, temp, num_cycles, exvol_rad, model, dump_every)\u001b[0m\n\u001b[1;32m     55\u001b[0m keep_backup \u001b[38;5;241m=\u001b[39m \u001b[38;5;28;01mFalse\u001b[39;00m\n\u001b[1;32m     56\u001b[0m exvol \u001b[38;5;241m=\u001b[39m \u001b[38;5;28;01mNone\u001b[39;00m\n\u001b[0;32m---> 57\u001b[0m \u001b[38;5;28;01mif\u001b[39;00m \u001b[43mexvol_rad\u001b[49m\u001b[43m \u001b[49m\u001b[38;5;241;43m>\u001b[39;49m\u001b[43m \u001b[49m\u001b[38;5;241;43m0\u001b[39;49m:\n\u001b[1;32m     58\u001b[0m     exvol_active \u001b[38;5;241m=\u001b[39m \u001b[38;5;28;01mTrue\u001b[39;00m\n\u001b[1;32m     59\u001b[0m     keep_backup  \u001b[38;5;241m=\u001b[39m \u001b[38;5;28;01mTrue\u001b[39;00m\n",
      "\u001b[0;31mTypeError\u001b[0m: '>' not supported between instances of 'NoneType' and 'int'"
     ]
    }
   ],
   "source": [
    "control_points_A = np.array([[0,0,0],[0,1,0],[0,2,0],[0,3,0]])*1\n",
    "control_points_B = control_points_A+5*2\n",
    "\n",
    "spline_A = mdna.SplineFrames(control_points_A)\n",
    "spline_B = mdna.SplineFrames(control_points_B)\n",
    "\n",
    "dna_a = mdna.StructureGenerator(spline_A)\n",
    "dna_b = mdna.StructureGenerator(spline_B)\n",
    "\n",
    "builder = mdna.Build(dna_a, dna_b, five_end='A', three_end='B')\n",
    "builder.connect()\n",
    "traj = builder.get_traj()"
   ]
  },
  {
   "cell_type": "code",
   "execution_count": 9,
   "metadata": {},
   "outputs": [
    {
     "data": {
      "application/vnd.jupyter.widget-view+json": {
       "model_id": "eee3eea702424b7e8765cd6c35032027",
       "version_major": 2,
       "version_minor": 0
      },
      "text/plain": [
       "NGLWidget()"
      ]
     },
     "metadata": {},
     "output_type": "display_data"
    }
   ],
   "source": [
    "view = nv.show_mdtraj(traj)\n",
    "view.clear()\n",
    "view.add_licorice(selection='all')\n",
    "view"
   ]
  },
  {
   "cell_type": "code",
   "execution_count": null,
   "metadata": {},
   "outputs": [],
   "source": []
  },
  {
   "cell_type": "code",
   "execution_count": null,
   "metadata": {},
   "outputs": [],
   "source": []
  },
  {
   "cell_type": "code",
   "execution_count": null,
   "metadata": {},
   "outputs": [],
   "source": []
  },
  {
   "cell_type": "code",
   "execution_count": 124,
   "metadata": {},
   "outputs": [],
   "source": [
    "class Connect:\n",
    "\n",
    "    def __init__(self, dna_a, dna_b, five_end='A', three_end='B',margin=1):\n",
    "        self.dna_a = dna_a\n",
    "        self.dna_b = dna_b\n",
    "        self.frames_a = dna_a.spline.frames\n",
    "        self.frames_b = dna_b.spline.frames\n",
    "\n",
    "        self.five_end = five_end\n",
    "        self.three_end = three_end\n",
    "        self.margin = 1 # overlap between old and new sequence in direction of old sequence DNA\n",
    "        self.bp_range = 100\n",
    "        self.tolerance = np.abs((360 / 10.4) - (360 / 10.6))\n",
    "        self.connect()\n",
    "\n",
    "    def get_start_and_end(self):\n",
    "\n",
    "        if self.five_end == 'A':\n",
    "            self.start = self.frames_a[-1]\n",
    "            self.end = self.frames_b[0]\n",
    "        else:\n",
    "            self.start = self.frames_b[-1]\n",
    "            self.end = self.frames_a[0]\n",
    "\n",
    "        \n",
    "    def interplotate_points(self,start, end, n):\n",
    "        return np.array([start + (end-start)*i/n for i in range(n+1)])\n",
    "    \n",
    "    def connect(self):\n",
    "\n",
    "        # get the start and end of the connection\n",
    "        self.get_start_and_end()\n",
    "\n",
    "        # compute the rotation difference between the two frames (aka difference in twist per base pair)\n",
    "        rotation_difference = self.get_twist_difference(self.start, self.end)\n",
    "\n",
    "        # find optimal number of base pairs for the given range\n",
    "        optimal_bps = self.find_optimal_bps(np.array([self.start[0], self.end[0]]), \n",
    "                                            bp_per_turn=10.5, \n",
    "                                            rise=0.34, \n",
    "                                            bp_range=self.bp_range, \n",
    "                                            rotation_difference=rotation_difference, \n",
    "                                            tolerance=self.tolerance, \n",
    "                                            plot=False\n",
    "                                            )\n",
    "        \n",
    "        # get the optimal number of base pairs (smallest amount of base pairs that satisfies the tolerance)\n",
    "        number_of_bp = optimal_bps[0]['optimal_bp']\n",
    "        \n",
    "        # interpolate control points for spline C\n",
    "        control_points_C = self.interplotate_points(self.start[0], self.end[0], number_of_bp)\n",
    "        distance = np.linalg.norm(self.start-self.end)\n",
    "        spline_C = mdna.SplineFrames(control_points_C,frame_spacing=distance/len(control_points_C))\n",
    "    \n",
    "        # combine splines A B and C and remember the fixed nodes/frames of A and B\n",
    "        # exclude first and last frame of A and B\n",
    "        spline_C.frames = np.concatenate([self.frames_a[:-1],spline_C.frames,self.frames_b[1:]])\n",
    "\n",
    "        # fix first and last 45 indices of total length of 257 frames\n",
    "        fixed = list(range(self.frames_a.shape[0]-self.margin))+list(range(spline_C.frames.shape[0]-self.frames_b.shape[0]+self.margin,spline_C.frames.shape[0]))\n",
    "\n",
    "        # make a random sequence for the new spline\n",
    "        sequence = self.make_sequence(spline_C.frames.shape[0])\n",
    "\n",
    "        # minimize the new spline with the fixed frames of A and B\n",
    "        self.out = self.minimize_spline(spline_C, \n",
    "                                        sequence=sequence, \n",
    "                                        closed=False, \n",
    "                                        endpoints_fixed=False, \n",
    "                                        fixed=fixed, \n",
    "                                        exvol_rad=1\n",
    "                                        )\n",
    "\n",
    "        # create a trajectory from the new spline containing both the old and new parts\n",
    "        dna_c = mdna.StructureGenerator(spline_C)\n",
    "\n",
    "        # get the trajectory of the new spline\n",
    "        self.traj = dna_c.get_traj()\n",
    "\n",
    "\n",
    "    def get_MC_traj(self):\n",
    "        \"\"\"Get the MC sampling energy minimization trajectory of the new spline.\"\"\"\n",
    "        # get the xyz coordinates of the new spline\n",
    "        xyz = np.array(self.out['confs'])\n",
    "        # create a topology for the new spline\n",
    "        topology = md.Topology()\n",
    "        # add a chain to the topology\n",
    "        chain = topology.add_chain()\n",
    "        # add argon atoms to the topology\n",
    "        for _ in range(xyz.shape[1]):\n",
    "            residue = topology.add_residue(name='Ar', chain=chain)\n",
    "            atom = topology.add_atom('Ar',element=md.element.argon, residue=residue)\n",
    "\n",
    "        # add bonds to the topology\n",
    "        bonds = np.array([[i,i+1] for i in range(xyz.shape[1]-1)])\n",
    "        for bond in bonds:\n",
    "            topology.add_bond(topology.atom(bond[0]),topology.atom(bond[1]))\n",
    "\n",
    "        # create a trajectory from the xyz coordinates and the topology\n",
    "        test = md.Trajectory(xyz,topology=topology)\n",
    "        return test\n",
    "    \n",
    "    def get_traj(self):\n",
    "        # get the trajectory of the new spline\n",
    "        return self.traj\n",
    "    \n",
    "    def make_sequence(self,n_bp):\n",
    "        # make a random sequence of n_bp base pairs\n",
    "        return ''.join(['ATCG'[np.random.randint(4)] for i in range(n_bp)])\n",
    "\n",
    "    def plot(self, pos, triads,ax=None):\n",
    "        # plot the base pair frames\n",
    "        if ax is None:\n",
    "            fig = plt.figure()\n",
    "            ax = fig.add_subplot(111, projection='3d')\n",
    "        \n",
    "        for position, frame in zip(pos,triads):\n",
    "            right, up, forward = frame[:,0], frame[:,1], frame[:,2]\n",
    "            ax.quiver(*position, *right, length=0.2, color='g')\n",
    "            ax.quiver(*position, *up, length=0.2, color='b')\n",
    "            ax.quiver(*position, *forward, length=0.2, color='r')\n",
    "\n",
    "        ax.plot(*pos.T, color='black', label='Control Points',lw=1)\n",
    "        ax.axis('equal')\n",
    "        ax.set_xlabel('X')\n",
    "        ax.set_ylabel('Y')\n",
    "        ax.set_zlabel('Z')\n",
    "        ax.legend()\n",
    "\n",
    "    def plot_frames(self, spline,ax=None):\n",
    "        # get the positions and triads of the base pair frames\n",
    "        pos, triads = self.get_pos_and_triads(spline)\n",
    "        # plot the base pair frames\n",
    "        self.plot(pos, triads, ax=ax)\n",
    "\n",
    "    def get_pos_and_triads(self, spline):\n",
    "        # get origins of the base pair frames and the triads of the base pair frames (as column vectors for each frame)\n",
    "        return spline.frames[:,0,:], spline.frames[:,1:,:].transpose((0, 2, 1))\n",
    "\n",
    "    def update_spline(self, spline, out):\n",
    "        # update the spline with new positions and triads\n",
    "        spline.frames[:,0,:] = out['positions'] # set the origins of the frames\n",
    "        spline.frames[:,1:,:] = out['triads'].transpose((0, 2, 1))# set the triads of the frames as row vectors\n",
    "        \n",
    "    def minimize_spline(self,spline, fixed=[], closed=False, sequence=None, endpoints_fixed=False, exvol_rad=0):\n",
    "        # get the positions and triads of the base pair frames\n",
    "        pos, triads = self.get_pos_and_triads(spline)\n",
    "\n",
    "        # start with temperature annealing at 100000K\n",
    "        out  = em.equilibrate(triads,pos,sequence=sequence,closed=closed,endpoints_fixed=endpoints_fixed,fixed=fixed,temp=100000,num_cycles=100,exvol_rad=exvol_rad)\n",
    "        # then do a final equilibration at 300K\n",
    "        out = em.equilibrate(out['triads'],out['positions'],sequence=sequence,closed=closed,endpoints_fixed=endpoints_fixed,fixed=fixed,temp=300,exvol_rad=exvol_rad)\n",
    "\n",
    "        # update the spline with the new positions and triads\n",
    "        self.update_spline(spline, out)\n",
    "\n",
    "        return out\n",
    "\n",
    "    def find_minima(self, lst):\n",
    "        \"\"\"Finds the indices of local minima in a list.\"\"\"\n",
    "        return [i for i in range(1, len(lst) - 1) if lst[i - 1] > lst[i] and lst[i + 1] > lst[i]]\n",
    "\n",
    "    def compute_left_over(self, bp_range, min_bp, bp_per_turn, rotation_difference):\n",
    "        \"\"\"Computes the left-over rotational difference for a range of base pairs.\"\"\"\n",
    "        cumul_twist = np.arange(min_bp, min_bp + bp_range) * 360 / bp_per_turn\n",
    "        return cumul_twist % 360 - rotation_difference\n",
    "\n",
    "    def compute_twist_diff_per_bp(self, optimal_bp, left_over, min_bp):\n",
    "        \"\"\"Calculates the twist difference per base pair for an optimal base pair number.\"\"\"\n",
    "        total_twist_diff = left_over[optimal_bp - min_bp]\n",
    "        return total_twist_diff / optimal_bp\n",
    "\n",
    "    def check_within_tolerance(self, twist_diff_per_bp, tolerance):\n",
    "        \"\"\"Checks if the twist difference per base pair is within the specified tolerance.\"\"\"\n",
    "        return np.abs(twist_diff_per_bp) < tolerance\n",
    "\n",
    "    def plot_leftover(self, min_bp,left_over):\n",
    "        # Plotting the left-over rotational differences\n",
    "        plt.plot(np.arange(min_bp, min_bp + len(left_over)), np.abs(left_over))\n",
    "        plt.xlabel('Number of Base Pairs')\n",
    "        plt.ylabel('Absolute Left Over')\n",
    "        plt.show()\n",
    "\n",
    "    def find_optimal_bps(self, positions, bp_per_turn, rise, bp_range, rotation_difference, tolerance, plot=False):\n",
    "        \"\"\"Finds optimal base pairs that satisfy the given tolerance.\n",
    "\n",
    "        Args:\n",
    "        positions: The positions of base pairs.\n",
    "        bp_per_turn: Base pairs per turn.\n",
    "        rise: Component of arc length.\n",
    "        bp_range: Range of base pairs to consider.\n",
    "        rotation_difference: The target rotation difference.\n",
    "        tolerance: The tolerance for accepting an optimal base pair number.\n",
    "        plot: If True, plots the left-over rotational differences.\n",
    "\n",
    "        Returns:\n",
    "        A list of dictionaries containing optimal base pair numbers and their twist differences per base pair.\n",
    "        \"\"\"\n",
    "        min_arc = np.linalg.norm(positions[0] - positions[-1])\n",
    "        min_bp = int(np.ceil(min_arc / rise))\n",
    "        left_over = self.compute_left_over(bp_range, min_bp, bp_per_turn, rotation_difference)\n",
    "        \n",
    "        if plot:\n",
    "            self.plot_leftover(min_bp,left_over)\n",
    "\n",
    "        minima = self.find_minima(np.abs(left_over))\n",
    "        results = []\n",
    "\n",
    "        for min_val in minima:\n",
    "            optimal_bp = min_bp + min_val\n",
    "            twist_diff_per_bp = self.compute_twist_diff_per_bp(optimal_bp, left_over, min_bp)\n",
    "            if self.check_within_tolerance(twist_diff_per_bp, tolerance):\n",
    "                results.append({\n",
    "                    'optimal_bp': optimal_bp ,\n",
    "                    'twist_diff_per_bp': np.round(twist_diff_per_bp, 3)\n",
    "                })\n",
    "        if len(results) > 0:\n",
    "            for result in results[:1]:\n",
    "                print(f'Optimal BP: {result[\"optimal_bp\"]}, Twist Difference per BP: {result[\"twist_diff_per_bp\"]} degrees')\n",
    "        else:\n",
    "            print(\"No optimal number of base pairs found within the specified tolerance.\")\n",
    "        return results\n",
    "\n",
    "    def compute_euler_angles(self, frame_A, frame_B):\n",
    "        # Compute the rotation matrix R that transforms frame A to frame B\n",
    "        rotation_matrix = np.dot(frame_B.T, frame_A)\n",
    "        \n",
    "        # Create a rotation object from the rotation matrix\n",
    "        rotation = R.from_matrix(rotation_matrix)\n",
    "        \n",
    "        # Convert the rotation to Euler angles (ZYX convention)\n",
    "        euler_angles = rotation.as_euler('zyx', degrees=True)\n",
    "        \n",
    "        # Return the Euler angles: yaw (Z), pitch (Y), and roll (X)\n",
    "        return euler_angles\n",
    "\n",
    "    def get_twist_difference(self, frame_a, frame_b):\n",
    "        \"\"\"Calculates the twist difference between two frames.\"\"\"\n",
    "        \n",
    "        b1 = frame_a[1:]/np.linalg.norm(frame_a[1:])\n",
    "        b2 = frame_b[1:]/np.linalg.norm(frame_b[1:])\n",
    "\n",
    "        euler_angles = self.compute_euler_angles(b1, b2)\n",
    "        return euler_angles[-1]"
   ]
  },
  {
   "cell_type": "code",
   "execution_count": 128,
   "metadata": {},
   "outputs": [],
   "source": [
    "class Build:\n",
    "\n",
    "    def __init__(self, dna_a, dna_b=None, five_end='A', three_end='B', margin=1):\n",
    "        self.dna_a = dna_a\n",
    "        self.dna_b = dna_b\n",
    "        self.frames_a = dna_a.spline.frames if dna_a else None\n",
    "        self.frames_b = dna_b.spline.frames if dna_b else None\n",
    "        self.five_end = five_end \n",
    "        self.three_end = three_end\n",
    "        self.margin = margin\n",
    "        self.bp_range = 100 # should double check what this does again\n",
    "        self.tolerance = np.abs((360 / 10.4) - (360 / 10.6))\n",
    "\n",
    "\n",
    "    def connect(self):\n",
    "\n",
    "        if not self.dna_b:\n",
    "            raise ValueError(\"No second DNA sequence provided for connection.\")\n",
    "        \n",
    "        # get the start and end of the connection\n",
    "        self.get_start_and_end()\n",
    "\n",
    "        # compute the rotation difference between the two frames (aka difference in twist per base pair)\n",
    "        rotation_difference = self.get_twist_difference(self.start, self.end)\n",
    "\n",
    "        # find optimal number of base pairs for the given range\n",
    "        optimal_bps = self.find_optimal_bps(np.array([self.start[0], self.end[0]]), \n",
    "                                            bp_per_turn=10.5, \n",
    "                                            rise=0.34, \n",
    "                                            bp_range=self.bp_range, \n",
    "                                            rotation_difference=rotation_difference, \n",
    "                                            tolerance=self.tolerance, \n",
    "                                            plot=False\n",
    "                                            )\n",
    "        \n",
    "        # get the optimal number of base pairs (smallest amount of base pairs that satisfies the tolerance)\n",
    "        number_of_bp = optimal_bps[0]['optimal_bp']\n",
    "        \n",
    "        # interpolate control points for spline C\n",
    "        control_points_C = self.interplotate_points(self.start[0], self.end[0], number_of_bp)\n",
    "        distance = np.linalg.norm(self.start-self.end)\n",
    "        spline_C = mdna.SplineFrames(control_points_C,frame_spacing=distance/len(control_points_C))\n",
    "    \n",
    "        # combine splines A B and C and remember the fixed nodes/frames of A and B\n",
    "        # exclude first and last frame of A and B\n",
    "        spline_C.frames = np.concatenate([self.frames_a[:-1],spline_C.frames,self.frames_b[1:]])\n",
    "\n",
    "        # fix first and last 45 indices of total length of 257 frames\n",
    "        fixed = list(range(self.frames_a.shape[0]-self.margin))+list(range(spline_C.frames.shape[0]-self.frames_b.shape[0]+self.margin,spline_C.frames.shape[0]))\n",
    "\n",
    "        # make a random sequence for the new spline\n",
    "        sequence = self.make_sequence(spline_C.frames.shape[0])\n",
    "\n",
    "        # minimize the new spline with the fixed frames of A and B\n",
    "        self.out = self.minimize_spline(spline_C, \n",
    "                                        sequence=sequence, \n",
    "                                        closed=False, \n",
    "                                        endpoints_fixed=False, \n",
    "                                        fixed=fixed, \n",
    "                                        exvol_rad=1\n",
    "                                        )\n",
    "\n",
    "        # create a trajectory from the new spline containing both the old and new parts\n",
    "        dna_c = mdna.StructureGenerator(spline_C)\n",
    "\n",
    "        # get the trajectory of the new spline\n",
    "        self.traj = dna_c.get_traj()\n",
    "\n",
    "\n",
    "    def extend(self, length=None, fixed_endpoint=None):\n",
    "        # extend the DNA sequence in the specified direction using the five_end or three_end as reference\n",
    "\n",
    "        # get the target frame for extension\n",
    "        start = self.get_start()\n",
    "\n",
    "        if length:\n",
    "            pass\n",
    "\n",
    "        # if fixed_endpoint:\n",
    "        #     new_sequence = self.calculate_sequence_to_endpoint(target_frame, fixed_endpoint)\n",
    "        # elif length:\n",
    "        #     new_sequence = self.generate_sequence(target_frame, length)\n",
    "        # else:\n",
    "        #     raise ValueError(\"Either a fixed endpoint or a length must be specified for extension.\")\n",
    "\n",
    "        # self.apply_new_sequence(new_sequence, direction)\n",
    "\n",
    "    def get_start(self):\n",
    "        if self.five_end == 'A':\n",
    "            return self.frames_a[-1]\n",
    "        elif self.three_end == 'A':\n",
    "            return self.frames_a[0]\n",
    "        else:\n",
    "            raise ValueError(\"No starting frame found for DNA sequence A.\")\n",
    "\n",
    "    def get_start_and_end(self):\n",
    "\n",
    "        if self.five_end == 'A':\n",
    "            self.start = self.frames_a[-1]\n",
    "            self.end = self.frames_b[0]\n",
    "        else:\n",
    "            self.start = self.frames_b[-1]\n",
    "            self.end = self.frames_a[0]\n",
    "\n",
    "        \n",
    "    def interplotate_points(self,start, end, n):\n",
    "        return np.array([start + (end-start)*i/n for i in range(n+1)])\n",
    "    \n",
    "    def connect(self):\n",
    "\n",
    "        # get the start and end of the connection\n",
    "        self.get_start_and_end()\n",
    "\n",
    "        # compute the rotation difference between the two frames (aka difference in twist per base pair)\n",
    "        rotation_difference = self.get_twist_difference(self.start, self.end)\n",
    "\n",
    "        # find optimal number of base pairs for the given range\n",
    "        optimal_bps = self.find_optimal_bps(np.array([self.start[0], self.end[0]]), \n",
    "                                            bp_per_turn=10.5, \n",
    "                                            rise=0.34, \n",
    "                                            bp_range=self.bp_range, \n",
    "                                            rotation_difference=rotation_difference, \n",
    "                                            tolerance=self.tolerance, \n",
    "                                            plot=False\n",
    "                                            )\n",
    "        \n",
    "        # get the optimal number of base pairs (smallest amount of base pairs that satisfies the tolerance)\n",
    "        number_of_bp = optimal_bps[0]['optimal_bp']\n",
    "        \n",
    "        # interpolate control points for spline C\n",
    "        control_points_C = self.interplotate_points(self.start[0], self.end[0], number_of_bp)\n",
    "        distance = np.linalg.norm(self.start-self.end)\n",
    "        spline_C = mdna.SplineFrames(control_points_C,frame_spacing=distance/len(control_points_C))\n",
    "    \n",
    "        # combine splines A B and C and remember the fixed nodes/frames of A and B\n",
    "        # exclude first and last frame of A and B\n",
    "        spline_C.frames = np.concatenate([self.frames_a[:-1],spline_C.frames,self.frames_b[1:]])\n",
    "\n",
    "        # fix first and last 45 indices of total length of 257 frames\n",
    "        fixed = list(range(self.frames_a.shape[0]-self.margin))+list(range(spline_C.frames.shape[0]-self.frames_b.shape[0]+self.margin,spline_C.frames.shape[0]))\n",
    "\n",
    "        # make a random sequence for the new spline\n",
    "        sequence = self.make_sequence(spline_C.frames.shape[0])\n",
    "\n",
    "        # minimize the new spline with the fixed frames of A and B\n",
    "        self.out = self.minimize_spline(spline_C, \n",
    "                                        sequence=sequence, \n",
    "                                        closed=False, \n",
    "                                        endpoints_fixed=False, \n",
    "                                        fixed=fixed, \n",
    "                                        exvol_rad=1\n",
    "                                        )\n",
    "\n",
    "        # create a trajectory from the new spline containing both the old and new parts\n",
    "        dna_c = mdna.StructureGenerator(spline_C)\n",
    "\n",
    "        # get the trajectory of the new spline\n",
    "        self.traj = dna_c.get_traj()\n",
    "\n",
    "\n",
    "    def get_MC_traj(self):\n",
    "        \"\"\"Get the MC sampling energy minimization trajectory of the new spline.\"\"\"\n",
    "        # get the xyz coordinates of the new spline\n",
    "        xyz = np.array(self.out['confs'])\n",
    "        # create a topology for the new spline\n",
    "        topology = md.Topology()\n",
    "        # add a chain to the topology\n",
    "        chain = topology.add_chain()\n",
    "        # add argon atoms to the topology\n",
    "        for _ in range(xyz.shape[1]):\n",
    "            residue = topology.add_residue(name='Ar', chain=chain)\n",
    "            atom = topology.add_atom('Ar',element=md.element.argon, residue=residue)\n",
    "\n",
    "        # add bonds to the topology\n",
    "        bonds = np.array([[i,i+1] for i in range(xyz.shape[1]-1)])\n",
    "        for bond in bonds:\n",
    "            topology.add_bond(topology.atom(bond[0]),topology.atom(bond[1]))\n",
    "\n",
    "        # create a trajectory from the xyz coordinates and the topology\n",
    "        test = md.Trajectory(xyz,topology=topology)\n",
    "        return test\n",
    "    \n",
    "    def get_traj(self):\n",
    "        # get the trajectory of the new spline\n",
    "        return self.traj\n",
    "    \n",
    "    def make_sequence(self,n_bp):\n",
    "        # make a random sequence of n_bp base pairs\n",
    "        return ''.join(['ATCG'[np.random.randint(4)] for i in range(n_bp)])\n",
    "\n",
    "    def plot(self, pos, triads,ax=None):\n",
    "        # plot the base pair frames\n",
    "        if ax is None:\n",
    "            fig = plt.figure()\n",
    "            ax = fig.add_subplot(111, projection='3d')\n",
    "        \n",
    "        for position, frame in zip(pos,triads):\n",
    "            right, up, forward = frame[:,0], frame[:,1], frame[:,2]\n",
    "            ax.quiver(*position, *right, length=0.2, color='g')\n",
    "            ax.quiver(*position, *up, length=0.2, color='b')\n",
    "            ax.quiver(*position, *forward, length=0.2, color='r')\n",
    "\n",
    "        ax.plot(*pos.T, color='black', label='Control Points',lw=1)\n",
    "        ax.axis('equal')\n",
    "        ax.set_xlabel('X')\n",
    "        ax.set_ylabel('Y')\n",
    "        ax.set_zlabel('Z')\n",
    "        ax.legend()\n",
    "\n",
    "    def plot_frames(self, spline,ax=None):\n",
    "        # get the positions and triads of the base pair frames\n",
    "        pos, triads = self.get_pos_and_triads(spline)\n",
    "        # plot the base pair frames\n",
    "        self.plot(pos, triads, ax=ax)\n",
    "\n",
    "    def get_pos_and_triads(self, spline):\n",
    "        # get origins of the base pair frames and the triads of the base pair frames (as column vectors for each frame)\n",
    "        return spline.frames[:,0,:], spline.frames[:,1:,:].transpose((0, 2, 1))\n",
    "\n",
    "    def update_spline(self, spline, out):\n",
    "        # update the spline with new positions and triads\n",
    "        spline.frames[:,0,:] = out['positions'] # set the origins of the frames\n",
    "        spline.frames[:,1:,:] = out['triads'].transpose((0, 2, 1))# set the triads of the frames as row vectors\n",
    "        \n",
    "    def minimize_spline(self,spline, fixed=[], closed=False, sequence=None, endpoints_fixed=False, exvol_rad=0):\n",
    "        # get the positions and triads of the base pair frames\n",
    "        pos, triads = self.get_pos_and_triads(spline)\n",
    "\n",
    "        # start with temperature annealing at 100000K\n",
    "        out  = em.equilibrate(triads,pos,sequence=sequence,closed=closed,endpoints_fixed=endpoints_fixed,fixed=fixed,temp=100000,num_cycles=100,exvol_rad=exvol_rad)\n",
    "        # then do a final equilibration at 300K\n",
    "        out = em.equilibrate(out['triads'],out['positions'],sequence=sequence,closed=closed,endpoints_fixed=endpoints_fixed,fixed=fixed,temp=300,exvol_rad=exvol_rad)\n",
    "\n",
    "        # update the spline with the new positions and triads\n",
    "        self.update_spline(spline, out)\n",
    "\n",
    "        return out\n",
    "\n",
    "    def find_minima(self, lst):\n",
    "        \"\"\"Finds the indices of local minima in a list.\"\"\"\n",
    "        return [i for i in range(1, len(lst) - 1) if lst[i - 1] > lst[i] and lst[i + 1] > lst[i]]\n",
    "\n",
    "    def compute_left_over(self, bp_range, min_bp, bp_per_turn, rotation_difference):\n",
    "        \"\"\"Computes the left-over rotational difference for a range of base pairs.\"\"\"\n",
    "        cumul_twist = np.arange(min_bp, min_bp + bp_range) * 360 / bp_per_turn\n",
    "        return cumul_twist % 360 - rotation_difference\n",
    "\n",
    "    def compute_twist_diff_per_bp(self, optimal_bp, left_over, min_bp):\n",
    "        \"\"\"Calculates the twist difference per base pair for an optimal base pair number.\"\"\"\n",
    "        total_twist_diff = left_over[optimal_bp - min_bp]\n",
    "        return total_twist_diff / optimal_bp\n",
    "\n",
    "    def check_within_tolerance(self, twist_diff_per_bp, tolerance):\n",
    "        \"\"\"Checks if the twist difference per base pair is within the specified tolerance.\"\"\"\n",
    "        return np.abs(twist_diff_per_bp) < tolerance\n",
    "\n",
    "    def plot_leftover(self, min_bp,left_over):\n",
    "        # Plotting the left-over rotational differences\n",
    "        plt.plot(np.arange(min_bp, min_bp + len(left_over)), np.abs(left_over))\n",
    "        plt.xlabel('Number of Base Pairs')\n",
    "        plt.ylabel('Absolute Left Over')\n",
    "        plt.show()\n",
    "\n",
    "    def find_optimal_bps(self, positions, bp_per_turn, rise, bp_range, rotation_difference, tolerance, plot=False):\n",
    "        \"\"\"Finds optimal base pairs that satisfy the given tolerance.\n",
    "\n",
    "        Args:\n",
    "        positions: The positions of base pairs.\n",
    "        bp_per_turn: Base pairs per turn.\n",
    "        rise: Component of arc length.\n",
    "        bp_range: Range of base pairs to consider.\n",
    "        rotation_difference: The target rotation difference.\n",
    "        tolerance: The tolerance for accepting an optimal base pair number.\n",
    "        plot: If True, plots the left-over rotational differences.\n",
    "\n",
    "        Returns:\n",
    "        A list of dictionaries containing optimal base pair numbers and their twist differences per base pair.\n",
    "        \"\"\"\n",
    "        min_arc = np.linalg.norm(positions[0] - positions[-1])\n",
    "        min_bp = int(np.ceil(min_arc / rise))\n",
    "        left_over = self.compute_left_over(bp_range, min_bp, bp_per_turn, rotation_difference)\n",
    "        \n",
    "        if plot:\n",
    "            self.plot_leftover(min_bp,left_over)\n",
    "\n",
    "        minima = self.find_minima(np.abs(left_over))\n",
    "        results = []\n",
    "\n",
    "        for min_val in minima:\n",
    "            optimal_bp = min_bp + min_val\n",
    "            twist_diff_per_bp = self.compute_twist_diff_per_bp(optimal_bp, left_over, min_bp)\n",
    "            if self.check_within_tolerance(twist_diff_per_bp, tolerance):\n",
    "                results.append({\n",
    "                    'optimal_bp': optimal_bp ,\n",
    "                    'twist_diff_per_bp': np.round(twist_diff_per_bp, 3)\n",
    "                })\n",
    "        if len(results) > 0:\n",
    "            for result in results[:1]:\n",
    "                print(f'Optimal BP: {result[\"optimal_bp\"]}, Twist Difference per BP: {result[\"twist_diff_per_bp\"]} degrees')\n",
    "        else:\n",
    "            print(\"No optimal number of base pairs found within the specified tolerance.\")\n",
    "        return results\n",
    "\n",
    "    def compute_euler_angles(self, frame_A, frame_B):\n",
    "        # Compute the rotation matrix R that transforms frame A to frame B\n",
    "        rotation_matrix = np.dot(frame_B.T, frame_A)\n",
    "        \n",
    "        # Create a rotation object from the rotation matrix\n",
    "        rotation = R.from_matrix(rotation_matrix)\n",
    "        \n",
    "        # Convert the rotation to Euler angles (ZYX convention)\n",
    "        euler_angles = rotation.as_euler('zyx', degrees=True)\n",
    "        \n",
    "        # Return the Euler angles: yaw (Z), pitch (Y), and roll (X)\n",
    "        return euler_angles\n",
    "\n",
    "    def get_twist_difference(self, frame_a, frame_b):\n",
    "        \"\"\"Calculates the twist difference between two frames.\"\"\"\n",
    "        \n",
    "        b1 = frame_a[1:]/np.linalg.norm(frame_a[1:])\n",
    "        b2 = frame_b[1:]/np.linalg.norm(frame_b[1:])\n",
    "\n",
    "        euler_angles = self.compute_euler_angles(b1, b2)\n",
    "        return euler_angles[-1]"
   ]
  },
  {
   "cell_type": "code",
   "execution_count": 125,
   "metadata": {},
   "outputs": [
    {
     "name": "stdout",
     "output_type": "stream",
     "text": [
      "GGAAGACTTC\n",
      "CGACACGGTT\n",
      "Optimal BP: 53, Twist Difference per BP: 0.323 degrees\n",
      "Warning: Excluded volume interactions not yet implemented!\n",
      "cycle 0: \n",
      "13 moves initated\n",
      "Warning: Excluded volume interactions not yet implemented!\n",
      "E = 696.2865492508504 kT\n",
      "E = 279.1494766655762 kT\n",
      "E = 246.75528052476363 kT\n",
      "E = 229.46291346326126 kT\n",
      "E = 217.62259373224506 kT\n",
      "E = 217.60120121310982 kT\n",
      "E = 214.62073250843153 kT\n",
      "E = 214.35770203275962 kT\n",
      "E = 215.06100857471313 kT\n",
      "13 moves initated\n",
      "CCTTTTAAGGTCTGTCGAGTGCGTCAGCCGGAACAGCTTCTCCATGGCCAAAGTCTGGTAGATTCAAACTGCG\n"
     ]
    }
   ],
   "source": [
    "control_points_A = np.array([[0,0,-1],[0,1,0],[0,2,0],[0,3,0]])*5\n",
    "control_points_B = np.array([[5,3,5],[5,3,6],[5,3,7],[5,4,8]])*5\n",
    "\n",
    "control_points_A = np.array([[0,0,0],[0,1,0],[0,2,0],[0,3,0]])*1\n",
    "control_points_B = control_points_A+5*2\n",
    "\n",
    "# fig = plt.figure()\n",
    "# ax = fig.add_subplot(111, projection='3d')\n",
    "# ax.plot(*control_points_A.T,'-o', color='black', label='Control Points A',lw=1)\n",
    "# ax.plot(*control_points_B.T,'-o', color='red', label='Control Points B',lw=1)\n",
    "# ax.axis('equal')\n",
    "\n",
    "\n",
    "spline_A = mdna.SplineFrames(control_points_A)\n",
    "spline_B = mdna.SplineFrames(control_points_B)\n",
    "\n",
    "dna_a = mdna.StructureGenerator(spline_A)\n",
    "dna_b = mdna.StructureGenerator(spline_B)\n",
    "\n",
    "connection = Connect(dna_a, dna_b, five_end='A', three_end='B')\n"
   ]
  },
  {
   "cell_type": "code",
   "execution_count": 126,
   "metadata": {},
   "outputs": [
    {
     "data": {
      "application/vnd.jupyter.widget-view+json": {
       "model_id": "ece265645d544644ae956bc543d0dd9b",
       "version_major": 2,
       "version_minor": 0
      },
      "text/plain": [
       "NGLWidget(max_frame=175)"
      ]
     },
     "metadata": {},
     "output_type": "display_data"
    }
   ],
   "source": [
    "traj = connection.get_traj()\n",
    "mc_traj = connection.get_MC_traj()\n",
    "view = nv.show_mdtraj(mc_traj[::5])\n",
    "view"
   ]
  },
  {
   "cell_type": "code",
   "execution_count": 127,
   "metadata": {},
   "outputs": [
    {
     "data": {
      "application/vnd.jupyter.widget-view+json": {
       "model_id": "9e499c3da5c84e62a79d1bd4474872f6",
       "version_major": 2,
       "version_minor": 0
      },
      "text/plain": [
       "NGLWidget()"
      ]
     },
     "metadata": {},
     "output_type": "display_data"
    }
   ],
   "source": [
    "view = nv.show_mdtraj(traj)\n",
    "view"
   ]
  },
  {
   "cell_type": "code",
   "execution_count": null,
   "metadata": {},
   "outputs": [],
   "source": []
  },
  {
   "cell_type": "code",
   "execution_count": 96,
   "metadata": {},
   "outputs": [
    {
     "name": "stdout",
     "output_type": "stream",
     "text": [
      "Optimal BP: 53, Twist Difference per BP: 0.323 degrees\n",
      "[{'optimal_bp': 53, 'twist_diff_per_bp': 0.323}, {'optimal_bp': 63, 'twist_diff_per_bp': 0.0}, {'optimal_bp': 74, 'twist_diff_per_bp': 0.232}, {'optimal_bp': 84, 'twist_diff_per_bp': 0.0}, {'optimal_bp': 95, 'twist_diff_per_bp': 0.18}]\n"
     ]
    }
   ],
   "source": [
    "start = spline_A.frames[-1]\n",
    "end = spline_B.frames[0]\n",
    "\n",
    "rotation_difference = get_twist_difference(start, end)\n",
    "\n",
    "bp_per_turn = 10.5\n",
    "rise = 0.34\n",
    "bp_range = 100\n",
    "tolerance = np.abs((360 / 10.4) - (360 / 10.6))\n",
    "\n",
    "optimal_bps = find_optimal_bps(np.array([start[0], end[0]]), bp_per_turn, rise, bp_range, rotation_difference, tolerance, plot=False)\n",
    "print(optimal_bps[:5])"
   ]
  },
  {
   "cell_type": "code",
   "execution_count": 82,
   "metadata": {},
   "outputs": [
    {
     "name": "stdout",
     "output_type": "stream",
     "text": [
      "53\n"
     ]
    },
    {
     "data": {
      "text/plain": [
       "(-2.1500000000000004,\n",
       " 12.15,\n",
       " -0.6500000000000004,\n",
       " 13.65,\n",
       " -0.3625000000000007,\n",
       " 10.3625)"
      ]
     },
     "execution_count": 82,
     "metadata": {},
     "output_type": "execute_result"
    },
    {
     "data": {
      "image/png": "[encoded data removed]",
      "text/plain": [
       "<Figure size 640x480 with 1 Axes>"
      ]
     },
     "metadata": {},
     "output_type": "display_data"
    }
   ],
   "source": [
    "def interplotate_points(start, end, n):\n",
    "    return np.array([start + (end-start)*i/n for i in range(n+1)])\n",
    "\n",
    "number_of_bp = optimal_bps[0]['optimal_bp']\n",
    "print(number_of_bp)\n",
    "control_points_C = interplotate_points(start[0], end[0], number_of_bp)\n",
    "\n",
    "fig = plt.figure()\n",
    "ax = fig.add_subplot(111, projection='3d')\n",
    "ax.plot(*control_points_A.T,'-o', color='black', label='Control Points A',lw=1)\n",
    "ax.plot(*control_points_B.T,'-o', color='red', label='Control Points B',lw=1)\n",
    "ax.plot(*control_points_C.T,'-o', color='blue', label='Control Points C',lw=1)\n",
    "ax.axis('equal')"
   ]
  },
  {
   "cell_type": "code",
   "execution_count": 83,
   "metadata": {},
   "outputs": [
    {
     "data": {
      "text/plain": [
       "(<Figure size 640x480 with 1 Axes>,\n",
       " <Axes3D: xlabel='X', ylabel='Y', zlabel='Z'>)"
      ]
     },
     "execution_count": 83,
     "metadata": {},
     "output_type": "execute_result"
    },
    {
     "data": {
      "image/png": "[encoded data removed]",
      "text/plain": [
       "<Figure size 640x480 with 1 Axes>"
      ]
     },
     "metadata": {},
     "output_type": "display_data"
    }
   ],
   "source": [
    "\n",
    "distance = np.linalg.norm(start-end)\n",
    "spline_C = mdna.SplineFrames(control_points_C,frame_spacing=distance/len(control_points_C))\n",
    "spline_C.plot_frames(equal=True)"
   ]
  },
  {
   "cell_type": "code",
   "execution_count": 84,
   "metadata": {},
   "outputs": [],
   "source": [
    "# combine splines A B and C and remember the fixed nodes/frames of A and B\n",
    "# exclude first and last frame of A and B\n",
    "spline_C.frames = np.concatenate([spline_A.frames[:-1],spline_C.frames,spline_B.frames[1:]])"
   ]
  },
  {
   "cell_type": "code",
   "execution_count": 85,
   "metadata": {},
   "outputs": [],
   "source": [
    "spline_C.frames.shape,spline_A.frames.shape, spline_B.frames.shape\n",
    "# fix first and last 45 indices of total length of 257 frames\n",
    "margin = 1\n",
    "fixed = list(range(spline_A.frames.shape[0]-margin))+list(range(spline_C.frames.shape[0]-spline_B.frames.shape[0]+margin,spline_C.frames.shape[0]))"
   ]
  },
  {
   "cell_type": "code",
   "execution_count": 86,
   "metadata": {},
   "outputs": [
    {
     "data": {
      "text/plain": [
       "'GGGTTTGTTGGTTCCTAGAGTTGTACTCATCAGGCCACGCACTCTTGCTAAATCCAACACGAGCCGGCGTATA'"
      ]
     },
     "execution_count": 86,
     "metadata": {},
     "output_type": "execute_result"
    }
   ],
   "source": [
    "sequence = make_sequence(spline_C.frames.shape[0])\n",
    "sequence"
   ]
  },
  {
   "cell_type": "code",
   "execution_count": null,
   "metadata": {},
   "outputs": [],
   "source": []
  },
  {
   "cell_type": "code",
   "execution_count": null,
   "metadata": {},
   "outputs": [],
   "source": []
  },
  {
   "cell_type": "code",
   "execution_count": 87,
   "metadata": {},
   "outputs": [
    {
     "name": "stdout",
     "output_type": "stream",
     "text": [
      "Warning: Excluded volume interactions not yet implemented!\n",
      "cycle 0: \n",
      "13 moves initated\n",
      "Warning: Excluded volume interactions not yet implemented!\n",
      "E = 760.0579583031094 kT\n",
      "E = 280.60424419226496 kT\n",
      "E = 254.71794673889687 kT\n",
      "E = 242.07968711231464 kT\n",
      "E = 230.33171225538055 kT\n",
      "E = 217.66128407095886 kT\n",
      "E = 214.90732822069677 kT\n",
      "E = 214.95016567593245 kT\n",
      "13 moves initated\n"
     ]
    }
   ],
   "source": [
    "out = minimize_spline(spline_C, sequence=sequence, closed=False, endpoints_fixed=False, fixed=fixed, exvol_rad=1)"
   ]
  },
  {
   "cell_type": "code",
   "execution_count": 95,
   "metadata": {},
   "outputs": [
    {
     "name": "stdout",
     "output_type": "stream",
     "text": [
      "(151, 73, 3)\n"
     ]
    },
    {
     "data": {
      "application/vnd.jupyter.widget-view+json": {
       "model_id": "375542cc6f7140bd9b8787bebb9ceeba",
       "version_major": 2,
       "version_minor": 0
      },
      "text/plain": [
       "NGLWidget(max_frame=150)"
      ]
     },
     "metadata": {},
     "output_type": "display_data"
    }
   ],
   "source": [
    "import mdtraj as md\n",
    "import nglview as nv\n",
    "\n",
    "xyz = np.array(out['confs'])\n",
    "print(xyz.shape)\n",
    "\n",
    "topology = md.Topology()\n",
    "chain = topology.add_chain()\n",
    "for i in range(xyz.shape[1]):\n",
    "    residue = topology.add_residue(name='Ar', chain=chain)\n",
    "    atom = topology.add_atom('Ar',element=md.element.argon, residue=residue)\n",
    "\n",
    "bonds = np.array([[i,i+1] for i in range(xyz.shape[1]-1)])\n",
    "for bond in bonds:\n",
    "    topology.add_bond(topology.atom(bond[0]),topology.atom(bond[1]))\n",
    "\n",
    "test = md.Trajectory(xyz,topology=topology)\n",
    "view = nv.show_mdtraj(test[::1])\n",
    "view.clear()\n",
    "view.add_representation('ball+stick',radius=0.5,color='black')\n",
    "view"
   ]
  },
  {
   "cell_type": "code",
   "execution_count": 89,
   "metadata": {},
   "outputs": [
    {
     "name": "stdout",
     "output_type": "stream",
     "text": [
      "CGGGGCGAATGAATCGGTCATACCTAAGAATGCTCAACAGACGACACCTCATGGATGTTGGCTGCCCCATCTG\n"
     ]
    },
    {
     "data": {
      "application/vnd.jupyter.widget-view+json": {
       "model_id": "24b13e0a841e4db18ea367255835c73f",
       "version_major": 2,
       "version_minor": 0
      },
      "text/plain": [
       "NGLWidget()"
      ]
     },
     "metadata": {},
     "output_type": "display_data"
    }
   ],
   "source": [
    "\n",
    "dna_c = mdna.StructureGenerator(spline_C)\n",
    "traj = dna_c.get_traj()\n",
    "view = nv.show_mdtraj(traj)\n",
    "view.clear()\n",
    "view.add_representation('licorice', selection='all')\n",
    "view"
   ]
  },
  {
   "cell_type": "code",
   "execution_count": 90,
   "metadata": {},
   "outputs": [],
   "source": [
    "traj.save('final.pdb')"
   ]
  },
  {
   "cell_type": "code",
   "execution_count": 30,
   "metadata": {},
   "outputs": [],
   "source": []
  },
  {
   "cell_type": "code",
   "execution_count": null,
   "metadata": {},
   "outputs": [],
   "source": []
  },
  {
   "cell_type": "code",
   "execution_count": null,
   "metadata": {},
   "outputs": [],
   "source": []
  }
 ],
 "metadata": {
  "kernelspec": {
   "display_name": "mdna",
   "language": "python",
   "name": "python3"
  },
  "language_info": {
   "codemirror_mode": {
    "name": "ipython",
    "version": 3
   },
   "file_extension": ".py",
   "mimetype": "text/x-python",
   "name": "python",
   "nbconvert_exporter": "python",
   "pygments_lexer": "ipython3",
   "version": "3.12.3"
  }
 },
 "nbformat": 4,
 "nbformat_minor": 2
}
