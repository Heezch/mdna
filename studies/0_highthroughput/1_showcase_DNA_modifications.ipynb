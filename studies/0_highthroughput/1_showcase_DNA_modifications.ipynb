{
 "cells": [
  {
   "cell_type": "code",
   "execution_count": 9,
   "metadata": {},
   "outputs": [
    {
     "name": "stdout",
     "output_type": "stream",
     "text": [
      "The autoreload extension is already loaded. To reload it, use:\n",
      "  %reload_ext autoreload\n"
     ]
    }
   ],
   "source": [
    "import numpy as np\n",
    "import mdtraj as md\n",
    "import matplotlib.pyplot as plt\n",
    "import nglview as nv\n",
    "\n",
    "import openmm as mm\n",
    "import openmm.app as app\n",
    "import openmm.unit as unit\n",
    "from mdtraj.reporters import HDF5Reporter\n",
    "import copy\n",
    "import nglview as nv\n",
    "import random\n",
    "\n",
    "# # Path: pymdna/__init__.py, prototype of the package and atomic is not properly referenced in the package at genertors.py now I just explicitly define the path loction\n",
    "# import pymdna as mdna\n",
    "import sys\n",
    "sys.path.append('/Users/thor/surfdrive/Projects/pymdna/')\n",
    "import pymdna as mdna \n",
    "%load_ext autoreload\n",
    "%autoreload 2"
   ]
  },
  {
   "cell_type": "code",
   "execution_count": 17,
   "metadata": {},
   "outputs": [],
   "source": [
    "def show_pdb(traj):\n",
    "    view = nv.show_mdtraj(traj)\n",
    "    view.clear()\n",
    "    chain_a  = traj.top.select('chainid 0')\n",
    "    chain_b  = traj.top.select('chainid 1')\n",
    "    view.add_representation('licorice', selection=chain_a, color='cornflowerblue')\n",
    "    view.add_representation('licorice', selection=chain_b, color='coral')\n",
    "    return view"
   ]
  },
  {
   "cell_type": "code",
   "execution_count": 35,
   "metadata": {},
   "outputs": [
    {
     "name": "stdout",
     "output_type": "stream",
     "text": [
      "Sequence: CATCATCAT\n",
      "Number of base pairs: 9\n"
     ]
    },
    {
     "data": {
      "application/vnd.jupyter.widget-view+json": {
       "model_id": "040339ca25304b0cafd089e5823362af",
       "version_major": 2,
       "version_minor": 0
      },
      "text/plain": [
       "NGLWidget()"
      ]
     },
     "metadata": {},
     "output_type": "display_data"
    }
   ],
   "source": [
    "# Make DNA from sequence\n",
    "sequence = 'CATCATCAT'\n",
    "pdb = mdna.sequence_to_pdb(sequence=sequence,output='GROMACS')\n",
    "pdb.save('./pdbs/wild.pdb')\n",
    "show_pdb(pdb)"
   ]
  },
  {
   "cell_type": "code",
   "execution_count": 36,
   "metadata": {},
   "outputs": [
    {
     "name": "stdout",
     "output_type": "stream",
     "text": [
      "New sequence: ATGCATCAT\n"
     ]
    },
    {
     "data": {
      "application/vnd.jupyter.widget-view+json": {
       "model_id": "68752b17974141b3a4a92ab528b3a4e5",
       "version_major": 2,
       "version_minor": 0
      },
      "text/plain": [
       "NGLWidget()"
      ]
     },
     "metadata": {},
     "output_type": "display_data"
    }
   ],
   "source": [
    "# Mutate DNA \n",
    "mutations = {0: 'A', 1: 'T', 2: 'G'}\n",
    "mutant = mdna.Mutate(pdb, mutations,complementary=True)\n",
    "mutant_pdb = mutant.get_traj()\n",
    "mutant_pdb.save('./pdbs/mutant.pdb')\n",
    "\n",
    "mutant_sequence = mdna.get_sequence_letters(mutant_pdb)\n",
    "print('New sequence:',''.join(mutant_sequence))\n",
    "view = show_pdb(mutant_pdb)\n",
    "selection = mutant_pdb.top.select('resid 0 1 2 17 16 15')\n",
    "view.add_representation('licorice', selection=selection, color='green')\n",
    "view"
   ]
  },
  {
   "cell_type": "code",
   "execution_count": 37,
   "metadata": {},
   "outputs": [
    {
     "name": "stdout",
     "output_type": "stream",
     "text": [
      "New sequence: CPDCATCAT\n"
     ]
    },
    {
     "data": {
      "application/vnd.jupyter.widget-view+json": {
       "model_id": "ea5fbd1ac925447b81e8c9bf07582f4f",
       "version_major": 2,
       "version_minor": 0
      },
      "text/plain": [
       "NGLWidget()"
      ]
     },
     "metadata": {},
     "output_type": "display_data"
    }
   ],
   "source": [
    "# Mutation (non-canonical//fluorescent base analogue)\n",
    "# P = 2AP (2-aminopurine)  https://doi.org/10.1002/anie.201001312 (2kv0)\n",
    "# D = tricyclic cytosin base analogue (1tuq)\n",
    "# Hydrophobic bases! Hachimoji DNA DOI: 10.1126/science.aat0971\n",
    "mutations = {1: 'P', 2 : 'D'}\n",
    "mutant = mdna.Mutate(pdb, mutations,complementary=True)\n",
    "new_pdb = mutant.get_traj()\n",
    "new_pdb.save('./pdbs/baseanalogues.pdb')\n",
    "\n",
    "mutant_sequence = mdna.get_sequence_letters(new_pdb)\n",
    "print('New sequence:',''.join(mutant_sequence))\n",
    "view = show_pdb(new_pdb)\n",
    "selection = new_pdb.top.select('resid 1 2')\n",
    "view.add_representation('licorice', selection=selection, color='yellow')\n",
    "view"
   ]
  },
  {
   "cell_type": "code",
   "execution_count": 38,
   "metadata": {},
   "outputs": [
    {
     "name": "stdout",
     "output_type": "stream",
     "text": [
      "New sequence: CATCATCAT\n"
     ]
    },
    {
     "data": {
      "application/vnd.jupyter.widget-view+json": {
       "model_id": "ba4ae26d642d432b886b978556e66877",
       "version_major": 2,
       "version_minor": 0
      },
      "text/plain": [
       "NGLWidget()"
      ]
     },
     "metadata": {},
     "output_type": "display_data"
    }
   ],
   "source": [
    "# Methylate DNA\n",
    "methylator = mdna.Methylate(pdb, methylations=[0])\n",
    "pdb_meth = methylator.get_traj()\n",
    "pdb_meth.save('./pdbs/methylated.pdb')\n",
    "\n",
    "meth_sequence = mdna.get_sequence_letters(pdb_meth)\n",
    "print('New sequence:',''.join(meth_sequence))\n",
    "view = show_pdb(pdb_meth)\n",
    "selection = pdb_meth.top.select('resid 0')\n",
    "view.add_representation('licorice', selection=selection, color='purple')\n",
    "view"
   ]
  },
  {
   "cell_type": "code",
   "execution_count": 39,
   "metadata": {},
   "outputs": [
    {
     "name": "stdout",
     "output_type": "stream",
     "text": [
      "Sequence: GCGCTATGCGCGGCGCGCTCGCTCACGACTACGATCAGCTACG\n",
      "Number of base pairs: 43\n",
      "Methylate all C in CpG context, superseeds methylations list.\n",
      "Methtylating: [1, 8, 10, 13, 15, 19, 25, 31, 41]\n",
      "New sequence: GCGCTATGCGCGGCGCGCTCGCTCACGACTACGATCAGCTACG\n"
     ]
    },
    {
     "data": {
      "application/vnd.jupyter.widget-view+json": {
       "model_id": "c85ac0d83e4246ab906c99ba682be942",
       "version_major": 2,
       "version_minor": 0
      },
      "text/plain": [
       "NGLWidget()"
      ]
     },
     "metadata": {},
     "output_type": "display_data"
    }
   ],
   "source": [
    "# Methylate DNA\n",
    "sequence = 'GCGCTATGCGCGGCGCGCTCGCTCACGACTACGATCAGCTACG'\n",
    "long_pdb = mdna.sequence_to_pdb(sequence=sequence,output='GROMACS')\n",
    "methylator = mdna.Methylate(long_pdb, CpG=True,leading_strand=0)\n",
    "pdb_meth_long = methylator.get_traj()\n",
    "\n",
    "pdb_meth_long.save('./pdbs/methylated.pdb')\n",
    "meth_sequence = mdna.get_sequence_letters(pdb_meth_long)\n",
    "print('New sequence:',''.join(meth_sequence))\n",
    "view = show_pdb(pdb_meth_long)\n",
    "resids = methylator.baselist\n",
    "selection = pdb_meth_long.top.select('resid '+' '.join([str(i) for i in resids]))\n",
    "view.add_representation('licorice', selection=selection, color='purple')\n",
    "view"
   ]
  },
  {
   "cell_type": "code",
   "execution_count": 40,
   "metadata": {},
   "outputs": [
    {
     "name": "stdout",
     "output_type": "stream",
     "text": [
      "Flipped residues [1] by 3.141592653589793 radians\n"
     ]
    },
    {
     "data": {
      "application/vnd.jupyter.widget-view+json": {
       "model_id": "a8934786b17e40fdb282e60da818d651",
       "version_major": 2,
       "version_minor": 0
      },
      "text/plain": [
       "NGLWidget()"
      ]
     },
     "metadata": {},
     "output_type": "display_data"
    }
   ],
   "source": [
    "# Hoogsteen flip\n",
    "flipper = mdna.Hoogsteen(pdb,fliplist=[1],deg=180,verbose=True)\n",
    "pdb_flipped = flipper.get_traj()\n",
    "pdb_flipped.save('./pdbs/WC_to_HG.pdb')\n",
    "view = show_pdb(pdb_flipped)\n",
    "selection = pdb_meth_long.top.select('resid '+' '.join([str(i) for i in flipper.fliplist]))\n",
    "view.add_representation('licorice', selection=selection, color='cyan')\n",
    "view"
   ]
  },
  {
   "cell_type": "code",
   "execution_count": 41,
   "metadata": {},
   "outputs": [
    {
     "name": "stdout",
     "output_type": "stream",
     "text": [
      "AATCATCAT saved as point_mutant_0.pdb\n",
      "CAACATCAT saved as point_mutant_1.pdb\n",
      "CACCATCAT saved as point_mutant_2.pdb\n",
      "CAGCATCAT saved as point_mutant_3.pdb\n",
      "CATAATCAT saved as point_mutant_4.pdb\n",
      "CATCAACAT saved as point_mutant_5.pdb\n",
      "CATCACCAT saved as point_mutant_6.pdb\n",
      "CATCAGCAT saved as point_mutant_7.pdb\n",
      "CATCATAAT saved as point_mutant_8.pdb\n",
      "CATCATCAA saved as point_mutant_9.pdb\n",
      "CATCATCAC saved as point_mutant_10.pdb\n",
      "CATCATCAG saved as point_mutant_11.pdb\n",
      "CATCATCCT saved as point_mutant_12.pdb\n",
      "CATCATCGT saved as point_mutant_13.pdb\n",
      "CATCATCTT saved as point_mutant_14.pdb\n",
      "CATCATGAT saved as point_mutant_15.pdb\n",
      "CATCATTAT saved as point_mutant_16.pdb\n",
      "CATCCTCAT saved as point_mutant_17.pdb\n",
      "CATCGTCAT saved as point_mutant_18.pdb\n",
      "CATCTTCAT saved as point_mutant_19.pdb\n",
      "CATGATCAT saved as point_mutant_20.pdb\n",
      "CATTATCAT saved as point_mutant_21.pdb\n",
      "CCTCATCAT saved as point_mutant_22.pdb\n",
      "CGTCATCAT saved as point_mutant_23.pdb\n",
      "CTTCATCAT saved as point_mutant_24.pdb\n",
      "GATCATCAT saved as point_mutant_25.pdb\n",
      "TATCATCAT saved as point_mutant_26.pdb\n"
     ]
    }
   ],
   "source": [
    "def point_mutation(sequence, position=None, new_nucleotide=None):\n",
    "    if position is None:\n",
    "        position = random.randint(0, len(sequence) - 1)\n",
    "    if new_nucleotide is None:\n",
    "        nucleotides = ['A', 'T', 'C', 'G']\n",
    "        new_nucleotide = random.choice([n for n in nucleotides if n != sequence[position]])\n",
    "    \n",
    "    mutated_sequence = list(sequence)\n",
    "    mutated_sequence[position] = new_nucleotide\n",
    "    return ''.join(mutated_sequence)\n",
    "\n",
    "def radiate_system(traj, new_sequence, complementary=True, chainids=[0,1], verbose=False):\n",
    "\n",
    "    pdb = copy.deepcopy(traj)   \n",
    "    if verbose:\n",
    "        print('--- current stat of the system ---')\n",
    "    s = mdna.get_sequence_letters(pdb)\n",
    "    if len(s) != len(new_sequence):\n",
    "        raise ValueError('The length of the new sequence does not match the length of the current sequence')\n",
    "    if verbose:\n",
    "        print(len(s),s)\n",
    "        print(''.join(s))\n",
    "    mutations = mdna.get_mutations(s,new_sequence)\n",
    "    if verbose:\n",
    "        print(f'start mutation ---- {mutations} ----')    \n",
    "    dna = pdb.atom_slice(pdb.top.select(f'chainid {chainids[0]} {chainids[1]}'))\n",
    "    if verbose:\n",
    "        for c in dna.top.chains:\n",
    "            print(c.index, c._residues)\n",
    "\n",
    "    mutant = mdna.Mutate(dna, mutations,complementary=complementary)\n",
    "    mutant_sequence = mdna.get_sequence_letters(mutant.mutant_traj)\n",
    "    if verbose:\n",
    "        print(mutant_sequence)\n",
    "        print(''.join(mutant_sequence))\n",
    "    new_traj = mutant.get_traj()\n",
    "    if verbose:\n",
    "        for c in new_traj.top.chains:\n",
    "            print(c.index, c._residues)\n",
    "        print('--- end radiation ---')\n",
    "    return new_traj\n",
    "\n",
    "# Example usage\n",
    "sequence = mdna.get_sequence_letters(pdb)\n",
    "point_mutations = np.unique([point_mutation(sequence) for _ in range(100)])\n",
    "\n",
    "for i, new_sequence in enumerate(point_mutations):\n",
    "    mutant = radiate_system(pdb, list(new_sequence))\n",
    "    print(new_sequence,f'saved as point_mutant_{i}.pdb')\n",
    "    mutant.save(f'./pdbs/point_mutant_{i}.pdb')\n"
   ]
  },
  {
   "cell_type": "code",
   "execution_count": null,
   "metadata": {},
   "outputs": [],
   "source": []
  },
  {
   "cell_type": "markdown",
   "metadata": {},
   "source": []
  }
 ],
 "metadata": {
  "kernelspec": {
   "display_name": "mdna",
   "language": "python",
   "name": "python3"
  },
  "language_info": {
   "codemirror_mode": {
    "name": "ipython",
    "version": 3
   },
   "file_extension": ".py",
   "mimetype": "text/x-python",
   "name": "python",
   "nbconvert_exporter": "python",
   "pygments_lexer": "ipython3",
   "version": "3.12.3"
  }
 },
 "nbformat": 4,
 "nbformat_minor": 2
}
