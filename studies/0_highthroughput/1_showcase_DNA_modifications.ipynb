{
 "cells": [
  {
   "cell_type": "code",
   "execution_count": 3,
   "metadata": {},
   "outputs": [
    {
     "data": {
      "application/vnd.jupyter.widget-view+json": {
       "model_id": "68192eeaeae14ef78d5ef1c82e726eff",
       "version_major": 2,
       "version_minor": 0
      },
      "text/plain": []
     },
     "metadata": {},
     "output_type": "display_data"
    },
    {
     "name": "stdout",
     "output_type": "stream",
     "text": [
      "joblib is not installed. Falling back to sequential computation.\n"
     ]
    }
   ],
   "source": [
    "import numpy as np\n",
    "import mdtraj as md\n",
    "import matplotlib.pyplot as plt\n",
    "import nglview as nv\n",
    "\n",
    "import openmm as mm\n",
    "import openmm.app as app\n",
    "import openmm.unit as unit\n",
    "from mdtraj.reporters import HDF5Reporter\n",
    "import copy\n",
    "\n",
    "import random\n",
    "\n",
    "# # Path: pymdna/__init__.py, prototype of the package and atomic is not properly referenced in the package at genertors.py now I just explicitly define the path loction\n",
    "# import pymdna as mdna\n",
    "import sys\n",
    "sys.path.append('/Users/thor/surfdrive/Projects/pymdna/')\n",
    "import pymdna as mdna \n",
    "%load_ext autoreload\n",
    "%autoreload 2"
   ]
  },
  {
   "cell_type": "code",
   "execution_count": 2,
   "metadata": {},
   "outputs": [
    {
     "name": "stdout",
     "output_type": "stream",
     "text": [
      "Sequence: CAT\n",
      "Number of base pairs: 3\n"
     ]
    }
   ],
   "source": [
    "# Make DNA from sequence\n",
    "sequence = 'CATCATCAT'\n",
    "pdb = mdna.sequence_to_pdb(sequence=sequence,output='GROMACS')\n",
    "pdb.save('./pdbs/wild.pdb')"
   ]
  },
  {
   "cell_type": "code",
   "execution_count": 3,
   "metadata": {},
   "outputs": [
    {
     "name": "stdout",
     "output_type": "stream",
     "text": [
      "New sequence: ATG\n"
     ]
    }
   ],
   "source": [
    "# Mutate DNA \n",
    "mutations = {0: 'A', 1: 'T', 2: 'G'}\n",
    "mutant = mdna.Mutate(pdb, mutations,complementary=True)\n",
    "mutant_pdb = mutant.get_traj()\n",
    "mutant_pdb.save('./pdbs/mutant.pdb')\n",
    "\n",
    "mutant_sequence = mdna.get_sequence_letters(mutant_pdb)\n",
    "print('New sequence:',''.join(mutant_sequence))"
   ]
  },
  {
   "cell_type": "code",
   "execution_count": 4,
   "metadata": {},
   "outputs": [
    {
     "name": "stdout",
     "output_type": "stream",
     "text": [
      "New sequence: CPD\n"
     ]
    }
   ],
   "source": [
    "# Mutation (non-canonical//fluorescent base analogue)\n",
    "# P = 2AP (2-aminopurine)  https://doi.org/10.1002/anie.201001312 (2kv0)\n",
    "# D = tricyclic cytosin base analogue (1tuq)\n",
    "mutations = {1: 'P', 2 : 'D'}\n",
    "mutant = mdna.Mutate(pdb, mutations,complementary=True)\n",
    "new_pdb = mutant.get_traj()\n",
    "new_pdb.save('./pdbs/baseanalogues.pdb')\n",
    "\n",
    "mutant_sequence = mdna.get_sequence_letters(new_pdb)\n",
    "print('New sequence:',''.join(mutant_sequence))\n"
   ]
  },
  {
   "cell_type": "code",
   "execution_count": 5,
   "metadata": {},
   "outputs": [
    {
     "name": "stdout",
     "output_type": "stream",
     "text": [
      "New sequence: CCA\n"
     ]
    }
   ],
   "source": [
    "# Methylate DNA\n",
    "methylator = mdna.Methylate(pdb, methylations=[0])\n",
    "pdb_meth = methylator.get_traj()\n",
    "pdb_meth.save('./pdbs/methylated.pdb')\n",
    "\n",
    "meth_sequence = mdna.get_sequence_letters(pdb_meth)\n",
    "print('New sequence:',''.join(meth_sequence))"
   ]
  },
  {
   "cell_type": "code",
   "execution_count": 30,
   "metadata": {},
   "outputs": [
    {
     "name": "stdout",
     "output_type": "stream",
     "text": [
      "Sequence: GCGCTATGCGCGGCGCGCTCGCTCACGACTACGATCAGCTACG\n",
      "Number of base pairs: 43\n",
      "Methylate all C in CpG context, superseeds methylations list.\n",
      "Methtylating: [1, 8, 10, 13, 15, 19, 25, 31, 41]\n",
      "New sequence: GCGCTATGCGCGGCGCGCTCGCTCACGACTACGATCAGCTACG\n"
     ]
    }
   ],
   "source": [
    "# Methylate DNA\n",
    "sequence = 'GCGCTATGCGCGGCGCGCTCGCTCACGACTACGATCAGCTACG'\n",
    "long_pdb = mdna.sequence_to_pdb(sequence=sequence,output='GROMACS')\n",
    "methylator = mdna.Methylate(long_pdb, CpG=True,leading_strand=0)\n",
    "pdb_meth_long = methylator.get_traj()\n",
    "\n",
    "pdb_meth_long.save('./pdbs/methylated.pdb')\n",
    "meth_sequence = mdna.get_sequence_letters(pdb_meth_long)\n",
    "print('New sequence:',''.join(meth_sequence))"
   ]
  },
  {
   "cell_type": "code",
   "execution_count": 6,
   "metadata": {},
   "outputs": [
    {
     "name": "stdout",
     "output_type": "stream",
     "text": [
      "Flipped residues [1] by 3.141592653589793 radians\n"
     ]
    }
   ],
   "source": [
    "# Hoogsteen flip\n",
    "flipper = mdna.Hoogsteen(pdb,fliplist=[1],deg=180,verbose=True)\n",
    "pdb_flipped = flipper.get_traj()\n",
    "pdb_flipped.save('./pdbs/WC_to_HG.pdb')\n"
   ]
  },
  {
   "cell_type": "code",
   "execution_count": 7,
   "metadata": {},
   "outputs": [
    {
     "name": "stdout",
     "output_type": "stream",
     "text": [
      "AAT saved as point_mutant_0.pdb\n",
      "CAA saved as point_mutant_1.pdb\n",
      "CAC saved as point_mutant_2.pdb\n",
      "CAG saved as point_mutant_3.pdb\n",
      "CCT saved as point_mutant_4.pdb\n",
      "CGT saved as point_mutant_5.pdb\n",
      "CTT saved as point_mutant_6.pdb\n",
      "GAT saved as point_mutant_7.pdb\n",
      "TAT saved as point_mutant_8.pdb\n"
     ]
    }
   ],
   "source": [
    "def point_mutation(sequence, position=None, new_nucleotide=None):\n",
    "    if position is None:\n",
    "        position = random.randint(0, len(sequence) - 1)\n",
    "    if new_nucleotide is None:\n",
    "        nucleotides = ['A', 'T', 'C', 'G']\n",
    "        new_nucleotide = random.choice([n for n in nucleotides if n != sequence[position]])\n",
    "    \n",
    "    mutated_sequence = list(sequence)\n",
    "    mutated_sequence[position] = new_nucleotide\n",
    "    return ''.join(mutated_sequence)\n",
    "\n",
    "def radiate_system(traj, new_sequence, complementary=True, chainids=[0,1], verbose=False):\n",
    "\n",
    "    pdb = copy.deepcopy(traj)   \n",
    "    if verbose:\n",
    "        print('--- current stat of the system ---')\n",
    "    s = mdna.get_sequence_letters(pdb)\n",
    "    if len(s) != len(new_sequence):\n",
    "        raise ValueError('The length of the new sequence does not match the length of the current sequence')\n",
    "    if verbose:\n",
    "        print(len(s),s)\n",
    "        print(''.join(s))\n",
    "    mutations = mdna.get_mutations(s,new_sequence)\n",
    "    if verbose:\n",
    "        print(f'start mutation ---- {mutations} ----')    \n",
    "    dna = pdb.atom_slice(pdb.top.select(f'chainid {chainids[0]} {chainids[1]}'))\n",
    "    if verbose:\n",
    "        for c in dna.top.chains:\n",
    "            print(c.index, c._residues)\n",
    "\n",
    "    mutant = mdna.Mutate(dna, mutations,complementary=complementary)\n",
    "    mutant_sequence = mdna.get_sequence_letters(mutant.mutant_traj)\n",
    "    if verbose:\n",
    "        print(mutant_sequence)\n",
    "        print(''.join(mutant_sequence))\n",
    "    new_traj = mutant.get_traj()\n",
    "    if verbose:\n",
    "        for c in new_traj.top.chains:\n",
    "            print(c.index, c._residues)\n",
    "        print('--- end radiation ---')\n",
    "    return new_traj\n",
    "\n",
    "# Example usage\n",
    "sequence = mdna.get_sequence_letters(pdb)\n",
    "point_mutations = np.unique([point_mutation(sequence) for _ in range(100)])\n",
    "\n",
    "for i, new_sequence in enumerate(point_mutations):\n",
    "    mutant = radiate_system(pdb, list(new_sequence))\n",
    "    print(new_sequence,f'saved as point_mutant_{i}.pdb')\n",
    "    mutant.save(f'./pdbs/point_mutant_{i}.pdb')\n"
   ]
  },
  {
   "cell_type": "code",
   "execution_count": null,
   "metadata": {},
   "outputs": [],
   "source": []
  },
  {
   "cell_type": "markdown",
   "metadata": {},
   "source": []
  }
 ],
 "metadata": {
  "kernelspec": {
   "display_name": "mdna",
   "language": "python",
   "name": "python3"
  },
  "language_info": {
   "codemirror_mode": {
    "name": "ipython",
    "version": 3
   },
   "file_extension": ".py",
   "mimetype": "text/x-python",
   "name": "python",
   "nbconvert_exporter": "python",
   "pygments_lexer": "ipython3",
   "version": "3.11.9"
  }
 },
 "nbformat": 4,
 "nbformat_minor": 2
}
