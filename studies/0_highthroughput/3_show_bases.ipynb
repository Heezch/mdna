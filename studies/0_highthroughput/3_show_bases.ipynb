{
 "cells": [
  {
   "cell_type": "code",
   "execution_count": 2,
   "metadata": {},
   "outputs": [
    {
     "data": {
      "application/vnd.jupyter.widget-view+json": {
       "model_id": "9911a8325dec43fcbd144d1b8e1ec00a",
       "version_major": 2,
       "version_minor": 0
      },
      "text/plain": []
     },
     "metadata": {},
     "output_type": "display_data"
    },
    {
     "name": "stdout",
     "output_type": "stream",
     "text": [
      "joblib is not installed. Falling back to sequential computation.\n"
     ]
    }
   ],
   "source": [
    "import numpy as np\n",
    "import mdtraj as md\n",
    "import matplotlib.pyplot as plt\n",
    "import nglview as nv\n",
    "\n",
    "import openmm as mm\n",
    "import openmm.app as app\n",
    "import openmm.unit as unit\n",
    "from mdtraj.reporters import HDF5Reporter\n",
    "import copy\n",
    "import nglview as nv\n",
    "import random\n",
    "\n",
    "# # Path: pymdna/__init__.py, prototype of the package and atomic is not properly referenced in the package at genertors.py now I just explicitly define the path loction\n",
    "# import pymdna as mdna\n",
    "import sys\n",
    "sys.path.append('/Users/thor/surfdrive/Projects/pymdna/')\n",
    "import pymdna as mdna \n",
    "%load_ext autoreload\n",
    "%autoreload 2"
   ]
  },
  {
   "cell_type": "code",
   "execution_count": 7,
   "metadata": {},
   "outputs": [],
   "source": [
    "base_pair_map = {'A':'T','T':'A','G':'C','C':'G','U':'A','D':'G','E':'T','L':'M','M':'L','B':'S','S':'B','Z':'P','P':'Z'}\n",
    "        \n",
    "reference_bases = {base: md.load_hdf5(mdna.utils.get_data_file_path(f'./atomic/bases/BDNA_{base}.h5')) for base in base_pair_map.keys()}\n",
    "\n",
    "bases = list(reference_bases.values())\n",
    "order = [['A', 'T', 'G', 'C', 'U'], \n",
    "         ['B', 'S', 'Z', 'P'], \n",
    "         ['E', 'D','L', 'M']]\n",
    "\n",
    "\n",
    "# Initialize the trajectory with the first base\n",
    "traj = reference_bases[order[0][0]]\n",
    "\n",
    "# Spacing parameters (in angstroms, adjust as needed)\n",
    "horizontal_spacing = 1.2  # Spacing between bases within a row\n",
    "vertical_spacing = 1.5    # Spacing between rows\n",
    "\n",
    "# Base positions tracking\n",
    "y_position = 0  # Start at the top-most row and work downwards\n",
    "\n",
    "for row in order:\n",
    "    x_position = 0  # Reset x position for each new row\n",
    "    for i, base in enumerate(row,1):\n",
    "        if i == 0 and row == order[0]:\n",
    "            # Already initialized with the first base\n",
    "            continue\n",
    "        # Move base in x and y direction\n",
    "        reference_bases[base].xyz[0] = reference_bases[base].xyz[0] + np.array([-x_position, y_position, 0])\n",
    "        # Stack the base to the trajectory\n",
    "        traj = traj.stack(reference_bases[base])\n",
    "        # Increment x position for the next base in the row\n",
    "        x_position += horizontal_spacing\n",
    "    # Decrement y position for the next row to position it below the current one\n",
    "    y_position -= vertical_spacing"
   ]
  },
  {
   "cell_type": "code",
   "execution_count": 10,
   "metadata": {},
   "outputs": [
    {
     "data": {
      "application/vnd.jupyter.widget-view+json": {
       "model_id": "c14266e4e45a4bfbb3b836f01c7b20c1",
       "version_major": 2,
       "version_minor": 0
      },
      "text/plain": [
       "NGLWidget()"
      ]
     },
     "metadata": {},
     "output_type": "display_data"
    }
   ],
   "source": [
    "subtraj = traj.atom_slice(traj.top.select('not element H'))\n",
    "subtraj.save_pdb('all_bases.pdb')\n",
    "subtraj.save_hdf5('all_bases.h5')\n",
    "view = nv.show_mdtraj(subtraj)    \n",
    "view.clear()\n",
    "view.add_representation('licorice', selection='all')\n",
    "view"
   ]
  },
  {
   "cell_type": "code",
   "execution_count": null,
   "metadata": {},
   "outputs": [],
   "source": []
  },
  {
   "cell_type": "code",
   "execution_count": null,
   "metadata": {},
   "outputs": [],
   "source": []
  },
  {
   "cell_type": "code",
   "execution_count": null,
   "metadata": {},
   "outputs": [],
   "source": []
  }
 ],
 "metadata": {
  "kernelspec": {
   "display_name": "mdna",
   "language": "python",
   "name": "python3"
  },
  "language_info": {
   "codemirror_mode": {
    "name": "ipython",
    "version": 3
   },
   "file_extension": ".py",
   "mimetype": "text/x-python",
   "name": "python",
   "nbconvert_exporter": "python",
   "pygments_lexer": "ipython3",
   "version": "3.12.3"
  }
 },
 "nbformat": 4,
 "nbformat_minor": 2
}
