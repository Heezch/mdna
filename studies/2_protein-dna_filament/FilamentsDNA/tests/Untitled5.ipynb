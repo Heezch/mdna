{
 "cells": [
  {
   "cell_type": "code",
   "execution_count": 44,
   "id": "2a0c09d3-2f43-47ea-b4aa-9db5986a9fed",
   "metadata": {},
   "outputs": [],
   "source": [
    "import mdtraj as md\n",
    "import nglview as nv\n",
    "import numpy as np"
   ]
  },
  {
   "cell_type": "code",
   "execution_count": 67,
   "id": "6dc4f22d-f252-4902-934c-da32f941306f",
   "metadata": {},
   "outputs": [],
   "source": [
    "traj = md.load('/Users/thor/Downloads/output.dcd',top='/Users/thor/Downloads/tetra-processed.pdb').remove_solvent()"
   ]
  },
  {
   "cell_type": "code",
   "execution_count": 48,
   "id": "c7132eff-e5c1-4996-9df4-4d0299e46088",
   "metadata": {},
   "outputs": [
    {
     "data": {
      "text/plain": [
       "<mdtraj.Topology with 4 chains, 548 residues, 8780 atoms, 8812 bonds at 0x1be080730>"
      ]
     },
     "execution_count": 48,
     "metadata": {},
     "output_type": "execute_result"
    }
   ],
   "source": [
    "traj.top"
   ]
  },
  {
   "cell_type": "code",
   "execution_count": 71,
   "id": "e6464d83-9c68-4d19-9265-7b0b379472bd",
   "metadata": {},
   "outputs": [],
   "source": [
    "anchor = traj.top.select('chainid 2')\n",
    "anchor\n",
    "\n",
    "#anchors = [np.fromiter((a.index for a in mol), dtype=np.int32) for mol in anchor]\n",
    "#anchors = [traj.top._atoms[idx] for idx in anchor]\n",
    "#traj.top._atoms[list(anchor)]\n",
    "#anchors[0].name\n",
    "im = traj.image_molecules(anchor_molecules=traj.top.find_molecules()[1:3])"
   ]
  },
  {
   "cell_type": "code",
   "execution_count": null,
   "id": "e51bd8ad-1a52-4aa6-bb90-88b847e41326",
   "metadata": {},
   "outputs": [],
   "source": []
  },
  {
   "cell_type": "code",
   "execution_count": null,
   "id": "4e94b8a5-3a1d-4c76-830f-7f45b25cfb17",
   "metadata": {},
   "outputs": [],
   "source": []
  },
  {
   "cell_type": "code",
   "execution_count": null,
   "id": "798dcaaf-7c58-43ec-a9b0-3ef8e865261d",
   "metadata": {},
   "outputs": [],
   "source": [
    "c = im.center_coordinates()"
   ]
  },
  {
   "cell_type": "code",
   "execution_count": 72,
   "id": "cd1660d2-507d-436e-a655-c9ce9b02ebc9",
   "metadata": {},
   "outputs": [
    {
     "data": {
      "application/vnd.jupyter.widget-view+json": {
       "model_id": "40ecb0dd90634677bfbf46d7f0b49f11",
       "version_major": 2,
       "version_minor": 0
      },
      "text/plain": [
       "NGLWidget(max_frame=499)"
      ]
     },
     "metadata": {},
     "output_type": "display_data"
    }
   ],
   "source": [
    "view = nv.show_mdtraj(c)\n",
    "view.clear()\n",
    "view.add_representation('ball+stick',selection=traj.top.select('protein'))\n",
    "view"
   ]
  },
  {
   "cell_type": "code",
   "execution_count": null,
   "id": "2905fe4e-8f74-42b4-9aa5-db4a31eb24d3",
   "metadata": {},
   "outputs": [],
   "source": [
    "im[0].save('stom.pdb')"
   ]
  },
  {
   "cell_type": "code",
   "execution_count": 69,
   "id": "d2c59a12-c0e4-4389-8461-b2376d29581c",
   "metadata": {
    "collapsed": true,
    "jupyter": {
     "outputs_hidden": true
    },
    "tags": []
   },
   "outputs": [
    {
     "data": {
      "application/vnd.jupyter.widget-view+json": {
       "model_id": "580334a7a8c94853bbc559b05e7b1a20",
       "version_major": 2,
       "version_minor": 0
      },
      "text/plain": [
       "NGLWidget(max_frame=499)"
      ]
     },
     "metadata": {},
     "output_type": "display_data"
    }
   ],
   "source": [
    "view = nv.show_mdtraj(traj)\n",
    "view.clear()\n",
    "view.add_representation('ball+stick',selection=traj.top.select('protein'))\n",
    "view"
   ]
  },
  {
   "cell_type": "code",
   "execution_count": null,
   "id": "f1e2f632-62ad-404c-b846-8639f669b2a8",
   "metadata": {},
   "outputs": [],
   "source": []
  }
 ],
 "metadata": {
  "kernelspec": {
   "display_name": "Python 3 (ipykernel)",
   "language": "python",
   "name": "python3"
  },
  "language_info": {
   "codemirror_mode": {
    "name": "ipython",
    "version": 3
   },
   "file_extension": ".py",
   "mimetype": "text/x-python",
   "name": "python",
   "nbconvert_exporter": "python",
   "pygments_lexer": "ipython3",
   "version": "3.10.5"
  }
 },
 "nbformat": 4,
 "nbformat_minor": 5
}
