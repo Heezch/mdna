{
 "cells": [
  {
   "cell_type": "code",
   "execution_count": 1,
   "id": "0fbd38d4-ef09-4a97-8028-f7beb1e8bf90",
   "metadata": {},
   "outputs": [
    {
     "data": {
      "application/vnd.jupyter.widget-view+json": {
       "model_id": "dc844ed73fe942edb07d46a8d34fbb20",
       "version_major": 2,
       "version_minor": 0
      },
      "text/plain": []
     },
     "metadata": {},
     "output_type": "display_data"
    }
   ],
   "source": [
    "import numpy as np\n",
    "import seaborn as sns\n",
    "import mdtraj as md\n",
    "import matplotlib.pyplot as plt\n",
    "import nglview as nv\n",
    "\n",
    "# https://biopython.org/docs/1.74/api/Bio.SVDSuperimposer.html\n",
    "from Bio.SVDSuperimposer import SVDSuperimposer\n",
    "\n",
    "from numpy import array, dot, set_printoptions\n",
    "\n",
    "# link to openmm manual for how to set up a minimizer\n",
    "# http://docs.openmm.org/7.2.0/userguide/application.html"
   ]
  },
  {
   "cell_type": "code",
   "execution_count": 2,
   "id": "c250ca0f-931e-440d-961b-0916b541d65f",
   "metadata": {},
   "outputs": [],
   "source": [
    "def get_rot_and_trans(subtraj_A,subtraj_B):\n",
    "    \n",
    "    \"\"\" fit only works now on a single frame (mdtraj returns xyz with shape (n_frames, atoms, xyz) \n",
    "         even for single frame trajs so hence the xyz[0]\"\"\"\n",
    "    \n",
    "    # load super imposer\n",
    "    sup = SVDSuperimposer()\n",
    "\n",
    "    # Set the coords, y will be rotated and translated on x\n",
    "    x = subtraj_A.xyz[0]\n",
    "    y = subtraj_B.xyz[0]\n",
    "    sup.set(x, y)\n",
    "\n",
    "    # Do the leastsquared fit\n",
    "    sup.run()\n",
    "\n",
    "    # Get the rms\n",
    "    rms = sup.get_rms()\n",
    "\n",
    "    # Get rotation (right multiplying!) and the translation\n",
    "    rot, tran = sup.get_rotran()\n",
    "    \n",
    "    # now we have the instructions to rotate B on A\n",
    "    return rot,tran,rms\n",
    "\n",
    "def apply_superimposition(traj, rot, tran):\n",
    "    \n",
    "    # get xyz coordinates\n",
    "    xyz = traj.xyz[0]\n",
    "    \n",
    "    # rotate subject on target\n",
    "    new_xyz = dot(xyz, rot) + tran\n",
    "\n",
    "    # replace coordinates of traj\n",
    "    traj.xyz = new_xyz\n",
    "    return traj\n",
    "\n",
    "def update_topology(C):\n",
    "    top = C.top\n",
    "    # Merge two tops (with two chains or more) to a top of one chain \n",
    "    out = md.Topology()\n",
    "    c = out.add_chain()\n",
    "    for chain in top.chains:\n",
    "\n",
    "        for residue in chain.residues:\n",
    "            r = out.add_residue(residue.name, c, residue.resSeq, residue.segment_id)\n",
    "            for atom in residue.atoms:\n",
    "                out.add_atom(atom.name, atom.element, r, serial=atom.serial)\n",
    "    #     for bond in top.bonds:\n",
    "    #         a1, a2 = bond\n",
    "    #         out.add_bond(a1, a2, type=bond.type, order=bond.order)\n",
    "    out.create_standard_bonds() #rare manier om bonds te maken, maar werkt\n",
    "    C.top = out \n",
    "    return C\n",
    "\n",
    "def fit_B_on_A(A, B, selection_A, selection_B, delete_overlap=False):\n",
    "    \n",
    "    # create trajs containing only the selections\n",
    "    subtraj_A = A.atom_slice(selection_A)\n",
    "    subtraj_B = B.atom_slice(selection_B)\n",
    "\n",
    "    # obtain instructions to rotate and translate B on A based on substraj structures\n",
    "    rot, tran, rms = get_rot_and_trans(subtraj_A,subtraj_B)\n",
    "    \n",
    "    # do the superimposition of B on A and subsitute old with new xyz of B\n",
    "    new_B = apply_superimposition(B, rot, tran)\n",
    "\n",
    "    \n",
    "    if delete_overlap:\n",
    "        # remove selection from A and add new B\n",
    "        selection_to_delete = selection_A \n",
    "        new_A = A.atom_slice([at.index for at in A.top.atoms if at.index not in selection_to_delete])\n",
    "\n",
    "        # merge superimposed structure and fit (A and B*) and update topology such that they share a chain\n",
    "        C = update_topology(new_A.stack(new_B))\n",
    "    else:\n",
    "         C = A.stack(new_B)\n",
    "            \n",
    "    return C, rms"
   ]
  },
  {
   "cell_type": "code",
   "execution_count": null,
   "id": "0a99b33d-9b82-4ee7-89cd-f8a8bc708f19",
   "metadata": {},
   "outputs": [],
   "source": []
  },
  {
   "cell_type": "code",
   "execution_count": null,
   "id": "be8e9ac0-6e84-4654-93cf-496fb4afc939",
   "metadata": {},
   "outputs": [],
   "source": []
  },
  {
   "cell_type": "code",
   "execution_count": null,
   "id": "ed7bfa5c-bc22-4017-9bb1-4dce76ec5fbf",
   "metadata": {},
   "outputs": [],
   "source": [
    "# Load H-NS dimers\n",
    "loc_dimers = './data/dimer_pdbs/'\n",
    "dimers = md.join([md.load(loc_dimers+f'run{i}.pdb') for i in range(0,16)])"
   ]
  },
  {
   "cell_type": "code",
   "execution_count": null,
   "id": "4177fca6-3319-4c61-bc7e-4af999a785a3",
   "metadata": {},
   "outputs": [],
   "source": [
    "# create small piece of protein\n",
    "traj = dimers\n",
    "top = traj.topology\n",
    "selection = top.select('resid 60 to 79')\n",
    "print(traj)\n",
    "traj = dimers.atom_slice(selection)\n",
    "view  = nv.show_mdtraj(traj.center_coordinates())\n",
    "view"
   ]
  },
  {
   "cell_type": "code",
   "execution_count": null,
   "id": "ae687431-8714-45bd-b729-9cb1cd9f5f08",
   "metadata": {},
   "outputs": [],
   "source": [
    "# split the small piece in 2 as a demo on how to \"repair/graft\" it to once piece again\n",
    "traj_A = traj.atom_slice(traj.top.select('resid 0 to 11'))\n",
    "traj_B = traj.atom_slice(traj.top.select('resid 10 to 20'))\n",
    "\n",
    "# pick residues that overlap and that you will use for the fit\n",
    "selection_A = traj_A.top.select('resid 10 11')\n",
    "selection_B = traj_B.top.select('resid 0 1')\n",
    "\n",
    "print(len(selection_A))\n",
    "print(len(selection_B))"
   ]
  },
  {
   "cell_type": "code",
   "execution_count": null,
   "id": "19653ae6-ee29-433d-abb2-0f3b84be7ce9",
   "metadata": {},
   "outputs": [],
   "source": [
    "C = None\n",
    "# Fit B on A with the overlap atoms, here I used frame zero from piece A and frame 2 from piece B, you can of course change this easily\n",
    "C, rms = fit_B_on_A(traj_A[3], traj_B[10], selection_A, selection_B, delete_overlap=True)\n",
    "print(rms)\n",
    "C.top"
   ]
  }
 ],
 "metadata": {
  "kernelspec": {
   "display_name": "Python 3 (ipykernel)",
   "language": "python",
   "name": "python3"
  },
  "language_info": {
   "codemirror_mode": {
    "name": "ipython",
    "version": 3
   },
   "file_extension": ".py",
   "mimetype": "text/x-python",
   "name": "python",
   "nbconvert_exporter": "python",
   "pygments_lexer": "ipython3",
   "version": "3.10.5"
  }
 },
 "nbformat": 4,
 "nbformat_minor": 5
}
