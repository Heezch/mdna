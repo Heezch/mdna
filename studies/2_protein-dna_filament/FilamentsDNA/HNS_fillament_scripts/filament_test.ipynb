{
 "cells": [
  {
   "cell_type": "code",
   "execution_count": 22,
   "id": "19f6eb77-9715-4a98-b6e9-c5ae3e42f6b8",
   "metadata": {},
   "outputs": [],
   "source": [
    "import mdtraj as md\n",
    "import matplotlib.pyplot as plt\n",
    "from numpy import dot\n",
    "import nglview as nv\n",
    "import numpy as np\n",
    "\n",
    "# https://biopython.org/docs/1.74/api/Bio.SVDSuperimposer.html\n",
    "from Bio.SVDSuperimposer import SVDSuperimposer\n",
    "\n",
    "# Load H-NS dimers\n",
    "loc_dimers = './data/dimer_pdbs/'\n",
    "dimers = md.join([md.load(loc_dimers+f'run{i}.pdb') for i in range(0,16)])\n",
    "\n",
    "# Load site2 - site2 data\n",
    "loc_site = './data/'\n",
    "site2_complex = md.load(loc_site+f'site2-dimer-LAA.pdb')\n",
    "# site2_complex = md.load(loc_site+f'site21.pdb')\n"
   ]
  },
  {
   "cell_type": "code",
   "execution_count": 23,
   "id": "d2982a5c-ff34-4b67-b01e-3b3c79abecbe",
   "metadata": {},
   "outputs": [],
   "source": [
    "fit_idx = [x for x in range(849,1296)]\n"
   ]
  },
  {
   "cell_type": "code",
   "execution_count": 24,
   "id": "bbfa56ca-91f9-48fa-a394-1f8f7b022c8c",
   "metadata": {},
   "outputs": [
    {
     "name": "stdout",
     "output_type": "stream",
     "text": [
      "[GLU53, ARG54, THR55, ARG56, LYS57, LEU58, GLN59, GLN60, TYR61, ARG62, GLU63, MET64, LEU65, ILE66, ALA67, ASP68, GLY69, ILE70, ASP71, PRO72, ASN73, GLU74, LEU75, LEU76, ASN77, SER78, LEU79]\n",
      "[ 849  850  851  852  853  854  855  856  857  858  859  860  861  862\n",
      "  863  864  865  866  867  868  869  870  871  872  873  874  875  876\n",
      "  877  878  879  880  881  882  883  884  885  886  887  888  889  890\n",
      "  891  892  893  894  895  896  897  898  899  900  901  902  903  904\n",
      "  905  906  907  908  909  910  911  912  913  914  915  916  917  918\n",
      "  919  920  921  922  923  924  925  926  927  928  929  930  931  932\n",
      "  933  934  935  936  937  938  939  940  941  942  943  944  945  946\n",
      "  947  948  949  950  951  952  953  954  955  956  957  958  959  960\n",
      "  961  962  963  964  965  966  967  968  969  970  971  972  973  974\n",
      "  975  976  977  978  979  980  981  982  983  984  985  986  987  988\n",
      "  989  990  991  992  993  994  995  996  997  998  999 1000 1001 1002\n",
      " 1003 1004 1005 1006 1007 1008 1009 1010 1011 1012 1013 1014 1015 1016\n",
      " 1017 1018 1019 1020 1021 1022 1023 1024 1025 1026 1027 1028 1029 1030\n",
      " 1031 1032 1033 1034 1035 1036 1037 1038 1039 1040 1041 1042 1043 1044\n",
      " 1045 1046 1047 1048 1049 1050 1051 1052 1053 1054 1055 1056 1057 1058\n",
      " 1059 1060 1061 1062 1063 1064 1065 1066 1067 1068 1069 1070 1071 1072\n",
      " 1073 1074 1075 1076 1077 1078 1079 1080 1081 1082 1083 1084 1085 1086\n",
      " 1087 1088 1089 1090 1091 1092 1093 1094 1095 1096 1097 1098 1099 1100\n",
      " 1101 1102 1103 1104 1105 1106 1107 1108 1109 1110 1111 1112 1113 1114\n",
      " 1115 1116 1117 1118 1119 1120 1121 1122 1123 1124 1125 1126 1127 1128\n",
      " 1129 1130 1131 1132 1133 1134 1135 1136 1137 1138 1139 1140 1141 1142\n",
      " 1143 1144 1145 1146 1147 1148 1149 1150 1151 1152 1153 1154 1155 1156\n",
      " 1157 1158 1159 1160 1161 1162 1163 1164 1165 1166 1167 1168 1169 1170\n",
      " 1171 1172 1173 1174 1175 1176 1177 1178 1179 1180 1181 1182 1183 1184\n",
      " 1185 1186 1187 1188 1189 1190 1191 1192 1193 1194 1195 1196 1197 1198\n",
      " 1199 1200 1201 1202 1203 1204 1205 1206 1207 1208 1209 1210 1211 1212\n",
      " 1213 1214 1215 1216 1217 1218 1219 1220 1221 1222 1223 1224 1225 1226\n",
      " 1227 1228 1229 1230 1231 1232 1233 1234 1235 1236 1237 1238 1239 1240\n",
      " 1241 1242 1243 1244 1245 1246 1247 1248 1249 1250 1251 1252 1253 1254\n",
      " 1255 1256 1257 1258 1259 1260 1261 1262 1263 1264 1265 1266 1267 1268\n",
      " 1269 1270 1271 1272 1273 1274 1275 1276 1277 1278 1279 1280 1281 1282\n",
      " 1283 1284 1285 1286 1287 1288 1289 1290 1291 1292 1293 1294 1295]\n"
     ]
    }
   ],
   "source": [
    "view = nv.show_mdtraj(site2_complex)\n",
    "# print(site2_complex)\n",
    "traj = site2_complex\n",
    "topology = traj.topology\n",
    "resids = [res for res in topology.residues]\n",
    "\n",
    "# print(\"site2_A\")\n",
    "# print(\"site2_B\")\n",
    "# print(resids[29:58])\n",
    "\n",
    "dimer = dimers[7]\n",
    "view\n",
    "\n",
    "view2 = nv.show_mdtraj(dimer)\n",
    "view2\n",
    "\n",
    "view\n",
    "\n",
    "fit_site2_site2_idx = topology.select('resid 0 to 28')\n",
    "\n",
    "top = dimer.topology\n",
    "residss = [res for res in top.residues]\n",
    "cor_res = [residue for residue in top.residues if (residue.index >= 52 and residue.index <= 78)]\n",
    "# print(\"complex\")\n",
    "print(cor_res)\n",
    "idx = top.select('resid 53 to 79')\n",
    "print(idx)\n",
    "\n",
    "# print(len(topology.select('resid 0 to 28')))\n",
    "\n",
    "# print(len(top.select('resid 54 to 80')))\n",
    "\n",
    "# chains = [res for res in top._chains[0]]\n",
    "\n",
    "# selection = topology.select(\"resid 0\")\n",
    "# for idx in selection:\n",
    "#     print(topology._atoms[idx])\n",
    "\n",
    "# print(\"\")\n",
    "# selection2 = top.select(\"resid 54\")\n",
    "# for idx in selection2:\n",
    "#     print(top._atoms[idx])\n",
    "\n",
    "# for res in top.residues:\n",
    "#     print(res.index, res)\n",
    "#test\n",
    "\n"
   ]
  },
  {
   "cell_type": "code",
   "execution_count": 25,
   "id": "4147013f-0560-4cb2-a48b-c2c1db718c8d",
   "metadata": {},
   "outputs": [],
   "source": [
    "top_a = traj.topology\n",
    "top_b = dimers[7].topology"
   ]
  },
  {
   "cell_type": "code",
   "execution_count": 26,
   "id": "66d5c373-59cc-42bf-89d7-562bf1b179ae",
   "metadata": {},
   "outputs": [
    {
     "name": "stdout",
     "output_type": "stream",
     "text": [
      "['MSEALKILNNIRTLRAQARECTLETLEEMLEKLEVVVNERREEESAAAAEVEERTRKLQQYREMLIADGIDPNELLNSLAAVKSGTKAKRAQRPAKYSYVDENGETKTWTGQGRTPAVIKKAMDEQGKSLDDFLIKQ', 'MSEALKILNNIRTLRAQARECTLETLEEMLEKLEVVVNERREEESAAAAEVEERTRKLQQYREMLIADGIDPNELLNSLAAVKSGTKAKRAQRPAKYSYVDENGETKTWTGQGRTPAVIKKAMDEQGKSLDDFLIKQ']\n",
      "['MSEALKILNNIRTLRAQARECTLETLEEMLEKLEVVVNERREEESAAAAEVEERTRKLQQYREMLIADGIDPNELLNSLAAVKSGTKAKRAQRPAKYSYVDENGETKTWTGQGRTPAVIKKAMDEQGKSLDDFLIKQ', 'MSEALKILNNIRTLRAQARECTLETLEEMLEKLEVVVNERREEESAAAAEVEERTRKLQQYREMLIADGIDPNELLNSLAAVKSGTKAKRAQRPAKYSYVDENGETKTWTGQGRTPAVIKKAMDEQGKSLDDFLIKQ']\n"
     ]
    },
    {
     "data": {
      "application/vnd.jupyter.widget-view+json": {
       "model_id": "3a9f3cfacf5c4cbd81810abe7274028b",
       "version_major": 2,
       "version_minor": 0
      },
      "text/plain": [
       "NGLWidget()"
      ]
     },
     "metadata": {},
     "output_type": "display_data"
    }
   ],
   "source": [
    "print(top_a.to_fasta())\n",
    "print(top_b.to_fasta())\n",
    "view\n"
   ]
  },
  {
   "cell_type": "code",
   "execution_count": 27,
   "id": "e2283841-e339-4916-81d0-ae0a19d5cea4",
   "metadata": {},
   "outputs": [
    {
     "data": {
      "application/vnd.jupyter.widget-view+json": {
       "model_id": "78f61ac4dc8341d5b35981a892683f97",
       "version_major": 2,
       "version_minor": 0
      },
      "text/plain": [
       "NGLWidget()"
      ]
     },
     "metadata": {},
     "output_type": "display_data"
    }
   ],
   "source": [
    "view2"
   ]
  },
  {
   "cell_type": "code",
   "execution_count": 31,
   "id": "d2e0d3f9-410c-46e0-ad05-c4d8a7586d93",
   "metadata": {},
   "outputs": [
    {
     "name": "stdout",
     "output_type": "stream",
     "text": [
      "2\n",
      "<mdtraj.core.topology.Chain object at 0x7f18481df0a0>\n"
     ]
    }
   ],
   "source": [
    "print(top_a.n_chains)\n",
    "print(top_a.chain(1))"
   ]
  },
  {
   "cell_type": "code",
   "execution_count": 32,
   "id": "b8fb7256-e4dc-47bf-a1fc-845c99dfccae",
   "metadata": {},
   "outputs": [],
   "source": [
    "# Extract xyz coordinates of chosen frame for complex and dimer\n",
    "def extract_coords(traj):\n",
    "    return traj.xyz[0].T\n",
    "\n",
    "# Get indices of atoms to fit, in this case only the last 48 residues, which coincide with the DBD\n",
    "def get_index(molecule, chain_idx, atoms):\n",
    "    return [at.index for res in molecule.top._chains[chain_idx]._residues[-atoms:] for at in res.atoms]\n",
    "\n",
    "def slice_transpose(molecule,molecule_idx):\n",
    "    return molecule.atom_slice(molecule_idx).xyz[0].T\n",
    "\n",
    "def superimpose(coords_a, coords_b):\n",
    "    sup = SVDSuperimposer()\n",
    "\n",
    "    # Set the coords y will be rotated and translated on x\n",
    "    x = coords_a.T\n",
    "    y = coords_b.T\n",
    "    sup.set(x, y)\n",
    "\n",
    "    # Do the lsq fit\n",
    "    sup.run()\n",
    "\n",
    "    # Get the rms\n",
    "    rms = sup.get_rms()\n",
    "\n",
    "    # Get rotation (right multiplying!) and the translation\n",
    "    rot, tran = sup.get_rotran()\n",
    "\n",
    "    # Rotate y on x\n",
    "    y_on_x1 = dot(y, rot) + tran\n",
    "\n",
    "    # Same thing\n",
    "    y_on_x2 = sup.get_transformed()\n",
    "    \n",
    "    return rms, rot, tran"
   ]
  },
  {
   "cell_type": "code",
   "execution_count": null,
   "id": "23198397-3be2-40af-978f-4940bde75e9b",
   "metadata": {},
   "outputs": [],
   "source": []
  },
  {
   "cell_type": "code",
   "execution_count": 33,
   "id": "4ad34081-7316-46f7-8f21-24b8a3ce54f2",
   "metadata": {},
   "outputs": [],
   "source": [
    "def fit(struct_a, struct_b, fit_idx_a, fit_idx_b):\n",
    "    \n",
    "    # van fit selection een lijst van indeces\n",
    "    xyz_a = extract_coords(struct_a)\n",
    "    xyz_b = extract_coords(struct_b)\n",
    "    \n",
    "    atom_set_a = slice_transpose(struct_a, fit_idx_a)\n",
    "    atom_set_b = slice_transpose(struct_b, fit_idx_b)\n",
    "    \n",
    "    rms, rot, tran = superimpose(atom_set_a, atom_set_b)\n",
    "    \n",
    "    a = xyz_a.T\n",
    "    b = xyz_b.T\n",
    "\n",
    "    # rotate b on a\n",
    "    b_on_a1 = dot(b, rot) + tran\n",
    "\n",
    "    # replace coordinates \n",
    "    struct_a.xyz = b_on_a1\n",
    "    \n",
    "    fitted = struct_b.stack(struct_a)\n",
    "    \n",
    "    selection = [at.index for idx,chain in enumerate(fitted.top.chains) if idx != 2 for at in chain.atoms]\n",
    "    # probably easiest to use atomslice to remove/delete monomer\n",
    "    final = fitted.atom_slice(selection)\n",
    "    \n",
    "    # return final\n",
    "    return final, rms"
   ]
  },
  {
   "cell_type": "code",
   "execution_count": 35,
   "id": "c96c6404-21f7-499f-951a-b0a043dd89de",
   "metadata": {},
   "outputs": [
    {
     "ename": "ValueError",
     "evalue": "xyz must be shape (Any, 2174, 3). You supplied  (1, 4390, 3)",
     "output_type": "error",
     "traceback": [
      "\u001b[0;31m---------------------------------------------------------------------------\u001b[0m",
      "\u001b[0;31mValueError\u001b[0m                                Traceback (most recent call last)",
      "\u001b[0;32m/tmp/ipykernel_167/1299805175.py\u001b[0m in \u001b[0;36m<module>\u001b[0;34m\u001b[0m\n\u001b[1;32m      1\u001b[0m \u001b[0;31m#resid 53 - 79 = atom 849 - 1295\u001b[0m\u001b[0;34m\u001b[0m\u001b[0;34m\u001b[0m\u001b[0;34m\u001b[0m\u001b[0m\n\u001b[1;32m      2\u001b[0m \u001b[0;34m\u001b[0m\u001b[0m\n\u001b[0;32m----> 3\u001b[0;31m \u001b[0mtest\u001b[0m\u001b[0;34m,\u001b[0m \u001b[0mrms\u001b[0m \u001b[0;34m=\u001b[0m \u001b[0mfit\u001b[0m\u001b[0;34m(\u001b[0m\u001b[0mtraj\u001b[0m\u001b[0;34m,\u001b[0m \u001b[0mdimers\u001b[0m\u001b[0;34m[\u001b[0m\u001b[0;36m7\u001b[0m\u001b[0;34m]\u001b[0m\u001b[0;34m,\u001b[0m \u001b[0midx\u001b[0m\u001b[0;34m,\u001b[0m \u001b[0midx\u001b[0m\u001b[0;34m)\u001b[0m\u001b[0;34m\u001b[0m\u001b[0;34m\u001b[0m\u001b[0m\n\u001b[0m\u001b[1;32m      4\u001b[0m \u001b[0;34m\u001b[0m\u001b[0m\n\u001b[1;32m      5\u001b[0m \u001b[0mview\u001b[0m \u001b[0;34m=\u001b[0m \u001b[0mnv\u001b[0m\u001b[0;34m.\u001b[0m\u001b[0mshow_mdtraj\u001b[0m\u001b[0;34m(\u001b[0m\u001b[0mtest\u001b[0m\u001b[0;34m)\u001b[0m\u001b[0;34m\u001b[0m\u001b[0;34m\u001b[0m\u001b[0m\n",
      "\u001b[0;32m/tmp/ipykernel_167/3586192044.py\u001b[0m in \u001b[0;36mfit\u001b[0;34m(struct_a, struct_b, fit_idx_a, fit_idx_b)\u001b[0m\n\u001b[1;32m     17\u001b[0m \u001b[0;34m\u001b[0m\u001b[0m\n\u001b[1;32m     18\u001b[0m     \u001b[0;31m# replace coordinates\u001b[0m\u001b[0;34m\u001b[0m\u001b[0;34m\u001b[0m\u001b[0;34m\u001b[0m\u001b[0m\n\u001b[0;32m---> 19\u001b[0;31m     \u001b[0mstruct_a\u001b[0m\u001b[0;34m.\u001b[0m\u001b[0mxyz\u001b[0m \u001b[0;34m=\u001b[0m \u001b[0mb_on_a1\u001b[0m\u001b[0;34m\u001b[0m\u001b[0;34m\u001b[0m\u001b[0m\n\u001b[0m\u001b[1;32m     20\u001b[0m \u001b[0;34m\u001b[0m\u001b[0m\n\u001b[1;32m     21\u001b[0m     \u001b[0mfitted\u001b[0m \u001b[0;34m=\u001b[0m \u001b[0mstruct_b\u001b[0m\u001b[0;34m.\u001b[0m\u001b[0mstack\u001b[0m\u001b[0;34m(\u001b[0m\u001b[0mstruct_a\u001b[0m\u001b[0;34m)\u001b[0m\u001b[0;34m\u001b[0m\u001b[0;34m\u001b[0m\u001b[0m\n",
      "\u001b[0;32m~/anaconda3/envs/hns/lib/python3.8/site-packages/mdtraj/core/trajectory.py\u001b[0m in \u001b[0;36mxyz\u001b[0;34m(self, value)\u001b[0m\n\u001b[1;32m    937\u001b[0m             \u001b[0mshape\u001b[0m \u001b[0;34m=\u001b[0m \u001b[0;34m(\u001b[0m\u001b[0;32mNone\u001b[0m\u001b[0;34m,\u001b[0m \u001b[0;32mNone\u001b[0m\u001b[0;34m,\u001b[0m \u001b[0;36m3\u001b[0m\u001b[0;34m)\u001b[0m\u001b[0;34m\u001b[0m\u001b[0;34m\u001b[0m\u001b[0m\n\u001b[1;32m    938\u001b[0m \u001b[0;34m\u001b[0m\u001b[0m\n\u001b[0;32m--> 939\u001b[0;31m         value = ensure_type(value, np.float32, 3, 'xyz', shape=shape,\n\u001b[0m\u001b[1;32m    940\u001b[0m                             warn_on_cast=False, add_newaxis_on_deficient_ndim=True)\n\u001b[1;32m    941\u001b[0m         \u001b[0mself\u001b[0m\u001b[0;34m.\u001b[0m\u001b[0m_xyz\u001b[0m \u001b[0;34m=\u001b[0m \u001b[0mvalue\u001b[0m\u001b[0;34m\u001b[0m\u001b[0;34m\u001b[0m\u001b[0m\n",
      "\u001b[0;32m~/anaconda3/envs/hns/lib/python3.8/site-packages/mdtraj/utils/validation.py\u001b[0m in \u001b[0;36mensure_type\u001b[0;34m(val, dtype, ndim, name, length, can_be_none, shape, warn_on_cast, add_newaxis_on_deficient_ndim)\u001b[0m\n\u001b[1;32m    146\u001b[0m             \u001b[0;32mif\u001b[0m \u001b[0ma\u001b[0m \u001b[0;34m!=\u001b[0m \u001b[0mb\u001b[0m\u001b[0;34m:\u001b[0m\u001b[0;34m\u001b[0m\u001b[0;34m\u001b[0m\u001b[0m\n\u001b[1;32m    147\u001b[0m                 \u001b[0;31m# check for equality\u001b[0m\u001b[0;34m\u001b[0m\u001b[0;34m\u001b[0m\u001b[0;34m\u001b[0m\u001b[0m\n\u001b[0;32m--> 148\u001b[0;31m                 \u001b[0;32mraise\u001b[0m \u001b[0merror\u001b[0m\u001b[0;34m\u001b[0m\u001b[0;34m\u001b[0m\u001b[0m\n\u001b[0m\u001b[1;32m    149\u001b[0m \u001b[0;34m\u001b[0m\u001b[0m\n\u001b[1;32m    150\u001b[0m     \u001b[0;32mreturn\u001b[0m \u001b[0mval\u001b[0m\u001b[0;34m\u001b[0m\u001b[0;34m\u001b[0m\u001b[0m\n",
      "\u001b[0;31mValueError\u001b[0m: xyz must be shape (Any, 2174, 3). You supplied  (1, 4390, 3)"
     ]
    }
   ],
   "source": [
    "#resid 53 - 79 = atom 849 - 1295\n",
    "\n",
    "test, rms = fit(traj, dimers[7], idx, idx)\n",
    "\n",
    "view = nv.show_mdtraj(test)\n",
    "view"
   ]
  },
  {
   "cell_type": "code",
   "execution_count": null,
   "id": "f83ec896-52d0-445e-8248-95ce1395a332",
   "metadata": {},
   "outputs": [],
   "source": []
  }
 ],
 "metadata": {
  "kernelspec": {
   "display_name": "Python 3 (ipykernel)",
   "language": "python",
   "name": "python3"
  },
  "language_info": {
   "codemirror_mode": {
    "name": "ipython",
    "version": 3
   },
   "file_extension": ".py",
   "mimetype": "text/x-python",
   "name": "python",
   "nbconvert_exporter": "python",
   "pygments_lexer": "ipython3",
   "version": "3.8.5"
  }
 },
 "nbformat": 4,
 "nbformat_minor": 5
}
