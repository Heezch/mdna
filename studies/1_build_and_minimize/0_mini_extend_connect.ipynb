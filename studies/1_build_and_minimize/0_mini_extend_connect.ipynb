{
 "cells": [
  {
   "cell_type": "code",
   "execution_count": 1,
   "metadata": {},
   "outputs": [
    {
     "data": {
      "application/vnd.jupyter.widget-view+json": {
       "model_id": "ea2d70efc8a246fd90ca361bacf7f14e",
       "version_major": 2,
       "version_minor": 0
      },
      "text/plain": []
     },
     "metadata": {},
     "output_type": "display_data"
    },
    {
     "name": "stdout",
     "output_type": "stream",
     "text": [
      "joblib is not installed. Falling back to sequential computation.\n"
     ]
    }
   ],
   "source": [
    "import numpy as np\n",
    "import mdtraj as md\n",
    "import matplotlib.pyplot as plt\n",
    "import nglview as nv\n",
    "from scipy.spatial.transform import Rotation as R\n",
    "\n",
    "# import pmcpy as mcpy \n",
    "import numpy as np\n",
    "import matplotlib.pyplot as plt\n",
    "#from pmcpy import so3, Chain, RBP, Pivot, Crankshaft, Dumps, SingleTriad, ClusterTrans\n",
    "import pmcpy.run.equilibrate as em # actually not equilibrate but energy minimization\n",
    "\n",
    "# # # Path: pymdna/__init__.py, prototype of the package and atomic is not properly referenced in the package at genertors.py now I just explicitly define the path loction\n",
    "# # import pymdna as mdna\n",
    "import sys\n",
    "sys.path.append('/Users/thor/surfdrive/Projects/pymdna/')\n",
    "import pymdna as mdna \n",
    "%load_ext autoreload\n",
    "%autoreload 2"
   ]
  },
  {
   "cell_type": "markdown",
   "metadata": {},
   "source": [
    "### Equilibrate"
   ]
  },
  {
   "cell_type": "code",
   "execution_count": 2,
   "metadata": {},
   "outputs": [
    {
     "name": "stdout",
     "output_type": "stream",
     "text": [
      "TATGGTATGTCCTGATTAGTTCGGGAATGACTAGAATGGTACGTC\n"
     ]
    },
    {
     "name": "stderr",
     "output_type": "stream",
     "text": [
      "/Users/thor/surfdrive/Projects/PMCpy/pmcpy/SO3/so3/SE3.py:17: NumbaPerformanceWarning: \u001b[1m\u001b[1m'@' is faster on contiguous arrays, called on (Array(float64, 2, 'C', False, aligned=True), Array(float64, 1, 'A', False, aligned=True))\u001b[0m\u001b[0m\n",
      "  inv[:3,3]  = -inv[:3,:3]@g[:3,3]\n",
      "/Users/thor/surfdrive/Projects/PMCpy/pmcpy/MCStep/crankshaft.py:191: NumbaPerformanceWarning: \u001b[1m\u001b[1m'@' is faster on contiguous arrays, called on (Array(float64, 2, 'C', False, aligned=True), Array(float64, 2, 'A', False, aligned=True))\u001b[0m\u001b[0m\n",
      "  conf[id,:3,:3] = Rlab @ conf[id,:3,:3]\n"
     ]
    },
    {
     "name": "stdout",
     "output_type": "stream",
     "text": [
      "cycle 0: \n",
      "13 moves initated\n"
     ]
    },
    {
     "name": "stderr",
     "output_type": "stream",
     "text": [
      "/Users/thor/surfdrive/Projects/PMCpy/pmcpy/MCStep/singletriad.py:87: RuntimeWarning: overflow encountered in exp\n",
      "  if np.random.uniform() >= np.exp(-dE):\n",
      "/Users/thor/surfdrive/Projects/PMCpy/pmcpy/MCStep/clustertranslation.py:133: RuntimeWarning: overflow encountered in exp\n",
      "  if np.random.uniform() >= np.exp(-dE):\n"
     ]
    },
    {
     "name": "stdout",
     "output_type": "stream",
     "text": [
      "E = 49118.98010304962 kT\n",
      "E = 19739.303263148555 kT\n",
      "E = 3289.330872355977 kT\n",
      "E = 277.8661963580851 kT\n",
      "E = 231.55715535713227 kT\n",
      "E = 234.07310780631195 kT\n",
      "13 moves initated\n",
      "TATGGTATGTCCTGATTAGTTCGGGAATGACTAGAATGGTACGTC\n"
     ]
    }
   ],
   "source": [
    "circular = True\n",
    "control_points = np.array([[0,0,0],[0,1,0],[0,2,0],[0,3,0]])*5\n",
    "spline = mdna.SplineFrames(control_points)\n",
    "dna = mdna.StructureGenerator(spline,circular=circular)\n",
    "builder = mdna.Build(dna)\n",
    "new_dna = builder.equilibrate(closed=circular)\n",
    "traj = new_dna.get_traj()\n",
    "print(new_dna.sequence)"
   ]
  },
  {
   "cell_type": "code",
   "execution_count": 3,
   "metadata": {},
   "outputs": [
    {
     "data": {
      "application/vnd.jupyter.widget-view+json": {
       "model_id": "1ca62b99c17f4541bd545ba6c0c75e0d",
       "version_major": 2,
       "version_minor": 0
      },
      "text/plain": [
       "NGLWidget(max_frame=100)"
      ]
     },
     "metadata": {},
     "output_type": "display_data"
    }
   ],
   "source": [
    "view = nv.show_mdtraj(builder.get_MC_traj())\n",
    "view.clear_representations()\n",
    "view.add_representation('ball+stick', selection='all', color='coral',radius=10)\n",
    "view"
   ]
  },
  {
   "cell_type": "code",
   "execution_count": 4,
   "metadata": {},
   "outputs": [
    {
     "data": {
      "application/vnd.jupyter.widget-view+json": {
       "model_id": "29f4223592dc4e7bb7e3e3f098bea695",
       "version_major": 2,
       "version_minor": 0
      },
      "text/plain": [
       "NGLWidget()"
      ]
     },
     "metadata": {},
     "output_type": "display_data"
    }
   ],
   "source": [
    "view = nv.show_mdtraj(traj)\n",
    "view.clear()\n",
    "view.add_representation('ball+stick')\n",
    "view"
   ]
  },
  {
   "cell_type": "markdown",
   "metadata": {},
   "source": [
    "### Extend DNA"
   ]
  },
  {
   "cell_type": "code",
   "execution_count": 5,
   "metadata": {},
   "outputs": [
    {
     "name": "stdout",
     "output_type": "stream",
     "text": [
      "GTATGAGATC\n"
     ]
    }
   ],
   "source": [
    "control_points = np.array([[0,0,0],[0,1,0],[0,2,0],[0,3,0]])*1\n",
    "spline = mdna.SplineFrames(control_points)\n",
    "dna = mdna.StructureGenerator(spline)"
   ]
  },
  {
   "cell_type": "code",
   "execution_count": 6,
   "metadata": {},
   "outputs": [
    {
     "name": "stdout",
     "output_type": "stream",
     "text": [
      "cycle 0: \n",
      "6 moves initated\n",
      "E = 299.71557535181006 kT\n",
      "E = 76.83919537910364 kT\n",
      "E = 67.0255721752101 kT\n",
      "E = 66.98148283826616 kT\n",
      "E = 69.72961757766998 kT\n",
      "6 moves initated\n",
      "CCTTGTACAAACCTATTCGCCGACCGTATG\n"
     ]
    },
    {
     "data": {
      "application/vnd.jupyter.widget-view+json": {
       "model_id": "7917bc110da944dfbc04917a48fa78f6",
       "version_major": 2,
       "version_minor": 0
      },
      "text/plain": [
       "NGLWidget()"
      ]
     },
     "metadata": {},
     "output_type": "display_data"
    }
   ],
   "source": [
    "builder = mdna.Build(dna, five_end='A')\n",
    "builder.extend(nbp=20)\n",
    "traj = builder.get_traj()\n",
    "traj.save('test_extend.pdb')\n",
    "\n",
    "\n",
    "view = nv.show_mdtraj(traj)\n",
    "view.clear()\n",
    "view.add_representation('licorice')\n",
    "view\n"
   ]
  },
  {
   "cell_type": "code",
   "execution_count": 7,
   "metadata": {},
   "outputs": [
    {
     "data": {
      "application/vnd.jupyter.widget-view+json": {
       "model_id": "5ca4eafb2f6d48c3891e3e80077ccccf",
       "version_major": 2,
       "version_minor": 0
      },
      "text/plain": [
       "NGLWidget(max_frame=75)"
      ]
     },
     "metadata": {},
     "output_type": "display_data"
    }
   ],
   "source": [
    "view = nv.show_mdtraj(builder.get_MC_traj())\n",
    "view.clear_representations()\n",
    "view.add_representation('ball+stick', selection='all', color='coral',radius=3)\n",
    "view"
   ]
  },
  {
   "cell_type": "markdown",
   "metadata": {},
   "source": [
    "### Connect DNA's"
   ]
  },
  {
   "cell_type": "code",
   "execution_count": 9,
   "metadata": {},
   "outputs": [
    {
     "name": "stdout",
     "output_type": "stream",
     "text": [
      "GCGCCTTTTC\n",
      "CATGGGTGCA\n",
      "Optimal BP: 53, Twist Difference per BP: 0.323 degrees\n",
      "cycle 0: \n",
      "13 moves initated\n",
      "E = 851.5404237308427 kT\n",
      "E = 283.76183413196617 kT\n",
      "E = 257.6708769971794 kT\n",
      "E = 236.88397238961295 kT\n",
      "E = 232.5601991210836 kT\n",
      "E = 227.5669091198975 kT\n",
      "E = 220.70689547515246 kT\n",
      "E = 212.1872468225386 kT\n",
      "E = 212.2779106332481 kT\n",
      "13 moves initated\n",
      "TTTTTGTATATCTTGAAGTCATAAAGTAATCCGCAGGATTCCTACGGCCTCAACATCCATAAGAGCGGGGGGT\n"
     ]
    }
   ],
   "source": [
    "control_points_A = np.array([[0,0,0],[0,1,0],[0,2,0],[0,3,0]])*1\n",
    "control_points_B = control_points_A+5*2\n",
    "\n",
    "spline_A = mdna.SplineFrames(control_points_A)\n",
    "spline_B = mdna.SplineFrames(control_points_B)\n",
    "\n",
    "dna_a = mdna.StructureGenerator(spline_A)\n",
    "dna_b = mdna.StructureGenerator(spline_B)\n",
    "\n",
    "builder = mdna.Build(dna_a, dna_b, five_end='A', three_end='B')\n",
    "builder.connect()\n",
    "traj = builder.get_traj()"
   ]
  },
  {
   "cell_type": "code",
   "execution_count": 13,
   "metadata": {},
   "outputs": [
    {
     "data": {
      "text/plain": [
       "<mdtraj.Topology with 2 chains, 146 residues, 2987 atoms, 3350 bonds at 0x28cc68860>"
      ]
     },
     "execution_count": 13,
     "metadata": {},
     "output_type": "execute_result"
    }
   ],
   "source": [
    "traj.top"
   ]
  },
  {
   "cell_type": "code",
   "execution_count": 11,
   "metadata": {},
   "outputs": [
    {
     "data": {
      "application/vnd.jupyter.widget-view+json": {
       "model_id": "b93a345842e44319aa45231edfcd7adb",
       "version_major": 2,
       "version_minor": 0
      },
      "text/plain": [
       "NGLWidget(max_frame=175)"
      ]
     },
     "metadata": {},
     "output_type": "display_data"
    }
   ],
   "source": [
    "view = nv.show_mdtraj(builder.get_MC_traj())\n",
    "view.clear_representations()\n",
    "view.add_representation('ball+stick', selection='all', color='coral',radius=3)\n",
    "view"
   ]
  },
  {
   "cell_type": "code",
   "execution_count": 4,
   "metadata": {},
   "outputs": [
    {
     "data": {
      "application/vnd.jupyter.widget-view+json": {
       "model_id": "9d923914f1fd40b8a8598339e795c43d",
       "version_major": 2,
       "version_minor": 0
      },
      "text/plain": [
       "NGLWidget()"
      ]
     },
     "metadata": {},
     "output_type": "display_data"
    }
   ],
   "source": [
    "view = nv.show_mdtraj(traj)\n",
    "view.clear()\n",
    "view.add_licorice(selection='all')\n",
    "view"
   ]
  },
  {
   "cell_type": "code",
   "execution_count": null,
   "metadata": {},
   "outputs": [],
   "source": [
    "M = np.array([[0,0,0],[0,4,0],[2,3,0],\n",
    "              [4,4,0],[4,0,0]])*3\n",
    "\n",
    "spline = mdna.SplineFrames(M,closed=True)\n",
    "dna = mdna.StructureGenerator(spline)\n",
    "traj = dna.get_traj()\n",
    "view = nv.show_mdtraj(traj)\n",
    "view"
   ]
  },
  {
   "cell_type": "code",
   "execution_count": null,
   "metadata": {},
   "outputs": [],
   "source": [
    "\n",
    "M = np.array([[0,0,0],[0,4,0],[2,0,0],\n",
    "              [2,4,0]])*3\n",
    "spline = mdna.SplineFrames(M,closed=False)\n",
    "spline.plot_frames()\n",
    "dna = mdna.StructureGenerator(spline)\n",
    "traj = dna.get_traj()\n",
    "view = nv.show_mdtraj(traj)\n",
    "view\n",
    "traj.save('N_DNA.pdb')"
   ]
  },
  {
   "cell_type": "code",
   "execution_count": null,
   "metadata": {},
   "outputs": [],
   "source": [
    "\n",
    "D = np.array([[0,0,0],[0,4,0],[3,1,0],\n",
    "              [1,2,0],[0,0,0]])*3\n",
    "spline = mdna.SplineFrames(D,closed=True)\n",
    "spline.plot_frames()\n",
    "dna = mdna.StructureGenerator(spline)\n",
    "traj = dna.get_traj()\n",
    "view = nv.show_mdtraj(traj)\n",
    "view"
   ]
  },
  {
   "cell_type": "code",
   "execution_count": null,
   "metadata": {},
   "outputs": [],
   "source": [
    "traj.save('A_dna.pdb')"
   ]
  },
  {
   "cell_type": "code",
   "execution_count": null,
   "metadata": {},
   "outputs": [],
   "source": []
  }
 ],
 "metadata": {
  "kernelspec": {
   "display_name": "mdna",
   "language": "python",
   "name": "python3"
  },
  "language_info": {
   "codemirror_mode": {
    "name": "ipython",
    "version": 3
   },
   "file_extension": ".py",
   "mimetype": "text/x-python",
   "name": "python",
   "nbconvert_exporter": "python",
   "pygments_lexer": "ipython3",
   "version": "3.12.3"
  }
 },
 "nbformat": 4,
 "nbformat_minor": 2
}
