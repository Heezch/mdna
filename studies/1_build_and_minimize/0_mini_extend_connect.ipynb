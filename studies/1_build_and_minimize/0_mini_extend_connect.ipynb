{
 "cells": [
  {
   "cell_type": "code",
   "execution_count": null,
   "metadata": {},
   "outputs": [],
   "source": [
    "import numpy as np\n",
    "import mdtraj as md\n",
    "import matplotlib.pyplot as plt\n",
    "import nglview as nv\n",
    "from scipy.spatial.transform import Rotation as R\n",
    "\n",
    "# import pmcpy as mcpy \n",
    "import numpy as np\n",
    "import matplotlib.pyplot as plt\n",
    "#from pmcpy import so3, Chain, RBP, Pivot, Crankshaft, Dumps, SingleTriad, ClusterTrans\n",
    "import pmcpy.run.equilibrate as em # actually not equilibrate but energy minimization\n",
    "\n",
    "# # # Path: pymdna/__init__.py, prototype of the package and atomic is not properly referenced in the package at genertors.py now I just explicitly define the path loction\n",
    "# # import pymdna as mdna\n",
    "import sys\n",
    "sys.path.append('/Users/thor/surfdrive/Projects/pymdna/')\n",
    "import pymdna as mdna \n",
    "%load_ext autoreload\n",
    "%autoreload 2"
   ]
  },
  {
   "cell_type": "markdown",
   "metadata": {},
   "source": [
    "### Equilibrate"
   ]
  },
  {
   "cell_type": "code",
   "execution_count": null,
   "metadata": {},
   "outputs": [],
   "source": [
    "circular = True\n",
    "control_points = np.array([[0,0,0],[0,1,0],[0,2,0],[0,3,0]])*20\n",
    "spline = mdna.SplineFrames(control_points)\n",
    "dna = mdna.StructureGenerator(spline,circular=circular)\n",
    "builder = mdna.Build(dna)\n",
    "new_dna = builder.equilibrate(closed=circular)\n",
    "traj = new_dna.get_traj()\n",
    "print(new_dna.sequence)"
   ]
  },
  {
   "cell_type": "code",
   "execution_count": null,
   "metadata": {},
   "outputs": [],
   "source": [
    "view = nv.show_mdtraj(builder.get_MC_traj())\n",
    "view.clear_representations()\n",
    "view.add_representation('ball+stick', selection='all', color='coral',radius=10)\n",
    "view"
   ]
  },
  {
   "cell_type": "code",
   "execution_count": null,
   "metadata": {},
   "outputs": [],
   "source": [
    "view = nv.show_mdtraj(traj)\n",
    "view.clear()\n",
    "view.add_representation('ball+stick')\n",
    "view"
   ]
  },
  {
   "cell_type": "markdown",
   "metadata": {},
   "source": [
    "### Extend DNA"
   ]
  },
  {
   "cell_type": "code",
   "execution_count": null,
   "metadata": {},
   "outputs": [],
   "source": [
    "control_points = np.array([[0,0,0],[0,1,0],[0,2,0],[0,3,0]])*1\n",
    "spline = mdna.SplineFrames(control_points)\n",
    "dna = mdna.StructureGenerator(spline)"
   ]
  },
  {
   "cell_type": "code",
   "execution_count": null,
   "metadata": {},
   "outputs": [],
   "source": [
    "builder = mdna.Build(dna, five_end='A')\n",
    "builder.extend(nbp=20)\n",
    "traj = builder.get_traj()\n",
    "traj.save('test_extend.pdb')\n",
    "\n",
    "\n",
    "view = nv.show_mdtraj(traj)\n",
    "view.clear()\n",
    "view.add_representation('licorice')\n",
    "view\n"
   ]
  },
  {
   "cell_type": "code",
   "execution_count": null,
   "metadata": {},
   "outputs": [],
   "source": [
    "view = nv.show_mdtraj(builder.get_MC_traj())\n",
    "view.clear_representations()\n",
    "view.add_representation('ball+stick', selection='all', color='coral',radius=3)\n",
    "view"
   ]
  },
  {
   "cell_type": "markdown",
   "metadata": {},
   "source": [
    "### Connect DNA's"
   ]
  },
  {
   "cell_type": "code",
   "execution_count": null,
   "metadata": {},
   "outputs": [],
   "source": [
    "control_points_A = np.array([[0,0,0],[0,1,0],[0,2,0],[0,3,0]])*1\n",
    "control_points_B = control_points_A+5*2\n",
    "\n",
    "spline_A = mdna.SplineFrames(control_points_A)\n",
    "spline_B = mdna.SplineFrames(control_points_B)\n",
    "\n",
    "dna_a = mdna.StructureGenerator(spline_A)\n",
    "dna_b = mdna.StructureGenerator(spline_B)\n",
    "\n",
    "builder = mdna.Build(dna_a, dna_b, five_end='A', three_end='B')\n",
    "builder.connect()\n",
    "traj = builder.get_traj()"
   ]
  },
  {
   "cell_type": "code",
   "execution_count": null,
   "metadata": {},
   "outputs": [],
   "source": [
    "view = nv.show_mdtraj(builder.get_MC_traj())\n",
    "view.clear_representations()\n",
    "view.add_representation('ball+stick', selection='all', color='coral',radius=3)\n",
    "view"
   ]
  },
  {
   "cell_type": "code",
   "execution_count": null,
   "metadata": {},
   "outputs": [],
   "source": [
    "view = nv.show_mdtraj(traj)\n",
    "view.clear()\n",
    "view.add_licorice(selection='all')\n",
    "view"
   ]
  },
  {
   "cell_type": "code",
   "execution_count": null,
   "metadata": {},
   "outputs": [],
   "source": [
    "M = np.array([[0,0,0],[0,4,0],[2,3,0],\n",
    "              [4,4,0],[4,0,0]])*3\n",
    "\n",
    "spline = mdna.SplineFrames(M,closed=True)\n",
    "dna = mdna.StructureGenerator(spline)\n",
    "traj = dna.get_traj()\n",
    "view = nv.show_mdtraj(traj)\n",
    "view"
   ]
  },
  {
   "cell_type": "code",
   "execution_count": null,
   "metadata": {},
   "outputs": [],
   "source": [
    "\n",
    "M = np.array([[0,0,0],[0,4,0],[2,0,0],\n",
    "              [2,4,0]])*3\n",
    "spline = mdna.SplineFrames(M,closed=False)\n",
    "spline.plot_frames()\n",
    "dna = mdna.StructureGenerator(spline)\n",
    "traj = dna.get_traj()\n",
    "view = nv.show_mdtraj(traj)\n",
    "view\n",
    "traj.save('N_DNA.pdb')"
   ]
  },
  {
   "cell_type": "code",
   "execution_count": null,
   "metadata": {},
   "outputs": [],
   "source": [
    "\n",
    "D = np.array([[0,0,0],[0,4,0],[3,1,0],\n",
    "              [1,2,0],[0,0,0]])*3\n",
    "spline = mdna.SplineFrames(D,closed=True)\n",
    "spline.plot_frames()\n",
    "dna = mdna.StructureGenerator(spline)\n",
    "traj = dna.get_traj()\n",
    "view = nv.show_mdtraj(traj)\n",
    "view"
   ]
  },
  {
   "cell_type": "code",
   "execution_count": null,
   "metadata": {},
   "outputs": [],
   "source": [
    "traj.save('A_dna.pdb')"
   ]
  },
  {
   "cell_type": "code",
   "execution_count": null,
   "metadata": {},
   "outputs": [],
   "source": []
  }
 ],
 "metadata": {
  "kernelspec": {
   "display_name": "mdna",
   "language": "python",
   "name": "python3"
  },
  "language_info": {
   "codemirror_mode": {
    "name": "ipython",
    "version": 3
   },
   "file_extension": ".py",
   "mimetype": "text/x-python",
   "name": "python",
   "nbconvert_exporter": "python",
   "pygments_lexer": "ipython3",
   "version": "3.12.3"
  }
 },
 "nbformat": 4,
 "nbformat_minor": 2
}
